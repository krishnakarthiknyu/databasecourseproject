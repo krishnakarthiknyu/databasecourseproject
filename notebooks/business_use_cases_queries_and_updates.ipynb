{
    "metadata": {
        "kernelspec": {
            "name": "SQL",
            "display_name": "SQL",
            "language": "sql"
        },
        "language_info": {
            "name": "sql",
            "version": ""
        }
    },
    "nbformat_minor": 2,
    "nbformat": 4,
    "cells": [
        {
            "cell_type": "code",
            "source": [
                "USE Rentaldb;"
            ],
            "metadata": {
                "azdata_cell_guid": "43b14b59-7f19-430d-b8d7-ec097107542f",
                "language": "sql"
            },
            "outputs": [
                {
                    "output_type": "display_data",
                    "data": {
                        "text/html": "Commands completed successfully"
                    },
                    "metadata": {}
                },
                {
                    "output_type": "display_data",
                    "data": {
                        "text/html": "Total execution time: 00:00:00.001"
                    },
                    "metadata": {}
                }
            ],
            "execution_count": 1
        },
        {
            "cell_type": "code",
            "source": [
                "# Hey I want to know what electronics are avaliable and their operating systems\n",
                "SELECT GROUP_CONCAT(OperatingSystem.OperatingSystemID SEPARATOR ', ') AS OperatingSystemIds,\n",
                "       GROUP_CONCAT(OSName SEPARATOR ', ') AS OperatingSystemNames,\n",
                "       OSInstalled.ElectronicID,\n",
                "       Electronic.ElectronicName ElectronicName\n",
                "FROM OSInstalled\n",
                "JOIN OperatingSystem on OSInstalled.OperatingSystemID = OperatingSystem.OperatingSystemID\n",
                "JOIN Electronic on OSInstalled.ElectronicID = Electronic.ElectronicID\n",
                "GROUP BY OSInstalled.ElectronicID;"
            ],
            "metadata": {
                "language": "sql",
                "azdata_cell_guid": "24d892f0-1b28-426e-999a-5804db0fa594",
                "tags": []
            },
            "outputs": [
                {
                    "output_type": "display_data",
                    "data": {
                        "text/html": "(1303 row(s) affected)"
                    },
                    "metadata": {}
                },
                {
                    "output_type": "display_data",
                    "data": {
                        "text/html": "Total execution time: 00:00:00.035"
                    },
                    "metadata": {}
                },
                {
                    "output_type": "execute_result",
                    "metadata": {},
                    "execution_count": 2,
                    "data": {
                        "application/vnd.dataresource+json": {
                            "schema": {
                                "fields": [
                                    {
                                        "name": "OperatingSystemIds"
                                    },
                                    {
                                        "name": "OperatingSystemNames"
                                    },
                                    {
                                        "name": "ElectronicID"
                                    },
                                    {
                                        "name": "ElectronicName"
                                    }
                                ]
                            },
                            "data": [
                                {
                                    "0": "3",
                                    "1": "IOS",
                                    "2": "1",
                                    "3": "MacBook Pro"
                                },
                                {
                                    "0": "3",
                                    "1": "IOS",
                                    "2": "2",
                                    "3": "Macbook Air"
                                },
                                {
                                    "0": "4",
                                    "1": "NO OS",
                                    "2": "3",
                                    "3": "250 G6"
                                },
                                {
                                    "0": "3",
                                    "1": "IOS",
                                    "2": "4",
                                    "3": "MacBook Pro"
                                },
                                {
                                    "0": "3",
                                    "1": "IOS",
                                    "2": "5",
                                    "3": "MacBook Pro"
                                },
                                {
                                    "0": "1",
                                    "1": "WINDOWS",
                                    "2": "6",
                                    "3": "Aspire 3"
                                },
                                {
                                    "0": "3",
                                    "1": "IOS",
                                    "2": "7",
                                    "3": "MacBook Pro"
                                },
                                {
                                    "0": "3",
                                    "1": "IOS",
                                    "2": "8",
                                    "3": "Macbook Air"
                                },
                                {
                                    "0": "1",
                                    "1": "WINDOWS",
                                    "2": "9",
                                    "3": "ZenBook UX430UN"
                                },
                                {
                                    "0": "1",
                                    "1": "WINDOWS",
                                    "2": "10",
                                    "3": "Swift 3"
                                },
                                {
                                    "0": "4",
                                    "1": "NO OS",
                                    "2": "11",
                                    "3": "250 G6"
                                },
                                {
                                    "0": "4",
                                    "1": "NO OS",
                                    "2": "12",
                                    "3": "250 G6"
                                },
                                {
                                    "0": "3",
                                    "1": "IOS",
                                    "2": "13",
                                    "3": "MacBook Pro"
                                },
                                {
                                    "0": "1",
                                    "1": "WINDOWS",
                                    "2": "14",
                                    "3": "Inspiron 3567"
                                },
                                {
                                    "0": "3",
                                    "1": "IOS",
                                    "2": "15",
                                    "3": "MacBook 12\""
                                },
                                {
                                    "0": "3",
                                    "1": "IOS",
                                    "2": "16",
                                    "3": "MacBook Pro"
                                },
                                {
                                    "0": "1",
                                    "1": "WINDOWS",
                                    "2": "17",
                                    "3": "Inspiron 3567"
                                },
                                {
                                    "0": "3",
                                    "1": "IOS",
                                    "2": "18",
                                    "3": "MacBook Pro"
                                },
                                {
                                    "0": "4",
                                    "1": "NO OS",
                                    "2": "19",
                                    "3": "IdeaPad 320-15IKB"
                                },
                                {
                                    "0": "1",
                                    "1": "WINDOWS",
                                    "2": "20",
                                    "3": "XPS 13"
                                },
                                {
                                    "0": "1",
                                    "1": "WINDOWS",
                                    "2": "21",
                                    "3": "Vivobook E200HA"
                                },
                                {
                                    "0": "1",
                                    "1": "WINDOWS",
                                    "2": "22",
                                    "3": "Legion Y520-15IKBN"
                                },
                                {
                                    "0": "4",
                                    "1": "NO OS",
                                    "2": "23",
                                    "3": "255 G6"
                                },
                                {
                                    "0": "1",
                                    "1": "WINDOWS",
                                    "2": "24",
                                    "3": "Inspiron 5379"
                                },
                                {
                                    "0": "1",
                                    "1": "WINDOWS",
                                    "2": "25",
                                    "3": "15-BS101nv (i7-8550U/8GB/256GB/FHD/W10)"
                                },
                                {
                                    "0": "1",
                                    "1": "WINDOWS",
                                    "2": "26",
                                    "3": "Inspiron 3567"
                                },
                                {
                                    "0": "3",
                                    "1": "IOS",
                                    "2": "27",
                                    "3": "MacBook Air"
                                },
                                {
                                    "0": "1",
                                    "1": "WINDOWS",
                                    "2": "28",
                                    "3": "Inspiron 5570"
                                },
                                {
                                    "0": "1",
                                    "1": "WINDOWS",
                                    "2": "29",
                                    "3": "Latitude 5590"
                                },
                                {
                                    "0": "1",
                                    "1": "WINDOWS",
                                    "2": "30",
                                    "3": "ProBook 470"
                                },
                                {
                                    "0": "1",
                                    "1": "WINDOWS",
                                    "2": "31",
                                    "3": "LapBook 15.6\""
                                },
                                {
                                    "0": "1",
                                    "1": "WINDOWS",
                                    "2": "32",
                                    "3": "E402WA-GA010T (E2-6110/2GB/32GB/W10)"
                                },
                                {
                                    "0": "1",
                                    "1": "WINDOWS",
                                    "2": "33",
                                    "3": "17-ak001nv (A6-9220/4GB/500GB/Radeon"
                                },
                                {
                                    "0": "1",
                                    "1": "WINDOWS",
                                    "2": "34",
                                    "3": "XPS 13"
                                },
                                {
                                    "0": "3",
                                    "1": "IOS",
                                    "2": "35",
                                    "3": "MacBook Air"
                                },
                                {
                                    "0": "1",
                                    "1": "WINDOWS",
                                    "2": "36",
                                    "3": "IdeaPad 120S-14IAP"
                                },
                                {
                                    "0": "2",
                                    "1": "LINUX",
                                    "2": "37",
                                    "3": "Aspire 3"
                                },
                                {
                                    "0": "1",
                                    "1": "WINDOWS",
                                    "2": "38",
                                    "3": "Inspiron 5770"
                                },
                                {
                                    "0": "1",
                                    "1": "WINDOWS",
                                    "2": "39",
                                    "3": "250 G6"
                                },
                                {
                                    "0": "1",
                                    "1": "WINDOWS",
                                    "2": "40",
                                    "3": "ProBook 450"
                                },
                                {
                                    "0": "2",
                                    "1": "LINUX",
                                    "2": "41",
                                    "3": "X540UA-DM186 (i3-6006U/4GB/1TB/FHD/Linux)"
                                },
                                {
                                    "0": "1",
                                    "1": "WINDOWS",
                                    "2": "42",
                                    "3": "Inspiron 7577"
                                },
                                {
                                    "0": "2",
                                    "1": "LINUX",
                                    "2": "43",
                                    "3": "X542UQ-GO005 (i5-7200U/8GB/1TB/GeForce"
                                },
                                {
                                    "0": "1",
                                    "1": "WINDOWS",
                                    "2": "44",
                                    "3": "Aspire A515-51G"
                                },
                                {
                                    "0": "1",
                                    "1": "WINDOWS",
                                    "2": "45",
                                    "3": "Inspiron 7773"
                                },
                                {
                                    "0": "3",
                                    "1": "IOS",
                                    "2": "46",
                                    "3": "MacBook Pro"
                                },
                                {
                                    "0": "4",
                                    "1": "NO OS",
                                    "2": "47",
                                    "3": "IdeaPad 320-15ISK"
                                },
                                {
                                    "0": "1",
                                    "1": "WINDOWS",
                                    "2": "48",
                                    "3": "Rog Strix"
                                },
                                {
                                    "0": "1",
                                    "1": "WINDOWS",
                                    "2": "49",
                                    "3": "Inspiron 3567"
                                },
                                {
                                    "0": "1",
                                    "1": "WINDOWS",
                                    "2": "50",
                                    "3": "X751NV-TY001T (N4200/4GB/1TB/GeForce"
                                },
                                {
                                    "0": "4",
                                    "1": "NO OS",
                                    "2": "51",
                                    "3": "Yoga Book"
                                },
                                {
                                    "0": "1",
                                    "1": "WINDOWS",
                                    "2": "52",
                                    "3": "Aspire A515-51G"
                                },
                                {
                                    "0": "1",
                                    "1": "WINDOWS",
                                    "2": "53",
                                    "3": "255 G6"
                                },
                                {
                                    "0": "1",
                                    "1": "WINDOWS",
                                    "2": "54",
                                    "3": "ProBook 430"
                                },
                                {
                                    "0": "1",
                                    "1": "WINDOWS",
                                    "2": "55",
                                    "3": "Aspire 3"
                                },
                                {
                                    "0": "1",
                                    "1": "WINDOWS",
                                    "2": "56",
                                    "3": "Inspiron 3576"
                                },
                                {
                                    "0": "1",
                                    "1": "WINDOWS",
                                    "2": "57",
                                    "3": "15-bs002nv (i3-6006U/4GB/128GB/FHD/W10)"
                                },
                                {
                                    "0": "1",
                                    "1": "WINDOWS",
                                    "2": "58",
                                    "3": "VivoBook Max"
                                },
                                {
                                    "0": "1",
                                    "1": "WINDOWS",
                                    "2": "59",
                                    "3": "GS73VR 7RG"
                                },
                                {
                                    "0": "2",
                                    "1": "LINUX",
                                    "2": "60",
                                    "3": "X541UA-DM1897 (i3-6006U/4GB/256GB/FHD/Linux)"
                                },
                                {
                                    "0": "1",
                                    "1": "WINDOWS",
                                    "2": "61",
                                    "3": "Inspiron 5770"
                                },
                                {
                                    "0": "1",
                                    "1": "WINDOWS",
                                    "2": "62",
                                    "3": "Vostro 5471"
                                },
                                {
                                    "0": "4",
                                    "1": "NO OS",
                                    "2": "63",
                                    "3": "IdeaPad 520S-14IKB"
                                },
                                {
                                    "0": "1",
                                    "1": "WINDOWS",
                                    "2": "64",
                                    "3": "UX410UA-GV350T (i5-8250U/8GB/256GB/FHD/W10)"
                                },
                                {
                                    "0": "1",
                                    "1": "WINDOWS",
                                    "2": "65",
                                    "3": "250 G6"
                                },
                                {
                                    "0": "1",
                                    "1": "WINDOWS",
                                    "2": "66",
                                    "3": "ZenBook Pro"
                                },
                                {
                                    "0": "1",
                                    "1": "WINDOWS",
                                    "2": "67",
                                    "3": "250 G6"
                                },
                                {
                                    "0": "1",
                                    "1": "WINDOWS",
                                    "2": "68",
                                    "3": "Stream 14-AX040wm"
                                },
                                {
                                    "0": "1",
                                    "1": "WINDOWS",
                                    "2": "69",
                                    "3": "V310-15ISK (i5-7200U/4GB/1TB/FHD/W10)"
                                },
                                {
                                    "0": "2",
                                    "1": "LINUX",
                                    "2": "70",
                                    "3": "FX753VE-GC093 (i7-7700HQ/12GB/1TB/GeForce"
                                },
                                {
                                    "0": "4",
                                    "1": "NO OS",
                                    "2": "71",
                                    "3": "Surface Laptop"
                                },
                                {
                                    "0": "1",
                                    "1": "WINDOWS",
                                    "2": "72",
                                    "3": "Inspiron 5370"
                                },
                                {
                                    "0": "1",
                                    "1": "WINDOWS",
                                    "2": "73",
                                    "3": "Inspiron 5570"
                                },
                                {
                                    "0": "1",
                                    "1": "WINDOWS",
                                    "2": "74",
                                    "3": "GL72M 7RDX"
                                },
                                {
                                    "0": "1",
                                    "1": "WINDOWS",
                                    "2": "75",
                                    "3": "Aspire E5-475"
                                },
                                {
                                    "0": "1",
                                    "1": "WINDOWS",
                                    "2": "76",
                                    "3": "FX503VD-E4022T (i7-7700HQ/8GB/1TB/GeForce"
                                },
                                {
                                    "0": "4",
                                    "1": "NO OS",
                                    "2": "77",
                                    "3": "IdeaPad 320-15IKBN"
                                },
                                {
                                    "0": "1",
                                    "1": "WINDOWS",
                                    "2": "78",
                                    "3": "Inspiron 5570"
                                },
                                {
                                    "0": "1",
                                    "1": "WINDOWS",
                                    "2": "79",
                                    "3": "Aspire A515-51G-32MX"
                                },
                                {
                                    "0": "1",
                                    "1": "WINDOWS",
                                    "2": "80",
                                    "3": "ProBook 470"
                                },
                                {
                                    "0": "1",
                                    "1": "WINDOWS",
                                    "2": "81",
                                    "3": "Latitude 5590"
                                },
                                {
                                    "0": "3",
                                    "1": "IOS",
                                    "2": "82",
                                    "3": "MacBook 12\""
                                },
                                {
                                    "0": "1",
                                    "1": "WINDOWS",
                                    "2": "83",
                                    "3": "ProBook 440"
                                },
                                {
                                    "0": "1",
                                    "1": "WINDOWS",
                                    "2": "84",
                                    "3": "IdeaPad 320-15AST"
                                },
                                {
                                    "0": "1",
                                    "1": "WINDOWS",
                                    "2": "85",
                                    "3": "Aspire 3"
                                },
                                {
                                    "0": "1",
                                    "1": "WINDOWS",
                                    "2": "86",
                                    "3": "Inspiron 7577"
                                },
                                {
                                    "0": "1",
                                    "1": "WINDOWS",
                                    "2": "87",
                                    "3": "Pavilion 15-CK000nv"
                                },
                                {
                                    "0": "1",
                                    "1": "WINDOWS",
                                    "2": "88",
                                    "3": "250 G6"
                                },
                                {
                                    "0": "1",
                                    "1": "WINDOWS",
                                    "2": "89",
                                    "3": "FX503VM-E4007T (i7-7700HQ/16GB/1TB"
                                },
                                {
                                    "0": "1",
                                    "1": "WINDOWS",
                                    "2": "90",
                                    "3": "XPS 13"
                                },
                                {
                                    "0": "1",
                                    "1": "WINDOWS",
                                    "2": "91",
                                    "3": "FX550IK-DM018T (FX-9830P/8GB/1TB/Radeon"
                                },
                                {
                                    "0": "1",
                                    "1": "WINDOWS",
                                    "2": "92",
                                    "3": "Aspire 5"
                                },
                                {
                                    "0": "1",
                                    "1": "WINDOWS",
                                    "2": "93",
                                    "3": "Probook 430"
                                },
                                {
                                    "0": "1",
                                    "1": "WINDOWS",
                                    "2": "94",
                                    "3": "Inspiron 7577"
                                },
                                {
                                    "0": "1",
                                    "1": "WINDOWS",
                                    "2": "95",
                                    "3": "Zenbook UX430UA"
                                },
                                {
                                    "0": "1",
                                    "1": "WINDOWS",
                                    "2": "96",
                                    "3": "Spin 5"
                                },
                                {
                                    "0": "2",
                                    "1": "LINUX",
                                    "2": "97",
                                    "3": "Inspiron 3567"
                                },
                                {
                                    "0": "2",
                                    "1": "LINUX",
                                    "2": "98",
                                    "3": "Inspiron 3567"
                                },
                                {
                                    "0": "1",
                                    "1": "WINDOWS",
                                    "2": "99",
                                    "3": "X541UV-DM1439T (i3-7100U/6GB/256GB/GeForce"
                                },
                                {
                                    "0": "1",
                                    "1": "WINDOWS",
                                    "2": "100",
                                    "3": "Omen 15-ce007nv"
                                },
                                {
                                    "0": "1",
                                    "1": "WINDOWS",
                                    "2": "101",
                                    "3": "15-bs017nv (i7-7500U/8GB/256GB/Radeon"
                                },
                                {
                                    "0": "1",
                                    "1": "WINDOWS",
                                    "2": "102",
                                    "3": "15-bw000nv (E2-9000e/4GB/500GB/Radeon"
                                },
                                {
                                    "0": "2",
                                    "1": "LINUX",
                                    "2": "103",
                                    "3": "Inspiron 3576"
                                },
                                {
                                    "0": "1",
                                    "1": "WINDOWS",
                                    "2": "104",
                                    "3": "Envy 13-ad009n"
                                },
                                {
                                    "0": "4",
                                    "1": "NO OS",
                                    "2": "105",
                                    "3": "Surface Laptop"
                                },
                                {
                                    "0": "1",
                                    "1": "WINDOWS",
                                    "2": "106",
                                    "3": "Pavilion 14-BK001nv"
                                },
                                {
                                    "0": "1",
                                    "1": "WINDOWS",
                                    "2": "107",
                                    "3": "Ideapad 310-15ISK"
                                },
                                {
                                    "0": "1",
                                    "1": "WINDOWS",
                                    "2": "108",
                                    "3": "UX430UQ-GV209R (i7-7500U/8GB/256GB/GeForce"
                                },
                                {
                                    "0": "1",
                                    "1": "WINDOWS",
                                    "2": "109",
                                    "3": "GP62M 7REX"
                                },
                                {
                                    "0": "1",
                                    "1": "WINDOWS",
                                    "2": "110",
                                    "3": "Thinkpad T470"
                                },
                                {
                                    "0": "1",
                                    "1": "WINDOWS",
                                    "2": "111",
                                    "3": "VivoBook S15"
                                },
                                {
                                    "0": "1",
                                    "1": "WINDOWS",
                                    "2": "112",
                                    "3": "XPS 13"
                                },
                                {
                                    "0": "1",
                                    "1": "WINDOWS",
                                    "2": "113",
                                    "3": "ThinkPad Yoga"
                                },
                                {
                                    "0": "1",
                                    "1": "WINDOWS",
                                    "2": "114",
                                    "3": "Probook 440"
                                },
                                {
                                    "0": "1",
                                    "1": "WINDOWS",
                                    "2": "115",
                                    "3": "XPS 13"
                                },
                                {
                                    "0": "1",
                                    "1": "WINDOWS",
                                    "2": "116",
                                    "3": "Spectre x360"
                                },
                                {
                                    "0": "1",
                                    "1": "WINDOWS",
                                    "2": "117",
                                    "3": "Probook 440"
                                },
                                {
                                    "0": "1",
                                    "1": "WINDOWS",
                                    "2": "118",
                                    "3": "Inspiron 7570"
                                },
                                {
                                    "0": "1",
                                    "1": "WINDOWS",
                                    "2": "119",
                                    "3": "X705UV-BX074T (i3-6006U/4GB/1TB/GeForce"
                                },
                                {
                                    "0": "1",
                                    "1": "WINDOWS",
                                    "2": "120",
                                    "3": "VivoBook S15"
                                },
                                {
                                    "0": "1",
                                    "1": "WINDOWS",
                                    "2": "121",
                                    "3": "Spin 3"
                                },
                                {
                                    "0": "1",
                                    "1": "WINDOWS",
                                    "2": "122",
                                    "3": "GS63VR 7RG"
                                },
                                {
                                    "0": "4",
                                    "1": "NO OS",
                                    "2": "123",
                                    "3": "IdeaPad 320-15IKBN"
                                },
                                {
                                    "0": "1",
                                    "1": "WINDOWS",
                                    "2": "124",
                                    "3": "Probook 470"
                                },
                                {
                                    "0": "1",
                                    "1": "WINDOWS",
                                    "2": "125",
                                    "3": "Aspire 3"
                                },
                                {
                                    "0": "4",
                                    "1": "NO OS",
                                    "2": "126",
                                    "3": "250 G6"
                                },
                                {
                                    "0": "1",
                                    "1": "WINDOWS",
                                    "2": "127",
                                    "3": "Probook 440"
                                },
                                {
                                    "0": "4",
                                    "1": "NO OS",
                                    "2": "128",
                                    "3": "E402WA-GA007T (E2-6110/4GB/64GB/W10"
                                },
                                {
                                    "0": "1",
                                    "1": "WINDOWS",
                                    "2": "129",
                                    "3": "Inspiron 5770"
                                },
                                {
                                    "0": "1",
                                    "1": "WINDOWS",
                                    "2": "130",
                                    "3": "ProBook 470"
                                },
                                {
                                    "0": "1",
                                    "1": "WINDOWS",
                                    "2": "131",
                                    "3": "Inspiron 5567"
                                },
                                {
                                    "0": "1",
                                    "1": "WINDOWS",
                                    "2": "132",
                                    "3": "Inspiron 3567"
                                },
                                {
                                    "0": "1",
                                    "1": "WINDOWS",
                                    "2": "133",
                                    "3": "Swift 3"
                                },
                                {
                                    "0": "1",
                                    "1": "WINDOWS",
                                    "2": "134",
                                    "3": "Aspire A515-51G-37JS"
                                },
                                {
                                    "0": "1",
                                    "1": "WINDOWS",
                                    "2": "135",
                                    "3": "15-BS078nr (i7-7500U/8GB/1TB/W10)"
                                },
                                {
                                    "0": "1",
                                    "1": "WINDOWS",
                                    "2": "136",
                                    "3": "Probook 440"
                                },
                                {
                                    "0": "4",
                                    "1": "NO OS",
                                    "2": "137",
                                    "3": "V110-15IAP (N3350/4GB/1TB/No"
                                },
                                {
                                    "0": "1",
                                    "1": "WINDOWS",
                                    "2": "138",
                                    "3": "FX753VD-GC086T (i5-7300HQ/8GB/1TB"
                                },
                                {
                                    "0": "4",
                                    "1": "NO OS",
                                    "2": "139",
                                    "3": "IdeaPad 320-15IKBN"
                                },
                                {
                                    "0": "1",
                                    "1": "WINDOWS",
                                    "2": "140",
                                    "3": "Envy 13-AD007nv"
                                },
                                {
                                    "0": "1",
                                    "1": "WINDOWS",
                                    "2": "141",
                                    "3": "Aspire 5"
                                },
                                {
                                    "0": "1",
                                    "1": "WINDOWS",
                                    "2": "142",
                                    "3": "ThinkPad E480"
                                },
                                {
                                    "0": "4",
                                    "1": "NO OS",
                                    "2": "143",
                                    "3": "Legion Y520-15IKBN"
                                },
                                {
                                    "0": "1",
                                    "1": "WINDOWS",
                                    "2": "144",
                                    "3": "Satellite Pro"
                                },
                                {
                                    "0": "1",
                                    "1": "WINDOWS",
                                    "2": "145",
                                    "3": "255 G6"
                                },
                                {
                                    "0": "1",
                                    "1": "WINDOWS",
                                    "2": "146",
                                    "3": "ZenBook UX430UA"
                                },
                                {
                                    "0": "1",
                                    "1": "WINDOWS",
                                    "2": "147",
                                    "3": "EliteBook Folio"
                                },
                                {
                                    "0": "1",
                                    "1": "WINDOWS",
                                    "2": "148",
                                    "3": "X541NA (N3350/4GB/1TB/FHD/W10)"
                                },
                                {
                                    "0": "1",
                                    "1": "WINDOWS",
                                    "2": "149",
                                    "3": "GE72MVR 7RG"
                                },
                                {
                                    "0": "1",
                                    "1": "WINDOWS",
                                    "2": "150",
                                    "3": "Aspire A315-51"
                                },
                                {
                                    "0": "1",
                                    "1": "WINDOWS",
                                    "2": "151",
                                    "3": "Inspiron 5577"
                                },
                                {
                                    "0": "1",
                                    "1": "WINDOWS",
                                    "2": "152",
                                    "3": "Inspiron 7567"
                                },
                                {
                                    "0": "1",
                                    "1": "WINDOWS",
                                    "2": "153",
                                    "3": "V110-15IKB (i5-7200U/4GB/128GB/W10)"
                                },
                                {
                                    "0": "1",
                                    "1": "WINDOWS",
                                    "2": "154",
                                    "3": "GE73VR 7RE"
                                },
                                {
                                    "0": "1",
                                    "1": "WINDOWS",
                                    "2": "155",
                                    "3": "EliteBook 840"
                                },
                                {
                                    "0": "1",
                                    "1": "WINDOWS",
                                    "2": "156",
                                    "3": "15-BS103nv (i5-8250U/6GB/256GB/Radeon"
                                },
                                {
                                    "0": "1",
                                    "1": "WINDOWS",
                                    "2": "157",
                                    "3": "Yoga 520-14IKB"
                                },
                                {
                                    "0": "1",
                                    "1": "WINDOWS",
                                    "2": "158",
                                    "3": "ZenBook Flip"
                                },
                                {
                                    "0": "1",
                                    "1": "WINDOWS",
                                    "2": "159",
                                    "3": "Inspiron 5579"
                                },
                                {
                                    "0": "1",
                                    "1": "WINDOWS",
                                    "2": "160",
                                    "3": "Satellite Pro"
                                },
                                {
                                    "0": "1",
                                    "1": "WINDOWS",
                                    "2": "161",
                                    "3": "X555BP-XX180T (A9-9420/4GB/1TB/Radeon"
                                },
                                {
                                    "0": "1",
                                    "1": "WINDOWS",
                                    "2": "162",
                                    "3": "Aspire A517-51G"
                                },
                                {
                                    "0": "1",
                                    "1": "WINDOWS",
                                    "2": "163",
                                    "3": "Inspiron 3576"
                                },
                                {
                                    "0": "1",
                                    "1": "WINDOWS",
                                    "2": "164",
                                    "3": "Legion Y520-15IKBN"
                                },
                                {
                                    "0": "1",
                                    "1": "WINDOWS",
                                    "2": "165",
                                    "3": "Aspire A315-31"
                                },
                                {
                                    "0": "1",
                                    "1": "WINDOWS",
                                    "2": "166",
                                    "3": "GE63VR 7RE"
                                },
                                {
                                    "0": "1",
                                    "1": "WINDOWS",
                                    "2": "167",
                                    "3": "Aspire 3"
                                },
                                {
                                    "0": "1",
                                    "1": "WINDOWS",
                                    "2": "168",
                                    "3": "Inspiron 5577"
                                },
                                {
                                    "0": "1",
                                    "1": "WINDOWS",
                                    "2": "169",
                                    "3": "Aspire A517-51G"
                                },
                                {
                                    "0": "1",
                                    "1": "WINDOWS",
                                    "2": "170",
                                    "3": "ProBook 430"
                                },
                                {
                                    "0": "1",
                                    "1": "WINDOWS",
                                    "2": "171",
                                    "3": "MateBook X"
                                },
                                {
                                    "0": "1",
                                    "1": "WINDOWS",
                                    "2": "172",
                                    "3": "17-bs001nv (i5-7200U/6GB/2TB/Radeon"
                                },
                                {
                                    "0": "4",
                                    "1": "NO OS",
                                    "2": "173",
                                    "3": "IdeaPad 320-15AST"
                                },
                                {
                                    "0": "1",
                                    "1": "WINDOWS",
                                    "2": "174",
                                    "3": "Satellite Pro"
                                },
                                {
                                    "0": "1",
                                    "1": "WINDOWS",
                                    "2": "175",
                                    "3": "ProBook 470"
                                },
                                {
                                    "0": "1",
                                    "1": "WINDOWS",
                                    "2": "176",
                                    "3": "Inspiron 3567"
                                },
                                {
                                    "0": "1",
                                    "1": "WINDOWS",
                                    "2": "177",
                                    "3": "Aspire A315-51"
                                },
                                {
                                    "0": "1",
                                    "1": "WINDOWS",
                                    "2": "178",
                                    "3": "GT80S 6QF-074US"
                                },
                                {
                                    "0": "1",
                                    "1": "WINDOWS",
                                    "2": "179",
                                    "3": "V310-15IKB (i5-7200U/8GB/1TB"
                                },
                                {
                                    "0": "1",
                                    "1": "WINDOWS",
                                    "2": "180",
                                    "3": "Spectre x360"
                                },
                                {
                                    "0": "2",
                                    "1": "LINUX",
                                    "2": "181",
                                    "3": "Inspiron 5570"
                                },
                                {
                                    "0": "1",
                                    "1": "WINDOWS",
                                    "2": "182",
                                    "3": "XPS 13"
                                },
                                {
                                    "0": "1",
                                    "1": "WINDOWS",
                                    "2": "183",
                                    "3": "Yoga 920-13IKB"
                                },
                                {
                                    "0": "1",
                                    "1": "WINDOWS",
                                    "2": "184",
                                    "3": "Satellite Pro"
                                },
                                {
                                    "0": "4",
                                    "1": "NO OS",
                                    "2": "185",
                                    "3": "Mi Notebook"
                                },
                                {
                                    "0": "1",
                                    "1": "WINDOWS",
                                    "2": "186",
                                    "3": "Inspiron 7773"
                                },
                                {
                                    "0": "1",
                                    "1": "WINDOWS",
                                    "2": "187",
                                    "3": "XPS 15"
                                },
                                {
                                    "0": "4",
                                    "1": "NO OS",
                                    "2": "188",
                                    "3": "Legion Y520-15IKBN"
                                },
                                {
                                    "0": "1",
                                    "1": "WINDOWS",
                                    "2": "189",
                                    "3": "Swift 7"
                                },
                                {
                                    "0": "1",
                                    "1": "WINDOWS",
                                    "2": "190",
                                    "3": "Inspiron 5770"
                                },
                                {
                                    "0": "1",
                                    "1": "WINDOWS",
                                    "2": "191",
                                    "3": "Thinkpad Yoga"
                                },
                                {
                                    "0": "1",
                                    "1": "WINDOWS",
                                    "2": "192",
                                    "3": "K147 (N3350/4GB/32GB/FHD/W10)"
                                },
                                {
                                    "0": "4",
                                    "1": "NO OS",
                                    "2": "193",
                                    "3": "Mi Notebook"
                                },
                                {
                                    "0": "4",
                                    "1": "NO OS",
                                    "2": "194",
                                    "3": "IdeaPad 320-17IKBR"
                                },
                                {
                                    "0": "1",
                                    "1": "WINDOWS",
                                    "2": "195",
                                    "3": "Inspiron 5379"
                                },
                                {
                                    "0": "1",
                                    "1": "WINDOWS",
                                    "2": "196",
                                    "3": "ProBook 470"
                                },
                                {
                                    "0": "1",
                                    "1": "WINDOWS",
                                    "2": "197",
                                    "3": "Blade Pro"
                                },
                                {
                                    "0": "1",
                                    "1": "WINDOWS",
                                    "2": "198",
                                    "3": "ProBook 430"
                                },
                                {
                                    "0": "1",
                                    "1": "WINDOWS",
                                    "2": "199",
                                    "3": "Omen 17-W295"
                                },
                                {
                                    "0": "1",
                                    "1": "WINDOWS",
                                    "2": "200",
                                    "3": "Probook 470"
                                },
                                {
                                    "0": "1",
                                    "1": "WINDOWS",
                                    "2": "201",
                                    "3": "Inspiron 7577"
                                },
                                {
                                    "0": "1",
                                    "1": "WINDOWS",
                                    "2": "202",
                                    "3": "V110-15ISK (i5-6200U/4GB/128GB/W10)"
                                },
                                {
                                    "0": "1",
                                    "1": "WINDOWS",
                                    "2": "203",
                                    "3": "Aspire E5-576G"
                                },
                                {
                                    "0": "1",
                                    "1": "WINDOWS",
                                    "2": "204",
                                    "3": "Legion Y720-15IKB"
                                },
                                {
                                    "0": "1",
                                    "1": "WINDOWS",
                                    "2": "205",
                                    "3": "Precision 7520"
                                },
                                {
                                    "0": "4",
                                    "1": "NO OS",
                                    "2": "206",
                                    "3": "Legion Y520-15IKBN"
                                },
                                {
                                    "0": "1",
                                    "1": "WINDOWS",
                                    "2": "207",
                                    "3": "Inspiron 3567"
                                },
                                {
                                    "0": "1",
                                    "1": "WINDOWS",
                                    "2": "208",
                                    "3": "XPS 13"
                                },
                                {
                                    "0": "1",
                                    "1": "WINDOWS",
                                    "2": "209",
                                    "3": "XPS 13"
                                },
                                {
                                    "0": "1",
                                    "1": "WINDOWS",
                                    "2": "210",
                                    "3": "IdeaPad 320-15IKBN"
                                },
                                {
                                    "0": "2",
                                    "1": "LINUX",
                                    "2": "211",
                                    "3": "Aspire 7"
                                },
                                {
                                    "0": "1",
                                    "1": "WINDOWS",
                                    "2": "212",
                                    "3": "ROG GL703VD-GC028T"
                                },
                                {
                                    "0": "4",
                                    "1": "NO OS",
                                    "2": "213",
                                    "3": "15-bs018nq (i3-6006U/4GB/500GB/FHD/No"
                                },
                                {
                                    "0": "4",
                                    "1": "NO OS",
                                    "2": "214",
                                    "3": "IdeaPad 320-15IKBN"
                                },
                                {
                                    "0": "1",
                                    "1": "WINDOWS",
                                    "2": "215",
                                    "3": "MateBook X"
                                },
                                {
                                    "0": "1",
                                    "1": "WINDOWS",
                                    "2": "216",
                                    "3": "Inspiron 5370"
                                },
                                {
                                    "0": "4",
                                    "1": "NO OS",
                                    "2": "217",
                                    "3": "IdeaPad 320-17IKB"
                                },
                                {
                                    "0": "1",
                                    "1": "WINDOWS",
                                    "2": "218",
                                    "3": "Probook 440"
                                },
                                {
                                    "0": "1",
                                    "1": "WINDOWS",
                                    "2": "219",
                                    "3": "Latitude 5490"
                                },
                                {
                                    "0": "1",
                                    "1": "WINDOWS",
                                    "2": "220",
                                    "3": "Inspiron 5379"
                                },
                                {
                                    "0": "2",
                                    "1": "LINUX",
                                    "2": "221",
                                    "3": "Inspiron 3576"
                                },
                                {
                                    "0": "1",
                                    "1": "WINDOWS",
                                    "2": "222",
                                    "3": "Yoga 520-14IKB"
                                },
                                {
                                    "0": "1",
                                    "1": "WINDOWS",
                                    "2": "223",
                                    "3": "Portege Z30-C-16L"
                                },
                                {
                                    "0": "1",
                                    "1": "WINDOWS",
                                    "2": "224",
                                    "3": "ProBook 450"
                                },
                                {
                                    "0": "1",
                                    "1": "WINDOWS",
                                    "2": "225",
                                    "3": "Alienware 17"
                                },
                                {
                                    "0": "1",
                                    "1": "WINDOWS",
                                    "2": "226",
                                    "3": "Aspire E5-576G"
                                },
                                {
                                    "0": "1",
                                    "1": "WINDOWS",
                                    "2": "227",
                                    "3": "Inspiron 5567"
                                },
                                {
                                    "0": "1",
                                    "1": "WINDOWS",
                                    "2": "228",
                                    "3": "Vivobook X541UV-DM1217T"
                                },
                                {
                                    "0": "1",
                                    "1": "WINDOWS",
                                    "2": "229",
                                    "3": "K756UX-T4340T (i5-7200U/8GB/500GB"
                                },
                                {
                                    "0": "1",
                                    "1": "WINDOWS",
                                    "2": "230",
                                    "3": "ZBook 15u"
                                },
                                {
                                    "0": "1",
                                    "1": "WINDOWS",
                                    "2": "231",
                                    "3": "Pro P2540UA-XO0198T"
                                },
                                {
                                    "0": "1",
                                    "1": "WINDOWS",
                                    "2": "232",
                                    "3": "15-rb013nv (E2-9000e/4GB/500GB/W10)"
                                },
                                {
                                    "0": "1",
                                    "1": "WINDOWS",
                                    "2": "233",
                                    "3": "Legion Y720-15IKB"
                                },
                                {
                                    "0": "1",
                                    "1": "WINDOWS",
                                    "2": "234",
                                    "3": "Vostro 5468"
                                },
                                {
                                    "0": "1",
                                    "1": "WINDOWS",
                                    "2": "235",
                                    "3": "Aspire R7"
                                },
                                {
                                    "0": "2",
                                    "1": "LINUX",
                                    "2": "236",
                                    "3": "Inspiron 5567"
                                },
                                {
                                    "0": "2",
                                    "1": "LINUX",
                                    "2": "237",
                                    "3": "Aspire A315-51"
                                },
                                {
                                    "0": "1",
                                    "1": "WINDOWS",
                                    "2": "238",
                                    "3": "X555QG-DM242T (A10-9620P/4GB/1TB"
                                },
                                {
                                    "0": "1",
                                    "1": "WINDOWS",
                                    "2": "239",
                                    "3": "ROG G703VI-E5062T"
                                },
                                {
                                    "0": "1",
                                    "1": "WINDOWS",
                                    "2": "240",
                                    "3": "Nitro AN515-51"
                                },
                                {
                                    "0": "1",
                                    "1": "WINDOWS",
                                    "2": "241",
                                    "3": "IdeaPad 320-15ISK"
                                },
                                {
                                    "0": "1",
                                    "1": "WINDOWS",
                                    "2": "242",
                                    "3": "VivoBook Pro"
                                },
                                {
                                    "0": "4",
                                    "1": "NO OS",
                                    "2": "243",
                                    "3": "F756UX-T4201D (i7-7500U/8GB/128GB"
                                },
                                {
                                    "0": "1",
                                    "1": "WINDOWS",
                                    "2": "244",
                                    "3": "Inspiron 5577"
                                },
                                {
                                    "0": "1",
                                    "1": "WINDOWS",
                                    "2": "245",
                                    "3": "Yoga 910-13IKB"
                                },
                                {
                                    "0": "1",
                                    "1": "WINDOWS",
                                    "2": "246",
                                    "3": "Inspiron 5570"
                                },
                                {
                                    "0": "1",
                                    "1": "WINDOWS",
                                    "2": "247",
                                    "3": "15-bs015dx (i5-7200U/8GB/1TB/W10)"
                                },
                                {
                                    "0": "1",
                                    "1": "WINDOWS",
                                    "2": "248",
                                    "3": "Rog G701VIK-BA060T"
                                },
                                {
                                    "0": "1",
                                    "1": "WINDOWS",
                                    "2": "249",
                                    "3": "ProBook 430"
                                },
                                {
                                    "0": "3",
                                    "1": "IOS",
                                    "2": "250",
                                    "3": "MacBook Pro"
                                },
                                {
                                    "0": "1",
                                    "1": "WINDOWS",
                                    "2": "251",
                                    "3": "Inspiron 5579"
                                },
                                {
                                    "0": "1",
                                    "1": "WINDOWS",
                                    "2": "252",
                                    "3": "ROG G752VSK-GC493T"
                                },
                                {
                                    "0": "1",
                                    "1": "WINDOWS",
                                    "2": "253",
                                    "3": "X505BP-BR019T (A9-9420/4GB/1TB/Radeon"
                                },
                                {
                                    "0": "1",
                                    "1": "WINDOWS",
                                    "2": "254",
                                    "3": "Yoga 920-13IKB"
                                },
                                {
                                    "0": "1",
                                    "1": "WINDOWS",
                                    "2": "255",
                                    "3": "Aspire 5"
                                },
                                {
                                    "0": "1",
                                    "1": "WINDOWS",
                                    "2": "256",
                                    "3": "Vostro 5370"
                                },
                                {
                                    "0": "1",
                                    "1": "WINDOWS",
                                    "2": "257",
                                    "3": "15-BW094nd (A6-9220/8GB/128GB/W10)"
                                },
                                {
                                    "0": "1",
                                    "1": "WINDOWS",
                                    "2": "258",
                                    "3": "Envy 17-U275cl"
                                },
                                {
                                    "0": "1",
                                    "1": "WINDOWS",
                                    "2": "259",
                                    "3": "GT73EVR 7RE"
                                },
                                {
                                    "0": "1",
                                    "1": "WINDOWS",
                                    "2": "260",
                                    "3": "Yoga 720-15IKB"
                                },
                                {
                                    "0": "1",
                                    "1": "WINDOWS",
                                    "2": "261",
                                    "3": "Inspiron 5770"
                                },
                                {
                                    "0": "4",
                                    "1": "NO OS",
                                    "2": "262",
                                    "3": "IdeaPad 320-15ISK"
                                },
                                {
                                    "0": "1",
                                    "1": "WINDOWS",
                                    "2": "263",
                                    "3": "ProBook 450"
                                },
                                {
                                    "0": "1",
                                    "1": "WINDOWS",
                                    "2": "264",
                                    "3": "Vostro 3568"
                                },
                                {
                                    "0": "1",
                                    "1": "WINDOWS",
                                    "2": "265",
                                    "3": "Inspiron 3567"
                                },
                                {
                                    "0": "1",
                                    "1": "WINDOWS",
                                    "2": "266",
                                    "3": "Inspiron 5579"
                                },
                                {
                                    "0": "1",
                                    "1": "WINDOWS",
                                    "2": "267",
                                    "3": "ZenBook Flip"
                                },
                                {
                                    "0": "4",
                                    "1": "NO OS",
                                    "2": "268",
                                    "3": "IdeaPad 320-15IKBN"
                                },
                                {
                                    "0": "1",
                                    "1": "WINDOWS",
                                    "2": "269",
                                    "3": "Probook 470"
                                },
                                {
                                    "0": "1",
                                    "1": "WINDOWS",
                                    "2": "270",
                                    "3": "V330-15IKB (i7-8550U/8GB/256GB/FHD/W10)"
                                },
                                {
                                    "0": "3",
                                    "1": "IOS",
                                    "2": "271",
                                    "3": "MacBook Pro"
                                },
                                {
                                    "0": "1",
                                    "1": "WINDOWS",
                                    "2": "272",
                                    "3": "Rog Strix"
                                },
                                {
                                    "0": "2",
                                    "1": "LINUX",
                                    "2": "273",
                                    "3": "Inspiron 3576"
                                },
                                {
                                    "0": "1",
                                    "1": "WINDOWS",
                                    "2": "274",
                                    "3": "ThinkPad X1"
                                },
                                {
                                    "0": "1",
                                    "1": "WINDOWS",
                                    "2": "275",
                                    "3": "Satellite Pro"
                                },
                                {
                                    "0": "1",
                                    "1": "WINDOWS",
                                    "2": "276",
                                    "3": "Inspiron 5567"
                                },
                                {
                                    "0": "2",
                                    "1": "LINUX",
                                    "2": "277",
                                    "3": "Inspiron 5770"
                                },
                                {
                                    "0": "1",
                                    "1": "WINDOWS",
                                    "2": "278",
                                    "3": "Aspire A515-51G"
                                },
                                {
                                    "0": "1",
                                    "1": "WINDOWS",
                                    "2": "279",
                                    "3": "IdeaPad 320-17ISK"
                                },
                                {
                                    "0": "4",
                                    "1": "NO OS",
                                    "2": "280",
                                    "3": "IdeaPad 320-17IKBR"
                                },
                                {
                                    "0": "1",
                                    "1": "WINDOWS",
                                    "2": "281",
                                    "3": "IdeaPad 320-17IKB"
                                },
                                {
                                    "0": "2",
                                    "1": "LINUX",
                                    "2": "282",
                                    "3": "Inspiron 3567"
                                },
                                {
                                    "0": "1",
                                    "1": "WINDOWS",
                                    "2": "283",
                                    "3": "Legion Y520-15IKBN"
                                },
                                {
                                    "0": "1",
                                    "1": "WINDOWS",
                                    "2": "284",
                                    "3": "Ideapad 320-15IKBN"
                                },
                                {
                                    "0": "1",
                                    "1": "WINDOWS",
                                    "2": "285",
                                    "3": "Aspire A517-51G"
                                },
                                {
                                    "0": "1",
                                    "1": "WINDOWS",
                                    "2": "286",
                                    "3": "SP315-51 (i7-7500U/12GB/1TB/FHD/W10)"
                                },
                                {
                                    "0": "1",
                                    "1": "WINDOWS",
                                    "2": "287",
                                    "3": "Thinkpad T570"
                                },
                                {
                                    "0": "1",
                                    "1": "WINDOWS",
                                    "2": "288",
                                    "3": "VivoBook S15"
                                },
                                {
                                    "0": "1",
                                    "1": "WINDOWS",
                                    "2": "289",
                                    "3": "Legion Y520-15IKBN"
                                },
                                {
                                    "0": "4",
                                    "1": "NO OS",
                                    "2": "290",
                                    "3": "IdeaPad 320-15IKB"
                                },
                                {
                                    "0": "4",
                                    "1": "NO OS",
                                    "2": "291",
                                    "3": "Chromebook C910-C2ST"
                                },
                                {
                                    "0": "1",
                                    "1": "WINDOWS",
                                    "2": "292",
                                    "3": "FX753VD-GC071T (i7-7700HQ/8GB/1TB/GeForce"
                                },
                                {
                                    "0": "1",
                                    "1": "WINDOWS",
                                    "2": "293",
                                    "3": "17-BS037cl (i3-6006U/8GB/1TB/W10)"
                                },
                                {
                                    "0": "1",
                                    "1": "WINDOWS",
                                    "2": "294",
                                    "3": "XPS 15"
                                },
                                {
                                    "0": "1",
                                    "1": "WINDOWS",
                                    "2": "295",
                                    "3": "V330-15IKB (i5-8250U/8GB/256GB/FHD/W10)"
                                },
                                {
                                    "0": "1",
                                    "1": "WINDOWS",
                                    "2": "296",
                                    "3": "Legion Y720-15IKB"
                                },
                                {
                                    "0": "2",
                                    "1": "LINUX",
                                    "2": "297",
                                    "3": "Aspire A715-71G"
                                },
                                {
                                    "0": "1",
                                    "1": "WINDOWS",
                                    "2": "298",
                                    "3": "Precision 7720"
                                },
                                {
                                    "0": "1",
                                    "1": "WINDOWS",
                                    "2": "299",
                                    "3": "IdeaPad 310-15ABR"
                                },
                                {
                                    "0": "1",
                                    "1": "WINDOWS",
                                    "2": "300",
                                    "3": "ZenBook UX530UQ-PRO"
                                },
                                {
                                    "0": "1",
                                    "1": "WINDOWS",
                                    "2": "301",
                                    "3": "VivoBook S14"
                                },
                                {
                                    "0": "1",
                                    "1": "WINDOWS",
                                    "2": "302",
                                    "3": "Rog GL702VS-GC095T"
                                },
                                {
                                    "0": "1",
                                    "1": "WINDOWS",
                                    "2": "303",
                                    "3": "IdeaPad 320-17IKB"
                                },
                                {
                                    "0": "4",
                                    "1": "NO OS",
                                    "2": "304",
                                    "3": "IdeaPad 320-15IKBN"
                                },
                                {
                                    "0": "1",
                                    "1": "WINDOWS",
                                    "2": "305",
                                    "3": "GL553VE-FY082T (i7-7700HQ/8GB/1TB"
                                },
                                {
                                    "0": "4",
                                    "1": "NO OS",
                                    "2": "306",
                                    "3": "IdeaPad 320-15IAP"
                                },
                                {
                                    "0": "1",
                                    "1": "WINDOWS",
                                    "2": "307",
                                    "3": "EliteBook x360"
                                },
                                {
                                    "0": "1",
                                    "1": "WINDOWS",
                                    "2": "308",
                                    "3": "Satellite Pro"
                                },
                                {
                                    "0": "1",
                                    "1": "WINDOWS",
                                    "2": "309",
                                    "3": "IdeaPad 320-15IKB"
                                },
                                {
                                    "0": "1",
                                    "1": "WINDOWS",
                                    "2": "310",
                                    "3": "250 G6"
                                },
                                {
                                    "0": "1",
                                    "1": "WINDOWS",
                                    "2": "311",
                                    "3": "IdeaPad 720S-13IKB"
                                },
                                {
                                    "0": "1",
                                    "1": "WINDOWS",
                                    "2": "312",
                                    "3": "XPS 13"
                                },
                                {
                                    "0": "1",
                                    "1": "WINDOWS",
                                    "2": "313",
                                    "3": "GE63VR 7RF"
                                },
                                {
                                    "0": "1",
                                    "1": "WINDOWS",
                                    "2": "314",
                                    "3": "ES1-523-84K7 (A8-7410/8GB/256GB/FHD/W10)"
                                },
                                {
                                    "0": "1",
                                    "1": "WINDOWS",
                                    "2": "315",
                                    "3": "VivoBook Flip"
                                },
                                {
                                    "0": "1",
                                    "1": "WINDOWS",
                                    "2": "316",
                                    "3": "Inspiron 5570"
                                },
                                {
                                    "0": "1",
                                    "1": "WINDOWS",
                                    "2": "317",
                                    "3": "Spectre x360"
                                },
                                {
                                    "0": "4",
                                    "1": "NO OS",
                                    "2": "318",
                                    "3": "ThinkPad 13"
                                },
                                {
                                    "0": "1",
                                    "1": "WINDOWS",
                                    "2": "319",
                                    "3": "ProBook 640"
                                },
                                {
                                    "0": "1",
                                    "1": "WINDOWS",
                                    "2": "320",
                                    "3": "TravelMate B"
                                },
                                {
                                    "0": "1",
                                    "1": "WINDOWS",
                                    "2": "321",
                                    "3": "Elitebook 840"
                                },
                                {
                                    "0": "1",
                                    "1": "WINDOWS",
                                    "2": "322",
                                    "3": "IdeaPad 320-17IKB"
                                },
                                {
                                    "0": "1",
                                    "1": "WINDOWS",
                                    "2": "323",
                                    "3": "ZenBook UX410UA-GV183T"
                                },
                                {
                                    "0": "1",
                                    "1": "WINDOWS",
                                    "2": "324",
                                    "3": "ProBook 450"
                                },
                                {
                                    "0": "1",
                                    "1": "WINDOWS",
                                    "2": "325",
                                    "3": "Aspire 5"
                                },
                                {
                                    "0": "1",
                                    "1": "WINDOWS",
                                    "2": "326",
                                    "3": "IdeaPad 120S-14IAP"
                                },
                                {
                                    "0": "1",
                                    "1": "WINDOWS",
                                    "2": "327",
                                    "3": "Aspire E5-575"
                                },
                                {
                                    "0": "1",
                                    "1": "WINDOWS",
                                    "2": "328",
                                    "3": "VivoBook S15"
                                },
                                {
                                    "0": "1",
                                    "1": "WINDOWS",
                                    "2": "329",
                                    "3": "Elitebook 820"
                                },
                                {
                                    "0": "1",
                                    "1": "WINDOWS",
                                    "2": "330",
                                    "3": "XPS 15"
                                },
                                {
                                    "0": "1",
                                    "1": "WINDOWS",
                                    "2": "331",
                                    "3": "GL72M 7REX"
                                },
                                {
                                    "0": "1",
                                    "1": "WINDOWS",
                                    "2": "332",
                                    "3": "Satellite Pro"
                                },
                                {
                                    "0": "1",
                                    "1": "WINDOWS",
                                    "2": "333",
                                    "3": "UX510UX-CN269T (i7-7500U/8GB/256GB"
                                },
                                {
                                    "0": "1",
                                    "1": "WINDOWS",
                                    "2": "334",
                                    "3": "V310-15ISK (i3-6006U/4GB/1TB/FHD/W10)"
                                },
                                {
                                    "0": "1",
                                    "1": "WINDOWS",
                                    "2": "335",
                                    "3": "FX553VD-FY647T (i7-7700HQ/8GB/256GB/GeForce"
                                },
                                {
                                    "0": "1",
                                    "1": "WINDOWS",
                                    "2": "336",
                                    "3": "EliteBook 840"
                                },
                                {
                                    "0": "1",
                                    "1": "WINDOWS",
                                    "2": "337",
                                    "3": "Inspiron 7570"
                                },
                                {
                                    "0": "1",
                                    "1": "WINDOWS",
                                    "2": "338",
                                    "3": "Elitebook 850"
                                },
                                {
                                    "0": "2",
                                    "1": "LINUX",
                                    "2": "339",
                                    "3": "X541NA (N3350/4GB/1TB/Linux)"
                                },
                                {
                                    "0": "1",
                                    "1": "WINDOWS",
                                    "2": "340",
                                    "3": "Inspiron 7570"
                                },
                                {
                                    "0": "2",
                                    "1": "LINUX",
                                    "2": "341",
                                    "3": "Inspiron 3552"
                                },
                                {
                                    "0": "1",
                                    "1": "WINDOWS",
                                    "2": "342",
                                    "3": "IdeaPad 320-15ABR"
                                },
                                {
                                    "0": "1",
                                    "1": "WINDOWS",
                                    "2": "343",
                                    "3": "ProBook 450"
                                },
                                {
                                    "0": "1",
                                    "1": "WINDOWS",
                                    "2": "344",
                                    "3": "Yoga 920-13IKB"
                                },
                                {
                                    "0": "1",
                                    "1": "WINDOWS",
                                    "2": "345",
                                    "3": "XPS 13"
                                },
                                {
                                    "0": "1",
                                    "1": "WINDOWS",
                                    "2": "346",
                                    "3": "Legion Y520-15IKBN"
                                },
                                {
                                    "0": "1",
                                    "1": "WINDOWS",
                                    "2": "347",
                                    "3": "Stream 14-AX001nv"
                                },
                                {
                                    "0": "1",
                                    "1": "WINDOWS",
                                    "2": "348",
                                    "3": "Latitude 5590"
                                },
                                {
                                    "0": "1",
                                    "1": "WINDOWS",
                                    "2": "349",
                                    "3": "VivoBook Flip"
                                },
                                {
                                    "0": "1",
                                    "1": "WINDOWS",
                                    "2": "350",
                                    "3": "Inspiron 5570"
                                },
                                {
                                    "0": "1",
                                    "1": "WINDOWS",
                                    "2": "351",
                                    "3": "XPS 15"
                                },
                                {
                                    "0": "1",
                                    "1": "WINDOWS",
                                    "2": "352",
                                    "3": "Elitebook 850"
                                },
                                {
                                    "0": "1",
                                    "1": "WINDOWS",
                                    "2": "353",
                                    "3": "GP72MVR 7RFX"
                                },
                                {
                                    "0": "1",
                                    "1": "WINDOWS",
                                    "2": "354",
                                    "3": "Zbook 15"
                                },
                                {
                                    "0": "1",
                                    "1": "WINDOWS",
                                    "2": "355",
                                    "3": "Tecra A50-C-21G"
                                },
                                {
                                    "0": "1",
                                    "1": "WINDOWS",
                                    "2": "356",
                                    "3": "Inspiron 5570"
                                },
                                {
                                    "0": "4",
                                    "1": "NO OS",
                                    "2": "357",
                                    "3": "IdeaPad 320-15IAP"
                                },
                                {
                                    "0": "1",
                                    "1": "WINDOWS",
                                    "2": "358",
                                    "3": "Inspiron 7577"
                                },
                                {
                                    "0": "1",
                                    "1": "WINDOWS",
                                    "2": "359",
                                    "3": "Inspiron 3567"
                                },
                                {
                                    "0": "1",
                                    "1": "WINDOWS",
                                    "2": "360",
                                    "3": "Latitude 7480"
                                },
                                {
                                    "0": "1",
                                    "1": "WINDOWS",
                                    "2": "361",
                                    "3": "250 G6"
                                },
                                {
                                    "0": "1",
                                    "1": "WINDOWS",
                                    "2": "362",
                                    "3": "Zenbook UX410UA-GV027T"
                                },
                                {
                                    "0": "1",
                                    "1": "WINDOWS",
                                    "2": "363",
                                    "3": "IdeaPad 320-17IKB"
                                },
                                {
                                    "0": "1",
                                    "1": "WINDOWS",
                                    "2": "364",
                                    "3": "250 G6"
                                },
                                {
                                    "0": "4",
                                    "1": "NO OS",
                                    "2": "365",
                                    "3": "IdeaPad 320-15ISK"
                                },
                                {
                                    "0": "1",
                                    "1": "WINDOWS",
                                    "2": "366",
                                    "3": "15-AY023na (N3710/8GB/2TB/W10)"
                                },
                                {
                                    "0": "1",
                                    "1": "WINDOWS",
                                    "2": "367",
                                    "3": "Inspiron 5770"
                                },
                                {
                                    "0": "4",
                                    "1": "NO OS",
                                    "2": "368",
                                    "3": "Legion Y520-15IKBN"
                                },
                                {
                                    "0": "1",
                                    "1": "WINDOWS",
                                    "2": "369",
                                    "3": "Inspiron 5567"
                                },
                                {
                                    "0": "1",
                                    "1": "WINDOWS",
                                    "2": "370",
                                    "3": "Elitebook 1040"
                                },
                                {
                                    "0": "1",
                                    "1": "WINDOWS",
                                    "2": "371",
                                    "3": "ZenBook Flip"
                                },
                                {
                                    "0": "1",
                                    "1": "WINDOWS",
                                    "2": "372",
                                    "3": "Aspire 3"
                                },
                                {
                                    "0": "1",
                                    "1": "WINDOWS",
                                    "2": "373",
                                    "3": "Rog Strix"
                                },
                                {
                                    "0": "1",
                                    "1": "WINDOWS",
                                    "2": "374",
                                    "3": "IdeaPad 110-17ACL"
                                },
                                {
                                    "0": "1",
                                    "1": "WINDOWS",
                                    "2": "375",
                                    "3": "Inspiron 5379"
                                },
                                {
                                    "0": "1",
                                    "1": "WINDOWS",
                                    "2": "376",
                                    "3": "15-bw003nv (A9-Series-9420/4GB/256GB/FHD/W10)"
                                },
                                {
                                    "0": "1",
                                    "1": "WINDOWS",
                                    "2": "377",
                                    "3": "Yoga 11e"
                                },
                                {
                                    "0": "1",
                                    "1": "WINDOWS",
                                    "2": "378",
                                    "3": "Inspiron 3552"
                                },
                                {
                                    "0": "1",
                                    "1": "WINDOWS",
                                    "2": "379",
                                    "3": "VivoBook E403NA"
                                },
                                {
                                    "0": "2",
                                    "1": "LINUX",
                                    "2": "380",
                                    "3": "Aspire 7"
                                },
                                {
                                    "0": "1",
                                    "1": "WINDOWS",
                                    "2": "381",
                                    "3": "Omen 17-w212nv"
                                },
                                {
                                    "0": "4",
                                    "1": "NO OS",
                                    "2": "382",
                                    "3": "V310-15ISK (i3-6006U/4GB/128GB/FHD/No"
                                },
                                {
                                    "0": "1",
                                    "1": "WINDOWS",
                                    "2": "383",
                                    "3": "ROG Strix"
                                },
                                {
                                    "0": "1",
                                    "1": "WINDOWS",
                                    "2": "384",
                                    "3": "IdeaPad 720S-14IKB"
                                },
                                {
                                    "0": "1",
                                    "1": "WINDOWS",
                                    "2": "385",
                                    "3": "Zenbook Flip"
                                },
                                {
                                    "0": "1",
                                    "1": "WINDOWS",
                                    "2": "386",
                                    "3": "Thinkpad X1"
                                },
                                {
                                    "0": "1",
                                    "1": "WINDOWS",
                                    "2": "387",
                                    "3": "Ideapad 510S-13IKB"
                                },
                                {
                                    "0": "1",
                                    "1": "WINDOWS",
                                    "2": "388",
                                    "3": "Precision 3510"
                                },
                                {
                                    "0": "1",
                                    "1": "WINDOWS",
                                    "2": "389",
                                    "3": "Precision 5520"
                                },
                                {
                                    "0": "1",
                                    "1": "WINDOWS",
                                    "2": "390",
                                    "3": "ThinkPad X1"
                                },
                                {
                                    "0": "1",
                                    "1": "WINDOWS",
                                    "2": "391",
                                    "3": "Rog GL753VD-GC042T"
                                },
                                {
                                    "0": "1",
                                    "1": "WINDOWS",
                                    "2": "392",
                                    "3": "Rog GL753VE-GC070T"
                                },
                                {
                                    "0": "1",
                                    "1": "WINDOWS",
                                    "2": "393",
                                    "3": "Aspire 5"
                                },
                                {
                                    "0": "1",
                                    "1": "WINDOWS",
                                    "2": "394",
                                    "3": "Leopard GP72M"
                                },
                                {
                                    "0": "2",
                                    "1": "LINUX",
                                    "2": "395",
                                    "3": "Inspiron 5567"
                                },
                                {
                                    "0": "1",
                                    "1": "WINDOWS",
                                    "2": "396",
                                    "3": "15-BW004nv (A9-9420/4GB/256GB/Radeon"
                                },
                                {
                                    "0": "1",
                                    "1": "WINDOWS",
                                    "2": "397",
                                    "3": "ThinkPad E580"
                                },
                                {
                                    "0": "1",
                                    "1": "WINDOWS",
                                    "2": "398",
                                    "3": "ThinkPad L470"
                                },
                                {
                                    "0": "1",
                                    "1": "WINDOWS",
                                    "2": "399",
                                    "3": "Precision M5520"
                                },
                                {
                                    "0": "1",
                                    "1": "WINDOWS",
                                    "2": "400",
                                    "3": "Thinkpad X1"
                                },
                                {
                                    "0": "1",
                                    "1": "WINDOWS",
                                    "2": "401",
                                    "3": "IdeaPad 320-15IAP"
                                },
                                {
                                    "0": "1",
                                    "1": "WINDOWS",
                                    "2": "402",
                                    "3": "FX753VD-GC461T (i7-7700HQ/16GB/1TB"
                                },
                                {
                                    "0": "1",
                                    "1": "WINDOWS",
                                    "2": "403",
                                    "3": "ThinkPad E580"
                                },
                                {
                                    "0": "2",
                                    "1": "LINUX",
                                    "2": "404",
                                    "3": "Aspire 7"
                                },
                                {
                                    "0": "1",
                                    "1": "WINDOWS",
                                    "2": "405",
                                    "3": "GE73VR 7RF"
                                },
                                {
                                    "0": "1",
                                    "1": "WINDOWS",
                                    "2": "406",
                                    "3": "Zenbook 3"
                                },
                                {
                                    "0": "1",
                                    "1": "WINDOWS",
                                    "2": "407",
                                    "3": "Portege Z30-C-16P"
                                },
                                {
                                    "0": "1",
                                    "1": "WINDOWS",
                                    "2": "408",
                                    "3": "Latitude 7480"
                                },
                                {
                                    "0": "1",
                                    "1": "WINDOWS",
                                    "2": "409",
                                    "3": "IdeaPad 320-15ISK"
                                },
                                {
                                    "0": "1",
                                    "1": "WINDOWS",
                                    "2": "410",
                                    "3": "Lenovo IdeaPad"
                                },
                                {
                                    "0": "1",
                                    "1": "WINDOWS",
                                    "2": "411",
                                    "3": "ThinkPad P51"
                                },
                                {
                                    "0": "1",
                                    "1": "WINDOWS",
                                    "2": "412",
                                    "3": "Thinkpad T470p"
                                },
                                {
                                    "0": "1",
                                    "1": "WINDOWS",
                                    "2": "413",
                                    "3": "15-BS028nv (i3-6006U/4GB/1TB/Radeon"
                                },
                                {
                                    "0": "1",
                                    "1": "WINDOWS",
                                    "2": "414",
                                    "3": "Aspire R7"
                                },
                                {
                                    "0": "1",
                                    "1": "WINDOWS",
                                    "2": "415",
                                    "3": "ZenBook Flip"
                                },
                                {
                                    "0": "2",
                                    "1": "LINUX",
                                    "2": "416",
                                    "3": "Inspiron 3567"
                                },
                                {
                                    "0": "1",
                                    "1": "WINDOWS",
                                    "2": "417",
                                    "3": "Latitude 3380"
                                },
                                {
                                    "0": "1",
                                    "1": "WINDOWS",
                                    "2": "418",
                                    "3": "EliteBook 1040"
                                },
                                {
                                    "0": "1",
                                    "1": "WINDOWS",
                                    "2": "419",
                                    "3": "Inspiron 3567"
                                },
                                {
                                    "0": "1",
                                    "1": "WINDOWS",
                                    "2": "420",
                                    "3": "ThinkPad E480"
                                },
                                {
                                    "0": "1",
                                    "1": "WINDOWS",
                                    "2": "421",
                                    "3": "Yoga 720-15IKB"
                                },
                                {
                                    "0": "1",
                                    "1": "WINDOWS",
                                    "2": "422",
                                    "3": "LapBook 12.3"
                                },
                                {
                                    "0": "1",
                                    "1": "WINDOWS",
                                    "2": "423",
                                    "3": "ProBook 650"
                                },
                                {
                                    "0": "2",
                                    "1": "LINUX",
                                    "2": "424",
                                    "3": "X542UQ-DM117 (i3-7100U/8GB/1TB/GeForce"
                                },
                                {
                                    "0": "1",
                                    "1": "WINDOWS",
                                    "2": "425",
                                    "3": "Alienware 17"
                                },
                                {
                                    "0": "1",
                                    "1": "WINDOWS",
                                    "2": "426",
                                    "3": "Inspiron 7577"
                                },
                                {
                                    "0": "1",
                                    "1": "WINDOWS",
                                    "2": "427",
                                    "3": "Inspiron 5570"
                                },
                                {
                                    "0": "2",
                                    "1": "LINUX",
                                    "2": "428",
                                    "3": "Latitude 5480"
                                },
                                {
                                    "0": "1",
                                    "1": "WINDOWS",
                                    "2": "429",
                                    "3": "Omen 17-w207nv"
                                },
                                {
                                    "0": "1",
                                    "1": "WINDOWS",
                                    "2": "430",
                                    "3": "FlexBook Edge"
                                },
                                {
                                    "0": "4",
                                    "1": "NO OS",
                                    "2": "431",
                                    "3": "Chromebook 3"
                                },
                                {
                                    "0": "1",
                                    "1": "WINDOWS",
                                    "2": "432",
                                    "3": "Thinkpad 13"
                                },
                                {
                                    "0": "1",
                                    "1": "WINDOWS",
                                    "2": "433",
                                    "3": "IdeaPad 320s-14IKB"
                                },
                                {
                                    "0": "1",
                                    "1": "WINDOWS",
                                    "2": "434",
                                    "3": "Thinkpad T570"
                                },
                                {
                                    "0": "1",
                                    "1": "WINDOWS",
                                    "2": "435",
                                    "3": "Thinkpad P51"
                                },
                                {
                                    "0": "1",
                                    "1": "WINDOWS",
                                    "2": "436",
                                    "3": "Rog Strix"
                                },
                                {
                                    "0": "1",
                                    "1": "WINDOWS",
                                    "2": "437",
                                    "3": "15-ra044nv (N3060/4GB/500GB/W10)"
                                },
                                {
                                    "0": "4",
                                    "1": "NO OS",
                                    "2": "438",
                                    "3": "Pixelbook (Core"
                                },
                                {
                                    "0": "1",
                                    "1": "WINDOWS",
                                    "2": "439",
                                    "3": "ThinkPad T470s"
                                },
                                {
                                    "0": "2",
                                    "1": "LINUX",
                                    "2": "440",
                                    "3": "VivoBook Max"
                                },
                                {
                                    "0": "1",
                                    "1": "WINDOWS",
                                    "2": "441",
                                    "3": "IdeaPad 320-15AST"
                                },
                                {
                                    "0": "1",
                                    "1": "WINDOWS",
                                    "2": "442",
                                    "3": "Inspiron 5570"
                                },
                                {
                                    "0": "1",
                                    "1": "WINDOWS",
                                    "2": "443",
                                    "3": "ThinkPad X270"
                                },
                                {
                                    "0": "1",
                                    "1": "WINDOWS",
                                    "2": "444",
                                    "3": "IdeaPad 320-15IAP"
                                },
                                {
                                    "0": "1",
                                    "1": "WINDOWS",
                                    "2": "445",
                                    "3": "Omen 15-AX205na"
                                },
                                {
                                    "0": "1",
                                    "1": "WINDOWS",
                                    "2": "446",
                                    "3": "Latitude 5480"
                                },
                                {
                                    "0": "2",
                                    "1": "LINUX",
                                    "2": "447",
                                    "3": "Aspire ES1-572"
                                },
                                {
                                    "0": "1",
                                    "1": "WINDOWS",
                                    "2": "448",
                                    "3": "Precision 3520"
                                },
                                {
                                    "0": "1",
                                    "1": "WINDOWS",
                                    "2": "449",
                                    "3": "GV62 7RD-1686NL"
                                },
                                {
                                    "0": "4",
                                    "1": "NO OS",
                                    "2": "450",
                                    "3": "Surface Laptop"
                                },
                                {
                                    "0": "1",
                                    "1": "WINDOWS",
                                    "2": "451",
                                    "3": "15-bs024nv (i5-7200U/8GB/128GB/W10)"
                                },
                                {
                                    "0": "1",
                                    "1": "WINDOWS",
                                    "2": "452",
                                    "3": "Precision 3520"
                                },
                                {
                                    "0": "1",
                                    "1": "WINDOWS",
                                    "2": "453",
                                    "3": "ProBook 650"
                                },
                                {
                                    "0": "1",
                                    "1": "WINDOWS",
                                    "2": "454",
                                    "3": "ThinkPad T470"
                                },
                                {
                                    "0": "1",
                                    "1": "WINDOWS",
                                    "2": "455",
                                    "3": "Inspiron 5570"
                                },
                                {
                                    "0": "1",
                                    "1": "WINDOWS",
                                    "2": "456",
                                    "3": "Inspiron 3168"
                                },
                                {
                                    "0": "1",
                                    "1": "WINDOWS",
                                    "2": "457",
                                    "3": "Alienware 17"
                                },
                                {
                                    "0": "4",
                                    "1": "NO OS",
                                    "2": "458",
                                    "3": "Surface Laptop"
                                },
                                {
                                    "0": "4",
                                    "1": "NO OS",
                                    "2": "459",
                                    "3": "Surface Laptop"
                                },
                                {
                                    "0": "1",
                                    "1": "WINDOWS",
                                    "2": "460",
                                    "3": "17-BS092ND (i3-6006U/8GB/256GB/W10)"
                                },
                                {
                                    "0": "1",
                                    "1": "WINDOWS",
                                    "2": "461",
                                    "3": "Aspire E5-576G"
                                },
                                {
                                    "0": "1",
                                    "1": "WINDOWS",
                                    "2": "462",
                                    "3": "TravelMate B"
                                },
                                {
                                    "0": "1",
                                    "1": "WINDOWS",
                                    "2": "463",
                                    "3": "Pro P2540UA-AB51"
                                },
                                {
                                    "0": "4",
                                    "1": "NO OS",
                                    "2": "464",
                                    "3": "IdeaPad 510s-14IKB"
                                },
                                {
                                    "0": "1",
                                    "1": "WINDOWS",
                                    "2": "465",
                                    "3": "Thinkpad P51"
                                },
                                {
                                    "0": "1",
                                    "1": "WINDOWS",
                                    "2": "466",
                                    "3": "X541NA-PD1003Y (N4200/4GB/500GB/W10)"
                                },
                                {
                                    "0": "1",
                                    "1": "WINDOWS",
                                    "2": "467",
                                    "3": "Aspire 5"
                                },
                                {
                                    "0": "1",
                                    "1": "WINDOWS",
                                    "2": "468",
                                    "3": "Inspiron 5570"
                                },
                                {
                                    "0": "1",
                                    "1": "WINDOWS",
                                    "2": "469",
                                    "3": "Omen 17-an006nv"
                                },
                                {
                                    "0": "1",
                                    "1": "WINDOWS",
                                    "2": "470",
                                    "3": "Thinkpad T460s"
                                },
                                {
                                    "0": "1",
                                    "1": "WINDOWS",
                                    "2": "471",
                                    "3": "Spectre x360"
                                },
                                {
                                    "0": "1",
                                    "1": "WINDOWS",
                                    "2": "472",
                                    "3": "ZBook 15u"
                                },
                                {
                                    "0": "4",
                                    "1": "NO OS",
                                    "2": "473",
                                    "3": "Pixelbook (Core"
                                },
                                {
                                    "0": "1",
                                    "1": "WINDOWS",
                                    "2": "474",
                                    "3": "Latitude 7390"
                                },
                                {
                                    "0": "1",
                                    "1": "WINDOWS",
                                    "2": "475",
                                    "3": "ZenBook Pro"
                                },
                                {
                                    "0": "1",
                                    "1": "WINDOWS",
                                    "2": "476",
                                    "3": "Latitude E5470"
                                },
                                {
                                    "0": "1",
                                    "1": "WINDOWS",
                                    "2": "477",
                                    "3": "Precision M5520"
                                },
                                {
                                    "0": "1",
                                    "1": "WINDOWS",
                                    "2": "478",
                                    "3": "Thinkpad T470"
                                },
                                {
                                    "0": "1",
                                    "1": "WINDOWS",
                                    "2": "479",
                                    "3": "Inspiron 3576"
                                },
                                {
                                    "0": "1",
                                    "1": "WINDOWS",
                                    "2": "480",
                                    "3": "Portege X30-D-10J"
                                },
                                {
                                    "0": "1",
                                    "1": "WINDOWS",
                                    "2": "481",
                                    "3": "Inspiron 7570"
                                },
                                {
                                    "0": "1",
                                    "1": "WINDOWS",
                                    "2": "482",
                                    "3": "Vostro 3568"
                                },
                                {
                                    "0": "1",
                                    "1": "WINDOWS",
                                    "2": "483",
                                    "3": "ProBook 430"
                                },
                                {
                                    "0": "1",
                                    "1": "WINDOWS",
                                    "2": "484",
                                    "3": "Lapbook 15,6"
                                },
                                {
                                    "0": "1",
                                    "1": "WINDOWS",
                                    "2": "485",
                                    "3": "ThinkPad E570"
                                },
                                {
                                    "0": "1",
                                    "1": "WINDOWS",
                                    "2": "486",
                                    "3": "ThinkPad E480"
                                },
                                {
                                    "0": "1",
                                    "1": "WINDOWS",
                                    "2": "487",
                                    "3": "Precision 3520"
                                },
                                {
                                    "0": "1",
                                    "1": "WINDOWS",
                                    "2": "488",
                                    "3": "XPS 15"
                                },
                                {
                                    "0": "1",
                                    "1": "WINDOWS",
                                    "2": "489",
                                    "3": "Thinkpad X270"
                                },
                                {
                                    "0": "1",
                                    "1": "WINDOWS",
                                    "2": "490",
                                    "3": "Zenbook UX390UA"
                                },
                                {
                                    "0": "1",
                                    "1": "WINDOWS",
                                    "2": "491",
                                    "3": "Thinkpad E570"
                                },
                                {
                                    "0": "1",
                                    "1": "WINDOWS",
                                    "2": "492",
                                    "3": "Portege X30-D-10L"
                                },
                                {
                                    "0": "1",
                                    "1": "WINDOWS",
                                    "2": "493",
                                    "3": "VivoBook Pro"
                                },
                                {
                                    "0": "1",
                                    "1": "WINDOWS",
                                    "2": "494",
                                    "3": "Aspire 5"
                                },
                                {
                                    "0": "1",
                                    "1": "WINDOWS",
                                    "2": "495",
                                    "3": "Rog G752VL-UH71T"
                                },
                                {
                                    "0": "1",
                                    "1": "WINDOWS",
                                    "2": "496",
                                    "3": "Thinkpad X260"
                                },
                                {
                                    "0": "1",
                                    "1": "WINDOWS",
                                    "2": "497",
                                    "3": "Ideapad 520-15IKBR"
                                },
                                {
                                    "0": "1",
                                    "1": "WINDOWS",
                                    "2": "498",
                                    "3": "EliteBook 840"
                                },
                                {
                                    "0": "1",
                                    "1": "WINDOWS",
                                    "2": "499",
                                    "3": "ThinkPad 13"
                                },
                                {
                                    "0": "1",
                                    "1": "WINDOWS",
                                    "2": "500",
                                    "3": "ThinkPad L570"
                                },
                                {
                                    "0": "4",
                                    "1": "NO OS",
                                    "2": "501",
                                    "3": "VivoBook E201NA"
                                },
                                {
                                    "0": "1",
                                    "1": "WINDOWS",
                                    "2": "502",
                                    "3": "15-BS026nv (i5-7200U/8GB/256GB/Radeon"
                                },
                                {
                                    "0": "1",
                                    "1": "WINDOWS",
                                    "2": "503",
                                    "3": "Yoga 920-13IKB"
                                },
                                {
                                    "0": "1",
                                    "1": "WINDOWS",
                                    "2": "504",
                                    "3": "IdeaPad 320-14IAP"
                                },
                                {
                                    "0": "4",
                                    "1": "NO OS",
                                    "2": "505",
                                    "3": "Chromebook N23"
                                },
                                {
                                    "0": "1",
                                    "1": "WINDOWS",
                                    "2": "506",
                                    "3": "ThinkPad 13"
                                },
                                {
                                    "0": "1",
                                    "1": "WINDOWS",
                                    "2": "507",
                                    "3": "ZenBook UX510UX-CN211T"
                                },
                                {
                                    "0": "1",
                                    "1": "WINDOWS",
                                    "2": "508",
                                    "3": "Aspire A515-51G-59QF"
                                },
                                {
                                    "0": "1",
                                    "1": "WINDOWS",
                                    "2": "509",
                                    "3": "Envy 13-AB002nv"
                                },
                                {
                                    "0": "4",
                                    "1": "NO OS",
                                    "2": "510",
                                    "3": "Legion Y520-15IKBN"
                                },
                                {
                                    "0": "1",
                                    "1": "WINDOWS",
                                    "2": "511",
                                    "3": "XPS 13"
                                },
                                {
                                    "0": "1",
                                    "1": "WINDOWS",
                                    "2": "512",
                                    "3": "Aspire A515-51G"
                                },
                                {
                                    "0": "1",
                                    "1": "WINDOWS",
                                    "2": "513",
                                    "3": "Vostro 5568"
                                },
                                {
                                    "0": "1",
                                    "1": "WINDOWS",
                                    "2": "514",
                                    "3": "Inspiron 5570"
                                },
                                {
                                    "0": "4",
                                    "1": "NO OS",
                                    "2": "515",
                                    "3": "Mi Notebook"
                                },
                                {
                                    "0": "1",
                                    "1": "WINDOWS",
                                    "2": "516",
                                    "3": "VivoBook E12"
                                },
                                {
                                    "0": "1",
                                    "1": "WINDOWS",
                                    "2": "517",
                                    "3": "15-bs190od (i5-8250U/4GB/1TB/W10)"
                                },
                                {
                                    "0": "1",
                                    "1": "WINDOWS",
                                    "2": "518",
                                    "3": "ROG Zephyrus"
                                },
                                {
                                    "0": "1",
                                    "1": "WINDOWS",
                                    "2": "519",
                                    "3": "Probook 450"
                                },
                                {
                                    "0": "1",
                                    "1": "WINDOWS",
                                    "2": "520",
                                    "3": "FX753VE-GC155T (i7-7700HQ/16GB/1TB"
                                },
                                {
                                    "0": "1",
                                    "1": "WINDOWS",
                                    "2": "521",
                                    "3": "Legion Y720-15IKB"
                                },
                                {
                                    "0": "1",
                                    "1": "WINDOWS",
                                    "2": "522",
                                    "3": "Spectre X360"
                                },
                                {
                                    "0": "1",
                                    "1": "WINDOWS",
                                    "2": "523",
                                    "3": "Latitude 5480"
                                },
                                {
                                    "0": "1",
                                    "1": "WINDOWS",
                                    "2": "524",
                                    "3": "ProBook 440"
                                },
                                {
                                    "0": "2",
                                    "1": "LINUX",
                                    "2": "525",
                                    "3": "Inspiron 5770"
                                },
                                {
                                    "0": "4",
                                    "1": "NO OS",
                                    "2": "526",
                                    "3": "ThinkPad L470"
                                },
                                {
                                    "0": "1",
                                    "1": "WINDOWS",
                                    "2": "527",
                                    "3": "IdeaPad 320-15IKB"
                                },
                                {
                                    "0": "4",
                                    "1": "NO OS",
                                    "2": "528",
                                    "3": "IdeaPad 320-15ISK"
                                },
                                {
                                    "0": "1",
                                    "1": "WINDOWS",
                                    "2": "529",
                                    "3": "Inspiron 3567"
                                },
                                {
                                    "0": "1",
                                    "1": "WINDOWS",
                                    "2": "530",
                                    "3": "Latitude 5580"
                                },
                                {
                                    "0": "1",
                                    "1": "WINDOWS",
                                    "2": "531",
                                    "3": "Alienware 17"
                                },
                                {
                                    "0": "1",
                                    "1": "WINDOWS",
                                    "2": "532",
                                    "3": "Satellite Pro"
                                },
                                {
                                    "0": "1",
                                    "1": "WINDOWS",
                                    "2": "533",
                                    "3": "Zenbook UX510UW-FI095T"
                                },
                                {
                                    "0": "1",
                                    "1": "WINDOWS",
                                    "2": "534",
                                    "3": "SmartBook Edge"
                                },
                                {
                                    "0": "1",
                                    "1": "WINDOWS",
                                    "2": "535",
                                    "3": "ROG Strix"
                                },
                                {
                                    "0": "1",
                                    "1": "WINDOWS",
                                    "2": "536",
                                    "3": "Latitude 5580"
                                },
                                {
                                    "0": "1",
                                    "1": "WINDOWS",
                                    "2": "537",
                                    "3": "Inspiron 5570"
                                },
                                {
                                    "0": "1",
                                    "1": "WINDOWS",
                                    "2": "538",
                                    "3": "250 G6"
                                },
                                {
                                    "0": "1",
                                    "1": "WINDOWS",
                                    "2": "539",
                                    "3": "Omen 15-ce006nv"
                                },
                                {
                                    "0": "1",
                                    "1": "WINDOWS",
                                    "2": "540",
                                    "3": "Thinkpad E470"
                                },
                                {
                                    "0": "1",
                                    "1": "WINDOWS",
                                    "2": "541",
                                    "3": "XPS 13"
                                },
                                {
                                    "0": "1",
                                    "1": "WINDOWS",
                                    "2": "542",
                                    "3": "Vostro 5468"
                                },
                                {
                                    "0": "1",
                                    "1": "WINDOWS",
                                    "2": "543",
                                    "3": "Envy 13-AB020nr"
                                },
                                {
                                    "0": "2",
                                    "1": "LINUX",
                                    "2": "544",
                                    "3": "Aspire 7"
                                },
                                {
                                    "0": "1",
                                    "1": "WINDOWS",
                                    "2": "545",
                                    "3": "VivoBook X540YA-XX519T"
                                },
                                {
                                    "0": "1",
                                    "1": "WINDOWS",
                                    "2": "546",
                                    "3": "ProBook 450"
                                },
                                {
                                    "0": "1",
                                    "1": "WINDOWS",
                                    "2": "547",
                                    "3": "ThinkPad E470"
                                },
                                {
                                    "0": "4",
                                    "1": "NO OS",
                                    "2": "548",
                                    "3": "V310-15ISK (i5-6200U/4GB/1TB/FHD/No"
                                },
                                {
                                    "0": "1",
                                    "1": "WINDOWS",
                                    "2": "549",
                                    "3": "250 G6"
                                },
                                {
                                    "0": "1",
                                    "1": "WINDOWS",
                                    "2": "550",
                                    "3": "ThinkPad T570"
                                },
                                {
                                    "0": "1",
                                    "1": "WINDOWS",
                                    "2": "551",
                                    "3": "IdeaPad 320-15ISK"
                                },
                                {
                                    "0": "1",
                                    "1": "WINDOWS",
                                    "2": "552",
                                    "3": "Latitude 5580"
                                },
                                {
                                    "0": "1",
                                    "1": "WINDOWS",
                                    "2": "553",
                                    "3": "Alienware 17"
                                },
                                {
                                    "0": "1",
                                    "1": "WINDOWS",
                                    "2": "554",
                                    "3": "17-X047na (i3-6006U/8GB/1TB/W10)"
                                },
                                {
                                    "0": "1",
                                    "1": "WINDOWS",
                                    "2": "555",
                                    "3": "ProBook 470"
                                },
                                {
                                    "0": "2",
                                    "1": "LINUX",
                                    "2": "556",
                                    "3": "A541NA-GO342 (N3350/4GB/500GB/Linux)"
                                },
                                {
                                    "0": "1",
                                    "1": "WINDOWS",
                                    "2": "557",
                                    "3": "SmartBook 130"
                                },
                                {
                                    "0": "1",
                                    "1": "WINDOWS",
                                    "2": "558",
                                    "3": "IdeaPad 320-17IKB"
                                },
                                {
                                    "0": "1",
                                    "1": "WINDOWS",
                                    "2": "559",
                                    "3": "15-bw007nv (A10-9620P/6GB/128GB/Radeon"
                                },
                                {
                                    "0": "1",
                                    "1": "WINDOWS",
                                    "2": "560",
                                    "3": "Vostro 3568"
                                },
                                {
                                    "0": "1",
                                    "1": "WINDOWS",
                                    "2": "561",
                                    "3": "Spin SP111-31"
                                },
                                {
                                    "0": "1",
                                    "1": "WINDOWS",
                                    "2": "562",
                                    "3": "V330-15IKB (i3-7130U/4GB/128GB/FHD/W10)"
                                },
                                {
                                    "0": "1",
                                    "1": "WINDOWS",
                                    "2": "563",
                                    "3": "EliteBook 1030"
                                },
                                {
                                    "0": "1",
                                    "1": "WINDOWS",
                                    "2": "564",
                                    "3": "Thinkpad P71"
                                },
                                {
                                    "0": "1",
                                    "1": "WINDOWS",
                                    "2": "565",
                                    "3": "FX553VD-DM627T (i5-7300HQ/8GB/1TB"
                                },
                                {
                                    "0": "1",
                                    "1": "WINDOWS",
                                    "2": "566",
                                    "3": "XPS 13"
                                },
                                {
                                    "0": "1",
                                    "1": "WINDOWS",
                                    "2": "567",
                                    "3": "Latitude 5580"
                                },
                                {
                                    "0": "1",
                                    "1": "WINDOWS",
                                    "2": "568",
                                    "3": "Lifebook A557"
                                },
                                {
                                    "0": "1",
                                    "1": "WINDOWS",
                                    "2": "569",
                                    "3": "IdeaPad 320-15IAP"
                                },
                                {
                                    "0": "1",
                                    "1": "WINDOWS",
                                    "2": "570",
                                    "3": "ThinkPad L470"
                                },
                                {
                                    "0": "1",
                                    "1": "WINDOWS",
                                    "2": "571",
                                    "3": "ZBook 17"
                                },
                                {
                                    "0": "1",
                                    "1": "WINDOWS",
                                    "2": "572",
                                    "3": "14-am079na (N3710/8GB/2TB/W10)"
                                },
                                {
                                    "0": "1",
                                    "1": "WINDOWS",
                                    "2": "573",
                                    "3": "15-cd005nv (A9-9420/6GB/256GB/Radeon"
                                },
                                {
                                    "0": "1",
                                    "1": "WINDOWS",
                                    "2": "574",
                                    "3": "Thinkpad E570"
                                },
                                {
                                    "0": "1",
                                    "1": "WINDOWS",
                                    "2": "575",
                                    "3": "V330-15IKB (i5-8250U/4GB/500GB/FHD/W10)"
                                },
                                {
                                    "0": "1",
                                    "1": "WINDOWS",
                                    "2": "576",
                                    "3": "SmartBook 141"
                                },
                                {
                                    "0": "1",
                                    "1": "WINDOWS",
                                    "2": "577",
                                    "3": "Tecra X40-D-10H"
                                },
                                {
                                    "0": "1",
                                    "1": "WINDOWS",
                                    "2": "578",
                                    "3": "IdeaPad Y910-17ISK"
                                },
                                {
                                    "0": "1",
                                    "1": "WINDOWS",
                                    "2": "579",
                                    "3": "GT73VR Titan"
                                },
                                {
                                    "0": "2",
                                    "1": "LINUX",
                                    "2": "580",
                                    "3": "Inspiron 3567"
                                },
                                {
                                    "0": "1",
                                    "1": "WINDOWS",
                                    "2": "581",
                                    "3": "SmartBook Edge"
                                },
                                {
                                    "0": "1",
                                    "1": "WINDOWS",
                                    "2": "582",
                                    "3": "Latitude 5580"
                                },
                                {
                                    "0": "1",
                                    "1": "WINDOWS",
                                    "2": "583",
                                    "3": "ProBook 430"
                                },
                                {
                                    "0": "1",
                                    "1": "WINDOWS",
                                    "2": "584",
                                    "3": "Latitude 5580"
                                },
                                {
                                    "0": "4",
                                    "1": "NO OS",
                                    "2": "585",
                                    "3": "Chromebook 11"
                                },
                                {
                                    "0": "1",
                                    "1": "WINDOWS",
                                    "2": "586",
                                    "3": "GT80S 6QE"
                                },
                                {
                                    "0": "1",
                                    "1": "WINDOWS",
                                    "2": "587",
                                    "3": "Omen 17-AN010nv"
                                },
                                {
                                    "0": "1",
                                    "1": "WINDOWS",
                                    "2": "588",
                                    "3": "Thinkpad T460s"
                                },
                                {
                                    "0": "1",
                                    "1": "WINDOWS",
                                    "2": "589",
                                    "3": "Ideapad 320-15IKBR"
                                },
                                {
                                    "0": "1",
                                    "1": "WINDOWS",
                                    "2": "590",
                                    "3": "ROG Strix"
                                },
                                {
                                    "0": "1",
                                    "1": "WINDOWS",
                                    "2": "591",
                                    "3": "TP501UA-CJ131T (i5-7200U/8GB/1TB/W10)"
                                },
                                {
                                    "0": "1",
                                    "1": "WINDOWS",
                                    "2": "592",
                                    "3": "IdeaPad 320-15ABR"
                                },
                                {
                                    "0": "1",
                                    "1": "WINDOWS",
                                    "2": "593",
                                    "3": "Inspiron 3179"
                                },
                                {
                                    "0": "1",
                                    "1": "WINDOWS",
                                    "2": "594",
                                    "3": "Notebook Odyssey"
                                },
                                {
                                    "0": "4",
                                    "1": "NO OS",
                                    "2": "595",
                                    "3": "V320-17ISK (i3-6006U/4GB/500GB/FHD/No"
                                },
                                {
                                    "0": "1",
                                    "1": "WINDOWS",
                                    "2": "596",
                                    "3": "IdeaPad 110-15ISK"
                                },
                                {
                                    "0": "1",
                                    "1": "WINDOWS",
                                    "2": "597",
                                    "3": "ThinkPad Yoga"
                                },
                                {
                                    "0": "1",
                                    "1": "WINDOWS",
                                    "2": "598",
                                    "3": "Thinkpad T470p"
                                },
                                {
                                    "0": "1",
                                    "1": "WINDOWS",
                                    "2": "599",
                                    "3": "Latitude 5289"
                                },
                                {
                                    "0": "1",
                                    "1": "WINDOWS",
                                    "2": "600",
                                    "3": "Precision 3520"
                                },
                                {
                                    "0": "1",
                                    "1": "WINDOWS",
                                    "2": "601",
                                    "3": "EliteBook 850"
                                },
                                {
                                    "0": "1",
                                    "1": "WINDOWS",
                                    "2": "602",
                                    "3": "ProBook 450"
                                },
                                {
                                    "0": "1",
                                    "1": "WINDOWS",
                                    "2": "603",
                                    "3": "Aspire 1"
                                },
                                {
                                    "0": "1",
                                    "1": "WINDOWS",
                                    "2": "604",
                                    "3": "Laptop MSI"
                                },
                                {
                                    "0": "2",
                                    "1": "LINUX",
                                    "2": "605",
                                    "3": "Vostro 3568"
                                },
                                {
                                    "0": "1",
                                    "1": "WINDOWS",
                                    "2": "606",
                                    "3": "GS63VR 7RF"
                                },
                                {
                                    "0": "1",
                                    "1": "WINDOWS",
                                    "2": "607",
                                    "3": "Tecra Z50-C-144"
                                },
                                {
                                    "0": "1",
                                    "1": "WINDOWS",
                                    "2": "608",
                                    "3": "IdeaPad 310-15IKB"
                                },
                                {
                                    "0": "1",
                                    "1": "WINDOWS",
                                    "2": "609",
                                    "3": "Yoga 720-15IKB"
                                },
                                {
                                    "0": "1",
                                    "1": "WINDOWS",
                                    "2": "610",
                                    "3": "Swift SF114-31-P5HY"
                                },
                                {
                                    "0": "1",
                                    "1": "WINDOWS",
                                    "2": "611",
                                    "3": "Thinkpad P51"
                                },
                                {
                                    "0": "1",
                                    "1": "WINDOWS",
                                    "2": "612",
                                    "3": "Inspiron 7559"
                                },
                                {
                                    "0": "2",
                                    "1": "LINUX",
                                    "2": "613",
                                    "3": "Vostro 3568"
                                },
                                {
                                    "0": "2",
                                    "1": "LINUX",
                                    "2": "614",
                                    "3": "Inspiron 3567"
                                },
                                {
                                    "0": "2",
                                    "1": "LINUX",
                                    "2": "615",
                                    "3": "Latitude 5580"
                                },
                                {
                                    "0": "1",
                                    "1": "WINDOWS",
                                    "2": "616",
                                    "3": "FX753VD-GC007T (i7-7700HQ/8GB/1TB"
                                },
                                {
                                    "0": "2",
                                    "1": "LINUX",
                                    "2": "617",
                                    "3": "Vostro 3568"
                                },
                                {
                                    "0": "1",
                                    "1": "WINDOWS",
                                    "2": "618",
                                    "3": "EliteBook 850"
                                },
                                {
                                    "0": "1",
                                    "1": "WINDOWS",
                                    "2": "619",
                                    "3": "GT62VR 7RE"
                                },
                                {
                                    "0": "4",
                                    "1": "NO OS",
                                    "2": "620",
                                    "3": "CB5-132T-C9KK (N3160/4GB/32GB/Chrome"
                                },
                                {
                                    "0": "1",
                                    "1": "WINDOWS",
                                    "2": "621",
                                    "3": "ProBook 650"
                                },
                                {
                                    "0": "4",
                                    "1": "NO OS",
                                    "2": "622",
                                    "3": "ThinkPad T470"
                                },
                                {
                                    "0": "1",
                                    "1": "WINDOWS",
                                    "2": "623",
                                    "3": "Inspiron 5570"
                                },
                                {
                                    "0": "1",
                                    "1": "WINDOWS",
                                    "2": "624",
                                    "3": "LifeBook A557"
                                },
                                {
                                    "0": "4",
                                    "1": "NO OS",
                                    "2": "625",
                                    "3": "EliteBook 850"
                                },
                                {
                                    "0": "1",
                                    "1": "WINDOWS",
                                    "2": "626",
                                    "3": "IdeaPad 320-15IKB"
                                },
                                {
                                    "0": "1",
                                    "1": "WINDOWS",
                                    "2": "627",
                                    "3": "SmartBook 140"
                                },
                                {
                                    "0": "4",
                                    "1": "NO OS",
                                    "2": "628",
                                    "3": "IdeaPad 320-15IKBN"
                                },
                                {
                                    "0": "1",
                                    "1": "WINDOWS",
                                    "2": "629",
                                    "3": "Q304UA-BHI5T11 (i5-7200U/6GB/1TB/FHD/W10)"
                                },
                                {
                                    "0": "1",
                                    "1": "WINDOWS",
                                    "2": "630",
                                    "3": "XPS 15"
                                },
                                {
                                    "0": "1",
                                    "1": "WINDOWS",
                                    "2": "631",
                                    "3": "ZenBook 3"
                                },
                                {
                                    "0": "1",
                                    "1": "WINDOWS",
                                    "2": "632",
                                    "3": "Inspiron 7567"
                                },
                                {
                                    "0": "1",
                                    "1": "WINDOWS",
                                    "2": "633",
                                    "3": "V330-15IKB (i5-8250U/4GB/256GB/FHD/W10)"
                                },
                                {
                                    "0": "1",
                                    "1": "WINDOWS",
                                    "2": "634",
                                    "3": "Ideapad 320-15ISK"
                                },
                                {
                                    "0": "1",
                                    "1": "WINDOWS",
                                    "2": "635",
                                    "3": "X541NA-GO414T (N3350/8GB/1TB/W10)"
                                },
                                {
                                    "0": "1",
                                    "1": "WINDOWS",
                                    "2": "636",
                                    "3": "VivoBook Pro"
                                },
                                {
                                    "0": "1",
                                    "1": "WINDOWS",
                                    "2": "637",
                                    "3": "XPS 13"
                                },
                                {
                                    "0": "1",
                                    "1": "WINDOWS",
                                    "2": "638",
                                    "3": "IdeaPad 100S-14IBR"
                                },
                                {
                                    "0": "1",
                                    "1": "WINDOWS",
                                    "2": "639",
                                    "3": "Thinkpad Yoga"
                                },
                                {
                                    "0": "1",
                                    "1": "WINDOWS",
                                    "2": "640",
                                    "3": "XPS 15"
                                },
                                {
                                    "0": "1",
                                    "1": "WINDOWS",
                                    "2": "641",
                                    "3": "Legion Y520-15IKBN"
                                },
                                {
                                    "0": "1",
                                    "1": "WINDOWS",
                                    "2": "642",
                                    "3": "17-AK091ND (A9-9420/8GB/1TB/W10)"
                                },
                                {
                                    "0": "1",
                                    "1": "WINDOWS",
                                    "2": "643",
                                    "3": "ThinkPad X1"
                                },
                                {
                                    "0": "4",
                                    "1": "NO OS",
                                    "2": "644",
                                    "3": "ROG GL553VE-FY022"
                                },
                                {
                                    "0": "1",
                                    "1": "WINDOWS",
                                    "2": "645",
                                    "3": "Extensa EX2540"
                                },
                                {
                                    "0": "1",
                                    "1": "WINDOWS",
                                    "2": "646",
                                    "3": "IdeaPad 100S-14IBR"
                                },
                                {
                                    "0": "1",
                                    "1": "WINDOWS",
                                    "2": "647",
                                    "3": "Swift 3"
                                },
                                {
                                    "0": "1",
                                    "1": "WINDOWS",
                                    "2": "648",
                                    "3": "Blade Pro"
                                },
                                {
                                    "0": "1",
                                    "1": "WINDOWS",
                                    "2": "649",
                                    "3": "Portege Z30-C-16J"
                                },
                                {
                                    "0": "1",
                                    "1": "WINDOWS",
                                    "2": "650",
                                    "3": "Thinkpad X270"
                                },
                                {
                                    "0": "1",
                                    "1": "WINDOWS",
                                    "2": "651",
                                    "3": "ROG G701VI"
                                },
                                {
                                    "0": "2",
                                    "1": "LINUX",
                                    "2": "652",
                                    "3": "A715-71G-59DH (i5-7300HQ/8GB/1TB/GeForce"
                                },
                                {
                                    "0": "1",
                                    "1": "WINDOWS",
                                    "2": "653",
                                    "3": "XPS 13"
                                },
                                {
                                    "0": "1",
                                    "1": "WINDOWS",
                                    "2": "654",
                                    "3": "GL62M 7REX"
                                },
                                {
                                    "0": "4",
                                    "1": "NO OS",
                                    "2": "655",
                                    "3": "250 G6"
                                },
                                {
                                    "0": "1",
                                    "1": "WINDOWS",
                                    "2": "656",
                                    "3": "Tecra A50-D-11M"
                                },
                                {
                                    "0": "1",
                                    "1": "WINDOWS",
                                    "2": "657",
                                    "3": "Inspiron 5570"
                                },
                                {
                                    "0": "1",
                                    "1": "WINDOWS",
                                    "2": "658",
                                    "3": "Inspiron 5570"
                                },
                                {
                                    "0": "1",
                                    "1": "WINDOWS",
                                    "2": "659",
                                    "3": "IdeaPad Y700-15ISK"
                                },
                                {
                                    "0": "1",
                                    "1": "WINDOWS",
                                    "2": "660",
                                    "3": "Alienware 17"
                                },
                                {
                                    "0": "1",
                                    "1": "WINDOWS",
                                    "2": "661",
                                    "3": "Latitude E7470"
                                },
                                {
                                    "0": "1",
                                    "1": "WINDOWS",
                                    "2": "662",
                                    "3": "Ideapad 320-15IAP"
                                },
                                {
                                    "0": "1",
                                    "1": "WINDOWS",
                                    "2": "663",
                                    "3": "IdeaPad 320-15ISK"
                                },
                                {
                                    "0": "1",
                                    "1": "WINDOWS",
                                    "2": "664",
                                    "3": "15-ay047nv (i3-6006U/6GB/1TB/Radeon"
                                },
                                {
                                    "0": "1",
                                    "1": "WINDOWS",
                                    "2": "665",
                                    "3": "GP72VR Leopard"
                                },
                                {
                                    "0": "1",
                                    "1": "WINDOWS",
                                    "2": "666",
                                    "3": "Satellite Pro"
                                },
                                {
                                    "0": "1",
                                    "1": "WINDOWS",
                                    "2": "667",
                                    "3": "Latitude 3580"
                                },
                                {
                                    "0": "1",
                                    "1": "WINDOWS",
                                    "2": "668",
                                    "3": "15-bs012nv (i7-7500U/8GB/1TB/Radeon"
                                },
                                {
                                    "0": "1",
                                    "1": "WINDOWS",
                                    "2": "669",
                                    "3": "Tecra Z50-D-10E"
                                },
                                {
                                    "0": "2",
                                    "1": "LINUX",
                                    "2": "670",
                                    "3": "Aspire 3"
                                },
                                {
                                    "0": "4",
                                    "1": "NO OS",
                                    "2": "671",
                                    "3": "Surface Laptop"
                                },
                                {
                                    "0": "1",
                                    "1": "WINDOWS",
                                    "2": "672",
                                    "3": "V310-15ISK (i5-7200U/8GB/1TB"
                                },
                                {
                                    "0": "1",
                                    "1": "WINDOWS",
                                    "2": "673",
                                    "3": "Yoga 720-13IKB"
                                },
                                {
                                    "0": "1",
                                    "1": "WINDOWS",
                                    "2": "674",
                                    "3": "IdeaPad 320-15AST"
                                },
                                {
                                    "0": "1",
                                    "1": "WINDOWS",
                                    "2": "675",
                                    "3": "Pavilion X360"
                                },
                                {
                                    "0": "1",
                                    "1": "WINDOWS",
                                    "2": "676",
                                    "3": "GP62 7RDX"
                                },
                                {
                                    "0": "1",
                                    "1": "WINDOWS",
                                    "2": "677",
                                    "3": "Zenbook 3"
                                },
                                {
                                    "0": "4",
                                    "1": "NO OS",
                                    "2": "678",
                                    "3": "Chromebook X360"
                                },
                                {
                                    "0": "1",
                                    "1": "WINDOWS",
                                    "2": "679",
                                    "3": "Gram 15Z975"
                                },
                                {
                                    "0": "1",
                                    "1": "WINDOWS",
                                    "2": "680",
                                    "3": "Aspire VX5-591G"
                                },
                                {
                                    "0": "1",
                                    "1": "WINDOWS",
                                    "2": "681",
                                    "3": "GV62M 7RD"
                                },
                                {
                                    "0": "1",
                                    "1": "WINDOWS",
                                    "2": "682",
                                    "3": "L502NA-GO052T (N3350/4GB/128GB/W10)"
                                },
                                {
                                    "0": "1",
                                    "1": "WINDOWS",
                                    "2": "683",
                                    "3": "Alienware 15"
                                },
                                {
                                    "0": "1",
                                    "1": "WINDOWS",
                                    "2": "684",
                                    "3": "17-bs000nv I3"
                                },
                                {
                                    "0": "1",
                                    "1": "WINDOWS",
                                    "2": "685",
                                    "3": "Yoga 730"
                                },
                                {
                                    "0": "1",
                                    "1": "WINDOWS",
                                    "2": "686",
                                    "3": "Alienware 15"
                                },
                                {
                                    "0": "1",
                                    "1": "WINDOWS",
                                    "2": "687",
                                    "3": "250 G6"
                                },
                                {
                                    "0": "1",
                                    "1": "WINDOWS",
                                    "2": "688",
                                    "3": "Inspiron 3567"
                                },
                                {
                                    "0": "1",
                                    "1": "WINDOWS",
                                    "2": "689",
                                    "3": "17-Y002nv (A10-9600P/6GB/2TB/Radeon"
                                },
                                {
                                    "0": "1",
                                    "1": "WINDOWS",
                                    "2": "690",
                                    "3": "V110-15ISK (3855U/4GB/500GB/W10)"
                                },
                                {
                                    "0": "4",
                                    "1": "NO OS",
                                    "2": "691",
                                    "3": "Chromebook 14"
                                },
                                {
                                    "0": "1",
                                    "1": "WINDOWS",
                                    "2": "692",
                                    "3": "IdeaPad 520s-14IKB"
                                },
                                {
                                    "0": "1",
                                    "1": "WINDOWS",
                                    "2": "693",
                                    "3": "ZBook 17"
                                },
                                {
                                    "0": "1",
                                    "1": "WINDOWS",
                                    "2": "694",
                                    "3": "ThinkPad X1"
                                },
                                {
                                    "0": "1",
                                    "1": "WINDOWS",
                                    "2": "695",
                                    "3": "Satellite Pro"
                                },
                                {
                                    "0": "1",
                                    "1": "WINDOWS",
                                    "2": "696",
                                    "3": "TravelMate B117-M"
                                },
                                {
                                    "0": "1",
                                    "1": "WINDOWS",
                                    "2": "697",
                                    "3": "Yoga 910-13IKB"
                                },
                                {
                                    "0": "4",
                                    "1": "NO OS",
                                    "2": "698",
                                    "3": "Chromebook Flip"
                                },
                                {
                                    "0": "1",
                                    "1": "WINDOWS",
                                    "2": "699",
                                    "3": "Portege Z30T-C-133"
                                },
                                {
                                    "0": "1",
                                    "1": "WINDOWS",
                                    "2": "700",
                                    "3": "15-bs011nv (i7-7500U/4GB/500GB/Radeon"
                                },
                                {
                                    "0": "1",
                                    "1": "WINDOWS",
                                    "2": "701",
                                    "3": "Inspiron 5577"
                                },
                                {
                                    "0": "1",
                                    "1": "WINDOWS",
                                    "2": "702",
                                    "3": "IdeaPad 320-15AST"
                                },
                                {
                                    "0": "1",
                                    "1": "WINDOWS",
                                    "2": "703",
                                    "3": "IdeaPad 320-15ABR"
                                },
                                {
                                    "0": "1",
                                    "1": "WINDOWS",
                                    "2": "704",
                                    "3": "V310-15IKB (i5-7200U/4GB/1TB/FHD/W10)"
                                },
                                {
                                    "0": "4",
                                    "1": "NO OS",
                                    "2": "705",
                                    "3": "V310-15ISK (i3-6006U/4GB/500GB/No"
                                },
                                {
                                    "0": "1",
                                    "1": "WINDOWS",
                                    "2": "706",
                                    "3": "Vostro 5568"
                                },
                                {
                                    "0": "1",
                                    "1": "WINDOWS",
                                    "2": "707",
                                    "3": "Spin 5"
                                },
                                {
                                    "0": "4",
                                    "1": "NO OS",
                                    "2": "708",
                                    "3": "ThinkPad P51s"
                                },
                                {
                                    "0": "1",
                                    "1": "WINDOWS",
                                    "2": "709",
                                    "3": "Thinkpad T460p"
                                },
                                {
                                    "0": "1",
                                    "1": "WINDOWS",
                                    "2": "710",
                                    "3": "17-ak002nv (A10-9620P/6GB/2TB/Radeon"
                                },
                                {
                                    "0": "1",
                                    "1": "WINDOWS",
                                    "2": "711",
                                    "3": "Legion Y520-15IKBN"
                                },
                                {
                                    "0": "2",
                                    "1": "LINUX",
                                    "2": "712",
                                    "3": "Latitude 5480"
                                },
                                {
                                    "0": "2",
                                    "1": "LINUX",
                                    "2": "713",
                                    "3": "Vostro 5568"
                                },
                                {
                                    "0": "1",
                                    "1": "WINDOWS",
                                    "2": "714",
                                    "3": "VivoBook E403NA"
                                },
                                {
                                    "0": "1",
                                    "1": "WINDOWS",
                                    "2": "715",
                                    "3": "Latitude 5580"
                                },
                                {
                                    "0": "1",
                                    "1": "WINDOWS",
                                    "2": "716",
                                    "3": "Thinkpad E470"
                                },
                                {
                                    "0": "1",
                                    "1": "WINDOWS",
                                    "2": "717",
                                    "3": "Latitude 5580"
                                },
                                {
                                    "0": "1",
                                    "1": "WINDOWS",
                                    "2": "718",
                                    "3": "110-15ACL (A6-7310/4GB/500GB/W10)"
                                },
                                {
                                    "0": "1",
                                    "1": "WINDOWS",
                                    "2": "719",
                                    "3": "Smartbook 142"
                                },
                                {
                                    "0": "1",
                                    "1": "WINDOWS",
                                    "2": "720",
                                    "3": "ProBook 470"
                                },
                                {
                                    "0": "1",
                                    "1": "WINDOWS",
                                    "2": "721",
                                    "3": "ThinkPad X1"
                                },
                                {
                                    "0": "1",
                                    "1": "WINDOWS",
                                    "2": "722",
                                    "3": "Pavilion X360"
                                },
                                {
                                    "0": "1",
                                    "1": "WINDOWS",
                                    "2": "723",
                                    "3": "ThinkPad T470s"
                                },
                                {
                                    "0": "1",
                                    "1": "WINDOWS",
                                    "2": "724",
                                    "3": "Alienware 17"
                                },
                                {
                                    "0": "1",
                                    "1": "WINDOWS",
                                    "2": "725",
                                    "3": "GL72M 7REX"
                                },
                                {
                                    "0": "4",
                                    "1": "NO OS",
                                    "2": "726",
                                    "3": "V310-15IKB (i5-7200U/4GB/1TB/No"
                                },
                                {
                                    "0": "1",
                                    "1": "WINDOWS",
                                    "2": "727",
                                    "3": "Inspiron 5570"
                                },
                                {
                                    "0": "1",
                                    "1": "WINDOWS",
                                    "2": "728",
                                    "3": "Inspiron 5378"
                                },
                                {
                                    "0": "2",
                                    "1": "LINUX",
                                    "2": "729",
                                    "3": "Inspiron 5567"
                                },
                                {
                                    "0": "1",
                                    "1": "WINDOWS",
                                    "2": "730",
                                    "3": "15-BW037na (A9-9420/4GB/1TB/Radeon"
                                },
                                {
                                    "0": "1",
                                    "1": "WINDOWS",
                                    "2": "731",
                                    "3": "Predator 17"
                                },
                                {
                                    "0": "1",
                                    "1": "WINDOWS",
                                    "2": "732",
                                    "3": "Inspiron 3567"
                                },
                                {
                                    "0": "1",
                                    "1": "WINDOWS",
                                    "2": "733",
                                    "3": "15-BW091ND (A9-9420/6GB/1TB"
                                },
                                {
                                    "0": "1",
                                    "1": "WINDOWS",
                                    "2": "734",
                                    "3": "Extensa EX2540-58KR"
                                },
                                {
                                    "0": "1",
                                    "1": "WINDOWS",
                                    "2": "735",
                                    "3": "ThinkPad 13"
                                },
                                {
                                    "0": "1",
                                    "1": "WINDOWS",
                                    "2": "736",
                                    "3": "V310-15IKB (i7-7500U/4GB/1TB/FHD/W10)"
                                },
                                {
                                    "0": "1",
                                    "1": "WINDOWS",
                                    "2": "737",
                                    "3": "ZBook 15"
                                },
                                {
                                    "0": "1",
                                    "1": "WINDOWS",
                                    "2": "738",
                                    "3": "Inspiron 5379"
                                },
                                {
                                    "0": "1",
                                    "1": "WINDOWS",
                                    "2": "739",
                                    "3": "GS63VR 7RF"
                                },
                                {
                                    "0": "1",
                                    "1": "WINDOWS",
                                    "2": "740",
                                    "3": "Aspire ES1-572"
                                },
                                {
                                    "0": "1",
                                    "1": "WINDOWS",
                                    "2": "741",
                                    "3": "Inspiron 7560"
                                },
                                {
                                    "0": "1",
                                    "1": "WINDOWS",
                                    "2": "742",
                                    "3": "Vostro 3568"
                                },
                                {
                                    "0": "1",
                                    "1": "WINDOWS",
                                    "2": "743",
                                    "3": "Tecra X40-D-10G"
                                },
                                {
                                    "0": "1",
                                    "1": "WINDOWS",
                                    "2": "744",
                                    "3": "Flex 5"
                                },
                                {
                                    "0": "1",
                                    "1": "WINDOWS",
                                    "2": "745",
                                    "3": "Thinkpad P51s"
                                },
                                {
                                    "0": "4",
                                    "1": "NO OS",
                                    "2": "746",
                                    "3": "Chromebook 14"
                                },
                                {
                                    "0": "1",
                                    "1": "WINDOWS",
                                    "2": "747",
                                    "3": "Notebook 9"
                                },
                                {
                                    "0": "1",
                                    "1": "WINDOWS",
                                    "2": "748",
                                    "3": "250 G6"
                                },
                                {
                                    "0": "1",
                                    "1": "WINDOWS",
                                    "2": "749",
                                    "3": "Latitude 5480"
                                },
                                {
                                    "0": "4",
                                    "1": "NO OS",
                                    "2": "750",
                                    "3": "Zbook 17"
                                },
                                {
                                    "0": "1",
                                    "1": "WINDOWS",
                                    "2": "751",
                                    "3": "N23 (N3060/4GB/128GB/W10)"
                                },
                                {
                                    "0": "1",
                                    "1": "WINDOWS",
                                    "2": "752",
                                    "3": "EliteBook 850"
                                },
                                {
                                    "0": "4",
                                    "1": "NO OS",
                                    "2": "753",
                                    "3": "X550VX-XX015D (i5-6300HQ/4GB/1TB/GeForce"
                                },
                                {
                                    "0": "1",
                                    "1": "WINDOWS",
                                    "2": "754",
                                    "3": "Thinkpad T460"
                                },
                                {
                                    "0": "1",
                                    "1": "WINDOWS",
                                    "2": "755",
                                    "3": "Pro P2540UA-XO0192R"
                                },
                                {
                                    "0": "1",
                                    "1": "WINDOWS",
                                    "2": "756",
                                    "3": "Yoga 900-13ISK"
                                },
                                {
                                    "0": "1",
                                    "1": "WINDOWS",
                                    "2": "757",
                                    "3": "15-cb003na (i5-7300HQ/8GB/1TB"
                                },
                                {
                                    "0": "4",
                                    "1": "NO OS",
                                    "2": "758",
                                    "3": "ZBook 15"
                                },
                                {
                                    "0": "1",
                                    "1": "WINDOWS",
                                    "2": "759",
                                    "3": "Alienware 17"
                                },
                                {
                                    "0": "1",
                                    "1": "WINDOWS",
                                    "2": "760",
                                    "3": "Aspire 3"
                                },
                                {
                                    "0": "1",
                                    "1": "WINDOWS",
                                    "2": "761",
                                    "3": "Legion Y520-15IKBN"
                                },
                                {
                                    "0": "1",
                                    "1": "WINDOWS",
                                    "2": "762",
                                    "3": "Latitude 7280"
                                },
                                {
                                    "0": "4",
                                    "1": "NO OS",
                                    "2": "763",
                                    "3": "Pixelbook (Core"
                                },
                                {
                                    "0": "1",
                                    "1": "WINDOWS",
                                    "2": "764",
                                    "3": "Zenbook UX330UA-AH5Q"
                                },
                                {
                                    "0": "1",
                                    "1": "WINDOWS",
                                    "2": "765",
                                    "3": "Latitude 3380"
                                },
                                {
                                    "0": "1",
                                    "1": "WINDOWS",
                                    "2": "766",
                                    "3": "TravelMate P238-M"
                                },
                                {
                                    "0": "1",
                                    "1": "WINDOWS",
                                    "2": "767",
                                    "3": "X751NV-TY001 (N4200/4GB/1TB/GeForce"
                                },
                                {
                                    "0": "1",
                                    "1": "WINDOWS",
                                    "2": "768",
                                    "3": "Inspiron 7559"
                                },
                                {
                                    "0": "1",
                                    "1": "WINDOWS",
                                    "2": "769",
                                    "3": "Notebook 9"
                                },
                                {
                                    "0": "2",
                                    "1": "LINUX",
                                    "2": "770",
                                    "3": "Aspire A315-31"
                                },
                                {
                                    "0": "1",
                                    "1": "WINDOWS",
                                    "2": "771",
                                    "3": "Inspiron 5567"
                                },
                                {
                                    "0": "1",
                                    "1": "WINDOWS",
                                    "2": "772",
                                    "3": "Notebook 9"
                                },
                                {
                                    "0": "1",
                                    "1": "WINDOWS",
                                    "2": "773",
                                    "3": "Tecra A40-C-1E5"
                                },
                                {
                                    "0": "1",
                                    "1": "WINDOWS",
                                    "2": "774",
                                    "3": "Inspiron 7567"
                                },
                                {
                                    "0": "1",
                                    "1": "WINDOWS",
                                    "2": "775",
                                    "3": "EliteBook 820"
                                },
                                {
                                    "0": "1",
                                    "1": "WINDOWS",
                                    "2": "776",
                                    "3": "Q524UQ-BHI7T15 (i7-7500U/12GB/2TB/GeForce"
                                },
                                {
                                    "0": "4",
                                    "1": "NO OS",
                                    "2": "777",
                                    "3": "Thinkpad P50"
                                },
                                {
                                    "0": "1",
                                    "1": "WINDOWS",
                                    "2": "778",
                                    "3": "Swift 3"
                                },
                                {
                                    "0": "1",
                                    "1": "WINDOWS",
                                    "2": "779",
                                    "3": "Blade Pro"
                                },
                                {
                                    "0": "1",
                                    "1": "WINDOWS",
                                    "2": "780",
                                    "3": "Vivobook Max"
                                },
                                {
                                    "0": "1",
                                    "1": "WINDOWS",
                                    "2": "781",
                                    "3": "Alienware 17"
                                },
                                {
                                    "0": "1",
                                    "1": "WINDOWS",
                                    "2": "782",
                                    "3": "Rog G752VS-BA171T"
                                },
                                {
                                    "0": "1",
                                    "1": "WINDOWS",
                                    "2": "783",
                                    "3": "Tecra Z40-C-161"
                                },
                                {
                                    "0": "4",
                                    "1": "NO OS",
                                    "2": "784",
                                    "3": "IdeaPad 110-15IBR"
                                },
                                {
                                    "0": "1",
                                    "1": "WINDOWS",
                                    "2": "785",
                                    "3": "ThinkPad T470s"
                                },
                                {
                                    "0": "1",
                                    "1": "WINDOWS",
                                    "2": "786",
                                    "3": "GS43VR 7RE"
                                },
                                {
                                    "0": "1",
                                    "1": "WINDOWS",
                                    "2": "787",
                                    "3": "GL62M (i5-7300HQ/8GB/1TB"
                                },
                                {
                                    "0": "1",
                                    "1": "WINDOWS",
                                    "2": "788",
                                    "3": "Legion Y520-15IKBN"
                                },
                                {
                                    "0": "1",
                                    "1": "WINDOWS",
                                    "2": "789",
                                    "3": "Predator G9-793"
                                },
                                {
                                    "0": "1",
                                    "1": "WINDOWS",
                                    "2": "790",
                                    "3": "Inspiron 7567"
                                },
                                {
                                    "0": "1",
                                    "1": "WINDOWS",
                                    "2": "791",
                                    "3": "FX502VM-DM560T (i7-7700HQ/8GB/1TB"
                                },
                                {
                                    "0": "1",
                                    "1": "WINDOWS",
                                    "2": "792",
                                    "3": "K146 (N3350/4GB/32GB/W10)"
                                },
                                {
                                    "0": "1",
                                    "1": "WINDOWS",
                                    "2": "793",
                                    "3": "ThinkPad Yoga"
                                },
                                {
                                    "0": "1",
                                    "1": "WINDOWS",
                                    "2": "794",
                                    "3": "Yoga 510-15IKB"
                                },
                                {
                                    "0": "3",
                                    "1": "IOS",
                                    "2": "795",
                                    "3": "MacBook 12\""
                                },
                                {
                                    "0": "1",
                                    "1": "WINDOWS",
                                    "2": "796",
                                    "3": "ThinkPad X1"
                                },
                                {
                                    "0": "1",
                                    "1": "WINDOWS",
                                    "2": "797",
                                    "3": "R417NA-RS01 (N3350/4GB/32GB/W10)"
                                },
                                {
                                    "0": "1",
                                    "1": "WINDOWS",
                                    "2": "798",
                                    "3": "Latitude 3580"
                                },
                                {
                                    "0": "1",
                                    "1": "WINDOWS",
                                    "2": "799",
                                    "3": "Yoga 910-13IKB"
                                },
                                {
                                    "0": "1",
                                    "1": "WINDOWS",
                                    "2": "800",
                                    "3": "Vostro 5568"
                                },
                                {
                                    "0": "1",
                                    "1": "WINDOWS",
                                    "2": "801",
                                    "3": "ZBook 17"
                                },
                                {
                                    "0": "1",
                                    "1": "WINDOWS",
                                    "2": "802",
                                    "3": "Pro P2540UA-XS51"
                                },
                                {
                                    "0": "1",
                                    "1": "WINDOWS",
                                    "2": "803",
                                    "3": "XPS 13"
                                },
                                {
                                    "0": "1",
                                    "1": "WINDOWS",
                                    "2": "804",
                                    "3": "XPS 15"
                                },
                                {
                                    "0": "1",
                                    "1": "WINDOWS",
                                    "2": "805",
                                    "3": "Latitude 3180"
                                },
                                {
                                    "0": "1",
                                    "1": "WINDOWS",
                                    "2": "806",
                                    "3": "EliteBook 820"
                                },
                                {
                                    "0": "1",
                                    "1": "WINDOWS",
                                    "2": "807",
                                    "3": "Satellite Pro"
                                },
                                {
                                    "0": "1",
                                    "1": "WINDOWS",
                                    "2": "808",
                                    "3": "15-ba043na (A12-9700P/8GB/2TB/W10)"
                                },
                                {
                                    "0": "1",
                                    "1": "WINDOWS",
                                    "2": "809",
                                    "3": "Inspiron 7567"
                                },
                                {
                                    "0": "1",
                                    "1": "WINDOWS",
                                    "2": "810",
                                    "3": "IdeaPad 310-15IKB"
                                },
                                {
                                    "0": "1",
                                    "1": "WINDOWS",
                                    "2": "811",
                                    "3": "Omen 17-an012dx"
                                },
                                {
                                    "0": "1",
                                    "1": "WINDOWS",
                                    "2": "812",
                                    "3": "GE72MVR 7RG"
                                },
                                {
                                    "0": "1",
                                    "1": "WINDOWS",
                                    "2": "813",
                                    "3": "Notebook 9"
                                },
                                {
                                    "0": "1",
                                    "1": "WINDOWS",
                                    "2": "814",
                                    "3": "Vostro 5568"
                                },
                                {
                                    "0": "1",
                                    "1": "WINDOWS",
                                    "2": "815",
                                    "3": "Vostro 3568"
                                },
                                {
                                    "0": "1",
                                    "1": "WINDOWS",
                                    "2": "816",
                                    "3": "Thinkpad T470s"
                                },
                                {
                                    "0": "1",
                                    "1": "WINDOWS",
                                    "2": "817",
                                    "3": "Blade Stealth"
                                },
                                {
                                    "0": "4",
                                    "1": "NO OS",
                                    "2": "818",
                                    "3": "Chromebook 11"
                                },
                                {
                                    "0": "1",
                                    "1": "WINDOWS",
                                    "2": "819",
                                    "3": "Alienware 17"
                                },
                                {
                                    "0": "1",
                                    "1": "WINDOWS",
                                    "2": "820",
                                    "3": "Latitude 3480"
                                },
                                {
                                    "0": "1",
                                    "1": "WINDOWS",
                                    "2": "821",
                                    "3": "V110-15ISK (i3-6006U/4GB/500GB/W10)"
                                },
                                {
                                    "0": "1",
                                    "1": "WINDOWS",
                                    "2": "822",
                                    "3": "Tecra X40-D-10Z"
                                },
                                {
                                    "0": "1",
                                    "1": "WINDOWS",
                                    "2": "823",
                                    "3": "Thinkpad X1"
                                },
                                {
                                    "0": "1",
                                    "1": "WINDOWS",
                                    "2": "824",
                                    "3": "GL62M 7RD"
                                },
                                {
                                    "0": "1",
                                    "1": "WINDOWS",
                                    "2": "825",
                                    "3": "ThinkPad X1"
                                },
                                {
                                    "0": "1",
                                    "1": "WINDOWS",
                                    "2": "826",
                                    "3": "Satellite Pro"
                                },
                                {
                                    "0": "1",
                                    "1": "WINDOWS",
                                    "2": "827",
                                    "3": "ZenBook Flip"
                                },
                                {
                                    "0": "1",
                                    "1": "WINDOWS",
                                    "2": "828",
                                    "3": "Latitude 3480"
                                },
                                {
                                    "0": "4",
                                    "1": "NO OS",
                                    "2": "829",
                                    "3": "Chromebook 11"
                                },
                                {
                                    "0": "1",
                                    "1": "WINDOWS",
                                    "2": "830",
                                    "3": "Swift 3"
                                },
                                {
                                    "0": "1",
                                    "1": "WINDOWS",
                                    "2": "831",
                                    "3": "Blade Pro"
                                },
                                {
                                    "0": "1",
                                    "1": "WINDOWS",
                                    "2": "832",
                                    "3": "Thinkpad X1"
                                },
                                {
                                    "0": "2",
                                    "1": "LINUX",
                                    "2": "833",
                                    "3": "VivoBook Max"
                                },
                                {
                                    "0": "1",
                                    "1": "WINDOWS",
                                    "2": "834",
                                    "3": "Thinkpad T460"
                                },
                                {
                                    "0": "1",
                                    "1": "WINDOWS",
                                    "2": "835",
                                    "3": "ThinkPad T470s"
                                },
                                {
                                    "0": "1",
                                    "1": "WINDOWS",
                                    "2": "836",
                                    "3": "Alienware 15"
                                },
                                {
                                    "0": "1",
                                    "1": "WINDOWS",
                                    "2": "837",
                                    "3": "Rog GL702VS-BA023T"
                                },
                                {
                                    "0": "1",
                                    "1": "WINDOWS",
                                    "2": "838",
                                    "3": "Satellite Pro"
                                },
                                {
                                    "0": "4",
                                    "1": "NO OS",
                                    "2": "839",
                                    "3": "N42-20 Chromebook"
                                },
                                {
                                    "0": "1",
                                    "1": "WINDOWS",
                                    "2": "840",
                                    "3": "R558UA-DM966T (i5-7200U/8GB/128GB/FHD/W10)"
                                },
                                {
                                    "0": "1",
                                    "1": "WINDOWS",
                                    "2": "841",
                                    "3": "Rog GL702VM-GC017T"
                                },
                                {
                                    "0": "1",
                                    "1": "WINDOWS",
                                    "2": "842",
                                    "3": "Alienware 17"
                                },
                                {
                                    "0": "1",
                                    "1": "WINDOWS",
                                    "2": "843",
                                    "3": "ProBook 470"
                                },
                                {
                                    "0": "1",
                                    "1": "WINDOWS",
                                    "2": "844",
                                    "3": "Vostro 3568"
                                },
                                {
                                    "0": "4",
                                    "1": "NO OS",
                                    "2": "845",
                                    "3": "EliteBook 840"
                                },
                                {
                                    "0": "1",
                                    "1": "WINDOWS",
                                    "2": "846",
                                    "3": "Vostro 3568"
                                },
                                {
                                    "0": "4",
                                    "1": "NO OS",
                                    "2": "847",
                                    "3": "Chromebook X360"
                                },
                                {
                                    "0": "1",
                                    "1": "WINDOWS",
                                    "2": "848",
                                    "3": "ZenBook UX310UQ-GL026T"
                                },
                                {
                                    "0": "1",
                                    "1": "WINDOWS",
                                    "2": "849",
                                    "3": "EliteBook x360"
                                },
                                {
                                    "0": "1",
                                    "1": "WINDOWS",
                                    "2": "850",
                                    "3": "EliteBook 840"
                                },
                                {
                                    "0": "4",
                                    "1": "NO OS",
                                    "2": "851",
                                    "3": "250 G6"
                                },
                                {
                                    "0": "1",
                                    "1": "WINDOWS",
                                    "2": "852",
                                    "3": "Rog GL502VM-DS74"
                                },
                                {
                                    "0": "2",
                                    "1": "LINUX",
                                    "2": "853",
                                    "3": "Inspiron 5767"
                                },
                                {
                                    "0": "1",
                                    "1": "WINDOWS",
                                    "2": "854",
                                    "3": "ThinkPad T470p"
                                },
                                {
                                    "0": "1",
                                    "1": "WINDOWS",
                                    "2": "855",
                                    "3": "K556UR-DM621T (i7-7500U/8GB/256GB/GeForce"
                                },
                                {
                                    "0": "1",
                                    "1": "WINDOWS",
                                    "2": "856",
                                    "3": "Latitude 5580"
                                },
                                {
                                    "0": "1",
                                    "1": "WINDOWS",
                                    "2": "857",
                                    "3": "X541NA (N4200/4GB/1TB/W10)"
                                },
                                {
                                    "0": "1",
                                    "1": "WINDOWS",
                                    "2": "858",
                                    "3": "EliteBook x360"
                                },
                                {
                                    "0": "1",
                                    "1": "WINDOWS",
                                    "2": "859",
                                    "3": "Inspiron 5368"
                                },
                                {
                                    "0": "4",
                                    "1": "NO OS",
                                    "2": "860",
                                    "3": "IdeaPad 110-15ISK"
                                },
                                {
                                    "0": "1",
                                    "1": "WINDOWS",
                                    "2": "861",
                                    "3": "ThinkPad E570"
                                },
                                {
                                    "0": "1",
                                    "1": "WINDOWS",
                                    "2": "862",
                                    "3": "EliteBook 850"
                                },
                                {
                                    "0": "1",
                                    "1": "WINDOWS",
                                    "2": "863",
                                    "3": "Portege X30-D-10X"
                                },
                                {
                                    "0": "4",
                                    "1": "NO OS",
                                    "2": "864",
                                    "3": "Legion Y520-15IKBN"
                                },
                                {
                                    "0": "1",
                                    "1": "WINDOWS",
                                    "2": "865",
                                    "3": "XPS 13"
                                },
                                {
                                    "0": "1",
                                    "1": "WINDOWS",
                                    "2": "866",
                                    "3": "Probook 450"
                                },
                                {
                                    "0": "1",
                                    "1": "WINDOWS",
                                    "2": "867",
                                    "3": "Portégé Z30-C-188"
                                },
                                {
                                    "0": "1",
                                    "1": "WINDOWS",
                                    "2": "868",
                                    "3": "ThinkPad Yoga"
                                },
                                {
                                    "0": "1",
                                    "1": "WINDOWS",
                                    "2": "869",
                                    "3": "TMX349-G2-M-50FS (i5-7200U/8GB/256GB/FHD/W10)"
                                },
                                {
                                    "0": "1",
                                    "1": "WINDOWS",
                                    "2": "870",
                                    "3": "Precision 3520"
                                },
                                {
                                    "0": "1",
                                    "1": "WINDOWS",
                                    "2": "871",
                                    "3": "ThinkPad L570"
                                },
                                {
                                    "0": "4",
                                    "1": "NO OS",
                                    "2": "872",
                                    "3": "IdeaPad 110-15ISK"
                                },
                                {
                                    "0": "1",
                                    "1": "WINDOWS",
                                    "2": "873",
                                    "3": "Tecra A50-D-11D"
                                },
                                {
                                    "0": "1",
                                    "1": "WINDOWS",
                                    "2": "874",
                                    "3": "Thinkpad 13"
                                },
                                {
                                    "0": "1",
                                    "1": "WINDOWS",
                                    "2": "875",
                                    "3": "Notebook 9"
                                },
                                {
                                    "0": "1",
                                    "1": "WINDOWS",
                                    "2": "876",
                                    "3": "Latitude 7280"
                                },
                                {
                                    "0": "2",
                                    "1": "LINUX",
                                    "2": "877",
                                    "3": "X541NA-GO121 (N4200/4GB/1TB/Linux)"
                                },
                                {
                                    "0": "1",
                                    "1": "WINDOWS",
                                    "2": "878",
                                    "3": "Mi Notebook"
                                },
                                {
                                    "0": "1",
                                    "1": "WINDOWS",
                                    "2": "879",
                                    "3": "Vostro 5568"
                                },
                                {
                                    "0": "1",
                                    "1": "WINDOWS",
                                    "2": "880",
                                    "3": "ProBook 450"
                                },
                                {
                                    "0": "1",
                                    "1": "WINDOWS",
                                    "2": "881",
                                    "3": "EliteBook x360"
                                },
                                {
                                    "0": "1",
                                    "1": "WINDOWS",
                                    "2": "882",
                                    "3": "Pavilion x360"
                                },
                                {
                                    "0": "1",
                                    "1": "WINDOWS",
                                    "2": "883",
                                    "3": "VivoBook L402NA"
                                },
                                {
                                    "0": "1",
                                    "1": "WINDOWS",
                                    "2": "884",
                                    "3": "IdeaPad 510-15ISK"
                                },
                                {
                                    "0": "1",
                                    "1": "WINDOWS",
                                    "2": "885",
                                    "3": "Inspiron 3552"
                                },
                                {
                                    "0": "1",
                                    "1": "WINDOWS",
                                    "2": "886",
                                    "3": "EliteBook x360"
                                },
                                {
                                    "0": "2",
                                    "1": "LINUX",
                                    "2": "887",
                                    "3": "Vostro 3568"
                                },
                                {
                                    "0": "1",
                                    "1": "WINDOWS",
                                    "2": "888",
                                    "3": "Rog GL753VD-GC082T"
                                },
                                {
                                    "0": "4",
                                    "1": "NO OS",
                                    "2": "889",
                                    "3": "Chromebook C731-C78G"
                                },
                                {
                                    "0": "1",
                                    "1": "WINDOWS",
                                    "2": "890",
                                    "3": "IdeaPad 110-17ACL"
                                },
                                {
                                    "0": "1",
                                    "1": "WINDOWS",
                                    "2": "891",
                                    "3": "Probook 640"
                                },
                                {
                                    "0": "1",
                                    "1": "WINDOWS",
                                    "2": "892",
                                    "3": "Envy x360"
                                },
                                {
                                    "0": "1",
                                    "1": "WINDOWS",
                                    "2": "893",
                                    "3": "Notebook 9"
                                },
                                {
                                    "0": "1",
                                    "1": "WINDOWS",
                                    "2": "894",
                                    "3": "ThinkPad T470s"
                                },
                                {
                                    "0": "1",
                                    "1": "WINDOWS",
                                    "2": "895",
                                    "3": "GS73VR Stealth"
                                },
                                {
                                    "0": "1",
                                    "1": "WINDOWS",
                                    "2": "896",
                                    "3": "Portege X30-D-10V"
                                },
                                {
                                    "0": "2",
                                    "1": "LINUX",
                                    "2": "897",
                                    "3": "Inspiron 7567"
                                },
                                {
                                    "0": "1",
                                    "1": "WINDOWS",
                                    "2": "898",
                                    "3": "ProBook 450"
                                },
                                {
                                    "0": "1",
                                    "1": "WINDOWS",
                                    "2": "899",
                                    "3": "Vostro 3568"
                                },
                                {
                                    "0": "1",
                                    "1": "WINDOWS",
                                    "2": "900",
                                    "3": "Latitude 5580"
                                },
                                {
                                    "0": "1",
                                    "1": "WINDOWS",
                                    "2": "901",
                                    "3": "XPS 13"
                                },
                                {
                                    "0": "1",
                                    "1": "WINDOWS",
                                    "2": "902",
                                    "3": "G701VO-IH74K (i7-6820HK/32GB/2x"
                                },
                                {
                                    "0": "1",
                                    "1": "WINDOWS",
                                    "2": "903",
                                    "3": "XPS 13"
                                },
                                {
                                    "0": "1",
                                    "1": "WINDOWS",
                                    "2": "904",
                                    "3": "ThinkPad X1"
                                },
                                {
                                    "0": "1",
                                    "1": "WINDOWS",
                                    "2": "905",
                                    "3": "ThinkPad T570"
                                },
                                {
                                    "0": "1",
                                    "1": "WINDOWS",
                                    "2": "906",
                                    "3": "Gram 15Z970"
                                },
                                {
                                    "0": "1",
                                    "1": "WINDOWS",
                                    "2": "907",
                                    "3": "Elitebook 820"
                                },
                                {
                                    "0": "4",
                                    "1": "NO OS",
                                    "2": "908",
                                    "3": "Chromebook CB5-571-C1DZ"
                                },
                                {
                                    "0": "1",
                                    "1": "WINDOWS",
                                    "2": "909",
                                    "3": "IdeaPad Y700-15ISK"
                                },
                                {
                                    "0": "1",
                                    "1": "WINDOWS",
                                    "2": "910",
                                    "3": "Gram 14Z970"
                                },
                                {
                                    "0": "1",
                                    "1": "WINDOWS",
                                    "2": "911",
                                    "3": "Latitude 5480"
                                },
                                {
                                    "0": "1",
                                    "1": "WINDOWS",
                                    "2": "912",
                                    "3": "Elitebook Folio"
                                },
                                {
                                    "0": "1",
                                    "1": "WINDOWS",
                                    "2": "913",
                                    "3": "IdeaPad 510-15IKB"
                                },
                                {
                                    "0": "1",
                                    "1": "WINDOWS",
                                    "2": "914",
                                    "3": "ProBook 450"
                                },
                                {
                                    "0": "1",
                                    "1": "WINDOWS",
                                    "2": "915",
                                    "3": "Aspire E5-575"
                                },
                                {
                                    "0": "1",
                                    "1": "WINDOWS",
                                    "2": "916",
                                    "3": "ThinkPad 13"
                                },
                                {
                                    "0": "1",
                                    "1": "WINDOWS",
                                    "2": "917",
                                    "3": "Probook 430"
                                },
                                {
                                    "0": "1",
                                    "1": "WINDOWS",
                                    "2": "918",
                                    "3": "GE72VR 6RF"
                                },
                                {
                                    "0": "1",
                                    "1": "WINDOWS",
                                    "2": "919",
                                    "3": "Inspiron 7567"
                                },
                                {
                                    "0": "1",
                                    "1": "WINDOWS",
                                    "2": "920",
                                    "3": "GL62M 7RD"
                                },
                                {
                                    "0": "1",
                                    "1": "WINDOWS",
                                    "2": "921",
                                    "3": "Vostro 3568"
                                },
                                {
                                    "0": "1",
                                    "1": "WINDOWS",
                                    "2": "922",
                                    "3": "EliteBook 850"
                                },
                                {
                                    "0": "1",
                                    "1": "WINDOWS",
                                    "2": "923",
                                    "3": "Envy 13-AB077cl"
                                },
                                {
                                    "0": "1",
                                    "1": "WINDOWS",
                                    "2": "924",
                                    "3": "Tecra Z50-C-140"
                                },
                                {
                                    "0": "1",
                                    "1": "WINDOWS",
                                    "2": "925",
                                    "3": "ThinkPad Yoga"
                                },
                                {
                                    "0": "1",
                                    "1": "WINDOWS",
                                    "2": "926",
                                    "3": "Latitude 3580"
                                },
                                {
                                    "0": "1",
                                    "1": "WINDOWS",
                                    "2": "927",
                                    "3": "Thinkpad X270"
                                },
                                {
                                    "0": "1",
                                    "1": "WINDOWS",
                                    "2": "928",
                                    "3": "Probook 650"
                                },
                                {
                                    "0": "1",
                                    "1": "WINDOWS",
                                    "2": "929",
                                    "3": "Vostro 3568"
                                },
                                {
                                    "0": "1",
                                    "1": "WINDOWS",
                                    "2": "930",
                                    "3": "ProBook 640"
                                },
                                {
                                    "0": "1",
                                    "1": "WINDOWS",
                                    "2": "931",
                                    "3": "IdeaPad 320-15IAP"
                                },
                                {
                                    "0": "1",
                                    "1": "WINDOWS",
                                    "2": "932",
                                    "3": "EliteBook 820"
                                },
                                {
                                    "0": "4",
                                    "1": "NO OS",
                                    "2": "933",
                                    "3": "250 G6"
                                },
                                {
                                    "0": "1",
                                    "1": "WINDOWS",
                                    "2": "934",
                                    "3": "Yoga 900-13ISK"
                                },
                                {
                                    "0": "1",
                                    "1": "WINDOWS",
                                    "2": "935",
                                    "3": "Tecra Z40-C-12X"
                                },
                                {
                                    "0": "1",
                                    "1": "WINDOWS",
                                    "2": "936",
                                    "3": "EliteBook 820"
                                },
                                {
                                    "0": "1",
                                    "1": "WINDOWS",
                                    "2": "937",
                                    "3": "Vostro 3568"
                                },
                                {
                                    "0": "1",
                                    "1": "WINDOWS",
                                    "2": "938",
                                    "3": "GP62M Leopard"
                                },
                                {
                                    "0": "1",
                                    "1": "WINDOWS",
                                    "2": "939",
                                    "3": "Latitude 7480"
                                },
                                {
                                    "0": "1",
                                    "1": "WINDOWS",
                                    "2": "940",
                                    "3": "Alienware 17"
                                },
                                {
                                    "0": "1",
                                    "1": "WINDOWS",
                                    "2": "941",
                                    "3": "Omen 17-W006na"
                                },
                                {
                                    "0": "1",
                                    "1": "WINDOWS",
                                    "2": "942",
                                    "3": "X751SV-TY001T (N3710/4GB/1TB/GeForce"
                                },
                                {
                                    "0": "1",
                                    "1": "WINDOWS",
                                    "2": "943",
                                    "3": "TravelMate P259-G2"
                                },
                                {
                                    "0": "1",
                                    "1": "WINDOWS",
                                    "2": "944",
                                    "3": "Tecra A50-C-1ZV"
                                },
                                {
                                    "0": "1",
                                    "1": "WINDOWS",
                                    "2": "945",
                                    "3": "Yoga 700-11ISK"
                                },
                                {
                                    "0": "1",
                                    "1": "WINDOWS",
                                    "2": "946",
                                    "3": "IdeaPad Y700-15ACZ"
                                },
                                {
                                    "0": "1",
                                    "1": "WINDOWS",
                                    "2": "947",
                                    "3": "Latitude 7280"
                                },
                                {
                                    "0": "4",
                                    "1": "NO OS",
                                    "2": "948",
                                    "3": "IdeaPad 310-15IKB"
                                },
                                {
                                    "0": "1",
                                    "1": "WINDOWS",
                                    "2": "949",
                                    "3": "Insprion 5767"
                                },
                                {
                                    "0": "4",
                                    "1": "NO OS",
                                    "2": "950",
                                    "3": "Chromebook 14"
                                },
                                {
                                    "0": "1",
                                    "1": "WINDOWS",
                                    "2": "951",
                                    "3": "ZBook Studio"
                                },
                                {
                                    "0": "1",
                                    "1": "WINDOWS",
                                    "2": "952",
                                    "3": "Latitude 7480"
                                },
                                {
                                    "0": "4",
                                    "1": "NO OS",
                                    "2": "953",
                                    "3": "Portege Z30-C-1CW"
                                },
                                {
                                    "0": "4",
                                    "1": "NO OS",
                                    "2": "954",
                                    "3": "Chromebook Flip"
                                },
                                {
                                    "0": "1",
                                    "1": "WINDOWS",
                                    "2": "955",
                                    "3": "Thinkpad T460"
                                },
                                {
                                    "0": "1",
                                    "1": "WINDOWS",
                                    "2": "956",
                                    "3": "Alienware 17"
                                },
                                {
                                    "0": "1",
                                    "1": "WINDOWS",
                                    "2": "957",
                                    "3": "XPS 13"
                                },
                                {
                                    "0": "1",
                                    "1": "WINDOWS",
                                    "2": "958",
                                    "3": "ProBook x360"
                                },
                                {
                                    "0": "1",
                                    "1": "WINDOWS",
                                    "2": "959",
                                    "3": "XPS 13"
                                },
                                {
                                    "0": "4",
                                    "1": "NO OS",
                                    "2": "960",
                                    "3": "Chromebook C738T-C2EJ"
                                },
                                {
                                    "0": "1",
                                    "1": "WINDOWS",
                                    "2": "961",
                                    "3": "Portege Z30-C-16Z"
                                },
                                {
                                    "0": "1",
                                    "1": "WINDOWS",
                                    "2": "962",
                                    "3": "ThinkPad X270"
                                },
                                {
                                    "0": "1",
                                    "1": "WINDOWS",
                                    "2": "963",
                                    "3": "Aspire F5-573G-510L"
                                },
                                {
                                    "0": "1",
                                    "1": "WINDOWS",
                                    "2": "964",
                                    "3": "Portege X20W-D-10V"
                                },
                                {
                                    "0": "1",
                                    "1": "WINDOWS",
                                    "2": "965",
                                    "3": "ProBook 450"
                                },
                                {
                                    "0": "2",
                                    "1": "LINUX",
                                    "2": "966",
                                    "3": "Inspiron 3567"
                                },
                                {
                                    "0": "1",
                                    "1": "WINDOWS",
                                    "2": "967",
                                    "3": "Latitude 5580"
                                },
                                {
                                    "0": "1",
                                    "1": "WINDOWS",
                                    "2": "968",
                                    "3": "ProBook 450"
                                },
                                {
                                    "0": "1",
                                    "1": "WINDOWS",
                                    "2": "969",
                                    "3": "Alienware 17"
                                },
                                {
                                    "0": "1",
                                    "1": "WINDOWS",
                                    "2": "970",
                                    "3": "IdeaPad 310-15IKB"
                                },
                                {
                                    "0": "1",
                                    "1": "WINDOWS",
                                    "2": "971",
                                    "3": "XPS 13"
                                },
                                {
                                    "0": "1",
                                    "1": "WINDOWS",
                                    "2": "972",
                                    "3": "Latitude E7470"
                                },
                                {
                                    "0": "1",
                                    "1": "WINDOWS",
                                    "2": "973",
                                    "3": "Alienware 17"
                                },
                                {
                                    "0": "1",
                                    "1": "WINDOWS",
                                    "2": "974",
                                    "3": "Tecra A40-C-1DF"
                                },
                                {
                                    "0": "1",
                                    "1": "WINDOWS",
                                    "2": "975",
                                    "3": "Rog Strix"
                                },
                                {
                                    "0": "1",
                                    "1": "WINDOWS",
                                    "2": "976",
                                    "3": "Probook 450"
                                },
                                {
                                    "0": "4",
                                    "1": "NO OS",
                                    "2": "977",
                                    "3": "ThinkPad T460"
                                },
                                {
                                    "0": "1",
                                    "1": "WINDOWS",
                                    "2": "978",
                                    "3": "Q534UX-BHI7T19 (i7-7500U/16GB/2TB"
                                },
                                {
                                    "0": "1",
                                    "1": "WINDOWS",
                                    "2": "979",
                                    "3": "15-bs053od (i7-7500U/6GB/1TB/W10)"
                                },
                                {
                                    "0": "1",
                                    "1": "WINDOWS",
                                    "2": "980",
                                    "3": "Rog GL753VE-DS74"
                                },
                                {
                                    "0": "1",
                                    "1": "WINDOWS",
                                    "2": "981",
                                    "3": "Inspiron 7579"
                                },
                                {
                                    "0": "4",
                                    "1": "NO OS",
                                    "2": "982",
                                    "3": "Portege Z30-C-1CV"
                                },
                                {
                                    "0": "1",
                                    "1": "WINDOWS",
                                    "2": "983",
                                    "3": "IdeaPad 320-15ABR"
                                },
                                {
                                    "0": "1",
                                    "1": "WINDOWS",
                                    "2": "984",
                                    "3": "LifeBook A556"
                                },
                                {
                                    "0": "1",
                                    "1": "WINDOWS",
                                    "2": "985",
                                    "3": "Tecra A40-C-1KF"
                                },
                                {
                                    "0": "1",
                                    "1": "WINDOWS",
                                    "2": "986",
                                    "3": "Inspiron 3567"
                                },
                                {
                                    "0": "1",
                                    "1": "WINDOWS",
                                    "2": "987",
                                    "3": "Probook 450"
                                },
                                {
                                    "0": "1",
                                    "1": "WINDOWS",
                                    "2": "988",
                                    "3": "Legion Y520-15IKBN"
                                },
                                {
                                    "0": "1",
                                    "1": "WINDOWS",
                                    "2": "989",
                                    "3": "Inspiron 5567"
                                },
                                {
                                    "0": "1",
                                    "1": "WINDOWS",
                                    "2": "990",
                                    "3": "Latitude 5480"
                                },
                                {
                                    "0": "1",
                                    "1": "WINDOWS",
                                    "2": "991",
                                    "3": "EliteBook Folio"
                                },
                                {
                                    "0": "1",
                                    "1": "WINDOWS",
                                    "2": "992",
                                    "3": "15-bs005nv (i3-6006U/4GB/1TB"
                                },
                                {
                                    "0": "4",
                                    "1": "NO OS",
                                    "2": "993",
                                    "3": "V110-15IAP (N3350/4GB/128GB/No"
                                },
                                {
                                    "0": "1",
                                    "1": "WINDOWS",
                                    "2": "994",
                                    "3": "ThinkPad T560"
                                },
                                {
                                    "0": "1",
                                    "1": "WINDOWS",
                                    "2": "995",
                                    "3": "Inspiron 5378"
                                },
                                {
                                    "0": "1",
                                    "1": "WINDOWS",
                                    "2": "996",
                                    "3": "ZenBook UX310UA-FB485T"
                                },
                                {
                                    "0": "1",
                                    "1": "WINDOWS",
                                    "2": "997",
                                    "3": "Spectre 13-V111dx"
                                },
                                {
                                    "0": "1",
                                    "1": "WINDOWS",
                                    "2": "998",
                                    "3": "Aspire ES1-533"
                                },
                                {
                                    "0": "1",
                                    "1": "WINDOWS",
                                    "2": "999",
                                    "3": "Rog GL553VE-DS74"
                                },
                                {
                                    "0": "1",
                                    "1": "WINDOWS",
                                    "2": "1000",
                                    "3": "EliteBook 840"
                                },
                                {
                                    "0": "1",
                                    "1": "WINDOWS",
                                    "2": "1001",
                                    "3": "Nitro 5"
                                },
                                {
                                    "0": "1",
                                    "1": "WINDOWS",
                                    "2": "1002",
                                    "3": "ENVY -"
                                },
                                {
                                    "0": "1",
                                    "1": "WINDOWS",
                                    "2": "1003",
                                    "3": "Vostro 3568"
                                },
                                {
                                    "0": "1",
                                    "1": "WINDOWS",
                                    "2": "1004",
                                    "3": "Probook 440"
                                },
                                {
                                    "0": "1",
                                    "1": "WINDOWS",
                                    "2": "1005",
                                    "3": "Portege Z30-C-16H"
                                },
                                {
                                    "0": "1",
                                    "1": "WINDOWS",
                                    "2": "1006",
                                    "3": "EliteBook 840"
                                },
                                {
                                    "0": "1",
                                    "1": "WINDOWS",
                                    "2": "1007",
                                    "3": "ProBook 640"
                                },
                                {
                                    "0": "4",
                                    "1": "NO OS",
                                    "2": "1008",
                                    "3": "EliteBook 1040"
                                },
                                {
                                    "0": "1",
                                    "1": "WINDOWS",
                                    "2": "1009",
                                    "3": "ProBook 440"
                                },
                                {
                                    "0": "1",
                                    "1": "WINDOWS",
                                    "2": "1010",
                                    "3": "Probook 440"
                                },
                                {
                                    "0": "1",
                                    "1": "WINDOWS",
                                    "2": "1011",
                                    "3": "Inspiron 7567"
                                },
                                {
                                    "0": "1",
                                    "1": "WINDOWS",
                                    "2": "1012",
                                    "3": "EliteBook 820"
                                },
                                {
                                    "0": "1",
                                    "1": "WINDOWS",
                                    "2": "1013",
                                    "3": "Elitebook 840"
                                },
                                {
                                    "0": "1",
                                    "1": "WINDOWS",
                                    "2": "1014",
                                    "3": "EliteBook 840"
                                },
                                {
                                    "0": "1",
                                    "1": "WINDOWS",
                                    "2": "1015",
                                    "3": "Probook 430"
                                },
                                {
                                    "0": "1",
                                    "1": "WINDOWS",
                                    "2": "1016",
                                    "3": "Portege A30-C-1CZ"
                                },
                                {
                                    "0": "1",
                                    "1": "WINDOWS",
                                    "2": "1017",
                                    "3": "ProBook 450"
                                },
                                {
                                    "0": "4",
                                    "1": "NO OS",
                                    "2": "1018",
                                    "3": "ThinkPad P70"
                                },
                                {
                                    "0": "1",
                                    "1": "WINDOWS",
                                    "2": "1019",
                                    "3": "Tecra Z40-C-12Z"
                                },
                                {
                                    "0": "1",
                                    "1": "WINDOWS",
                                    "2": "1020",
                                    "3": "EliteBook 1040"
                                },
                                {
                                    "0": "1",
                                    "1": "WINDOWS",
                                    "2": "1021",
                                    "3": "Inspiron 5568"
                                },
                                {
                                    "0": "1",
                                    "1": "WINDOWS",
                                    "2": "1022",
                                    "3": "Portégé Z30-C-16K"
                                },
                                {
                                    "0": "1",
                                    "1": "WINDOWS",
                                    "2": "1023",
                                    "3": "Spectre 13-V100nv"
                                },
                                {
                                    "0": "1",
                                    "1": "WINDOWS",
                                    "2": "1024",
                                    "3": "ProBook 440"
                                },
                                {
                                    "0": "1",
                                    "1": "WINDOWS",
                                    "2": "1025",
                                    "3": "Latitude E5570"
                                },
                                {
                                    "0": "1",
                                    "1": "WINDOWS",
                                    "2": "1026",
                                    "3": "Elitebook 820"
                                },
                                {
                                    "0": "1",
                                    "1": "WINDOWS",
                                    "2": "1027",
                                    "3": "ProBook 650"
                                },
                                {
                                    "0": "1",
                                    "1": "WINDOWS",
                                    "2": "1028",
                                    "3": "ProBook 640"
                                },
                                {
                                    "0": "1",
                                    "1": "WINDOWS",
                                    "2": "1029",
                                    "3": "XPS 13"
                                },
                                {
                                    "0": "1",
                                    "1": "WINDOWS",
                                    "2": "1030",
                                    "3": "Probook 470"
                                },
                                {
                                    "0": "1",
                                    "1": "WINDOWS",
                                    "2": "1031",
                                    "3": "ProBook 440"
                                },
                                {
                                    "0": "1",
                                    "1": "WINDOWS",
                                    "2": "1032",
                                    "3": "Aspire 3"
                                },
                                {
                                    "0": "1",
                                    "1": "WINDOWS",
                                    "2": "1033",
                                    "3": "GL72M 7RDX"
                                },
                                {
                                    "0": "4",
                                    "1": "NO OS",
                                    "2": "1034",
                                    "3": "Probook 640"
                                },
                                {
                                    "0": "1",
                                    "1": "WINDOWS",
                                    "2": "1035",
                                    "3": "EliteBook 850"
                                },
                                {
                                    "0": "1",
                                    "1": "WINDOWS",
                                    "2": "1036",
                                    "3": "EliteBook 820"
                                },
                                {
                                    "0": "1",
                                    "1": "WINDOWS",
                                    "2": "1037",
                                    "3": "ProBook 450"
                                },
                                {
                                    "0": "1",
                                    "1": "WINDOWS",
                                    "2": "1038",
                                    "3": "Tecra Z40-C-136"
                                },
                                {
                                    "0": "4",
                                    "1": "NO OS",
                                    "2": "1039",
                                    "3": "Latitude E5570"
                                },
                                {
                                    "0": "1",
                                    "1": "WINDOWS",
                                    "2": "1040",
                                    "3": "ProBook 440"
                                },
                                {
                                    "0": "1",
                                    "1": "WINDOWS",
                                    "2": "1041",
                                    "3": "Yoga 500-15ISK"
                                },
                                {
                                    "0": "1",
                                    "1": "WINDOWS",
                                    "2": "1042",
                                    "3": "V142 (X5-Z8350/2GB/32GB/W10)"
                                },
                                {
                                    "0": "1",
                                    "1": "WINDOWS",
                                    "2": "1043",
                                    "3": "Tecra A50-C-218"
                                },
                                {
                                    "0": "1",
                                    "1": "WINDOWS",
                                    "2": "1044",
                                    "3": "Thinkpad L560"
                                },
                                {
                                    "0": "1",
                                    "1": "WINDOWS",
                                    "2": "1045",
                                    "3": "EliteBook 840"
                                },
                                {
                                    "0": "1",
                                    "1": "WINDOWS",
                                    "2": "1046",
                                    "3": "EliteBook 850"
                                },
                                {
                                    "0": "4",
                                    "1": "NO OS",
                                    "2": "1047",
                                    "3": "EliteBook 1040"
                                },
                                {
                                    "0": "1",
                                    "1": "WINDOWS",
                                    "2": "1048",
                                    "3": "GT72S Dominator"
                                },
                                {
                                    "0": "1",
                                    "1": "WINDOWS",
                                    "2": "1049",
                                    "3": "IdeaPad Y900-17ISK"
                                },
                                {
                                    "0": "4",
                                    "1": "NO OS",
                                    "2": "1050",
                                    "3": "Chromebook C202SA"
                                },
                                {
                                    "0": "4",
                                    "1": "NO OS",
                                    "2": "1051",
                                    "3": "ThinkPad X1"
                                },
                                {
                                    "0": "1",
                                    "1": "WINDOWS",
                                    "2": "1052",
                                    "3": "Noteb Pav"
                                },
                                {
                                    "0": "1",
                                    "1": "WINDOWS",
                                    "2": "1053",
                                    "3": "Inspiron 5578"
                                },
                                {
                                    "0": "1",
                                    "1": "WINDOWS",
                                    "2": "1054",
                                    "3": "ProBook 450"
                                },
                                {
                                    "0": "1",
                                    "1": "WINDOWS",
                                    "2": "1055",
                                    "3": "XPS 13"
                                },
                                {
                                    "0": "1",
                                    "1": "WINDOWS",
                                    "2": "1056",
                                    "3": "ProBook 650"
                                },
                                {
                                    "0": "4",
                                    "1": "NO OS",
                                    "2": "1057",
                                    "3": "250 G5"
                                },
                                {
                                    "0": "1",
                                    "1": "WINDOWS",
                                    "2": "1058",
                                    "3": "Aspire ES1-523"
                                },
                                {
                                    "0": "1",
                                    "1": "WINDOWS",
                                    "2": "1059",
                                    "3": "Inspiron 7378"
                                },
                                {
                                    "0": "1",
                                    "1": "WINDOWS",
                                    "2": "1060",
                                    "3": "GT62VR 6RD"
                                },
                                {
                                    "0": "1",
                                    "1": "WINDOWS",
                                    "2": "1061",
                                    "3": "ProBook 450"
                                },
                                {
                                    "0": "4",
                                    "1": "NO OS",
                                    "2": "1062",
                                    "3": "Rog G752VL-GC088D"
                                },
                                {
                                    "0": "1",
                                    "1": "WINDOWS",
                                    "2": "1063",
                                    "3": "Inspiron 3567"
                                },
                                {
                                    "0": "1",
                                    "1": "WINDOWS",
                                    "2": "1064",
                                    "3": "Inspiron 5567"
                                },
                                {
                                    "0": "1",
                                    "1": "WINDOWS",
                                    "2": "1065",
                                    "3": "GS63VR 6RF"
                                },
                                {
                                    "0": "1",
                                    "1": "WINDOWS",
                                    "2": "1066",
                                    "3": "XPS 13"
                                },
                                {
                                    "0": "1",
                                    "1": "WINDOWS",
                                    "2": "1067",
                                    "3": "ROG G701VO"
                                },
                                {
                                    "0": "1",
                                    "1": "WINDOWS",
                                    "2": "1068",
                                    "3": "Inspiron 5368"
                                },
                                {
                                    "0": "1",
                                    "1": "WINDOWS",
                                    "2": "1069",
                                    "3": "Alienware 15"
                                },
                                {
                                    "0": "3",
                                    "1": "IOS",
                                    "2": "1070",
                                    "3": "MacBook 12\""
                                },
                                {
                                    "0": "1",
                                    "1": "WINDOWS",
                                    "2": "1071",
                                    "3": "Latitude 3570"
                                },
                                {
                                    "0": "1",
                                    "1": "WINDOWS",
                                    "2": "1072",
                                    "3": "ProBook 650"
                                },
                                {
                                    "0": "4",
                                    "1": "NO OS",
                                    "2": "1073",
                                    "3": "EliteBook 820"
                                },
                                {
                                    "0": "1",
                                    "1": "WINDOWS",
                                    "2": "1074",
                                    "3": "ProBook 430"
                                },
                                {
                                    "0": "1",
                                    "1": "WINDOWS",
                                    "2": "1075",
                                    "3": "ThinkPad Yoga"
                                },
                                {
                                    "0": "1",
                                    "1": "WINDOWS",
                                    "2": "1076",
                                    "3": "IdeaPad 300-17ISK"
                                },
                                {
                                    "0": "1",
                                    "1": "WINDOWS",
                                    "2": "1077",
                                    "3": "Ideapad 700-15ISK"
                                },
                                {
                                    "0": "1",
                                    "1": "WINDOWS",
                                    "2": "1078",
                                    "3": "GT72VR Dominator"
                                },
                                {
                                    "0": "1",
                                    "1": "WINDOWS",
                                    "2": "1079",
                                    "3": "V110-15ISK (i5-6200U/4GB/500GB/W10)"
                                },
                                {
                                    "0": "4",
                                    "1": "NO OS",
                                    "2": "1080",
                                    "3": "Probook 650"
                                },
                                {
                                    "0": "1",
                                    "1": "WINDOWS",
                                    "2": "1081",
                                    "3": "Yoga 900S-12ISK"
                                },
                                {
                                    "0": "1",
                                    "1": "WINDOWS",
                                    "2": "1082",
                                    "3": "IdeaPad Y900-17ISK"
                                },
                                {
                                    "0": "1",
                                    "1": "WINDOWS",
                                    "2": "1083",
                                    "3": "Yoga Book"
                                },
                                {
                                    "0": "1",
                                    "1": "WINDOWS",
                                    "2": "1084",
                                    "3": "Spectre x360"
                                },
                                {
                                    "0": "1",
                                    "1": "WINDOWS",
                                    "2": "1085",
                                    "3": "Vostro 3568"
                                },
                                {
                                    "0": "4",
                                    "1": "NO OS",
                                    "2": "1086",
                                    "3": "EliteBook 840"
                                },
                                {
                                    "0": "4",
                                    "1": "NO OS",
                                    "2": "1087",
                                    "3": "ZBook 15u"
                                },
                                {
                                    "0": "4",
                                    "1": "NO OS",
                                    "2": "1088",
                                    "3": "ThinkPad T460"
                                },
                                {
                                    "0": "4",
                                    "1": "NO OS",
                                    "2": "1089",
                                    "3": "Chromebook 13"
                                },
                                {
                                    "0": "1",
                                    "1": "WINDOWS",
                                    "2": "1090",
                                    "3": "Aspire ES1-523"
                                },
                                {
                                    "0": "2",
                                    "1": "LINUX",
                                    "2": "1091",
                                    "3": "Inspiron 3552"
                                },
                                {
                                    "0": "4",
                                    "1": "NO OS",
                                    "2": "1092",
                                    "3": "250 G6"
                                },
                                {
                                    "0": "1",
                                    "1": "WINDOWS",
                                    "2": "1093",
                                    "3": "Rog GL702VM-GC354T"
                                },
                                {
                                    "0": "1",
                                    "1": "WINDOWS",
                                    "2": "1094",
                                    "3": "Inspiron 5370"
                                },
                                {
                                    "0": "4",
                                    "1": "NO OS",
                                    "2": "1095",
                                    "3": "Elitebook 820"
                                },
                                {
                                    "0": "1",
                                    "1": "WINDOWS",
                                    "2": "1096",
                                    "3": "Aspire F5-573G"
                                },
                                {
                                    "0": "1",
                                    "1": "WINDOWS",
                                    "2": "1097",
                                    "3": "Inspiron 5567"
                                },
                                {
                                    "0": "1",
                                    "1": "WINDOWS",
                                    "2": "1098",
                                    "3": "GS70 Stealth"
                                },
                                {
                                    "0": "1",
                                    "1": "WINDOWS",
                                    "2": "1099",
                                    "3": "250 G5"
                                },
                                {
                                    "0": "1",
                                    "1": "WINDOWS",
                                    "2": "1100",
                                    "3": "G752VY-GC162T (i7-6700HQ/16GB/1TB"
                                },
                                {
                                    "0": "4",
                                    "1": "NO OS",
                                    "2": "1101",
                                    "3": "Latitude E5270"
                                },
                                {
                                    "0": "4",
                                    "1": "NO OS",
                                    "2": "1102",
                                    "3": "Latitude E5270"
                                },
                                {
                                    "0": "4",
                                    "1": "NO OS",
                                    "2": "1103",
                                    "3": "Chromebook 15"
                                },
                                {
                                    "0": "4",
                                    "1": "NO OS",
                                    "2": "1104",
                                    "3": "ZBook 17"
                                },
                                {
                                    "0": "1",
                                    "1": "WINDOWS",
                                    "2": "1105",
                                    "3": "Legion Y520-15IKBN"
                                },
                                {
                                    "0": "4",
                                    "1": "NO OS",
                                    "2": "1106",
                                    "3": "Latitude E5270"
                                },
                                {
                                    "0": "1",
                                    "1": "WINDOWS",
                                    "2": "1107",
                                    "3": "GE72 Apache"
                                },
                                {
                                    "0": "1",
                                    "1": "WINDOWS",
                                    "2": "1108",
                                    "3": "Yoga 500-15ISK"
                                },
                                {
                                    "0": "1",
                                    "1": "WINDOWS",
                                    "2": "1109",
                                    "3": "15-bw011nv (A6-9220/4GB/1TB/FHD/W10)"
                                },
                                {
                                    "0": "1",
                                    "1": "WINDOWS",
                                    "2": "1110",
                                    "3": "Rog GL552VW-CN470T"
                                },
                                {
                                    "0": "1",
                                    "1": "WINDOWS",
                                    "2": "1111",
                                    "3": "EliteBook 1030"
                                },
                                {
                                    "0": "4",
                                    "1": "NO OS",
                                    "2": "1112",
                                    "3": "Vostro 3559"
                                },
                                {
                                    "0": "1",
                                    "1": "WINDOWS",
                                    "2": "1113",
                                    "3": "V110-15ISK (i3-6006U/4GB/128GB/W10)"
                                },
                                {
                                    "0": "1",
                                    "1": "WINDOWS",
                                    "2": "1114",
                                    "3": "Spectre Pro"
                                },
                                {
                                    "0": "4",
                                    "1": "NO OS",
                                    "2": "1115",
                                    "3": "Yoga Book"
                                },
                                {
                                    "0": "1",
                                    "1": "WINDOWS",
                                    "2": "1116",
                                    "3": "XPS 13"
                                },
                                {
                                    "0": "1",
                                    "1": "WINDOWS",
                                    "2": "1117",
                                    "3": "IdeaPad Y900-17ISK"
                                },
                                {
                                    "0": "1",
                                    "1": "WINDOWS",
                                    "2": "1118",
                                    "3": "Blade Stealth"
                                },
                                {
                                    "0": "1",
                                    "1": "WINDOWS",
                                    "2": "1119",
                                    "3": "Portege X30-D-10K"
                                },
                                {
                                    "0": "1",
                                    "1": "WINDOWS",
                                    "2": "1120",
                                    "3": "Rog GL752VW-T4308T"
                                },
                                {
                                    "0": "1",
                                    "1": "WINDOWS",
                                    "2": "1121",
                                    "3": "V131 (X5-Z8350/4GB/32GB/FHD/W10)"
                                },
                                {
                                    "0": "1",
                                    "1": "WINDOWS",
                                    "2": "1122",
                                    "3": "Spectre Pro"
                                },
                                {
                                    "0": "4",
                                    "1": "NO OS",
                                    "2": "1123",
                                    "3": "EliteBook 1040"
                                },
                                {
                                    "0": "2",
                                    "1": "LINUX",
                                    "2": "1124",
                                    "3": "Latitude E5570"
                                },
                                {
                                    "0": "1",
                                    "1": "WINDOWS",
                                    "2": "1125",
                                    "3": "VivoBook Max"
                                },
                                {
                                    "0": "1",
                                    "1": "WINDOWS",
                                    "2": "1126",
                                    "3": "ThinkPad Yoga"
                                },
                                {
                                    "0": "1",
                                    "1": "WINDOWS",
                                    "2": "1127",
                                    "3": "Yoga Book"
                                },
                                {
                                    "0": "4",
                                    "1": "NO OS",
                                    "2": "1128",
                                    "3": "EliteBook 820"
                                },
                                {
                                    "0": "4",
                                    "1": "NO OS",
                                    "2": "1129",
                                    "3": "Legion Y520-15IKBN"
                                },
                                {
                                    "0": "1",
                                    "1": "WINDOWS",
                                    "2": "1130",
                                    "3": "Omen -"
                                },
                                {
                                    "0": "1",
                                    "1": "WINDOWS",
                                    "2": "1131",
                                    "3": "15-bs078cl (i7-7500U/8GB/2TB/W10)"
                                },
                                {
                                    "0": "4",
                                    "1": "NO OS",
                                    "2": "1132",
                                    "3": "ThinkPad P40"
                                },
                                {
                                    "0": "1",
                                    "1": "WINDOWS",
                                    "2": "1133",
                                    "3": "L403NA-GA013TS (N3350/4GB/32GB/W10)"
                                },
                                {
                                    "0": "1",
                                    "1": "WINDOWS",
                                    "2": "1134",
                                    "3": "250 G6"
                                },
                                {
                                    "0": "1",
                                    "1": "WINDOWS",
                                    "2": "1135",
                                    "3": "Aspire E5-576G"
                                },
                                {
                                    "0": "1",
                                    "1": "WINDOWS",
                                    "2": "1136",
                                    "3": "IdeaPad 500-15ISK"
                                },
                                {
                                    "0": "4",
                                    "1": "NO OS",
                                    "2": "1137",
                                    "3": "ZBook 17"
                                },
                                {
                                    "0": "1",
                                    "1": "WINDOWS",
                                    "2": "1138",
                                    "3": "Inspiron 5567"
                                },
                                {
                                    "0": "1",
                                    "1": "WINDOWS",
                                    "2": "1139",
                                    "3": "GT72S Dominator"
                                },
                                {
                                    "0": "4",
                                    "1": "NO OS",
                                    "2": "1140",
                                    "3": "EliteBook 850"
                                },
                                {
                                    "0": "1",
                                    "1": "WINDOWS",
                                    "2": "1141",
                                    "3": "ThinkPad X1"
                                },
                                {
                                    "0": "1",
                                    "1": "WINDOWS",
                                    "2": "1142",
                                    "3": "GP62M 7RDX"
                                },
                                {
                                    "0": "1",
                                    "1": "WINDOWS",
                                    "2": "1143",
                                    "3": "Spectre Pro"
                                },
                                {
                                    "0": "4",
                                    "1": "NO OS",
                                    "2": "1144",
                                    "3": "ZBook 15"
                                },
                                {
                                    "0": "1",
                                    "1": "WINDOWS",
                                    "2": "1145",
                                    "3": "Spectre Pro"
                                },
                                {
                                    "0": "4",
                                    "1": "NO OS",
                                    "2": "1146",
                                    "3": "ZBook Studio"
                                },
                                {
                                    "0": "4",
                                    "1": "NO OS",
                                    "2": "1147",
                                    "3": "EliteBook 820"
                                },
                                {
                                    "0": "1",
                                    "1": "WINDOWS",
                                    "2": "1148",
                                    "3": "Vostro 5568"
                                },
                                {
                                    "0": "4",
                                    "1": "NO OS",
                                    "2": "1149",
                                    "3": "EliteBook 850"
                                },
                                {
                                    "0": "1",
                                    "1": "WINDOWS",
                                    "2": "1150",
                                    "3": "ThinkPad X1"
                                },
                                {
                                    "0": "4",
                                    "1": "NO OS",
                                    "2": "1151",
                                    "3": "V110-15ISK (i3-6006U/4GB/1TB/No"
                                },
                                {
                                    "0": "1",
                                    "1": "WINDOWS",
                                    "2": "1152",
                                    "3": "15-BA015wm (E2-7110/4GB/500GB/W10)"
                                },
                                {
                                    "0": "4",
                                    "1": "NO OS",
                                    "2": "1153",
                                    "3": "B51-80 (i5-6200U/8GB/1TB/Radeon"
                                },
                                {
                                    "0": "1",
                                    "1": "WINDOWS",
                                    "2": "1154",
                                    "3": "Inspiron 7567"
                                },
                                {
                                    "0": "1",
                                    "1": "WINDOWS",
                                    "2": "1155",
                                    "3": "XPS 15"
                                },
                                {
                                    "0": "1",
                                    "1": "WINDOWS",
                                    "2": "1156",
                                    "3": "15-bw002nv (A6-9220/4GB/256GB/Radeon"
                                },
                                {
                                    "0": "1",
                                    "1": "WINDOWS",
                                    "2": "1157",
                                    "3": "GP72M 7REX"
                                },
                                {
                                    "0": "4",
                                    "1": "NO OS",
                                    "2": "1158",
                                    "3": "ThinkPad T460s"
                                },
                                {
                                    "0": "1",
                                    "1": "WINDOWS",
                                    "2": "1159",
                                    "3": "B51-80 (i5-6200U/8GB/1008GB/Radeon"
                                },
                                {
                                    "0": "1",
                                    "1": "WINDOWS",
                                    "2": "1160",
                                    "3": "Spectre Pro"
                                },
                                {
                                    "0": "4",
                                    "1": "NO OS",
                                    "2": "1161",
                                    "3": "ThinkPad T460"
                                },
                                {
                                    "0": "1",
                                    "1": "WINDOWS",
                                    "2": "1162",
                                    "3": "GS40 Phantom"
                                },
                                {
                                    "0": "1",
                                    "1": "WINDOWS",
                                    "2": "1163",
                                    "3": "Pavilion 15-cb003nv"
                                },
                                {
                                    "0": "1",
                                    "1": "WINDOWS",
                                    "2": "1164",
                                    "3": "IdeaPad 310-15ISK"
                                },
                                {
                                    "0": "4",
                                    "1": "NO OS",
                                    "2": "1165",
                                    "3": "250 G4"
                                },
                                {
                                    "0": "1",
                                    "1": "WINDOWS",
                                    "2": "1166",
                                    "3": "Inspiron 7567"
                                },
                                {
                                    "0": "1",
                                    "1": "WINDOWS",
                                    "2": "1167",
                                    "3": "ThinkPad T570"
                                },
                                {
                                    "0": "1",
                                    "1": "WINDOWS",
                                    "2": "1168",
                                    "3": "320-15ISK (i3-6006U/4GB/1TB/GeForce"
                                },
                                {
                                    "0": "1",
                                    "1": "WINDOWS",
                                    "2": "1169",
                                    "3": "Stream 14-AX000nv"
                                },
                                {
                                    "0": "1",
                                    "1": "WINDOWS",
                                    "2": "1170",
                                    "3": "PL60 7RD"
                                },
                                {
                                    "0": "1",
                                    "1": "WINDOWS",
                                    "2": "1171",
                                    "3": "250 G5"
                                },
                                {
                                    "0": "1",
                                    "1": "WINDOWS",
                                    "2": "1172",
                                    "3": "ProBook 450"
                                },
                                {
                                    "0": "1",
                                    "1": "WINDOWS",
                                    "2": "1173",
                                    "3": "X553SA-XX021T (N3050/4GB/500GB/W10)"
                                },
                                {
                                    "0": "4",
                                    "1": "NO OS",
                                    "2": "1174",
                                    "3": "V110-15ISK (i5-6200U/4GB/500GB/No"
                                },
                                {
                                    "0": "4",
                                    "1": "NO OS",
                                    "2": "1175",
                                    "3": "IdeaPad 510-15IKB"
                                },
                                {
                                    "0": "1",
                                    "1": "WINDOWS",
                                    "2": "1176",
                                    "3": "UX410UA-GV097T (i3-7100U/4GB/256GB/FHD/W10)"
                                },
                                {
                                    "0": "4",
                                    "1": "NO OS",
                                    "2": "1177",
                                    "3": "B51-80 (i7-6500U/4GB/1008GB/FHD/W7)"
                                },
                                {
                                    "0": "1",
                                    "1": "WINDOWS",
                                    "2": "1178",
                                    "3": "IdeaPad Y700-15ISK"
                                },
                                {
                                    "0": "1",
                                    "1": "WINDOWS",
                                    "2": "1179",
                                    "3": "GS60 Ghost"
                                },
                                {
                                    "0": "1",
                                    "1": "WINDOWS",
                                    "2": "1180",
                                    "3": "ProBook 450"
                                },
                                {
                                    "0": "1",
                                    "1": "WINDOWS",
                                    "2": "1181",
                                    "3": "ThinkPad X1"
                                },
                                {
                                    "0": "1",
                                    "1": "WINDOWS",
                                    "2": "1182",
                                    "3": "IdeaPad 310-15IKB"
                                },
                                {
                                    "0": "2",
                                    "1": "LINUX",
                                    "2": "1183",
                                    "3": "Vostro 5568"
                                },
                                {
                                    "0": "1",
                                    "1": "WINDOWS",
                                    "2": "1184",
                                    "3": "Aspire 3"
                                },
                                {
                                    "0": "1",
                                    "1": "WINDOWS",
                                    "2": "1185",
                                    "3": "Pavilion 15-BC000nv"
                                },
                                {
                                    "0": "1",
                                    "1": "WINDOWS",
                                    "2": "1186",
                                    "3": "Rog GL552VW-DM201T"
                                },
                                {
                                    "0": "1",
                                    "1": "WINDOWS",
                                    "2": "1187",
                                    "3": "Inspiron 5578"
                                },
                                {
                                    "0": "1",
                                    "1": "WINDOWS",
                                    "2": "1188",
                                    "3": "Aspire E5-576G"
                                },
                                {
                                    "0": "2",
                                    "1": "LINUX",
                                    "2": "1189",
                                    "3": "XPS 13"
                                },
                                {
                                    "0": "1",
                                    "1": "WINDOWS",
                                    "2": "1190",
                                    "3": "Predator G9-793"
                                },
                                {
                                    "0": "1",
                                    "1": "WINDOWS",
                                    "2": "1191",
                                    "3": "Legion Y520-15IKBN"
                                },
                                {
                                    "0": "4",
                                    "1": "NO OS",
                                    "2": "1192",
                                    "3": "Chromebook Plus"
                                },
                                {
                                    "0": "1",
                                    "1": "WINDOWS",
                                    "2": "1193",
                                    "3": "250 G6"
                                },
                                {
                                    "0": "3",
                                    "1": "IOS",
                                    "2": "1194",
                                    "3": "MacBook 12\""
                                },
                                {
                                    "0": "1",
                                    "1": "WINDOWS",
                                    "2": "1195",
                                    "3": "Inspiron 7378"
                                },
                                {
                                    "0": "1",
                                    "1": "WINDOWS",
                                    "2": "1196",
                                    "3": "Pavilion Power"
                                },
                                {
                                    "0": "4",
                                    "1": "NO OS",
                                    "2": "1197",
                                    "3": "V110-15ISK (i3-6006U/4GB/1TB/Radeon"
                                },
                                {
                                    "0": "1",
                                    "1": "WINDOWS",
                                    "2": "1198",
                                    "3": "Rog G752VY-GC229T"
                                },
                                {
                                    "0": "2",
                                    "1": "LINUX",
                                    "2": "1199",
                                    "3": "Aspire 3"
                                },
                                {
                                    "0": "1",
                                    "1": "WINDOWS",
                                    "2": "1200",
                                    "3": "GS73VR 7RF"
                                },
                                {
                                    "0": "1",
                                    "1": "WINDOWS",
                                    "2": "1201",
                                    "3": "Inspiron 5567"
                                },
                                {
                                    "0": "4",
                                    "1": "NO OS",
                                    "2": "1202",
                                    "3": "IdeaPad 310-15ISK"
                                },
                                {
                                    "0": "1",
                                    "1": "WINDOWS",
                                    "2": "1203",
                                    "3": "Inspiron 5579"
                                },
                                {
                                    "0": "1",
                                    "1": "WINDOWS",
                                    "2": "1204",
                                    "3": "XPS 13"
                                },
                                {
                                    "0": "1",
                                    "1": "WINDOWS",
                                    "2": "1205",
                                    "3": "FX502VM-DM105T (i7-6700HQ/8GB/1TB/GeForce"
                                },
                                {
                                    "0": "1",
                                    "1": "WINDOWS",
                                    "2": "1206",
                                    "3": "Inspiron 5567"
                                },
                                {
                                    "0": "1",
                                    "1": "WINDOWS",
                                    "2": "1207",
                                    "3": "15-bs025nv (i5-7200U/8GB/256GB/W10)"
                                },
                                {
                                    "0": "1",
                                    "1": "WINDOWS",
                                    "2": "1208",
                                    "3": "IdeaPad 320-15AST"
                                },
                                {
                                    "0": "1",
                                    "1": "WINDOWS",
                                    "2": "1209",
                                    "3": "Aspire E5-774G"
                                },
                                {
                                    "0": "1",
                                    "1": "WINDOWS",
                                    "2": "1210",
                                    "3": "Rog Strix"
                                },
                                {
                                    "0": "3",
                                    "1": "IOS",
                                    "2": "1211",
                                    "3": "MacBook 12\""
                                },
                                {
                                    "0": "1",
                                    "1": "WINDOWS",
                                    "2": "1212",
                                    "3": "FX502VM-AS73 (i7-7700HQ/16GB/1TB"
                                },
                                {
                                    "0": "1",
                                    "1": "WINDOWS",
                                    "2": "1213",
                                    "3": "GS73VR Stealth"
                                },
                                {
                                    "0": "1",
                                    "1": "WINDOWS",
                                    "2": "1214",
                                    "3": "Inspiron 7579"
                                },
                                {
                                    "0": "1",
                                    "1": "WINDOWS",
                                    "2": "1215",
                                    "3": "ROG Strix"
                                },
                                {
                                    "0": "4",
                                    "1": "NO OS",
                                    "2": "1216",
                                    "3": "C740-C9QX (3205U/2GB/32GB/Chrome"
                                },
                                {
                                    "0": "1",
                                    "1": "WINDOWS",
                                    "2": "1217",
                                    "3": "E5 774G"
                                },
                                {
                                    "0": "4",
                                    "1": "NO OS",
                                    "2": "1218",
                                    "3": "IdeaPad 320-17IKB"
                                },
                                {
                                    "0": "1",
                                    "1": "WINDOWS",
                                    "2": "1219",
                                    "3": "IdeaPad Y700-15ISK"
                                },
                                {
                                    "0": "1",
                                    "1": "WINDOWS",
                                    "2": "1220",
                                    "3": "SP714-51 (i7-7Y75/8GB/256GB/FHD/W10)"
                                },
                                {
                                    "0": "1",
                                    "1": "WINDOWS",
                                    "2": "1221",
                                    "3": "Thinkpad T560"
                                },
                                {
                                    "0": "1",
                                    "1": "WINDOWS",
                                    "2": "1222",
                                    "3": "GP62MVR 6RF"
                                },
                                {
                                    "0": "1",
                                    "1": "WINDOWS",
                                    "2": "1223",
                                    "3": "15-bw009nv (A12-9720P/6GB/1TB/Radeon"
                                },
                                {
                                    "0": "4",
                                    "1": "NO OS",
                                    "2": "1224",
                                    "3": "Latitude E7270"
                                },
                                {
                                    "0": "1",
                                    "1": "WINDOWS",
                                    "2": "1225",
                                    "3": "Inspiron 5578"
                                },
                                {
                                    "0": "1",
                                    "1": "WINDOWS",
                                    "2": "1226",
                                    "3": "X540SA-RBPDN09 (N3710/4GB/1TB/W10)"
                                },
                                {
                                    "0": "1",
                                    "1": "WINDOWS",
                                    "2": "1227",
                                    "3": "XPS 13"
                                },
                                {
                                    "0": "2",
                                    "1": "LINUX",
                                    "2": "1228",
                                    "3": "Vostro 3568"
                                },
                                {
                                    "0": "1",
                                    "1": "WINDOWS",
                                    "2": "1229",
                                    "3": "IdeaPad Y700-15ISK"
                                },
                                {
                                    "0": "1",
                                    "1": "WINDOWS",
                                    "2": "1230",
                                    "3": "GL62M 7RDX"
                                },
                                {
                                    "0": "1",
                                    "1": "WINDOWS",
                                    "2": "1231",
                                    "3": "ThinkPad Yoga"
                                },
                                {
                                    "0": "1",
                                    "1": "WINDOWS",
                                    "2": "1232",
                                    "3": "Blade Pro"
                                },
                                {
                                    "0": "1",
                                    "1": "WINDOWS",
                                    "2": "1233",
                                    "3": "Inspiron 3567"
                                },
                                {
                                    "0": "1",
                                    "1": "WINDOWS",
                                    "2": "1234",
                                    "3": "GE72VR Apache"
                                },
                                {
                                    "0": "3",
                                    "1": "IOS",
                                    "2": "1235",
                                    "3": "MacBook Air"
                                },
                                {
                                    "0": "1",
                                    "1": "WINDOWS",
                                    "2": "1236",
                                    "3": "15-bs023nv (i3-6006U/4GB/1TB/FHD/W10)"
                                },
                                {
                                    "0": "4",
                                    "1": "NO OS",
                                    "2": "1237",
                                    "3": "EliteBook 840"
                                },
                                {
                                    "0": "4",
                                    "1": "NO OS",
                                    "2": "1238",
                                    "3": "Vostro 3559"
                                },
                                {
                                    "0": "1",
                                    "1": "WINDOWS",
                                    "2": "1239",
                                    "3": "GL62 6QF"
                                },
                                {
                                    "0": "1",
                                    "1": "WINDOWS",
                                    "2": "1240",
                                    "3": "ThinkPad 13"
                                },
                                {
                                    "0": "1",
                                    "1": "WINDOWS",
                                    "2": "1241",
                                    "3": "IdeaPad 320-15ABR"
                                },
                                {
                                    "0": "1",
                                    "1": "WINDOWS",
                                    "2": "1242",
                                    "3": "ZenBook UX310UA-WB71"
                                },
                                {
                                    "0": "2",
                                    "1": "LINUX",
                                    "2": "1243",
                                    "3": "Aspire ES1-572"
                                },
                                {
                                    "0": "1",
                                    "1": "WINDOWS",
                                    "2": "1244",
                                    "3": "Inspiron 7779"
                                },
                                {
                                    "0": "4",
                                    "1": "NO OS",
                                    "2": "1245",
                                    "3": "EliteBook 840"
                                },
                                {
                                    "0": "1",
                                    "1": "WINDOWS",
                                    "2": "1246",
                                    "3": "Rog GL553VE-FY052T"
                                },
                                {
                                    "0": "1",
                                    "1": "WINDOWS",
                                    "2": "1247",
                                    "3": "Latitude 5480"
                                },
                                {
                                    "0": "1",
                                    "1": "WINDOWS",
                                    "2": "1248",
                                    "3": "Rog GL502VS"
                                },
                                {
                                    "0": "4",
                                    "1": "NO OS",
                                    "2": "1249",
                                    "3": "V510-15IKB (i5-7200U/8GB/256GB/FHD/No"
                                },
                                {
                                    "0": "1",
                                    "1": "WINDOWS",
                                    "2": "1250",
                                    "3": "XPS 13"
                                },
                                {
                                    "0": "2",
                                    "1": "LINUX",
                                    "2": "1251",
                                    "3": "Inspiron 3552"
                                },
                                {
                                    "0": "1",
                                    "1": "WINDOWS",
                                    "2": "1252",
                                    "3": "255 G6"
                                },
                                {
                                    "0": "1",
                                    "1": "WINDOWS",
                                    "2": "1253",
                                    "3": "IdeaPad 310-15ISK"
                                },
                                {
                                    "0": "1",
                                    "1": "WINDOWS",
                                    "2": "1254",
                                    "3": "ThinkPad L460"
                                },
                                {
                                    "0": "1",
                                    "1": "WINDOWS",
                                    "2": "1255",
                                    "3": "Inspiron 3552"
                                },
                                {
                                    "0": "1",
                                    "1": "WINDOWS",
                                    "2": "1256",
                                    "3": "X541NA-GO020T (N3350/4GB/1TB/W10)"
                                },
                                {
                                    "0": "1",
                                    "1": "WINDOWS",
                                    "2": "1257",
                                    "3": "Rog G752VT-GC073T"
                                },
                                {
                                    "0": "1",
                                    "1": "WINDOWS",
                                    "2": "1258",
                                    "3": "Vostro 3568"
                                },
                                {
                                    "0": "4",
                                    "1": "NO OS",
                                    "2": "1259",
                                    "3": "B51-80 (i7-6500U/8GB/1008GB/Radeon"
                                },
                                {
                                    "0": "1",
                                    "1": "WINDOWS",
                                    "2": "1260",
                                    "3": "GE62 Apache"
                                },
                                {
                                    "0": "1",
                                    "1": "WINDOWS",
                                    "2": "1261",
                                    "3": "Yoga 500-14IBD"
                                },
                                {
                                    "0": "1",
                                    "1": "WINDOWS",
                                    "2": "1262",
                                    "3": "ZenBook UX305CA-UBM1"
                                },
                                {
                                    "0": "1",
                                    "1": "WINDOWS",
                                    "2": "1263",
                                    "3": "Inspiron 3567"
                                },
                                {
                                    "0": "2",
                                    "1": "LINUX",
                                    "2": "1264",
                                    "3": "Aspire ES1-531"
                                },
                                {
                                    "0": "1",
                                    "1": "WINDOWS",
                                    "2": "1265",
                                    "3": "Inspiron 3552"
                                },
                                {
                                    "0": "1",
                                    "1": "WINDOWS",
                                    "2": "1266",
                                    "3": "IdeaPad Y700-15ISK"
                                },
                                {
                                    "0": "1",
                                    "1": "WINDOWS",
                                    "2": "1267",
                                    "3": "Pavilion 15-AW003nv"
                                },
                                {
                                    "0": "2",
                                    "1": "LINUX",
                                    "2": "1268",
                                    "3": "Inspiron 3567"
                                },
                                {
                                    "0": "1",
                                    "1": "WINDOWS",
                                    "2": "1269",
                                    "3": "Stream 11-Y000na"
                                },
                                {
                                    "0": "1",
                                    "1": "WINDOWS",
                                    "2": "1270",
                                    "3": "X556UJ-XO044T (i7-6500U/4GB/500GB/GeForce"
                                },
                                {
                                    "0": "1",
                                    "1": "WINDOWS",
                                    "2": "1271",
                                    "3": "Yoga 500-14ISK"
                                },
                                {
                                    "0": "1",
                                    "1": "WINDOWS",
                                    "2": "1272",
                                    "3": "Yoga 900-13ISK"
                                },
                                {
                                    "0": "1",
                                    "1": "WINDOWS",
                                    "2": "1273",
                                    "3": "IdeaPad 100S-14IBR"
                                },
                                {
                                    "0": "1",
                                    "1": "WINDOWS",
                                    "2": "1274",
                                    "3": "15-AC110nv (i7-6500U/6GB/1TB/Radeon"
                                },
                                {
                                    "0": "1",
                                    "1": "WINDOWS",
                                    "2": "1275",
                                    "3": "X553SA-XX031T (N3050/4GB/500GB/W10)"
                                },
                                {
                                    "0": "1",
                                    "1": "WINDOWS",
                                    "2": "1276",
                                    "3": "ZenBook UX305CA-UBM1"
                                },
                                {
                                    "0": "1",
                                    "1": "WINDOWS",
                                    "2": "1277",
                                    "3": "Inspiron 3567"
                                },
                                {
                                    "0": "2",
                                    "1": "LINUX",
                                    "2": "1278",
                                    "3": "Aspire ES1-531"
                                },
                                {
                                    "0": "1",
                                    "1": "WINDOWS",
                                    "2": "1279",
                                    "3": "Inspiron 3552"
                                },
                                {
                                    "0": "1",
                                    "1": "WINDOWS",
                                    "2": "1280",
                                    "3": "IdeaPad Y700-15ISK"
                                },
                                {
                                    "0": "1",
                                    "1": "WINDOWS",
                                    "2": "1281",
                                    "3": "Pavilion 15-AW003nv"
                                },
                                {
                                    "0": "2",
                                    "1": "LINUX",
                                    "2": "1282",
                                    "3": "Inspiron 3567"
                                },
                                {
                                    "0": "1",
                                    "1": "WINDOWS",
                                    "2": "1283",
                                    "3": "Stream 11-Y000na"
                                },
                                {
                                    "0": "1",
                                    "1": "WINDOWS",
                                    "2": "1284",
                                    "3": "X556UJ-XO044T (i7-6500U/4GB/500GB/GeForce"
                                },
                                {
                                    "0": "1",
                                    "1": "WINDOWS",
                                    "2": "1285",
                                    "3": "Yoga 500-14ISK"
                                },
                                {
                                    "0": "1",
                                    "1": "WINDOWS",
                                    "2": "1286",
                                    "3": "Yoga 900-13ISK"
                                },
                                {
                                    "0": "1",
                                    "1": "WINDOWS",
                                    "2": "1287",
                                    "3": "IdeaPad 100S-14IBR"
                                },
                                {
                                    "0": "1",
                                    "1": "WINDOWS",
                                    "2": "1288",
                                    "3": "15-AC110nv (i7-6500U/6GB/1TB/Radeon"
                                },
                                {
                                    "0": "1",
                                    "1": "WINDOWS",
                                    "2": "1289",
                                    "3": "X553SA-XX031T (N3050/4GB/500GB/W10)"
                                },
                                {
                                    "0": "1",
                                    "1": "WINDOWS",
                                    "2": "1290",
                                    "3": "ZenBook UX305CA-UBM1"
                                },
                                {
                                    "0": "1",
                                    "1": "WINDOWS",
                                    "2": "1291",
                                    "3": "Inspiron 3567"
                                },
                                {
                                    "0": "2",
                                    "1": "LINUX",
                                    "2": "1292",
                                    "3": "Aspire ES1-531"
                                },
                                {
                                    "0": "1",
                                    "1": "WINDOWS",
                                    "2": "1293",
                                    "3": "Inspiron 3552"
                                },
                                {
                                    "0": "1",
                                    "1": "WINDOWS",
                                    "2": "1294",
                                    "3": "IdeaPad Y700-15ISK"
                                },
                                {
                                    "0": "1",
                                    "1": "WINDOWS",
                                    "2": "1295",
                                    "3": "Pavilion 15-AW003nv"
                                },
                                {
                                    "0": "2",
                                    "1": "LINUX",
                                    "2": "1296",
                                    "3": "Inspiron 3567"
                                },
                                {
                                    "0": "1",
                                    "1": "WINDOWS",
                                    "2": "1297",
                                    "3": "Stream 11-Y000na"
                                },
                                {
                                    "0": "1",
                                    "1": "WINDOWS",
                                    "2": "1298",
                                    "3": "X556UJ-XO044T (i7-6500U/4GB/500GB/GeForce"
                                },
                                {
                                    "0": "1",
                                    "1": "WINDOWS",
                                    "2": "1299",
                                    "3": "Yoga 500-14ISK"
                                },
                                {
                                    "0": "1",
                                    "1": "WINDOWS",
                                    "2": "1300",
                                    "3": "Yoga 900-13ISK"
                                },
                                {
                                    "0": "1",
                                    "1": "WINDOWS",
                                    "2": "1301",
                                    "3": "IdeaPad 100S-14IBR"
                                },
                                {
                                    "0": "1",
                                    "1": "WINDOWS",
                                    "2": "1302",
                                    "3": "15-AC110nv (i7-6500U/6GB/1TB/Radeon"
                                },
                                {
                                    "0": "1",
                                    "1": "WINDOWS",
                                    "2": "1303",
                                    "3": "X553SA-XX031T (N3050/4GB/500GB/W10)"
                                }
                            ]
                        },
                        "text/html": [
                            "<table>",
                            "<tr><th>OperatingSystemIds</th><th>OperatingSystemNames</th><th>ElectronicID</th><th>ElectronicName</th></tr>",
                            "<tr><td>3</td><td>IOS</td><td>1</td><td>MacBook Pro</td></tr>",
                            "<tr><td>3</td><td>IOS</td><td>2</td><td>Macbook Air</td></tr>",
                            "<tr><td>4</td><td>NO OS</td><td>3</td><td>250 G6</td></tr>",
                            "<tr><td>3</td><td>IOS</td><td>4</td><td>MacBook Pro</td></tr>",
                            "<tr><td>3</td><td>IOS</td><td>5</td><td>MacBook Pro</td></tr>",
                            "<tr><td>1</td><td>WINDOWS</td><td>6</td><td>Aspire 3</td></tr>",
                            "<tr><td>3</td><td>IOS</td><td>7</td><td>MacBook Pro</td></tr>",
                            "<tr><td>3</td><td>IOS</td><td>8</td><td>Macbook Air</td></tr>",
                            "<tr><td>1</td><td>WINDOWS</td><td>9</td><td>ZenBook UX430UN</td></tr>",
                            "<tr><td>1</td><td>WINDOWS</td><td>10</td><td>Swift 3</td></tr>",
                            "<tr><td>4</td><td>NO OS</td><td>11</td><td>250 G6</td></tr>",
                            "<tr><td>4</td><td>NO OS</td><td>12</td><td>250 G6</td></tr>",
                            "<tr><td>3</td><td>IOS</td><td>13</td><td>MacBook Pro</td></tr>",
                            "<tr><td>1</td><td>WINDOWS</td><td>14</td><td>Inspiron 3567</td></tr>",
                            "<tr><td>3</td><td>IOS</td><td>15</td><td>MacBook 12&quot;</td></tr>",
                            "<tr><td>3</td><td>IOS</td><td>16</td><td>MacBook Pro</td></tr>",
                            "<tr><td>1</td><td>WINDOWS</td><td>17</td><td>Inspiron 3567</td></tr>",
                            "<tr><td>3</td><td>IOS</td><td>18</td><td>MacBook Pro</td></tr>",
                            "<tr><td>4</td><td>NO OS</td><td>19</td><td>IdeaPad 320-15IKB</td></tr>",
                            "<tr><td>1</td><td>WINDOWS</td><td>20</td><td>XPS 13</td></tr>",
                            "<tr><td>1</td><td>WINDOWS</td><td>21</td><td>Vivobook E200HA</td></tr>",
                            "<tr><td>1</td><td>WINDOWS</td><td>22</td><td>Legion Y520-15IKBN</td></tr>",
                            "<tr><td>4</td><td>NO OS</td><td>23</td><td>255 G6</td></tr>",
                            "<tr><td>1</td><td>WINDOWS</td><td>24</td><td>Inspiron 5379</td></tr>",
                            "<tr><td>1</td><td>WINDOWS</td><td>25</td><td>15-BS101nv (i7-8550U/8GB/256GB/FHD/W10)</td></tr>",
                            "<tr><td>1</td><td>WINDOWS</td><td>26</td><td>Inspiron 3567</td></tr>",
                            "<tr><td>3</td><td>IOS</td><td>27</td><td>MacBook Air</td></tr>",
                            "<tr><td>1</td><td>WINDOWS</td><td>28</td><td>Inspiron 5570</td></tr>",
                            "<tr><td>1</td><td>WINDOWS</td><td>29</td><td>Latitude 5590</td></tr>",
                            "<tr><td>1</td><td>WINDOWS</td><td>30</td><td>ProBook 470</td></tr>",
                            "<tr><td>1</td><td>WINDOWS</td><td>31</td><td>LapBook 15.6&quot;</td></tr>",
                            "<tr><td>1</td><td>WINDOWS</td><td>32</td><td>E402WA-GA010T (E2-6110/2GB/32GB/W10)</td></tr>",
                            "<tr><td>1</td><td>WINDOWS</td><td>33</td><td>17-ak001nv (A6-9220/4GB/500GB/Radeon</td></tr>",
                            "<tr><td>1</td><td>WINDOWS</td><td>34</td><td>XPS 13</td></tr>",
                            "<tr><td>3</td><td>IOS</td><td>35</td><td>MacBook Air</td></tr>",
                            "<tr><td>1</td><td>WINDOWS</td><td>36</td><td>IdeaPad 120S-14IAP</td></tr>",
                            "<tr><td>2</td><td>LINUX</td><td>37</td><td>Aspire 3</td></tr>",
                            "<tr><td>1</td><td>WINDOWS</td><td>38</td><td>Inspiron 5770</td></tr>",
                            "<tr><td>1</td><td>WINDOWS</td><td>39</td><td>250 G6</td></tr>",
                            "<tr><td>1</td><td>WINDOWS</td><td>40</td><td>ProBook 450</td></tr>",
                            "<tr><td>2</td><td>LINUX</td><td>41</td><td>X540UA-DM186 (i3-6006U/4GB/1TB/FHD/Linux)</td></tr>",
                            "<tr><td>1</td><td>WINDOWS</td><td>42</td><td>Inspiron 7577</td></tr>",
                            "<tr><td>2</td><td>LINUX</td><td>43</td><td>X542UQ-GO005 (i5-7200U/8GB/1TB/GeForce</td></tr>",
                            "<tr><td>1</td><td>WINDOWS</td><td>44</td><td>Aspire A515-51G</td></tr>",
                            "<tr><td>1</td><td>WINDOWS</td><td>45</td><td>Inspiron 7773</td></tr>",
                            "<tr><td>3</td><td>IOS</td><td>46</td><td>MacBook Pro</td></tr>",
                            "<tr><td>4</td><td>NO OS</td><td>47</td><td>IdeaPad 320-15ISK</td></tr>",
                            "<tr><td>1</td><td>WINDOWS</td><td>48</td><td>Rog Strix</td></tr>",
                            "<tr><td>1</td><td>WINDOWS</td><td>49</td><td>Inspiron 3567</td></tr>",
                            "<tr><td>1</td><td>WINDOWS</td><td>50</td><td>X751NV-TY001T (N4200/4GB/1TB/GeForce</td></tr>",
                            "<tr><td>4</td><td>NO OS</td><td>51</td><td>Yoga Book</td></tr>",
                            "<tr><td>1</td><td>WINDOWS</td><td>52</td><td>Aspire A515-51G</td></tr>",
                            "<tr><td>1</td><td>WINDOWS</td><td>53</td><td>255 G6</td></tr>",
                            "<tr><td>1</td><td>WINDOWS</td><td>54</td><td>ProBook 430</td></tr>",
                            "<tr><td>1</td><td>WINDOWS</td><td>55</td><td>Aspire 3</td></tr>",
                            "<tr><td>1</td><td>WINDOWS</td><td>56</td><td>Inspiron 3576</td></tr>",
                            "<tr><td>1</td><td>WINDOWS</td><td>57</td><td>15-bs002nv (i3-6006U/4GB/128GB/FHD/W10)</td></tr>",
                            "<tr><td>1</td><td>WINDOWS</td><td>58</td><td>VivoBook Max</td></tr>",
                            "<tr><td>1</td><td>WINDOWS</td><td>59</td><td>GS73VR 7RG</td></tr>",
                            "<tr><td>2</td><td>LINUX</td><td>60</td><td>X541UA-DM1897 (i3-6006U/4GB/256GB/FHD/Linux)</td></tr>",
                            "<tr><td>1</td><td>WINDOWS</td><td>61</td><td>Inspiron 5770</td></tr>",
                            "<tr><td>1</td><td>WINDOWS</td><td>62</td><td>Vostro 5471</td></tr>",
                            "<tr><td>4</td><td>NO OS</td><td>63</td><td>IdeaPad 520S-14IKB</td></tr>",
                            "<tr><td>1</td><td>WINDOWS</td><td>64</td><td>UX410UA-GV350T (i5-8250U/8GB/256GB/FHD/W10)</td></tr>",
                            "<tr><td>1</td><td>WINDOWS</td><td>65</td><td>250 G6</td></tr>",
                            "<tr><td>1</td><td>WINDOWS</td><td>66</td><td>ZenBook Pro</td></tr>",
                            "<tr><td>1</td><td>WINDOWS</td><td>67</td><td>250 G6</td></tr>",
                            "<tr><td>1</td><td>WINDOWS</td><td>68</td><td>Stream 14-AX040wm</td></tr>",
                            "<tr><td>1</td><td>WINDOWS</td><td>69</td><td>V310-15ISK (i5-7200U/4GB/1TB/FHD/W10)</td></tr>",
                            "<tr><td>2</td><td>LINUX</td><td>70</td><td>FX753VE-GC093 (i7-7700HQ/12GB/1TB/GeForce</td></tr>",
                            "<tr><td>4</td><td>NO OS</td><td>71</td><td>Surface Laptop</td></tr>",
                            "<tr><td>1</td><td>WINDOWS</td><td>72</td><td>Inspiron 5370</td></tr>",
                            "<tr><td>1</td><td>WINDOWS</td><td>73</td><td>Inspiron 5570</td></tr>",
                            "<tr><td>1</td><td>WINDOWS</td><td>74</td><td>GL72M 7RDX</td></tr>",
                            "<tr><td>1</td><td>WINDOWS</td><td>75</td><td>Aspire E5-475</td></tr>",
                            "<tr><td>1</td><td>WINDOWS</td><td>76</td><td>FX503VD-E4022T (i7-7700HQ/8GB/1TB/GeForce</td></tr>",
                            "<tr><td>4</td><td>NO OS</td><td>77</td><td>IdeaPad 320-15IKBN</td></tr>",
                            "<tr><td>1</td><td>WINDOWS</td><td>78</td><td>Inspiron 5570</td></tr>",
                            "<tr><td>1</td><td>WINDOWS</td><td>79</td><td>Aspire A515-51G-32MX</td></tr>",
                            "<tr><td>1</td><td>WINDOWS</td><td>80</td><td>ProBook 470</td></tr>",
                            "<tr><td>1</td><td>WINDOWS</td><td>81</td><td>Latitude 5590</td></tr>",
                            "<tr><td>3</td><td>IOS</td><td>82</td><td>MacBook 12&quot;</td></tr>",
                            "<tr><td>1</td><td>WINDOWS</td><td>83</td><td>ProBook 440</td></tr>",
                            "<tr><td>1</td><td>WINDOWS</td><td>84</td><td>IdeaPad 320-15AST</td></tr>",
                            "<tr><td>1</td><td>WINDOWS</td><td>85</td><td>Aspire 3</td></tr>",
                            "<tr><td>1</td><td>WINDOWS</td><td>86</td><td>Inspiron 7577</td></tr>",
                            "<tr><td>1</td><td>WINDOWS</td><td>87</td><td>Pavilion 15-CK000nv</td></tr>",
                            "<tr><td>1</td><td>WINDOWS</td><td>88</td><td>250 G6</td></tr>",
                            "<tr><td>1</td><td>WINDOWS</td><td>89</td><td>FX503VM-E4007T (i7-7700HQ/16GB/1TB</td></tr>",
                            "<tr><td>1</td><td>WINDOWS</td><td>90</td><td>XPS 13</td></tr>",
                            "<tr><td>1</td><td>WINDOWS</td><td>91</td><td>FX550IK-DM018T (FX-9830P/8GB/1TB/Radeon</td></tr>",
                            "<tr><td>1</td><td>WINDOWS</td><td>92</td><td>Aspire 5</td></tr>",
                            "<tr><td>1</td><td>WINDOWS</td><td>93</td><td>Probook 430</td></tr>",
                            "<tr><td>1</td><td>WINDOWS</td><td>94</td><td>Inspiron 7577</td></tr>",
                            "<tr><td>1</td><td>WINDOWS</td><td>95</td><td>Zenbook UX430UA</td></tr>",
                            "<tr><td>1</td><td>WINDOWS</td><td>96</td><td>Spin 5</td></tr>",
                            "<tr><td>2</td><td>LINUX</td><td>97</td><td>Inspiron 3567</td></tr>",
                            "<tr><td>2</td><td>LINUX</td><td>98</td><td>Inspiron 3567</td></tr>",
                            "<tr><td>1</td><td>WINDOWS</td><td>99</td><td>X541UV-DM1439T (i3-7100U/6GB/256GB/GeForce</td></tr>",
                            "<tr><td>1</td><td>WINDOWS</td><td>100</td><td>Omen 15-ce007nv</td></tr>",
                            "<tr><td>1</td><td>WINDOWS</td><td>101</td><td>15-bs017nv (i7-7500U/8GB/256GB/Radeon</td></tr>",
                            "<tr><td>1</td><td>WINDOWS</td><td>102</td><td>15-bw000nv (E2-9000e/4GB/500GB/Radeon</td></tr>",
                            "<tr><td>2</td><td>LINUX</td><td>103</td><td>Inspiron 3576</td></tr>",
                            "<tr><td>1</td><td>WINDOWS</td><td>104</td><td>Envy 13-ad009n</td></tr>",
                            "<tr><td>4</td><td>NO OS</td><td>105</td><td>Surface Laptop</td></tr>",
                            "<tr><td>1</td><td>WINDOWS</td><td>106</td><td>Pavilion 14-BK001nv</td></tr>",
                            "<tr><td>1</td><td>WINDOWS</td><td>107</td><td>Ideapad 310-15ISK</td></tr>",
                            "<tr><td>1</td><td>WINDOWS</td><td>108</td><td>UX430UQ-GV209R (i7-7500U/8GB/256GB/GeForce</td></tr>",
                            "<tr><td>1</td><td>WINDOWS</td><td>109</td><td>GP62M 7REX</td></tr>",
                            "<tr><td>1</td><td>WINDOWS</td><td>110</td><td>Thinkpad T470</td></tr>",
                            "<tr><td>1</td><td>WINDOWS</td><td>111</td><td>VivoBook S15</td></tr>",
                            "<tr><td>1</td><td>WINDOWS</td><td>112</td><td>XPS 13</td></tr>",
                            "<tr><td>1</td><td>WINDOWS</td><td>113</td><td>ThinkPad Yoga</td></tr>",
                            "<tr><td>1</td><td>WINDOWS</td><td>114</td><td>Probook 440</td></tr>",
                            "<tr><td>1</td><td>WINDOWS</td><td>115</td><td>XPS 13</td></tr>",
                            "<tr><td>1</td><td>WINDOWS</td><td>116</td><td>Spectre x360</td></tr>",
                            "<tr><td>1</td><td>WINDOWS</td><td>117</td><td>Probook 440</td></tr>",
                            "<tr><td>1</td><td>WINDOWS</td><td>118</td><td>Inspiron 7570</td></tr>",
                            "<tr><td>1</td><td>WINDOWS</td><td>119</td><td>X705UV-BX074T (i3-6006U/4GB/1TB/GeForce</td></tr>",
                            "<tr><td>1</td><td>WINDOWS</td><td>120</td><td>VivoBook S15</td></tr>",
                            "<tr><td>1</td><td>WINDOWS</td><td>121</td><td>Spin 3</td></tr>",
                            "<tr><td>1</td><td>WINDOWS</td><td>122</td><td>GS63VR 7RG</td></tr>",
                            "<tr><td>4</td><td>NO OS</td><td>123</td><td>IdeaPad 320-15IKBN</td></tr>",
                            "<tr><td>1</td><td>WINDOWS</td><td>124</td><td>Probook 470</td></tr>",
                            "<tr><td>1</td><td>WINDOWS</td><td>125</td><td>Aspire 3</td></tr>",
                            "<tr><td>4</td><td>NO OS</td><td>126</td><td>250 G6</td></tr>",
                            "<tr><td>1</td><td>WINDOWS</td><td>127</td><td>Probook 440</td></tr>",
                            "<tr><td>4</td><td>NO OS</td><td>128</td><td>E402WA-GA007T (E2-6110/4GB/64GB/W10</td></tr>",
                            "<tr><td>1</td><td>WINDOWS</td><td>129</td><td>Inspiron 5770</td></tr>",
                            "<tr><td>1</td><td>WINDOWS</td><td>130</td><td>ProBook 470</td></tr>",
                            "<tr><td>1</td><td>WINDOWS</td><td>131</td><td>Inspiron 5567</td></tr>",
                            "<tr><td>1</td><td>WINDOWS</td><td>132</td><td>Inspiron 3567</td></tr>",
                            "<tr><td>1</td><td>WINDOWS</td><td>133</td><td>Swift 3</td></tr>",
                            "<tr><td>1</td><td>WINDOWS</td><td>134</td><td>Aspire A515-51G-37JS</td></tr>",
                            "<tr><td>1</td><td>WINDOWS</td><td>135</td><td>15-BS078nr (i7-7500U/8GB/1TB/W10)</td></tr>",
                            "<tr><td>1</td><td>WINDOWS</td><td>136</td><td>Probook 440</td></tr>",
                            "<tr><td>4</td><td>NO OS</td><td>137</td><td>V110-15IAP (N3350/4GB/1TB/No</td></tr>",
                            "<tr><td>1</td><td>WINDOWS</td><td>138</td><td>FX753VD-GC086T (i5-7300HQ/8GB/1TB</td></tr>",
                            "<tr><td>4</td><td>NO OS</td><td>139</td><td>IdeaPad 320-15IKBN</td></tr>",
                            "<tr><td>1</td><td>WINDOWS</td><td>140</td><td>Envy 13-AD007nv</td></tr>",
                            "<tr><td>1</td><td>WINDOWS</td><td>141</td><td>Aspire 5</td></tr>",
                            "<tr><td>1</td><td>WINDOWS</td><td>142</td><td>ThinkPad E480</td></tr>",
                            "<tr><td>4</td><td>NO OS</td><td>143</td><td>Legion Y520-15IKBN</td></tr>",
                            "<tr><td>1</td><td>WINDOWS</td><td>144</td><td>Satellite Pro</td></tr>",
                            "<tr><td>1</td><td>WINDOWS</td><td>145</td><td>255 G6</td></tr>",
                            "<tr><td>1</td><td>WINDOWS</td><td>146</td><td>ZenBook UX430UA</td></tr>",
                            "<tr><td>1</td><td>WINDOWS</td><td>147</td><td>EliteBook Folio</td></tr>",
                            "<tr><td>1</td><td>WINDOWS</td><td>148</td><td>X541NA (N3350/4GB/1TB/FHD/W10)</td></tr>",
                            "<tr><td>1</td><td>WINDOWS</td><td>149</td><td>GE72MVR 7RG</td></tr>",
                            "<tr><td>1</td><td>WINDOWS</td><td>150</td><td>Aspire A315-51</td></tr>",
                            "<tr><td>1</td><td>WINDOWS</td><td>151</td><td>Inspiron 5577</td></tr>",
                            "<tr><td>1</td><td>WINDOWS</td><td>152</td><td>Inspiron 7567</td></tr>",
                            "<tr><td>1</td><td>WINDOWS</td><td>153</td><td>V110-15IKB (i5-7200U/4GB/128GB/W10)</td></tr>",
                            "<tr><td>1</td><td>WINDOWS</td><td>154</td><td>GE73VR 7RE</td></tr>",
                            "<tr><td>1</td><td>WINDOWS</td><td>155</td><td>EliteBook 840</td></tr>",
                            "<tr><td>1</td><td>WINDOWS</td><td>156</td><td>15-BS103nv (i5-8250U/6GB/256GB/Radeon</td></tr>",
                            "<tr><td>1</td><td>WINDOWS</td><td>157</td><td>Yoga 520-14IKB</td></tr>",
                            "<tr><td>1</td><td>WINDOWS</td><td>158</td><td>ZenBook Flip</td></tr>",
                            "<tr><td>1</td><td>WINDOWS</td><td>159</td><td>Inspiron 5579</td></tr>",
                            "<tr><td>1</td><td>WINDOWS</td><td>160</td><td>Satellite Pro</td></tr>",
                            "<tr><td>1</td><td>WINDOWS</td><td>161</td><td>X555BP-XX180T (A9-9420/4GB/1TB/Radeon</td></tr>",
                            "<tr><td>1</td><td>WINDOWS</td><td>162</td><td>Aspire A517-51G</td></tr>",
                            "<tr><td>1</td><td>WINDOWS</td><td>163</td><td>Inspiron 3576</td></tr>",
                            "<tr><td>1</td><td>WINDOWS</td><td>164</td><td>Legion Y520-15IKBN</td></tr>",
                            "<tr><td>1</td><td>WINDOWS</td><td>165</td><td>Aspire A315-31</td></tr>",
                            "<tr><td>1</td><td>WINDOWS</td><td>166</td><td>GE63VR 7RE</td></tr>",
                            "<tr><td>1</td><td>WINDOWS</td><td>167</td><td>Aspire 3</td></tr>",
                            "<tr><td>1</td><td>WINDOWS</td><td>168</td><td>Inspiron 5577</td></tr>",
                            "<tr><td>1</td><td>WINDOWS</td><td>169</td><td>Aspire A517-51G</td></tr>",
                            "<tr><td>1</td><td>WINDOWS</td><td>170</td><td>ProBook 430</td></tr>",
                            "<tr><td>1</td><td>WINDOWS</td><td>171</td><td>MateBook X</td></tr>",
                            "<tr><td>1</td><td>WINDOWS</td><td>172</td><td>17-bs001nv (i5-7200U/6GB/2TB/Radeon</td></tr>",
                            "<tr><td>4</td><td>NO OS</td><td>173</td><td>IdeaPad 320-15AST</td></tr>",
                            "<tr><td>1</td><td>WINDOWS</td><td>174</td><td>Satellite Pro</td></tr>",
                            "<tr><td>1</td><td>WINDOWS</td><td>175</td><td>ProBook 470</td></tr>",
                            "<tr><td>1</td><td>WINDOWS</td><td>176</td><td>Inspiron 3567</td></tr>",
                            "<tr><td>1</td><td>WINDOWS</td><td>177</td><td>Aspire A315-51</td></tr>",
                            "<tr><td>1</td><td>WINDOWS</td><td>178</td><td>GT80S 6QF-074US</td></tr>",
                            "<tr><td>1</td><td>WINDOWS</td><td>179</td><td>V310-15IKB (i5-7200U/8GB/1TB</td></tr>",
                            "<tr><td>1</td><td>WINDOWS</td><td>180</td><td>Spectre x360</td></tr>",
                            "<tr><td>2</td><td>LINUX</td><td>181</td><td>Inspiron 5570</td></tr>",
                            "<tr><td>1</td><td>WINDOWS</td><td>182</td><td>XPS 13</td></tr>",
                            "<tr><td>1</td><td>WINDOWS</td><td>183</td><td>Yoga 920-13IKB</td></tr>",
                            "<tr><td>1</td><td>WINDOWS</td><td>184</td><td>Satellite Pro</td></tr>",
                            "<tr><td>4</td><td>NO OS</td><td>185</td><td>Mi Notebook</td></tr>",
                            "<tr><td>1</td><td>WINDOWS</td><td>186</td><td>Inspiron 7773</td></tr>",
                            "<tr><td>1</td><td>WINDOWS</td><td>187</td><td>XPS 15</td></tr>",
                            "<tr><td>4</td><td>NO OS</td><td>188</td><td>Legion Y520-15IKBN</td></tr>",
                            "<tr><td>1</td><td>WINDOWS</td><td>189</td><td>Swift 7</td></tr>",
                            "<tr><td>1</td><td>WINDOWS</td><td>190</td><td>Inspiron 5770</td></tr>",
                            "<tr><td>1</td><td>WINDOWS</td><td>191</td><td>Thinkpad Yoga</td></tr>",
                            "<tr><td>1</td><td>WINDOWS</td><td>192</td><td>K147 (N3350/4GB/32GB/FHD/W10)</td></tr>",
                            "<tr><td>4</td><td>NO OS</td><td>193</td><td>Mi Notebook</td></tr>",
                            "<tr><td>4</td><td>NO OS</td><td>194</td><td>IdeaPad 320-17IKBR</td></tr>",
                            "<tr><td>1</td><td>WINDOWS</td><td>195</td><td>Inspiron 5379</td></tr>",
                            "<tr><td>1</td><td>WINDOWS</td><td>196</td><td>ProBook 470</td></tr>",
                            "<tr><td>1</td><td>WINDOWS</td><td>197</td><td>Blade Pro</td></tr>",
                            "<tr><td>1</td><td>WINDOWS</td><td>198</td><td>ProBook 430</td></tr>",
                            "<tr><td>1</td><td>WINDOWS</td><td>199</td><td>Omen 17-W295</td></tr>",
                            "<tr><td>1</td><td>WINDOWS</td><td>200</td><td>Probook 470</td></tr>",
                            "<tr><td>1</td><td>WINDOWS</td><td>201</td><td>Inspiron 7577</td></tr>",
                            "<tr><td>1</td><td>WINDOWS</td><td>202</td><td>V110-15ISK (i5-6200U/4GB/128GB/W10)</td></tr>",
                            "<tr><td>1</td><td>WINDOWS</td><td>203</td><td>Aspire E5-576G</td></tr>",
                            "<tr><td>1</td><td>WINDOWS</td><td>204</td><td>Legion Y720-15IKB</td></tr>",
                            "<tr><td>1</td><td>WINDOWS</td><td>205</td><td>Precision 7520</td></tr>",
                            "<tr><td>4</td><td>NO OS</td><td>206</td><td>Legion Y520-15IKBN</td></tr>",
                            "<tr><td>1</td><td>WINDOWS</td><td>207</td><td>Inspiron 3567</td></tr>",
                            "<tr><td>1</td><td>WINDOWS</td><td>208</td><td>XPS 13</td></tr>",
                            "<tr><td>1</td><td>WINDOWS</td><td>209</td><td>XPS 13</td></tr>",
                            "<tr><td>1</td><td>WINDOWS</td><td>210</td><td>IdeaPad 320-15IKBN</td></tr>",
                            "<tr><td>2</td><td>LINUX</td><td>211</td><td>Aspire 7</td></tr>",
                            "<tr><td>1</td><td>WINDOWS</td><td>212</td><td>ROG GL703VD-GC028T</td></tr>",
                            "<tr><td>4</td><td>NO OS</td><td>213</td><td>15-bs018nq (i3-6006U/4GB/500GB/FHD/No</td></tr>",
                            "<tr><td>4</td><td>NO OS</td><td>214</td><td>IdeaPad 320-15IKBN</td></tr>",
                            "<tr><td>1</td><td>WINDOWS</td><td>215</td><td>MateBook X</td></tr>",
                            "<tr><td>1</td><td>WINDOWS</td><td>216</td><td>Inspiron 5370</td></tr>",
                            "<tr><td>4</td><td>NO OS</td><td>217</td><td>IdeaPad 320-17IKB</td></tr>",
                            "<tr><td>1</td><td>WINDOWS</td><td>218</td><td>Probook 440</td></tr>",
                            "<tr><td>1</td><td>WINDOWS</td><td>219</td><td>Latitude 5490</td></tr>",
                            "<tr><td>1</td><td>WINDOWS</td><td>220</td><td>Inspiron 5379</td></tr>",
                            "<tr><td>2</td><td>LINUX</td><td>221</td><td>Inspiron 3576</td></tr>",
                            "<tr><td>1</td><td>WINDOWS</td><td>222</td><td>Yoga 520-14IKB</td></tr>",
                            "<tr><td>1</td><td>WINDOWS</td><td>223</td><td>Portege Z30-C-16L</td></tr>",
                            "<tr><td>1</td><td>WINDOWS</td><td>224</td><td>ProBook 450</td></tr>",
                            "<tr><td>1</td><td>WINDOWS</td><td>225</td><td>Alienware 17</td></tr>",
                            "<tr><td>1</td><td>WINDOWS</td><td>226</td><td>Aspire E5-576G</td></tr>",
                            "<tr><td>1</td><td>WINDOWS</td><td>227</td><td>Inspiron 5567</td></tr>",
                            "<tr><td>1</td><td>WINDOWS</td><td>228</td><td>Vivobook X541UV-DM1217T</td></tr>",
                            "<tr><td>1</td><td>WINDOWS</td><td>229</td><td>K756UX-T4340T (i5-7200U/8GB/500GB</td></tr>",
                            "<tr><td>1</td><td>WINDOWS</td><td>230</td><td>ZBook 15u</td></tr>",
                            "<tr><td>1</td><td>WINDOWS</td><td>231</td><td>Pro P2540UA-XO0198T</td></tr>",
                            "<tr><td>1</td><td>WINDOWS</td><td>232</td><td>15-rb013nv (E2-9000e/4GB/500GB/W10)</td></tr>",
                            "<tr><td>1</td><td>WINDOWS</td><td>233</td><td>Legion Y720-15IKB</td></tr>",
                            "<tr><td>1</td><td>WINDOWS</td><td>234</td><td>Vostro 5468</td></tr>",
                            "<tr><td>1</td><td>WINDOWS</td><td>235</td><td>Aspire R7</td></tr>",
                            "<tr><td>2</td><td>LINUX</td><td>236</td><td>Inspiron 5567</td></tr>",
                            "<tr><td>2</td><td>LINUX</td><td>237</td><td>Aspire A315-51</td></tr>",
                            "<tr><td>1</td><td>WINDOWS</td><td>238</td><td>X555QG-DM242T (A10-9620P/4GB/1TB</td></tr>",
                            "<tr><td>1</td><td>WINDOWS</td><td>239</td><td>ROG G703VI-E5062T</td></tr>",
                            "<tr><td>1</td><td>WINDOWS</td><td>240</td><td>Nitro AN515-51</td></tr>",
                            "<tr><td>1</td><td>WINDOWS</td><td>241</td><td>IdeaPad 320-15ISK</td></tr>",
                            "<tr><td>1</td><td>WINDOWS</td><td>242</td><td>VivoBook Pro</td></tr>",
                            "<tr><td>4</td><td>NO OS</td><td>243</td><td>F756UX-T4201D (i7-7500U/8GB/128GB</td></tr>",
                            "<tr><td>1</td><td>WINDOWS</td><td>244</td><td>Inspiron 5577</td></tr>",
                            "<tr><td>1</td><td>WINDOWS</td><td>245</td><td>Yoga 910-13IKB</td></tr>",
                            "<tr><td>1</td><td>WINDOWS</td><td>246</td><td>Inspiron 5570</td></tr>",
                            "<tr><td>1</td><td>WINDOWS</td><td>247</td><td>15-bs015dx (i5-7200U/8GB/1TB/W10)</td></tr>",
                            "<tr><td>1</td><td>WINDOWS</td><td>248</td><td>Rog G701VIK-BA060T</td></tr>",
                            "<tr><td>1</td><td>WINDOWS</td><td>249</td><td>ProBook 430</td></tr>",
                            "<tr><td>3</td><td>IOS</td><td>250</td><td>MacBook Pro</td></tr>",
                            "<tr><td>1</td><td>WINDOWS</td><td>251</td><td>Inspiron 5579</td></tr>",
                            "<tr><td>1</td><td>WINDOWS</td><td>252</td><td>ROG G752VSK-GC493T</td></tr>",
                            "<tr><td>1</td><td>WINDOWS</td><td>253</td><td>X505BP-BR019T (A9-9420/4GB/1TB/Radeon</td></tr>",
                            "<tr><td>1</td><td>WINDOWS</td><td>254</td><td>Yoga 920-13IKB</td></tr>",
                            "<tr><td>1</td><td>WINDOWS</td><td>255</td><td>Aspire 5</td></tr>",
                            "<tr><td>1</td><td>WINDOWS</td><td>256</td><td>Vostro 5370</td></tr>",
                            "<tr><td>1</td><td>WINDOWS</td><td>257</td><td>15-BW094nd (A6-9220/8GB/128GB/W10)</td></tr>",
                            "<tr><td>1</td><td>WINDOWS</td><td>258</td><td>Envy 17-U275cl</td></tr>",
                            "<tr><td>1</td><td>WINDOWS</td><td>259</td><td>GT73EVR 7RE</td></tr>",
                            "<tr><td>1</td><td>WINDOWS</td><td>260</td><td>Yoga 720-15IKB</td></tr>",
                            "<tr><td>1</td><td>WINDOWS</td><td>261</td><td>Inspiron 5770</td></tr>",
                            "<tr><td>4</td><td>NO OS</td><td>262</td><td>IdeaPad 320-15ISK</td></tr>",
                            "<tr><td>1</td><td>WINDOWS</td><td>263</td><td>ProBook 450</td></tr>",
                            "<tr><td>1</td><td>WINDOWS</td><td>264</td><td>Vostro 3568</td></tr>",
                            "<tr><td>1</td><td>WINDOWS</td><td>265</td><td>Inspiron 3567</td></tr>",
                            "<tr><td>1</td><td>WINDOWS</td><td>266</td><td>Inspiron 5579</td></tr>",
                            "<tr><td>1</td><td>WINDOWS</td><td>267</td><td>ZenBook Flip</td></tr>",
                            "<tr><td>4</td><td>NO OS</td><td>268</td><td>IdeaPad 320-15IKBN</td></tr>",
                            "<tr><td>1</td><td>WINDOWS</td><td>269</td><td>Probook 470</td></tr>",
                            "<tr><td>1</td><td>WINDOWS</td><td>270</td><td>V330-15IKB (i7-8550U/8GB/256GB/FHD/W10)</td></tr>",
                            "<tr><td>3</td><td>IOS</td><td>271</td><td>MacBook Pro</td></tr>",
                            "<tr><td>1</td><td>WINDOWS</td><td>272</td><td>Rog Strix</td></tr>",
                            "<tr><td>2</td><td>LINUX</td><td>273</td><td>Inspiron 3576</td></tr>",
                            "<tr><td>1</td><td>WINDOWS</td><td>274</td><td>ThinkPad X1</td></tr>",
                            "<tr><td>1</td><td>WINDOWS</td><td>275</td><td>Satellite Pro</td></tr>",
                            "<tr><td>1</td><td>WINDOWS</td><td>276</td><td>Inspiron 5567</td></tr>",
                            "<tr><td>2</td><td>LINUX</td><td>277</td><td>Inspiron 5770</td></tr>",
                            "<tr><td>1</td><td>WINDOWS</td><td>278</td><td>Aspire A515-51G</td></tr>",
                            "<tr><td>1</td><td>WINDOWS</td><td>279</td><td>IdeaPad 320-17ISK</td></tr>",
                            "<tr><td>4</td><td>NO OS</td><td>280</td><td>IdeaPad 320-17IKBR</td></tr>",
                            "<tr><td>1</td><td>WINDOWS</td><td>281</td><td>IdeaPad 320-17IKB</td></tr>",
                            "<tr><td>2</td><td>LINUX</td><td>282</td><td>Inspiron 3567</td></tr>",
                            "<tr><td>1</td><td>WINDOWS</td><td>283</td><td>Legion Y520-15IKBN</td></tr>",
                            "<tr><td>1</td><td>WINDOWS</td><td>284</td><td>Ideapad 320-15IKBN</td></tr>",
                            "<tr><td>1</td><td>WINDOWS</td><td>285</td><td>Aspire A517-51G</td></tr>",
                            "<tr><td>1</td><td>WINDOWS</td><td>286</td><td>SP315-51 (i7-7500U/12GB/1TB/FHD/W10)</td></tr>",
                            "<tr><td>1</td><td>WINDOWS</td><td>287</td><td>Thinkpad T570</td></tr>",
                            "<tr><td>1</td><td>WINDOWS</td><td>288</td><td>VivoBook S15</td></tr>",
                            "<tr><td>1</td><td>WINDOWS</td><td>289</td><td>Legion Y520-15IKBN</td></tr>",
                            "<tr><td>4</td><td>NO OS</td><td>290</td><td>IdeaPad 320-15IKB</td></tr>",
                            "<tr><td>4</td><td>NO OS</td><td>291</td><td>Chromebook C910-C2ST</td></tr>",
                            "<tr><td>1</td><td>WINDOWS</td><td>292</td><td>FX753VD-GC071T (i7-7700HQ/8GB/1TB/GeForce</td></tr>",
                            "<tr><td>1</td><td>WINDOWS</td><td>293</td><td>17-BS037cl (i3-6006U/8GB/1TB/W10)</td></tr>",
                            "<tr><td>1</td><td>WINDOWS</td><td>294</td><td>XPS 15</td></tr>",
                            "<tr><td>1</td><td>WINDOWS</td><td>295</td><td>V330-15IKB (i5-8250U/8GB/256GB/FHD/W10)</td></tr>",
                            "<tr><td>1</td><td>WINDOWS</td><td>296</td><td>Legion Y720-15IKB</td></tr>",
                            "<tr><td>2</td><td>LINUX</td><td>297</td><td>Aspire A715-71G</td></tr>",
                            "<tr><td>1</td><td>WINDOWS</td><td>298</td><td>Precision 7720</td></tr>",
                            "<tr><td>1</td><td>WINDOWS</td><td>299</td><td>IdeaPad 310-15ABR</td></tr>",
                            "<tr><td>1</td><td>WINDOWS</td><td>300</td><td>ZenBook UX530UQ-PRO</td></tr>",
                            "<tr><td>1</td><td>WINDOWS</td><td>301</td><td>VivoBook S14</td></tr>",
                            "<tr><td>1</td><td>WINDOWS</td><td>302</td><td>Rog GL702VS-GC095T</td></tr>",
                            "<tr><td>1</td><td>WINDOWS</td><td>303</td><td>IdeaPad 320-17IKB</td></tr>",
                            "<tr><td>4</td><td>NO OS</td><td>304</td><td>IdeaPad 320-15IKBN</td></tr>",
                            "<tr><td>1</td><td>WINDOWS</td><td>305</td><td>GL553VE-FY082T (i7-7700HQ/8GB/1TB</td></tr>",
                            "<tr><td>4</td><td>NO OS</td><td>306</td><td>IdeaPad 320-15IAP</td></tr>",
                            "<tr><td>1</td><td>WINDOWS</td><td>307</td><td>EliteBook x360</td></tr>",
                            "<tr><td>1</td><td>WINDOWS</td><td>308</td><td>Satellite Pro</td></tr>",
                            "<tr><td>1</td><td>WINDOWS</td><td>309</td><td>IdeaPad 320-15IKB</td></tr>",
                            "<tr><td>1</td><td>WINDOWS</td><td>310</td><td>250 G6</td></tr>",
                            "<tr><td>1</td><td>WINDOWS</td><td>311</td><td>IdeaPad 720S-13IKB</td></tr>",
                            "<tr><td>1</td><td>WINDOWS</td><td>312</td><td>XPS 13</td></tr>",
                            "<tr><td>1</td><td>WINDOWS</td><td>313</td><td>GE63VR 7RF</td></tr>",
                            "<tr><td>1</td><td>WINDOWS</td><td>314</td><td>ES1-523-84K7 (A8-7410/8GB/256GB/FHD/W10)</td></tr>",
                            "<tr><td>1</td><td>WINDOWS</td><td>315</td><td>VivoBook Flip</td></tr>",
                            "<tr><td>1</td><td>WINDOWS</td><td>316</td><td>Inspiron 5570</td></tr>",
                            "<tr><td>1</td><td>WINDOWS</td><td>317</td><td>Spectre x360</td></tr>",
                            "<tr><td>4</td><td>NO OS</td><td>318</td><td>ThinkPad 13</td></tr>",
                            "<tr><td>1</td><td>WINDOWS</td><td>319</td><td>ProBook 640</td></tr>",
                            "<tr><td>1</td><td>WINDOWS</td><td>320</td><td>TravelMate B</td></tr>",
                            "<tr><td>1</td><td>WINDOWS</td><td>321</td><td>Elitebook 840</td></tr>",
                            "<tr><td>1</td><td>WINDOWS</td><td>322</td><td>IdeaPad 320-17IKB</td></tr>",
                            "<tr><td>1</td><td>WINDOWS</td><td>323</td><td>ZenBook UX410UA-GV183T</td></tr>",
                            "<tr><td>1</td><td>WINDOWS</td><td>324</td><td>ProBook 450</td></tr>",
                            "<tr><td>1</td><td>WINDOWS</td><td>325</td><td>Aspire 5</td></tr>",
                            "<tr><td>1</td><td>WINDOWS</td><td>326</td><td>IdeaPad 120S-14IAP</td></tr>",
                            "<tr><td>1</td><td>WINDOWS</td><td>327</td><td>Aspire E5-575</td></tr>",
                            "<tr><td>1</td><td>WINDOWS</td><td>328</td><td>VivoBook S15</td></tr>",
                            "<tr><td>1</td><td>WINDOWS</td><td>329</td><td>Elitebook 820</td></tr>",
                            "<tr><td>1</td><td>WINDOWS</td><td>330</td><td>XPS 15</td></tr>",
                            "<tr><td>1</td><td>WINDOWS</td><td>331</td><td>GL72M 7REX</td></tr>",
                            "<tr><td>1</td><td>WINDOWS</td><td>332</td><td>Satellite Pro</td></tr>",
                            "<tr><td>1</td><td>WINDOWS</td><td>333</td><td>UX510UX-CN269T (i7-7500U/8GB/256GB</td></tr>",
                            "<tr><td>1</td><td>WINDOWS</td><td>334</td><td>V310-15ISK (i3-6006U/4GB/1TB/FHD/W10)</td></tr>",
                            "<tr><td>1</td><td>WINDOWS</td><td>335</td><td>FX553VD-FY647T (i7-7700HQ/8GB/256GB/GeForce</td></tr>",
                            "<tr><td>1</td><td>WINDOWS</td><td>336</td><td>EliteBook 840</td></tr>",
                            "<tr><td>1</td><td>WINDOWS</td><td>337</td><td>Inspiron 7570</td></tr>",
                            "<tr><td>1</td><td>WINDOWS</td><td>338</td><td>Elitebook 850</td></tr>",
                            "<tr><td>2</td><td>LINUX</td><td>339</td><td>X541NA (N3350/4GB/1TB/Linux)</td></tr>",
                            "<tr><td>1</td><td>WINDOWS</td><td>340</td><td>Inspiron 7570</td></tr>",
                            "<tr><td>2</td><td>LINUX</td><td>341</td><td>Inspiron 3552</td></tr>",
                            "<tr><td>1</td><td>WINDOWS</td><td>342</td><td>IdeaPad 320-15ABR</td></tr>",
                            "<tr><td>1</td><td>WINDOWS</td><td>343</td><td>ProBook 450</td></tr>",
                            "<tr><td>1</td><td>WINDOWS</td><td>344</td><td>Yoga 920-13IKB</td></tr>",
                            "<tr><td>1</td><td>WINDOWS</td><td>345</td><td>XPS 13</td></tr>",
                            "<tr><td>1</td><td>WINDOWS</td><td>346</td><td>Legion Y520-15IKBN</td></tr>",
                            "<tr><td>1</td><td>WINDOWS</td><td>347</td><td>Stream 14-AX001nv</td></tr>",
                            "<tr><td>1</td><td>WINDOWS</td><td>348</td><td>Latitude 5590</td></tr>",
                            "<tr><td>1</td><td>WINDOWS</td><td>349</td><td>VivoBook Flip</td></tr>",
                            "<tr><td>1</td><td>WINDOWS</td><td>350</td><td>Inspiron 5570</td></tr>",
                            "<tr><td>1</td><td>WINDOWS</td><td>351</td><td>XPS 15</td></tr>",
                            "<tr><td>1</td><td>WINDOWS</td><td>352</td><td>Elitebook 850</td></tr>",
                            "<tr><td>1</td><td>WINDOWS</td><td>353</td><td>GP72MVR 7RFX</td></tr>",
                            "<tr><td>1</td><td>WINDOWS</td><td>354</td><td>Zbook 15</td></tr>",
                            "<tr><td>1</td><td>WINDOWS</td><td>355</td><td>Tecra A50-C-21G</td></tr>",
                            "<tr><td>1</td><td>WINDOWS</td><td>356</td><td>Inspiron 5570</td></tr>",
                            "<tr><td>4</td><td>NO OS</td><td>357</td><td>IdeaPad 320-15IAP</td></tr>",
                            "<tr><td>1</td><td>WINDOWS</td><td>358</td><td>Inspiron 7577</td></tr>",
                            "<tr><td>1</td><td>WINDOWS</td><td>359</td><td>Inspiron 3567</td></tr>",
                            "<tr><td>1</td><td>WINDOWS</td><td>360</td><td>Latitude 7480</td></tr>",
                            "<tr><td>1</td><td>WINDOWS</td><td>361</td><td>250 G6</td></tr>",
                            "<tr><td>1</td><td>WINDOWS</td><td>362</td><td>Zenbook UX410UA-GV027T</td></tr>",
                            "<tr><td>1</td><td>WINDOWS</td><td>363</td><td>IdeaPad 320-17IKB</td></tr>",
                            "<tr><td>1</td><td>WINDOWS</td><td>364</td><td>250 G6</td></tr>",
                            "<tr><td>4</td><td>NO OS</td><td>365</td><td>IdeaPad 320-15ISK</td></tr>",
                            "<tr><td>1</td><td>WINDOWS</td><td>366</td><td>15-AY023na (N3710/8GB/2TB/W10)</td></tr>",
                            "<tr><td>1</td><td>WINDOWS</td><td>367</td><td>Inspiron 5770</td></tr>",
                            "<tr><td>4</td><td>NO OS</td><td>368</td><td>Legion Y520-15IKBN</td></tr>",
                            "<tr><td>1</td><td>WINDOWS</td><td>369</td><td>Inspiron 5567</td></tr>",
                            "<tr><td>1</td><td>WINDOWS</td><td>370</td><td>Elitebook 1040</td></tr>",
                            "<tr><td>1</td><td>WINDOWS</td><td>371</td><td>ZenBook Flip</td></tr>",
                            "<tr><td>1</td><td>WINDOWS</td><td>372</td><td>Aspire 3</td></tr>",
                            "<tr><td>1</td><td>WINDOWS</td><td>373</td><td>Rog Strix</td></tr>",
                            "<tr><td>1</td><td>WINDOWS</td><td>374</td><td>IdeaPad 110-17ACL</td></tr>",
                            "<tr><td>1</td><td>WINDOWS</td><td>375</td><td>Inspiron 5379</td></tr>",
                            "<tr><td>1</td><td>WINDOWS</td><td>376</td><td>15-bw003nv (A9-Series-9420/4GB/256GB/FHD/W10)</td></tr>",
                            "<tr><td>1</td><td>WINDOWS</td><td>377</td><td>Yoga 11e</td></tr>",
                            "<tr><td>1</td><td>WINDOWS</td><td>378</td><td>Inspiron 3552</td></tr>",
                            "<tr><td>1</td><td>WINDOWS</td><td>379</td><td>VivoBook E403NA</td></tr>",
                            "<tr><td>2</td><td>LINUX</td><td>380</td><td>Aspire 7</td></tr>",
                            "<tr><td>1</td><td>WINDOWS</td><td>381</td><td>Omen 17-w212nv</td></tr>",
                            "<tr><td>4</td><td>NO OS</td><td>382</td><td>V310-15ISK (i3-6006U/4GB/128GB/FHD/No</td></tr>",
                            "<tr><td>1</td><td>WINDOWS</td><td>383</td><td>ROG Strix</td></tr>",
                            "<tr><td>1</td><td>WINDOWS</td><td>384</td><td>IdeaPad 720S-14IKB</td></tr>",
                            "<tr><td>1</td><td>WINDOWS</td><td>385</td><td>Zenbook Flip</td></tr>",
                            "<tr><td>1</td><td>WINDOWS</td><td>386</td><td>Thinkpad X1</td></tr>",
                            "<tr><td>1</td><td>WINDOWS</td><td>387</td><td>Ideapad 510S-13IKB</td></tr>",
                            "<tr><td>1</td><td>WINDOWS</td><td>388</td><td>Precision 3510</td></tr>",
                            "<tr><td>1</td><td>WINDOWS</td><td>389</td><td>Precision 5520</td></tr>",
                            "<tr><td>1</td><td>WINDOWS</td><td>390</td><td>ThinkPad X1</td></tr>",
                            "<tr><td>1</td><td>WINDOWS</td><td>391</td><td>Rog GL753VD-GC042T</td></tr>",
                            "<tr><td>1</td><td>WINDOWS</td><td>392</td><td>Rog GL753VE-GC070T</td></tr>",
                            "<tr><td>1</td><td>WINDOWS</td><td>393</td><td>Aspire 5</td></tr>",
                            "<tr><td>1</td><td>WINDOWS</td><td>394</td><td>Leopard GP72M</td></tr>",
                            "<tr><td>2</td><td>LINUX</td><td>395</td><td>Inspiron 5567</td></tr>",
                            "<tr><td>1</td><td>WINDOWS</td><td>396</td><td>15-BW004nv (A9-9420/4GB/256GB/Radeon</td></tr>",
                            "<tr><td>1</td><td>WINDOWS</td><td>397</td><td>ThinkPad E580</td></tr>",
                            "<tr><td>1</td><td>WINDOWS</td><td>398</td><td>ThinkPad L470</td></tr>",
                            "<tr><td>1</td><td>WINDOWS</td><td>399</td><td>Precision M5520</td></tr>",
                            "<tr><td>1</td><td>WINDOWS</td><td>400</td><td>Thinkpad X1</td></tr>",
                            "<tr><td>1</td><td>WINDOWS</td><td>401</td><td>IdeaPad 320-15IAP</td></tr>",
                            "<tr><td>1</td><td>WINDOWS</td><td>402</td><td>FX753VD-GC461T (i7-7700HQ/16GB/1TB</td></tr>",
                            "<tr><td>1</td><td>WINDOWS</td><td>403</td><td>ThinkPad E580</td></tr>",
                            "<tr><td>2</td><td>LINUX</td><td>404</td><td>Aspire 7</td></tr>",
                            "<tr><td>1</td><td>WINDOWS</td><td>405</td><td>GE73VR 7RF</td></tr>",
                            "<tr><td>1</td><td>WINDOWS</td><td>406</td><td>Zenbook 3</td></tr>",
                            "<tr><td>1</td><td>WINDOWS</td><td>407</td><td>Portege Z30-C-16P</td></tr>",
                            "<tr><td>1</td><td>WINDOWS</td><td>408</td><td>Latitude 7480</td></tr>",
                            "<tr><td>1</td><td>WINDOWS</td><td>409</td><td>IdeaPad 320-15ISK</td></tr>",
                            "<tr><td>1</td><td>WINDOWS</td><td>410</td><td>Lenovo IdeaPad</td></tr>",
                            "<tr><td>1</td><td>WINDOWS</td><td>411</td><td>ThinkPad P51</td></tr>",
                            "<tr><td>1</td><td>WINDOWS</td><td>412</td><td>Thinkpad T470p</td></tr>",
                            "<tr><td>1</td><td>WINDOWS</td><td>413</td><td>15-BS028nv (i3-6006U/4GB/1TB/Radeon</td></tr>",
                            "<tr><td>1</td><td>WINDOWS</td><td>414</td><td>Aspire R7</td></tr>",
                            "<tr><td>1</td><td>WINDOWS</td><td>415</td><td>ZenBook Flip</td></tr>",
                            "<tr><td>2</td><td>LINUX</td><td>416</td><td>Inspiron 3567</td></tr>",
                            "<tr><td>1</td><td>WINDOWS</td><td>417</td><td>Latitude 3380</td></tr>",
                            "<tr><td>1</td><td>WINDOWS</td><td>418</td><td>EliteBook 1040</td></tr>",
                            "<tr><td>1</td><td>WINDOWS</td><td>419</td><td>Inspiron 3567</td></tr>",
                            "<tr><td>1</td><td>WINDOWS</td><td>420</td><td>ThinkPad E480</td></tr>",
                            "<tr><td>1</td><td>WINDOWS</td><td>421</td><td>Yoga 720-15IKB</td></tr>",
                            "<tr><td>1</td><td>WINDOWS</td><td>422</td><td>LapBook 12.3</td></tr>",
                            "<tr><td>1</td><td>WINDOWS</td><td>423</td><td>ProBook 650</td></tr>",
                            "<tr><td>2</td><td>LINUX</td><td>424</td><td>X542UQ-DM117 (i3-7100U/8GB/1TB/GeForce</td></tr>",
                            "<tr><td>1</td><td>WINDOWS</td><td>425</td><td>Alienware 17</td></tr>",
                            "<tr><td>1</td><td>WINDOWS</td><td>426</td><td>Inspiron 7577</td></tr>",
                            "<tr><td>1</td><td>WINDOWS</td><td>427</td><td>Inspiron 5570</td></tr>",
                            "<tr><td>2</td><td>LINUX</td><td>428</td><td>Latitude 5480</td></tr>",
                            "<tr><td>1</td><td>WINDOWS</td><td>429</td><td>Omen 17-w207nv</td></tr>",
                            "<tr><td>1</td><td>WINDOWS</td><td>430</td><td>FlexBook Edge</td></tr>",
                            "<tr><td>4</td><td>NO OS</td><td>431</td><td>Chromebook 3</td></tr>",
                            "<tr><td>1</td><td>WINDOWS</td><td>432</td><td>Thinkpad 13</td></tr>",
                            "<tr><td>1</td><td>WINDOWS</td><td>433</td><td>IdeaPad 320s-14IKB</td></tr>",
                            "<tr><td>1</td><td>WINDOWS</td><td>434</td><td>Thinkpad T570</td></tr>",
                            "<tr><td>1</td><td>WINDOWS</td><td>435</td><td>Thinkpad P51</td></tr>",
                            "<tr><td>1</td><td>WINDOWS</td><td>436</td><td>Rog Strix</td></tr>",
                            "<tr><td>1</td><td>WINDOWS</td><td>437</td><td>15-ra044nv (N3060/4GB/500GB/W10)</td></tr>",
                            "<tr><td>4</td><td>NO OS</td><td>438</td><td>Pixelbook (Core</td></tr>",
                            "<tr><td>1</td><td>WINDOWS</td><td>439</td><td>ThinkPad T470s</td></tr>",
                            "<tr><td>2</td><td>LINUX</td><td>440</td><td>VivoBook Max</td></tr>",
                            "<tr><td>1</td><td>WINDOWS</td><td>441</td><td>IdeaPad 320-15AST</td></tr>",
                            "<tr><td>1</td><td>WINDOWS</td><td>442</td><td>Inspiron 5570</td></tr>",
                            "<tr><td>1</td><td>WINDOWS</td><td>443</td><td>ThinkPad X270</td></tr>",
                            "<tr><td>1</td><td>WINDOWS</td><td>444</td><td>IdeaPad 320-15IAP</td></tr>",
                            "<tr><td>1</td><td>WINDOWS</td><td>445</td><td>Omen 15-AX205na</td></tr>",
                            "<tr><td>1</td><td>WINDOWS</td><td>446</td><td>Latitude 5480</td></tr>",
                            "<tr><td>2</td><td>LINUX</td><td>447</td><td>Aspire ES1-572</td></tr>",
                            "<tr><td>1</td><td>WINDOWS</td><td>448</td><td>Precision 3520</td></tr>",
                            "<tr><td>1</td><td>WINDOWS</td><td>449</td><td>GV62 7RD-1686NL</td></tr>",
                            "<tr><td>4</td><td>NO OS</td><td>450</td><td>Surface Laptop</td></tr>",
                            "<tr><td>1</td><td>WINDOWS</td><td>451</td><td>15-bs024nv (i5-7200U/8GB/128GB/W10)</td></tr>",
                            "<tr><td>1</td><td>WINDOWS</td><td>452</td><td>Precision 3520</td></tr>",
                            "<tr><td>1</td><td>WINDOWS</td><td>453</td><td>ProBook 650</td></tr>",
                            "<tr><td>1</td><td>WINDOWS</td><td>454</td><td>ThinkPad T470</td></tr>",
                            "<tr><td>1</td><td>WINDOWS</td><td>455</td><td>Inspiron 5570</td></tr>",
                            "<tr><td>1</td><td>WINDOWS</td><td>456</td><td>Inspiron 3168</td></tr>",
                            "<tr><td>1</td><td>WINDOWS</td><td>457</td><td>Alienware 17</td></tr>",
                            "<tr><td>4</td><td>NO OS</td><td>458</td><td>Surface Laptop</td></tr>",
                            "<tr><td>4</td><td>NO OS</td><td>459</td><td>Surface Laptop</td></tr>",
                            "<tr><td>1</td><td>WINDOWS</td><td>460</td><td>17-BS092ND (i3-6006U/8GB/256GB/W10)</td></tr>",
                            "<tr><td>1</td><td>WINDOWS</td><td>461</td><td>Aspire E5-576G</td></tr>",
                            "<tr><td>1</td><td>WINDOWS</td><td>462</td><td>TravelMate B</td></tr>",
                            "<tr><td>1</td><td>WINDOWS</td><td>463</td><td>Pro P2540UA-AB51</td></tr>",
                            "<tr><td>4</td><td>NO OS</td><td>464</td><td>IdeaPad 510s-14IKB</td></tr>",
                            "<tr><td>1</td><td>WINDOWS</td><td>465</td><td>Thinkpad P51</td></tr>",
                            "<tr><td>1</td><td>WINDOWS</td><td>466</td><td>X541NA-PD1003Y (N4200/4GB/500GB/W10)</td></tr>",
                            "<tr><td>1</td><td>WINDOWS</td><td>467</td><td>Aspire 5</td></tr>",
                            "<tr><td>1</td><td>WINDOWS</td><td>468</td><td>Inspiron 5570</td></tr>",
                            "<tr><td>1</td><td>WINDOWS</td><td>469</td><td>Omen 17-an006nv</td></tr>",
                            "<tr><td>1</td><td>WINDOWS</td><td>470</td><td>Thinkpad T460s</td></tr>",
                            "<tr><td>1</td><td>WINDOWS</td><td>471</td><td>Spectre x360</td></tr>",
                            "<tr><td>1</td><td>WINDOWS</td><td>472</td><td>ZBook 15u</td></tr>",
                            "<tr><td>4</td><td>NO OS</td><td>473</td><td>Pixelbook (Core</td></tr>",
                            "<tr><td>1</td><td>WINDOWS</td><td>474</td><td>Latitude 7390</td></tr>",
                            "<tr><td>1</td><td>WINDOWS</td><td>475</td><td>ZenBook Pro</td></tr>",
                            "<tr><td>1</td><td>WINDOWS</td><td>476</td><td>Latitude E5470</td></tr>",
                            "<tr><td>1</td><td>WINDOWS</td><td>477</td><td>Precision M5520</td></tr>",
                            "<tr><td>1</td><td>WINDOWS</td><td>478</td><td>Thinkpad T470</td></tr>",
                            "<tr><td>1</td><td>WINDOWS</td><td>479</td><td>Inspiron 3576</td></tr>",
                            "<tr><td>1</td><td>WINDOWS</td><td>480</td><td>Portege X30-D-10J</td></tr>",
                            "<tr><td>1</td><td>WINDOWS</td><td>481</td><td>Inspiron 7570</td></tr>",
                            "<tr><td>1</td><td>WINDOWS</td><td>482</td><td>Vostro 3568</td></tr>",
                            "<tr><td>1</td><td>WINDOWS</td><td>483</td><td>ProBook 430</td></tr>",
                            "<tr><td>1</td><td>WINDOWS</td><td>484</td><td>Lapbook 15,6</td></tr>",
                            "<tr><td>1</td><td>WINDOWS</td><td>485</td><td>ThinkPad E570</td></tr>",
                            "<tr><td>1</td><td>WINDOWS</td><td>486</td><td>ThinkPad E480</td></tr>",
                            "<tr><td>1</td><td>WINDOWS</td><td>487</td><td>Precision 3520</td></tr>",
                            "<tr><td>1</td><td>WINDOWS</td><td>488</td><td>XPS 15</td></tr>",
                            "<tr><td>1</td><td>WINDOWS</td><td>489</td><td>Thinkpad X270</td></tr>",
                            "<tr><td>1</td><td>WINDOWS</td><td>490</td><td>Zenbook UX390UA</td></tr>",
                            "<tr><td>1</td><td>WINDOWS</td><td>491</td><td>Thinkpad E570</td></tr>",
                            "<tr><td>1</td><td>WINDOWS</td><td>492</td><td>Portege X30-D-10L</td></tr>",
                            "<tr><td>1</td><td>WINDOWS</td><td>493</td><td>VivoBook Pro</td></tr>",
                            "<tr><td>1</td><td>WINDOWS</td><td>494</td><td>Aspire 5</td></tr>",
                            "<tr><td>1</td><td>WINDOWS</td><td>495</td><td>Rog G752VL-UH71T</td></tr>",
                            "<tr><td>1</td><td>WINDOWS</td><td>496</td><td>Thinkpad X260</td></tr>",
                            "<tr><td>1</td><td>WINDOWS</td><td>497</td><td>Ideapad 520-15IKBR</td></tr>",
                            "<tr><td>1</td><td>WINDOWS</td><td>498</td><td>EliteBook 840</td></tr>",
                            "<tr><td>1</td><td>WINDOWS</td><td>499</td><td>ThinkPad 13</td></tr>",
                            "<tr><td>1</td><td>WINDOWS</td><td>500</td><td>ThinkPad L570</td></tr>",
                            "<tr><td>4</td><td>NO OS</td><td>501</td><td>VivoBook E201NA</td></tr>",
                            "<tr><td>1</td><td>WINDOWS</td><td>502</td><td>15-BS026nv (i5-7200U/8GB/256GB/Radeon</td></tr>",
                            "<tr><td>1</td><td>WINDOWS</td><td>503</td><td>Yoga 920-13IKB</td></tr>",
                            "<tr><td>1</td><td>WINDOWS</td><td>504</td><td>IdeaPad 320-14IAP</td></tr>",
                            "<tr><td>4</td><td>NO OS</td><td>505</td><td>Chromebook N23</td></tr>",
                            "<tr><td>1</td><td>WINDOWS</td><td>506</td><td>ThinkPad 13</td></tr>",
                            "<tr><td>1</td><td>WINDOWS</td><td>507</td><td>ZenBook UX510UX-CN211T</td></tr>",
                            "<tr><td>1</td><td>WINDOWS</td><td>508</td><td>Aspire A515-51G-59QF</td></tr>",
                            "<tr><td>1</td><td>WINDOWS</td><td>509</td><td>Envy 13-AB002nv</td></tr>",
                            "<tr><td>4</td><td>NO OS</td><td>510</td><td>Legion Y520-15IKBN</td></tr>",
                            "<tr><td>1</td><td>WINDOWS</td><td>511</td><td>XPS 13</td></tr>",
                            "<tr><td>1</td><td>WINDOWS</td><td>512</td><td>Aspire A515-51G</td></tr>",
                            "<tr><td>1</td><td>WINDOWS</td><td>513</td><td>Vostro 5568</td></tr>",
                            "<tr><td>1</td><td>WINDOWS</td><td>514</td><td>Inspiron 5570</td></tr>",
                            "<tr><td>4</td><td>NO OS</td><td>515</td><td>Mi Notebook</td></tr>",
                            "<tr><td>1</td><td>WINDOWS</td><td>516</td><td>VivoBook E12</td></tr>",
                            "<tr><td>1</td><td>WINDOWS</td><td>517</td><td>15-bs190od (i5-8250U/4GB/1TB/W10)</td></tr>",
                            "<tr><td>1</td><td>WINDOWS</td><td>518</td><td>ROG Zephyrus</td></tr>",
                            "<tr><td>1</td><td>WINDOWS</td><td>519</td><td>Probook 450</td></tr>",
                            "<tr><td>1</td><td>WINDOWS</td><td>520</td><td>FX753VE-GC155T (i7-7700HQ/16GB/1TB</td></tr>",
                            "<tr><td>1</td><td>WINDOWS</td><td>521</td><td>Legion Y720-15IKB</td></tr>",
                            "<tr><td>1</td><td>WINDOWS</td><td>522</td><td>Spectre X360</td></tr>",
                            "<tr><td>1</td><td>WINDOWS</td><td>523</td><td>Latitude 5480</td></tr>",
                            "<tr><td>1</td><td>WINDOWS</td><td>524</td><td>ProBook 440</td></tr>",
                            "<tr><td>2</td><td>LINUX</td><td>525</td><td>Inspiron 5770</td></tr>",
                            "<tr><td>4</td><td>NO OS</td><td>526</td><td>ThinkPad L470</td></tr>",
                            "<tr><td>1</td><td>WINDOWS</td><td>527</td><td>IdeaPad 320-15IKB</td></tr>",
                            "<tr><td>4</td><td>NO OS</td><td>528</td><td>IdeaPad 320-15ISK</td></tr>",
                            "<tr><td>1</td><td>WINDOWS</td><td>529</td><td>Inspiron 3567</td></tr>",
                            "<tr><td>1</td><td>WINDOWS</td><td>530</td><td>Latitude 5580</td></tr>",
                            "<tr><td>1</td><td>WINDOWS</td><td>531</td><td>Alienware 17</td></tr>",
                            "<tr><td>1</td><td>WINDOWS</td><td>532</td><td>Satellite Pro</td></tr>",
                            "<tr><td>1</td><td>WINDOWS</td><td>533</td><td>Zenbook UX510UW-FI095T</td></tr>",
                            "<tr><td>1</td><td>WINDOWS</td><td>534</td><td>SmartBook Edge</td></tr>",
                            "<tr><td>1</td><td>WINDOWS</td><td>535</td><td>ROG Strix</td></tr>",
                            "<tr><td>1</td><td>WINDOWS</td><td>536</td><td>Latitude 5580</td></tr>",
                            "<tr><td>1</td><td>WINDOWS</td><td>537</td><td>Inspiron 5570</td></tr>",
                            "<tr><td>1</td><td>WINDOWS</td><td>538</td><td>250 G6</td></tr>",
                            "<tr><td>1</td><td>WINDOWS</td><td>539</td><td>Omen 15-ce006nv</td></tr>",
                            "<tr><td>1</td><td>WINDOWS</td><td>540</td><td>Thinkpad E470</td></tr>",
                            "<tr><td>1</td><td>WINDOWS</td><td>541</td><td>XPS 13</td></tr>",
                            "<tr><td>1</td><td>WINDOWS</td><td>542</td><td>Vostro 5468</td></tr>",
                            "<tr><td>1</td><td>WINDOWS</td><td>543</td><td>Envy 13-AB020nr</td></tr>",
                            "<tr><td>2</td><td>LINUX</td><td>544</td><td>Aspire 7</td></tr>",
                            "<tr><td>1</td><td>WINDOWS</td><td>545</td><td>VivoBook X540YA-XX519T</td></tr>",
                            "<tr><td>1</td><td>WINDOWS</td><td>546</td><td>ProBook 450</td></tr>",
                            "<tr><td>1</td><td>WINDOWS</td><td>547</td><td>ThinkPad E470</td></tr>",
                            "<tr><td>4</td><td>NO OS</td><td>548</td><td>V310-15ISK (i5-6200U/4GB/1TB/FHD/No</td></tr>",
                            "<tr><td>1</td><td>WINDOWS</td><td>549</td><td>250 G6</td></tr>",
                            "<tr><td>1</td><td>WINDOWS</td><td>550</td><td>ThinkPad T570</td></tr>",
                            "<tr><td>1</td><td>WINDOWS</td><td>551</td><td>IdeaPad 320-15ISK</td></tr>",
                            "<tr><td>1</td><td>WINDOWS</td><td>552</td><td>Latitude 5580</td></tr>",
                            "<tr><td>1</td><td>WINDOWS</td><td>553</td><td>Alienware 17</td></tr>",
                            "<tr><td>1</td><td>WINDOWS</td><td>554</td><td>17-X047na (i3-6006U/8GB/1TB/W10)</td></tr>",
                            "<tr><td>1</td><td>WINDOWS</td><td>555</td><td>ProBook 470</td></tr>",
                            "<tr><td>2</td><td>LINUX</td><td>556</td><td>A541NA-GO342 (N3350/4GB/500GB/Linux)</td></tr>",
                            "<tr><td>1</td><td>WINDOWS</td><td>557</td><td>SmartBook 130</td></tr>",
                            "<tr><td>1</td><td>WINDOWS</td><td>558</td><td>IdeaPad 320-17IKB</td></tr>",
                            "<tr><td>1</td><td>WINDOWS</td><td>559</td><td>15-bw007nv (A10-9620P/6GB/128GB/Radeon</td></tr>",
                            "<tr><td>1</td><td>WINDOWS</td><td>560</td><td>Vostro 3568</td></tr>",
                            "<tr><td>1</td><td>WINDOWS</td><td>561</td><td>Spin SP111-31</td></tr>",
                            "<tr><td>1</td><td>WINDOWS</td><td>562</td><td>V330-15IKB (i3-7130U/4GB/128GB/FHD/W10)</td></tr>",
                            "<tr><td>1</td><td>WINDOWS</td><td>563</td><td>EliteBook 1030</td></tr>",
                            "<tr><td>1</td><td>WINDOWS</td><td>564</td><td>Thinkpad P71</td></tr>",
                            "<tr><td>1</td><td>WINDOWS</td><td>565</td><td>FX553VD-DM627T (i5-7300HQ/8GB/1TB</td></tr>",
                            "<tr><td>1</td><td>WINDOWS</td><td>566</td><td>XPS 13</td></tr>",
                            "<tr><td>1</td><td>WINDOWS</td><td>567</td><td>Latitude 5580</td></tr>",
                            "<tr><td>1</td><td>WINDOWS</td><td>568</td><td>Lifebook A557</td></tr>",
                            "<tr><td>1</td><td>WINDOWS</td><td>569</td><td>IdeaPad 320-15IAP</td></tr>",
                            "<tr><td>1</td><td>WINDOWS</td><td>570</td><td>ThinkPad L470</td></tr>",
                            "<tr><td>1</td><td>WINDOWS</td><td>571</td><td>ZBook 17</td></tr>",
                            "<tr><td>1</td><td>WINDOWS</td><td>572</td><td>14-am079na (N3710/8GB/2TB/W10)</td></tr>",
                            "<tr><td>1</td><td>WINDOWS</td><td>573</td><td>15-cd005nv (A9-9420/6GB/256GB/Radeon</td></tr>",
                            "<tr><td>1</td><td>WINDOWS</td><td>574</td><td>Thinkpad E570</td></tr>",
                            "<tr><td>1</td><td>WINDOWS</td><td>575</td><td>V330-15IKB (i5-8250U/4GB/500GB/FHD/W10)</td></tr>",
                            "<tr><td>1</td><td>WINDOWS</td><td>576</td><td>SmartBook 141</td></tr>",
                            "<tr><td>1</td><td>WINDOWS</td><td>577</td><td>Tecra X40-D-10H</td></tr>",
                            "<tr><td>1</td><td>WINDOWS</td><td>578</td><td>IdeaPad Y910-17ISK</td></tr>",
                            "<tr><td>1</td><td>WINDOWS</td><td>579</td><td>GT73VR Titan</td></tr>",
                            "<tr><td>2</td><td>LINUX</td><td>580</td><td>Inspiron 3567</td></tr>",
                            "<tr><td>1</td><td>WINDOWS</td><td>581</td><td>SmartBook Edge</td></tr>",
                            "<tr><td>1</td><td>WINDOWS</td><td>582</td><td>Latitude 5580</td></tr>",
                            "<tr><td>1</td><td>WINDOWS</td><td>583</td><td>ProBook 430</td></tr>",
                            "<tr><td>1</td><td>WINDOWS</td><td>584</td><td>Latitude 5580</td></tr>",
                            "<tr><td>4</td><td>NO OS</td><td>585</td><td>Chromebook 11</td></tr>",
                            "<tr><td>1</td><td>WINDOWS</td><td>586</td><td>GT80S 6QE</td></tr>",
                            "<tr><td>1</td><td>WINDOWS</td><td>587</td><td>Omen 17-AN010nv</td></tr>",
                            "<tr><td>1</td><td>WINDOWS</td><td>588</td><td>Thinkpad T460s</td></tr>",
                            "<tr><td>1</td><td>WINDOWS</td><td>589</td><td>Ideapad 320-15IKBR</td></tr>",
                            "<tr><td>1</td><td>WINDOWS</td><td>590</td><td>ROG Strix</td></tr>",
                            "<tr><td>1</td><td>WINDOWS</td><td>591</td><td>TP501UA-CJ131T (i5-7200U/8GB/1TB/W10)</td></tr>",
                            "<tr><td>1</td><td>WINDOWS</td><td>592</td><td>IdeaPad 320-15ABR</td></tr>",
                            "<tr><td>1</td><td>WINDOWS</td><td>593</td><td>Inspiron 3179</td></tr>",
                            "<tr><td>1</td><td>WINDOWS</td><td>594</td><td>Notebook Odyssey</td></tr>",
                            "<tr><td>4</td><td>NO OS</td><td>595</td><td>V320-17ISK (i3-6006U/4GB/500GB/FHD/No</td></tr>",
                            "<tr><td>1</td><td>WINDOWS</td><td>596</td><td>IdeaPad 110-15ISK</td></tr>",
                            "<tr><td>1</td><td>WINDOWS</td><td>597</td><td>ThinkPad Yoga</td></tr>",
                            "<tr><td>1</td><td>WINDOWS</td><td>598</td><td>Thinkpad T470p</td></tr>",
                            "<tr><td>1</td><td>WINDOWS</td><td>599</td><td>Latitude 5289</td></tr>",
                            "<tr><td>1</td><td>WINDOWS</td><td>600</td><td>Precision 3520</td></tr>",
                            "<tr><td>1</td><td>WINDOWS</td><td>601</td><td>EliteBook 850</td></tr>",
                            "<tr><td>1</td><td>WINDOWS</td><td>602</td><td>ProBook 450</td></tr>",
                            "<tr><td>1</td><td>WINDOWS</td><td>603</td><td>Aspire 1</td></tr>",
                            "<tr><td>1</td><td>WINDOWS</td><td>604</td><td>Laptop MSI</td></tr>",
                            "<tr><td>2</td><td>LINUX</td><td>605</td><td>Vostro 3568</td></tr>",
                            "<tr><td>1</td><td>WINDOWS</td><td>606</td><td>GS63VR 7RF</td></tr>",
                            "<tr><td>1</td><td>WINDOWS</td><td>607</td><td>Tecra Z50-C-144</td></tr>",
                            "<tr><td>1</td><td>WINDOWS</td><td>608</td><td>IdeaPad 310-15IKB</td></tr>",
                            "<tr><td>1</td><td>WINDOWS</td><td>609</td><td>Yoga 720-15IKB</td></tr>",
                            "<tr><td>1</td><td>WINDOWS</td><td>610</td><td>Swift SF114-31-P5HY</td></tr>",
                            "<tr><td>1</td><td>WINDOWS</td><td>611</td><td>Thinkpad P51</td></tr>",
                            "<tr><td>1</td><td>WINDOWS</td><td>612</td><td>Inspiron 7559</td></tr>",
                            "<tr><td>2</td><td>LINUX</td><td>613</td><td>Vostro 3568</td></tr>",
                            "<tr><td>2</td><td>LINUX</td><td>614</td><td>Inspiron 3567</td></tr>",
                            "<tr><td>2</td><td>LINUX</td><td>615</td><td>Latitude 5580</td></tr>",
                            "<tr><td>1</td><td>WINDOWS</td><td>616</td><td>FX753VD-GC007T (i7-7700HQ/8GB/1TB</td></tr>",
                            "<tr><td>2</td><td>LINUX</td><td>617</td><td>Vostro 3568</td></tr>",
                            "<tr><td>1</td><td>WINDOWS</td><td>618</td><td>EliteBook 850</td></tr>",
                            "<tr><td>1</td><td>WINDOWS</td><td>619</td><td>GT62VR 7RE</td></tr>",
                            "<tr><td>4</td><td>NO OS</td><td>620</td><td>CB5-132T-C9KK (N3160/4GB/32GB/Chrome</td></tr>",
                            "<tr><td>1</td><td>WINDOWS</td><td>621</td><td>ProBook 650</td></tr>",
                            "<tr><td>4</td><td>NO OS</td><td>622</td><td>ThinkPad T470</td></tr>",
                            "<tr><td>1</td><td>WINDOWS</td><td>623</td><td>Inspiron 5570</td></tr>",
                            "<tr><td>1</td><td>WINDOWS</td><td>624</td><td>LifeBook A557</td></tr>",
                            "<tr><td>4</td><td>NO OS</td><td>625</td><td>EliteBook 850</td></tr>",
                            "<tr><td>1</td><td>WINDOWS</td><td>626</td><td>IdeaPad 320-15IKB</td></tr>",
                            "<tr><td>1</td><td>WINDOWS</td><td>627</td><td>SmartBook 140</td></tr>",
                            "<tr><td>4</td><td>NO OS</td><td>628</td><td>IdeaPad 320-15IKBN</td></tr>",
                            "<tr><td>1</td><td>WINDOWS</td><td>629</td><td>Q304UA-BHI5T11 (i5-7200U/6GB/1TB/FHD/W10)</td></tr>",
                            "<tr><td>1</td><td>WINDOWS</td><td>630</td><td>XPS 15</td></tr>",
                            "<tr><td>1</td><td>WINDOWS</td><td>631</td><td>ZenBook 3</td></tr>",
                            "<tr><td>1</td><td>WINDOWS</td><td>632</td><td>Inspiron 7567</td></tr>",
                            "<tr><td>1</td><td>WINDOWS</td><td>633</td><td>V330-15IKB (i5-8250U/4GB/256GB/FHD/W10)</td></tr>",
                            "<tr><td>1</td><td>WINDOWS</td><td>634</td><td>Ideapad 320-15ISK</td></tr>",
                            "<tr><td>1</td><td>WINDOWS</td><td>635</td><td>X541NA-GO414T (N3350/8GB/1TB/W10)</td></tr>",
                            "<tr><td>1</td><td>WINDOWS</td><td>636</td><td>VivoBook Pro</td></tr>",
                            "<tr><td>1</td><td>WINDOWS</td><td>637</td><td>XPS 13</td></tr>",
                            "<tr><td>1</td><td>WINDOWS</td><td>638</td><td>IdeaPad 100S-14IBR</td></tr>",
                            "<tr><td>1</td><td>WINDOWS</td><td>639</td><td>Thinkpad Yoga</td></tr>",
                            "<tr><td>1</td><td>WINDOWS</td><td>640</td><td>XPS 15</td></tr>",
                            "<tr><td>1</td><td>WINDOWS</td><td>641</td><td>Legion Y520-15IKBN</td></tr>",
                            "<tr><td>1</td><td>WINDOWS</td><td>642</td><td>17-AK091ND (A9-9420/8GB/1TB/W10)</td></tr>",
                            "<tr><td>1</td><td>WINDOWS</td><td>643</td><td>ThinkPad X1</td></tr>",
                            "<tr><td>4</td><td>NO OS</td><td>644</td><td>ROG GL553VE-FY022</td></tr>",
                            "<tr><td>1</td><td>WINDOWS</td><td>645</td><td>Extensa EX2540</td></tr>",
                            "<tr><td>1</td><td>WINDOWS</td><td>646</td><td>IdeaPad 100S-14IBR</td></tr>",
                            "<tr><td>1</td><td>WINDOWS</td><td>647</td><td>Swift 3</td></tr>",
                            "<tr><td>1</td><td>WINDOWS</td><td>648</td><td>Blade Pro</td></tr>",
                            "<tr><td>1</td><td>WINDOWS</td><td>649</td><td>Portege Z30-C-16J</td></tr>",
                            "<tr><td>1</td><td>WINDOWS</td><td>650</td><td>Thinkpad X270</td></tr>",
                            "<tr><td>1</td><td>WINDOWS</td><td>651</td><td>ROG G701VI</td></tr>",
                            "<tr><td>2</td><td>LINUX</td><td>652</td><td>A715-71G-59DH (i5-7300HQ/8GB/1TB/GeForce</td></tr>",
                            "<tr><td>1</td><td>WINDOWS</td><td>653</td><td>XPS 13</td></tr>",
                            "<tr><td>1</td><td>WINDOWS</td><td>654</td><td>GL62M 7REX</td></tr>",
                            "<tr><td>4</td><td>NO OS</td><td>655</td><td>250 G6</td></tr>",
                            "<tr><td>1</td><td>WINDOWS</td><td>656</td><td>Tecra A50-D-11M</td></tr>",
                            "<tr><td>1</td><td>WINDOWS</td><td>657</td><td>Inspiron 5570</td></tr>",
                            "<tr><td>1</td><td>WINDOWS</td><td>658</td><td>Inspiron 5570</td></tr>",
                            "<tr><td>1</td><td>WINDOWS</td><td>659</td><td>IdeaPad Y700-15ISK</td></tr>",
                            "<tr><td>1</td><td>WINDOWS</td><td>660</td><td>Alienware 17</td></tr>",
                            "<tr><td>1</td><td>WINDOWS</td><td>661</td><td>Latitude E7470</td></tr>",
                            "<tr><td>1</td><td>WINDOWS</td><td>662</td><td>Ideapad 320-15IAP</td></tr>",
                            "<tr><td>1</td><td>WINDOWS</td><td>663</td><td>IdeaPad 320-15ISK</td></tr>",
                            "<tr><td>1</td><td>WINDOWS</td><td>664</td><td>15-ay047nv (i3-6006U/6GB/1TB/Radeon</td></tr>",
                            "<tr><td>1</td><td>WINDOWS</td><td>665</td><td>GP72VR Leopard</td></tr>",
                            "<tr><td>1</td><td>WINDOWS</td><td>666</td><td>Satellite Pro</td></tr>",
                            "<tr><td>1</td><td>WINDOWS</td><td>667</td><td>Latitude 3580</td></tr>",
                            "<tr><td>1</td><td>WINDOWS</td><td>668</td><td>15-bs012nv (i7-7500U/8GB/1TB/Radeon</td></tr>",
                            "<tr><td>1</td><td>WINDOWS</td><td>669</td><td>Tecra Z50-D-10E</td></tr>",
                            "<tr><td>2</td><td>LINUX</td><td>670</td><td>Aspire 3</td></tr>",
                            "<tr><td>4</td><td>NO OS</td><td>671</td><td>Surface Laptop</td></tr>",
                            "<tr><td>1</td><td>WINDOWS</td><td>672</td><td>V310-15ISK (i5-7200U/8GB/1TB</td></tr>",
                            "<tr><td>1</td><td>WINDOWS</td><td>673</td><td>Yoga 720-13IKB</td></tr>",
                            "<tr><td>1</td><td>WINDOWS</td><td>674</td><td>IdeaPad 320-15AST</td></tr>",
                            "<tr><td>1</td><td>WINDOWS</td><td>675</td><td>Pavilion X360</td></tr>",
                            "<tr><td>1</td><td>WINDOWS</td><td>676</td><td>GP62 7RDX</td></tr>",
                            "<tr><td>1</td><td>WINDOWS</td><td>677</td><td>Zenbook 3</td></tr>",
                            "<tr><td>4</td><td>NO OS</td><td>678</td><td>Chromebook X360</td></tr>",
                            "<tr><td>1</td><td>WINDOWS</td><td>679</td><td>Gram 15Z975</td></tr>",
                            "<tr><td>1</td><td>WINDOWS</td><td>680</td><td>Aspire VX5-591G</td></tr>",
                            "<tr><td>1</td><td>WINDOWS</td><td>681</td><td>GV62M 7RD</td></tr>",
                            "<tr><td>1</td><td>WINDOWS</td><td>682</td><td>L502NA-GO052T (N3350/4GB/128GB/W10)</td></tr>",
                            "<tr><td>1</td><td>WINDOWS</td><td>683</td><td>Alienware 15</td></tr>",
                            "<tr><td>1</td><td>WINDOWS</td><td>684</td><td>17-bs000nv I3</td></tr>",
                            "<tr><td>1</td><td>WINDOWS</td><td>685</td><td>Yoga 730</td></tr>",
                            "<tr><td>1</td><td>WINDOWS</td><td>686</td><td>Alienware 15</td></tr>",
                            "<tr><td>1</td><td>WINDOWS</td><td>687</td><td>250 G6</td></tr>",
                            "<tr><td>1</td><td>WINDOWS</td><td>688</td><td>Inspiron 3567</td></tr>",
                            "<tr><td>1</td><td>WINDOWS</td><td>689</td><td>17-Y002nv (A10-9600P/6GB/2TB/Radeon</td></tr>",
                            "<tr><td>1</td><td>WINDOWS</td><td>690</td><td>V110-15ISK (3855U/4GB/500GB/W10)</td></tr>",
                            "<tr><td>4</td><td>NO OS</td><td>691</td><td>Chromebook 14</td></tr>",
                            "<tr><td>1</td><td>WINDOWS</td><td>692</td><td>IdeaPad 520s-14IKB</td></tr>",
                            "<tr><td>1</td><td>WINDOWS</td><td>693</td><td>ZBook 17</td></tr>",
                            "<tr><td>1</td><td>WINDOWS</td><td>694</td><td>ThinkPad X1</td></tr>",
                            "<tr><td>1</td><td>WINDOWS</td><td>695</td><td>Satellite Pro</td></tr>",
                            "<tr><td>1</td><td>WINDOWS</td><td>696</td><td>TravelMate B117-M</td></tr>",
                            "<tr><td>1</td><td>WINDOWS</td><td>697</td><td>Yoga 910-13IKB</td></tr>",
                            "<tr><td>4</td><td>NO OS</td><td>698</td><td>Chromebook Flip</td></tr>",
                            "<tr><td>1</td><td>WINDOWS</td><td>699</td><td>Portege Z30T-C-133</td></tr>",
                            "<tr><td>1</td><td>WINDOWS</td><td>700</td><td>15-bs011nv (i7-7500U/4GB/500GB/Radeon</td></tr>",
                            "<tr><td>1</td><td>WINDOWS</td><td>701</td><td>Inspiron 5577</td></tr>",
                            "<tr><td>1</td><td>WINDOWS</td><td>702</td><td>IdeaPad 320-15AST</td></tr>",
                            "<tr><td>1</td><td>WINDOWS</td><td>703</td><td>IdeaPad 320-15ABR</td></tr>",
                            "<tr><td>1</td><td>WINDOWS</td><td>704</td><td>V310-15IKB (i5-7200U/4GB/1TB/FHD/W10)</td></tr>",
                            "<tr><td>4</td><td>NO OS</td><td>705</td><td>V310-15ISK (i3-6006U/4GB/500GB/No</td></tr>",
                            "<tr><td>1</td><td>WINDOWS</td><td>706</td><td>Vostro 5568</td></tr>",
                            "<tr><td>1</td><td>WINDOWS</td><td>707</td><td>Spin 5</td></tr>",
                            "<tr><td>4</td><td>NO OS</td><td>708</td><td>ThinkPad P51s</td></tr>",
                            "<tr><td>1</td><td>WINDOWS</td><td>709</td><td>Thinkpad T460p</td></tr>",
                            "<tr><td>1</td><td>WINDOWS</td><td>710</td><td>17-ak002nv (A10-9620P/6GB/2TB/Radeon</td></tr>",
                            "<tr><td>1</td><td>WINDOWS</td><td>711</td><td>Legion Y520-15IKBN</td></tr>",
                            "<tr><td>2</td><td>LINUX</td><td>712</td><td>Latitude 5480</td></tr>",
                            "<tr><td>2</td><td>LINUX</td><td>713</td><td>Vostro 5568</td></tr>",
                            "<tr><td>1</td><td>WINDOWS</td><td>714</td><td>VivoBook E403NA</td></tr>",
                            "<tr><td>1</td><td>WINDOWS</td><td>715</td><td>Latitude 5580</td></tr>",
                            "<tr><td>1</td><td>WINDOWS</td><td>716</td><td>Thinkpad E470</td></tr>",
                            "<tr><td>1</td><td>WINDOWS</td><td>717</td><td>Latitude 5580</td></tr>",
                            "<tr><td>1</td><td>WINDOWS</td><td>718</td><td>110-15ACL (A6-7310/4GB/500GB/W10)</td></tr>",
                            "<tr><td>1</td><td>WINDOWS</td><td>719</td><td>Smartbook 142</td></tr>",
                            "<tr><td>1</td><td>WINDOWS</td><td>720</td><td>ProBook 470</td></tr>",
                            "<tr><td>1</td><td>WINDOWS</td><td>721</td><td>ThinkPad X1</td></tr>",
                            "<tr><td>1</td><td>WINDOWS</td><td>722</td><td>Pavilion X360</td></tr>",
                            "<tr><td>1</td><td>WINDOWS</td><td>723</td><td>ThinkPad T470s</td></tr>",
                            "<tr><td>1</td><td>WINDOWS</td><td>724</td><td>Alienware 17</td></tr>",
                            "<tr><td>1</td><td>WINDOWS</td><td>725</td><td>GL72M 7REX</td></tr>",
                            "<tr><td>4</td><td>NO OS</td><td>726</td><td>V310-15IKB (i5-7200U/4GB/1TB/No</td></tr>",
                            "<tr><td>1</td><td>WINDOWS</td><td>727</td><td>Inspiron 5570</td></tr>",
                            "<tr><td>1</td><td>WINDOWS</td><td>728</td><td>Inspiron 5378</td></tr>",
                            "<tr><td>2</td><td>LINUX</td><td>729</td><td>Inspiron 5567</td></tr>",
                            "<tr><td>1</td><td>WINDOWS</td><td>730</td><td>15-BW037na (A9-9420/4GB/1TB/Radeon</td></tr>",
                            "<tr><td>1</td><td>WINDOWS</td><td>731</td><td>Predator 17</td></tr>",
                            "<tr><td>1</td><td>WINDOWS</td><td>732</td><td>Inspiron 3567</td></tr>",
                            "<tr><td>1</td><td>WINDOWS</td><td>733</td><td>15-BW091ND (A9-9420/6GB/1TB</td></tr>",
                            "<tr><td>1</td><td>WINDOWS</td><td>734</td><td>Extensa EX2540-58KR</td></tr>",
                            "<tr><td>1</td><td>WINDOWS</td><td>735</td><td>ThinkPad 13</td></tr>",
                            "<tr><td>1</td><td>WINDOWS</td><td>736</td><td>V310-15IKB (i7-7500U/4GB/1TB/FHD/W10)</td></tr>",
                            "<tr><td>1</td><td>WINDOWS</td><td>737</td><td>ZBook 15</td></tr>",
                            "<tr><td>1</td><td>WINDOWS</td><td>738</td><td>Inspiron 5379</td></tr>",
                            "<tr><td>1</td><td>WINDOWS</td><td>739</td><td>GS63VR 7RF</td></tr>",
                            "<tr><td>1</td><td>WINDOWS</td><td>740</td><td>Aspire ES1-572</td></tr>",
                            "<tr><td>1</td><td>WINDOWS</td><td>741</td><td>Inspiron 7560</td></tr>",
                            "<tr><td>1</td><td>WINDOWS</td><td>742</td><td>Vostro 3568</td></tr>",
                            "<tr><td>1</td><td>WINDOWS</td><td>743</td><td>Tecra X40-D-10G</td></tr>",
                            "<tr><td>1</td><td>WINDOWS</td><td>744</td><td>Flex 5</td></tr>",
                            "<tr><td>1</td><td>WINDOWS</td><td>745</td><td>Thinkpad P51s</td></tr>",
                            "<tr><td>4</td><td>NO OS</td><td>746</td><td>Chromebook 14</td></tr>",
                            "<tr><td>1</td><td>WINDOWS</td><td>747</td><td>Notebook 9</td></tr>",
                            "<tr><td>1</td><td>WINDOWS</td><td>748</td><td>250 G6</td></tr>",
                            "<tr><td>1</td><td>WINDOWS</td><td>749</td><td>Latitude 5480</td></tr>",
                            "<tr><td>4</td><td>NO OS</td><td>750</td><td>Zbook 17</td></tr>",
                            "<tr><td>1</td><td>WINDOWS</td><td>751</td><td>N23 (N3060/4GB/128GB/W10)</td></tr>",
                            "<tr><td>1</td><td>WINDOWS</td><td>752</td><td>EliteBook 850</td></tr>",
                            "<tr><td>4</td><td>NO OS</td><td>753</td><td>X550VX-XX015D (i5-6300HQ/4GB/1TB/GeForce</td></tr>",
                            "<tr><td>1</td><td>WINDOWS</td><td>754</td><td>Thinkpad T460</td></tr>",
                            "<tr><td>1</td><td>WINDOWS</td><td>755</td><td>Pro P2540UA-XO0192R</td></tr>",
                            "<tr><td>1</td><td>WINDOWS</td><td>756</td><td>Yoga 900-13ISK</td></tr>",
                            "<tr><td>1</td><td>WINDOWS</td><td>757</td><td>15-cb003na (i5-7300HQ/8GB/1TB</td></tr>",
                            "<tr><td>4</td><td>NO OS</td><td>758</td><td>ZBook 15</td></tr>",
                            "<tr><td>1</td><td>WINDOWS</td><td>759</td><td>Alienware 17</td></tr>",
                            "<tr><td>1</td><td>WINDOWS</td><td>760</td><td>Aspire 3</td></tr>",
                            "<tr><td>1</td><td>WINDOWS</td><td>761</td><td>Legion Y520-15IKBN</td></tr>",
                            "<tr><td>1</td><td>WINDOWS</td><td>762</td><td>Latitude 7280</td></tr>",
                            "<tr><td>4</td><td>NO OS</td><td>763</td><td>Pixelbook (Core</td></tr>",
                            "<tr><td>1</td><td>WINDOWS</td><td>764</td><td>Zenbook UX330UA-AH5Q</td></tr>",
                            "<tr><td>1</td><td>WINDOWS</td><td>765</td><td>Latitude 3380</td></tr>",
                            "<tr><td>1</td><td>WINDOWS</td><td>766</td><td>TravelMate P238-M</td></tr>",
                            "<tr><td>1</td><td>WINDOWS</td><td>767</td><td>X751NV-TY001 (N4200/4GB/1TB/GeForce</td></tr>",
                            "<tr><td>1</td><td>WINDOWS</td><td>768</td><td>Inspiron 7559</td></tr>",
                            "<tr><td>1</td><td>WINDOWS</td><td>769</td><td>Notebook 9</td></tr>",
                            "<tr><td>2</td><td>LINUX</td><td>770</td><td>Aspire A315-31</td></tr>",
                            "<tr><td>1</td><td>WINDOWS</td><td>771</td><td>Inspiron 5567</td></tr>",
                            "<tr><td>1</td><td>WINDOWS</td><td>772</td><td>Notebook 9</td></tr>",
                            "<tr><td>1</td><td>WINDOWS</td><td>773</td><td>Tecra A40-C-1E5</td></tr>",
                            "<tr><td>1</td><td>WINDOWS</td><td>774</td><td>Inspiron 7567</td></tr>",
                            "<tr><td>1</td><td>WINDOWS</td><td>775</td><td>EliteBook 820</td></tr>",
                            "<tr><td>1</td><td>WINDOWS</td><td>776</td><td>Q524UQ-BHI7T15 (i7-7500U/12GB/2TB/GeForce</td></tr>",
                            "<tr><td>4</td><td>NO OS</td><td>777</td><td>Thinkpad P50</td></tr>",
                            "<tr><td>1</td><td>WINDOWS</td><td>778</td><td>Swift 3</td></tr>",
                            "<tr><td>1</td><td>WINDOWS</td><td>779</td><td>Blade Pro</td></tr>",
                            "<tr><td>1</td><td>WINDOWS</td><td>780</td><td>Vivobook Max</td></tr>",
                            "<tr><td>1</td><td>WINDOWS</td><td>781</td><td>Alienware 17</td></tr>",
                            "<tr><td>1</td><td>WINDOWS</td><td>782</td><td>Rog G752VS-BA171T</td></tr>",
                            "<tr><td>1</td><td>WINDOWS</td><td>783</td><td>Tecra Z40-C-161</td></tr>",
                            "<tr><td>4</td><td>NO OS</td><td>784</td><td>IdeaPad 110-15IBR</td></tr>",
                            "<tr><td>1</td><td>WINDOWS</td><td>785</td><td>ThinkPad T470s</td></tr>",
                            "<tr><td>1</td><td>WINDOWS</td><td>786</td><td>GS43VR 7RE</td></tr>",
                            "<tr><td>1</td><td>WINDOWS</td><td>787</td><td>GL62M (i5-7300HQ/8GB/1TB</td></tr>",
                            "<tr><td>1</td><td>WINDOWS</td><td>788</td><td>Legion Y520-15IKBN</td></tr>",
                            "<tr><td>1</td><td>WINDOWS</td><td>789</td><td>Predator G9-793</td></tr>",
                            "<tr><td>1</td><td>WINDOWS</td><td>790</td><td>Inspiron 7567</td></tr>",
                            "<tr><td>1</td><td>WINDOWS</td><td>791</td><td>FX502VM-DM560T (i7-7700HQ/8GB/1TB</td></tr>",
                            "<tr><td>1</td><td>WINDOWS</td><td>792</td><td>K146 (N3350/4GB/32GB/W10)</td></tr>",
                            "<tr><td>1</td><td>WINDOWS</td><td>793</td><td>ThinkPad Yoga</td></tr>",
                            "<tr><td>1</td><td>WINDOWS</td><td>794</td><td>Yoga 510-15IKB</td></tr>",
                            "<tr><td>3</td><td>IOS</td><td>795</td><td>MacBook 12&quot;</td></tr>",
                            "<tr><td>1</td><td>WINDOWS</td><td>796</td><td>ThinkPad X1</td></tr>",
                            "<tr><td>1</td><td>WINDOWS</td><td>797</td><td>R417NA-RS01 (N3350/4GB/32GB/W10)</td></tr>",
                            "<tr><td>1</td><td>WINDOWS</td><td>798</td><td>Latitude 3580</td></tr>",
                            "<tr><td>1</td><td>WINDOWS</td><td>799</td><td>Yoga 910-13IKB</td></tr>",
                            "<tr><td>1</td><td>WINDOWS</td><td>800</td><td>Vostro 5568</td></tr>",
                            "<tr><td>1</td><td>WINDOWS</td><td>801</td><td>ZBook 17</td></tr>",
                            "<tr><td>1</td><td>WINDOWS</td><td>802</td><td>Pro P2540UA-XS51</td></tr>",
                            "<tr><td>1</td><td>WINDOWS</td><td>803</td><td>XPS 13</td></tr>",
                            "<tr><td>1</td><td>WINDOWS</td><td>804</td><td>XPS 15</td></tr>",
                            "<tr><td>1</td><td>WINDOWS</td><td>805</td><td>Latitude 3180</td></tr>",
                            "<tr><td>1</td><td>WINDOWS</td><td>806</td><td>EliteBook 820</td></tr>",
                            "<tr><td>1</td><td>WINDOWS</td><td>807</td><td>Satellite Pro</td></tr>",
                            "<tr><td>1</td><td>WINDOWS</td><td>808</td><td>15-ba043na (A12-9700P/8GB/2TB/W10)</td></tr>",
                            "<tr><td>1</td><td>WINDOWS</td><td>809</td><td>Inspiron 7567</td></tr>",
                            "<tr><td>1</td><td>WINDOWS</td><td>810</td><td>IdeaPad 310-15IKB</td></tr>",
                            "<tr><td>1</td><td>WINDOWS</td><td>811</td><td>Omen 17-an012dx</td></tr>",
                            "<tr><td>1</td><td>WINDOWS</td><td>812</td><td>GE72MVR 7RG</td></tr>",
                            "<tr><td>1</td><td>WINDOWS</td><td>813</td><td>Notebook 9</td></tr>",
                            "<tr><td>1</td><td>WINDOWS</td><td>814</td><td>Vostro 5568</td></tr>",
                            "<tr><td>1</td><td>WINDOWS</td><td>815</td><td>Vostro 3568</td></tr>",
                            "<tr><td>1</td><td>WINDOWS</td><td>816</td><td>Thinkpad T470s</td></tr>",
                            "<tr><td>1</td><td>WINDOWS</td><td>817</td><td>Blade Stealth</td></tr>",
                            "<tr><td>4</td><td>NO OS</td><td>818</td><td>Chromebook 11</td></tr>",
                            "<tr><td>1</td><td>WINDOWS</td><td>819</td><td>Alienware 17</td></tr>",
                            "<tr><td>1</td><td>WINDOWS</td><td>820</td><td>Latitude 3480</td></tr>",
                            "<tr><td>1</td><td>WINDOWS</td><td>821</td><td>V110-15ISK (i3-6006U/4GB/500GB/W10)</td></tr>",
                            "<tr><td>1</td><td>WINDOWS</td><td>822</td><td>Tecra X40-D-10Z</td></tr>",
                            "<tr><td>1</td><td>WINDOWS</td><td>823</td><td>Thinkpad X1</td></tr>",
                            "<tr><td>1</td><td>WINDOWS</td><td>824</td><td>GL62M 7RD</td></tr>",
                            "<tr><td>1</td><td>WINDOWS</td><td>825</td><td>ThinkPad X1</td></tr>",
                            "<tr><td>1</td><td>WINDOWS</td><td>826</td><td>Satellite Pro</td></tr>",
                            "<tr><td>1</td><td>WINDOWS</td><td>827</td><td>ZenBook Flip</td></tr>",
                            "<tr><td>1</td><td>WINDOWS</td><td>828</td><td>Latitude 3480</td></tr>",
                            "<tr><td>4</td><td>NO OS</td><td>829</td><td>Chromebook 11</td></tr>",
                            "<tr><td>1</td><td>WINDOWS</td><td>830</td><td>Swift 3</td></tr>",
                            "<tr><td>1</td><td>WINDOWS</td><td>831</td><td>Blade Pro</td></tr>",
                            "<tr><td>1</td><td>WINDOWS</td><td>832</td><td>Thinkpad X1</td></tr>",
                            "<tr><td>2</td><td>LINUX</td><td>833</td><td>VivoBook Max</td></tr>",
                            "<tr><td>1</td><td>WINDOWS</td><td>834</td><td>Thinkpad T460</td></tr>",
                            "<tr><td>1</td><td>WINDOWS</td><td>835</td><td>ThinkPad T470s</td></tr>",
                            "<tr><td>1</td><td>WINDOWS</td><td>836</td><td>Alienware 15</td></tr>",
                            "<tr><td>1</td><td>WINDOWS</td><td>837</td><td>Rog GL702VS-BA023T</td></tr>",
                            "<tr><td>1</td><td>WINDOWS</td><td>838</td><td>Satellite Pro</td></tr>",
                            "<tr><td>4</td><td>NO OS</td><td>839</td><td>N42-20 Chromebook</td></tr>",
                            "<tr><td>1</td><td>WINDOWS</td><td>840</td><td>R558UA-DM966T (i5-7200U/8GB/128GB/FHD/W10)</td></tr>",
                            "<tr><td>1</td><td>WINDOWS</td><td>841</td><td>Rog GL702VM-GC017T</td></tr>",
                            "<tr><td>1</td><td>WINDOWS</td><td>842</td><td>Alienware 17</td></tr>",
                            "<tr><td>1</td><td>WINDOWS</td><td>843</td><td>ProBook 470</td></tr>",
                            "<tr><td>1</td><td>WINDOWS</td><td>844</td><td>Vostro 3568</td></tr>",
                            "<tr><td>4</td><td>NO OS</td><td>845</td><td>EliteBook 840</td></tr>",
                            "<tr><td>1</td><td>WINDOWS</td><td>846</td><td>Vostro 3568</td></tr>",
                            "<tr><td>4</td><td>NO OS</td><td>847</td><td>Chromebook X360</td></tr>",
                            "<tr><td>1</td><td>WINDOWS</td><td>848</td><td>ZenBook UX310UQ-GL026T</td></tr>",
                            "<tr><td>1</td><td>WINDOWS</td><td>849</td><td>EliteBook x360</td></tr>",
                            "<tr><td>1</td><td>WINDOWS</td><td>850</td><td>EliteBook 840</td></tr>",
                            "<tr><td>4</td><td>NO OS</td><td>851</td><td>250 G6</td></tr>",
                            "<tr><td>1</td><td>WINDOWS</td><td>852</td><td>Rog GL502VM-DS74</td></tr>",
                            "<tr><td>2</td><td>LINUX</td><td>853</td><td>Inspiron 5767</td></tr>",
                            "<tr><td>1</td><td>WINDOWS</td><td>854</td><td>ThinkPad T470p</td></tr>",
                            "<tr><td>1</td><td>WINDOWS</td><td>855</td><td>K556UR-DM621T (i7-7500U/8GB/256GB/GeForce</td></tr>",
                            "<tr><td>1</td><td>WINDOWS</td><td>856</td><td>Latitude 5580</td></tr>",
                            "<tr><td>1</td><td>WINDOWS</td><td>857</td><td>X541NA (N4200/4GB/1TB/W10)</td></tr>",
                            "<tr><td>1</td><td>WINDOWS</td><td>858</td><td>EliteBook x360</td></tr>",
                            "<tr><td>1</td><td>WINDOWS</td><td>859</td><td>Inspiron 5368</td></tr>",
                            "<tr><td>4</td><td>NO OS</td><td>860</td><td>IdeaPad 110-15ISK</td></tr>",
                            "<tr><td>1</td><td>WINDOWS</td><td>861</td><td>ThinkPad E570</td></tr>",
                            "<tr><td>1</td><td>WINDOWS</td><td>862</td><td>EliteBook 850</td></tr>",
                            "<tr><td>1</td><td>WINDOWS</td><td>863</td><td>Portege X30-D-10X</td></tr>",
                            "<tr><td>4</td><td>NO OS</td><td>864</td><td>Legion Y520-15IKBN</td></tr>",
                            "<tr><td>1</td><td>WINDOWS</td><td>865</td><td>XPS 13</td></tr>",
                            "<tr><td>1</td><td>WINDOWS</td><td>866</td><td>Probook 450</td></tr>",
                            "<tr><td>1</td><td>WINDOWS</td><td>867</td><td>Portégé Z30-C-188</td></tr>",
                            "<tr><td>1</td><td>WINDOWS</td><td>868</td><td>ThinkPad Yoga</td></tr>",
                            "<tr><td>1</td><td>WINDOWS</td><td>869</td><td>TMX349-G2-M-50FS (i5-7200U/8GB/256GB/FHD/W10)</td></tr>",
                            "<tr><td>1</td><td>WINDOWS</td><td>870</td><td>Precision 3520</td></tr>",
                            "<tr><td>1</td><td>WINDOWS</td><td>871</td><td>ThinkPad L570</td></tr>",
                            "<tr><td>4</td><td>NO OS</td><td>872</td><td>IdeaPad 110-15ISK</td></tr>",
                            "<tr><td>1</td><td>WINDOWS</td><td>873</td><td>Tecra A50-D-11D</td></tr>",
                            "<tr><td>1</td><td>WINDOWS</td><td>874</td><td>Thinkpad 13</td></tr>",
                            "<tr><td>1</td><td>WINDOWS</td><td>875</td><td>Notebook 9</td></tr>",
                            "<tr><td>1</td><td>WINDOWS</td><td>876</td><td>Latitude 7280</td></tr>",
                            "<tr><td>2</td><td>LINUX</td><td>877</td><td>X541NA-GO121 (N4200/4GB/1TB/Linux)</td></tr>",
                            "<tr><td>1</td><td>WINDOWS</td><td>878</td><td>Mi Notebook</td></tr>",
                            "<tr><td>1</td><td>WINDOWS</td><td>879</td><td>Vostro 5568</td></tr>",
                            "<tr><td>1</td><td>WINDOWS</td><td>880</td><td>ProBook 450</td></tr>",
                            "<tr><td>1</td><td>WINDOWS</td><td>881</td><td>EliteBook x360</td></tr>",
                            "<tr><td>1</td><td>WINDOWS</td><td>882</td><td>Pavilion x360</td></tr>",
                            "<tr><td>1</td><td>WINDOWS</td><td>883</td><td>VivoBook L402NA</td></tr>",
                            "<tr><td>1</td><td>WINDOWS</td><td>884</td><td>IdeaPad 510-15ISK</td></tr>",
                            "<tr><td>1</td><td>WINDOWS</td><td>885</td><td>Inspiron 3552</td></tr>",
                            "<tr><td>1</td><td>WINDOWS</td><td>886</td><td>EliteBook x360</td></tr>",
                            "<tr><td>2</td><td>LINUX</td><td>887</td><td>Vostro 3568</td></tr>",
                            "<tr><td>1</td><td>WINDOWS</td><td>888</td><td>Rog GL753VD-GC082T</td></tr>",
                            "<tr><td>4</td><td>NO OS</td><td>889</td><td>Chromebook C731-C78G</td></tr>",
                            "<tr><td>1</td><td>WINDOWS</td><td>890</td><td>IdeaPad 110-17ACL</td></tr>",
                            "<tr><td>1</td><td>WINDOWS</td><td>891</td><td>Probook 640</td></tr>",
                            "<tr><td>1</td><td>WINDOWS</td><td>892</td><td>Envy x360</td></tr>",
                            "<tr><td>1</td><td>WINDOWS</td><td>893</td><td>Notebook 9</td></tr>",
                            "<tr><td>1</td><td>WINDOWS</td><td>894</td><td>ThinkPad T470s</td></tr>",
                            "<tr><td>1</td><td>WINDOWS</td><td>895</td><td>GS73VR Stealth</td></tr>",
                            "<tr><td>1</td><td>WINDOWS</td><td>896</td><td>Portege X30-D-10V</td></tr>",
                            "<tr><td>2</td><td>LINUX</td><td>897</td><td>Inspiron 7567</td></tr>",
                            "<tr><td>1</td><td>WINDOWS</td><td>898</td><td>ProBook 450</td></tr>",
                            "<tr><td>1</td><td>WINDOWS</td><td>899</td><td>Vostro 3568</td></tr>",
                            "<tr><td>1</td><td>WINDOWS</td><td>900</td><td>Latitude 5580</td></tr>",
                            "<tr><td>1</td><td>WINDOWS</td><td>901</td><td>XPS 13</td></tr>",
                            "<tr><td>1</td><td>WINDOWS</td><td>902</td><td>G701VO-IH74K (i7-6820HK/32GB/2x</td></tr>",
                            "<tr><td>1</td><td>WINDOWS</td><td>903</td><td>XPS 13</td></tr>",
                            "<tr><td>1</td><td>WINDOWS</td><td>904</td><td>ThinkPad X1</td></tr>",
                            "<tr><td>1</td><td>WINDOWS</td><td>905</td><td>ThinkPad T570</td></tr>",
                            "<tr><td>1</td><td>WINDOWS</td><td>906</td><td>Gram 15Z970</td></tr>",
                            "<tr><td>1</td><td>WINDOWS</td><td>907</td><td>Elitebook 820</td></tr>",
                            "<tr><td>4</td><td>NO OS</td><td>908</td><td>Chromebook CB5-571-C1DZ</td></tr>",
                            "<tr><td>1</td><td>WINDOWS</td><td>909</td><td>IdeaPad Y700-15ISK</td></tr>",
                            "<tr><td>1</td><td>WINDOWS</td><td>910</td><td>Gram 14Z970</td></tr>",
                            "<tr><td>1</td><td>WINDOWS</td><td>911</td><td>Latitude 5480</td></tr>",
                            "<tr><td>1</td><td>WINDOWS</td><td>912</td><td>Elitebook Folio</td></tr>",
                            "<tr><td>1</td><td>WINDOWS</td><td>913</td><td>IdeaPad 510-15IKB</td></tr>",
                            "<tr><td>1</td><td>WINDOWS</td><td>914</td><td>ProBook 450</td></tr>",
                            "<tr><td>1</td><td>WINDOWS</td><td>915</td><td>Aspire E5-575</td></tr>",
                            "<tr><td>1</td><td>WINDOWS</td><td>916</td><td>ThinkPad 13</td></tr>",
                            "<tr><td>1</td><td>WINDOWS</td><td>917</td><td>Probook 430</td></tr>",
                            "<tr><td>1</td><td>WINDOWS</td><td>918</td><td>GE72VR 6RF</td></tr>",
                            "<tr><td>1</td><td>WINDOWS</td><td>919</td><td>Inspiron 7567</td></tr>",
                            "<tr><td>1</td><td>WINDOWS</td><td>920</td><td>GL62M 7RD</td></tr>",
                            "<tr><td>1</td><td>WINDOWS</td><td>921</td><td>Vostro 3568</td></tr>",
                            "<tr><td>1</td><td>WINDOWS</td><td>922</td><td>EliteBook 850</td></tr>",
                            "<tr><td>1</td><td>WINDOWS</td><td>923</td><td>Envy 13-AB077cl</td></tr>",
                            "<tr><td>1</td><td>WINDOWS</td><td>924</td><td>Tecra Z50-C-140</td></tr>",
                            "<tr><td>1</td><td>WINDOWS</td><td>925</td><td>ThinkPad Yoga</td></tr>",
                            "<tr><td>1</td><td>WINDOWS</td><td>926</td><td>Latitude 3580</td></tr>",
                            "<tr><td>1</td><td>WINDOWS</td><td>927</td><td>Thinkpad X270</td></tr>",
                            "<tr><td>1</td><td>WINDOWS</td><td>928</td><td>Probook 650</td></tr>",
                            "<tr><td>1</td><td>WINDOWS</td><td>929</td><td>Vostro 3568</td></tr>",
                            "<tr><td>1</td><td>WINDOWS</td><td>930</td><td>ProBook 640</td></tr>",
                            "<tr><td>1</td><td>WINDOWS</td><td>931</td><td>IdeaPad 320-15IAP</td></tr>",
                            "<tr><td>1</td><td>WINDOWS</td><td>932</td><td>EliteBook 820</td></tr>",
                            "<tr><td>4</td><td>NO OS</td><td>933</td><td>250 G6</td></tr>",
                            "<tr><td>1</td><td>WINDOWS</td><td>934</td><td>Yoga 900-13ISK</td></tr>",
                            "<tr><td>1</td><td>WINDOWS</td><td>935</td><td>Tecra Z40-C-12X</td></tr>",
                            "<tr><td>1</td><td>WINDOWS</td><td>936</td><td>EliteBook 820</td></tr>",
                            "<tr><td>1</td><td>WINDOWS</td><td>937</td><td>Vostro 3568</td></tr>",
                            "<tr><td>1</td><td>WINDOWS</td><td>938</td><td>GP62M Leopard</td></tr>",
                            "<tr><td>1</td><td>WINDOWS</td><td>939</td><td>Latitude 7480</td></tr>",
                            "<tr><td>1</td><td>WINDOWS</td><td>940</td><td>Alienware 17</td></tr>",
                            "<tr><td>1</td><td>WINDOWS</td><td>941</td><td>Omen 17-W006na</td></tr>",
                            "<tr><td>1</td><td>WINDOWS</td><td>942</td><td>X751SV-TY001T (N3710/4GB/1TB/GeForce</td></tr>",
                            "<tr><td>1</td><td>WINDOWS</td><td>943</td><td>TravelMate P259-G2</td></tr>",
                            "<tr><td>1</td><td>WINDOWS</td><td>944</td><td>Tecra A50-C-1ZV</td></tr>",
                            "<tr><td>1</td><td>WINDOWS</td><td>945</td><td>Yoga 700-11ISK</td></tr>",
                            "<tr><td>1</td><td>WINDOWS</td><td>946</td><td>IdeaPad Y700-15ACZ</td></tr>",
                            "<tr><td>1</td><td>WINDOWS</td><td>947</td><td>Latitude 7280</td></tr>",
                            "<tr><td>4</td><td>NO OS</td><td>948</td><td>IdeaPad 310-15IKB</td></tr>",
                            "<tr><td>1</td><td>WINDOWS</td><td>949</td><td>Insprion 5767</td></tr>",
                            "<tr><td>4</td><td>NO OS</td><td>950</td><td>Chromebook 14</td></tr>",
                            "<tr><td>1</td><td>WINDOWS</td><td>951</td><td>ZBook Studio</td></tr>",
                            "<tr><td>1</td><td>WINDOWS</td><td>952</td><td>Latitude 7480</td></tr>",
                            "<tr><td>4</td><td>NO OS</td><td>953</td><td>Portege Z30-C-1CW</td></tr>",
                            "<tr><td>4</td><td>NO OS</td><td>954</td><td>Chromebook Flip</td></tr>",
                            "<tr><td>1</td><td>WINDOWS</td><td>955</td><td>Thinkpad T460</td></tr>",
                            "<tr><td>1</td><td>WINDOWS</td><td>956</td><td>Alienware 17</td></tr>",
                            "<tr><td>1</td><td>WINDOWS</td><td>957</td><td>XPS 13</td></tr>",
                            "<tr><td>1</td><td>WINDOWS</td><td>958</td><td>ProBook x360</td></tr>",
                            "<tr><td>1</td><td>WINDOWS</td><td>959</td><td>XPS 13</td></tr>",
                            "<tr><td>4</td><td>NO OS</td><td>960</td><td>Chromebook C738T-C2EJ</td></tr>",
                            "<tr><td>1</td><td>WINDOWS</td><td>961</td><td>Portege Z30-C-16Z</td></tr>",
                            "<tr><td>1</td><td>WINDOWS</td><td>962</td><td>ThinkPad X270</td></tr>",
                            "<tr><td>1</td><td>WINDOWS</td><td>963</td><td>Aspire F5-573G-510L</td></tr>",
                            "<tr><td>1</td><td>WINDOWS</td><td>964</td><td>Portege X20W-D-10V</td></tr>",
                            "<tr><td>1</td><td>WINDOWS</td><td>965</td><td>ProBook 450</td></tr>",
                            "<tr><td>2</td><td>LINUX</td><td>966</td><td>Inspiron 3567</td></tr>",
                            "<tr><td>1</td><td>WINDOWS</td><td>967</td><td>Latitude 5580</td></tr>",
                            "<tr><td>1</td><td>WINDOWS</td><td>968</td><td>ProBook 450</td></tr>",
                            "<tr><td>1</td><td>WINDOWS</td><td>969</td><td>Alienware 17</td></tr>",
                            "<tr><td>1</td><td>WINDOWS</td><td>970</td><td>IdeaPad 310-15IKB</td></tr>",
                            "<tr><td>1</td><td>WINDOWS</td><td>971</td><td>XPS 13</td></tr>",
                            "<tr><td>1</td><td>WINDOWS</td><td>972</td><td>Latitude E7470</td></tr>",
                            "<tr><td>1</td><td>WINDOWS</td><td>973</td><td>Alienware 17</td></tr>",
                            "<tr><td>1</td><td>WINDOWS</td><td>974</td><td>Tecra A40-C-1DF</td></tr>",
                            "<tr><td>1</td><td>WINDOWS</td><td>975</td><td>Rog Strix</td></tr>",
                            "<tr><td>1</td><td>WINDOWS</td><td>976</td><td>Probook 450</td></tr>",
                            "<tr><td>4</td><td>NO OS</td><td>977</td><td>ThinkPad T460</td></tr>",
                            "<tr><td>1</td><td>WINDOWS</td><td>978</td><td>Q534UX-BHI7T19 (i7-7500U/16GB/2TB</td></tr>",
                            "<tr><td>1</td><td>WINDOWS</td><td>979</td><td>15-bs053od (i7-7500U/6GB/1TB/W10)</td></tr>",
                            "<tr><td>1</td><td>WINDOWS</td><td>980</td><td>Rog GL753VE-DS74</td></tr>",
                            "<tr><td>1</td><td>WINDOWS</td><td>981</td><td>Inspiron 7579</td></tr>",
                            "<tr><td>4</td><td>NO OS</td><td>982</td><td>Portege Z30-C-1CV</td></tr>",
                            "<tr><td>1</td><td>WINDOWS</td><td>983</td><td>IdeaPad 320-15ABR</td></tr>",
                            "<tr><td>1</td><td>WINDOWS</td><td>984</td><td>LifeBook A556</td></tr>",
                            "<tr><td>1</td><td>WINDOWS</td><td>985</td><td>Tecra A40-C-1KF</td></tr>",
                            "<tr><td>1</td><td>WINDOWS</td><td>986</td><td>Inspiron 3567</td></tr>",
                            "<tr><td>1</td><td>WINDOWS</td><td>987</td><td>Probook 450</td></tr>",
                            "<tr><td>1</td><td>WINDOWS</td><td>988</td><td>Legion Y520-15IKBN</td></tr>",
                            "<tr><td>1</td><td>WINDOWS</td><td>989</td><td>Inspiron 5567</td></tr>",
                            "<tr><td>1</td><td>WINDOWS</td><td>990</td><td>Latitude 5480</td></tr>",
                            "<tr><td>1</td><td>WINDOWS</td><td>991</td><td>EliteBook Folio</td></tr>",
                            "<tr><td>1</td><td>WINDOWS</td><td>992</td><td>15-bs005nv (i3-6006U/4GB/1TB</td></tr>",
                            "<tr><td>4</td><td>NO OS</td><td>993</td><td>V110-15IAP (N3350/4GB/128GB/No</td></tr>",
                            "<tr><td>1</td><td>WINDOWS</td><td>994</td><td>ThinkPad T560</td></tr>",
                            "<tr><td>1</td><td>WINDOWS</td><td>995</td><td>Inspiron 5378</td></tr>",
                            "<tr><td>1</td><td>WINDOWS</td><td>996</td><td>ZenBook UX310UA-FB485T</td></tr>",
                            "<tr><td>1</td><td>WINDOWS</td><td>997</td><td>Spectre 13-V111dx</td></tr>",
                            "<tr><td>1</td><td>WINDOWS</td><td>998</td><td>Aspire ES1-533</td></tr>",
                            "<tr><td>1</td><td>WINDOWS</td><td>999</td><td>Rog GL553VE-DS74</td></tr>",
                            "<tr><td>1</td><td>WINDOWS</td><td>1000</td><td>EliteBook 840</td></tr>",
                            "<tr><td>1</td><td>WINDOWS</td><td>1001</td><td>Nitro 5</td></tr>",
                            "<tr><td>1</td><td>WINDOWS</td><td>1002</td><td>ENVY -</td></tr>",
                            "<tr><td>1</td><td>WINDOWS</td><td>1003</td><td>Vostro 3568</td></tr>",
                            "<tr><td>1</td><td>WINDOWS</td><td>1004</td><td>Probook 440</td></tr>",
                            "<tr><td>1</td><td>WINDOWS</td><td>1005</td><td>Portege Z30-C-16H</td></tr>",
                            "<tr><td>1</td><td>WINDOWS</td><td>1006</td><td>EliteBook 840</td></tr>",
                            "<tr><td>1</td><td>WINDOWS</td><td>1007</td><td>ProBook 640</td></tr>",
                            "<tr><td>4</td><td>NO OS</td><td>1008</td><td>EliteBook 1040</td></tr>",
                            "<tr><td>1</td><td>WINDOWS</td><td>1009</td><td>ProBook 440</td></tr>",
                            "<tr><td>1</td><td>WINDOWS</td><td>1010</td><td>Probook 440</td></tr>",
                            "<tr><td>1</td><td>WINDOWS</td><td>1011</td><td>Inspiron 7567</td></tr>",
                            "<tr><td>1</td><td>WINDOWS</td><td>1012</td><td>EliteBook 820</td></tr>",
                            "<tr><td>1</td><td>WINDOWS</td><td>1013</td><td>Elitebook 840</td></tr>",
                            "<tr><td>1</td><td>WINDOWS</td><td>1014</td><td>EliteBook 840</td></tr>",
                            "<tr><td>1</td><td>WINDOWS</td><td>1015</td><td>Probook 430</td></tr>",
                            "<tr><td>1</td><td>WINDOWS</td><td>1016</td><td>Portege A30-C-1CZ</td></tr>",
                            "<tr><td>1</td><td>WINDOWS</td><td>1017</td><td>ProBook 450</td></tr>",
                            "<tr><td>4</td><td>NO OS</td><td>1018</td><td>ThinkPad P70</td></tr>",
                            "<tr><td>1</td><td>WINDOWS</td><td>1019</td><td>Tecra Z40-C-12Z</td></tr>",
                            "<tr><td>1</td><td>WINDOWS</td><td>1020</td><td>EliteBook 1040</td></tr>",
                            "<tr><td>1</td><td>WINDOWS</td><td>1021</td><td>Inspiron 5568</td></tr>",
                            "<tr><td>1</td><td>WINDOWS</td><td>1022</td><td>Portégé Z30-C-16K</td></tr>",
                            "<tr><td>1</td><td>WINDOWS</td><td>1023</td><td>Spectre 13-V100nv</td></tr>",
                            "<tr><td>1</td><td>WINDOWS</td><td>1024</td><td>ProBook 440</td></tr>",
                            "<tr><td>1</td><td>WINDOWS</td><td>1025</td><td>Latitude E5570</td></tr>",
                            "<tr><td>1</td><td>WINDOWS</td><td>1026</td><td>Elitebook 820</td></tr>",
                            "<tr><td>1</td><td>WINDOWS</td><td>1027</td><td>ProBook 650</td></tr>",
                            "<tr><td>1</td><td>WINDOWS</td><td>1028</td><td>ProBook 640</td></tr>",
                            "<tr><td>1</td><td>WINDOWS</td><td>1029</td><td>XPS 13</td></tr>",
                            "<tr><td>1</td><td>WINDOWS</td><td>1030</td><td>Probook 470</td></tr>",
                            "<tr><td>1</td><td>WINDOWS</td><td>1031</td><td>ProBook 440</td></tr>",
                            "<tr><td>1</td><td>WINDOWS</td><td>1032</td><td>Aspire 3</td></tr>",
                            "<tr><td>1</td><td>WINDOWS</td><td>1033</td><td>GL72M 7RDX</td></tr>",
                            "<tr><td>4</td><td>NO OS</td><td>1034</td><td>Probook 640</td></tr>",
                            "<tr><td>1</td><td>WINDOWS</td><td>1035</td><td>EliteBook 850</td></tr>",
                            "<tr><td>1</td><td>WINDOWS</td><td>1036</td><td>EliteBook 820</td></tr>",
                            "<tr><td>1</td><td>WINDOWS</td><td>1037</td><td>ProBook 450</td></tr>",
                            "<tr><td>1</td><td>WINDOWS</td><td>1038</td><td>Tecra Z40-C-136</td></tr>",
                            "<tr><td>4</td><td>NO OS</td><td>1039</td><td>Latitude E5570</td></tr>",
                            "<tr><td>1</td><td>WINDOWS</td><td>1040</td><td>ProBook 440</td></tr>",
                            "<tr><td>1</td><td>WINDOWS</td><td>1041</td><td>Yoga 500-15ISK</td></tr>",
                            "<tr><td>1</td><td>WINDOWS</td><td>1042</td><td>V142 (X5-Z8350/2GB/32GB/W10)</td></tr>",
                            "<tr><td>1</td><td>WINDOWS</td><td>1043</td><td>Tecra A50-C-218</td></tr>",
                            "<tr><td>1</td><td>WINDOWS</td><td>1044</td><td>Thinkpad L560</td></tr>",
                            "<tr><td>1</td><td>WINDOWS</td><td>1045</td><td>EliteBook 840</td></tr>",
                            "<tr><td>1</td><td>WINDOWS</td><td>1046</td><td>EliteBook 850</td></tr>",
                            "<tr><td>4</td><td>NO OS</td><td>1047</td><td>EliteBook 1040</td></tr>",
                            "<tr><td>1</td><td>WINDOWS</td><td>1048</td><td>GT72S Dominator</td></tr>",
                            "<tr><td>1</td><td>WINDOWS</td><td>1049</td><td>IdeaPad Y900-17ISK</td></tr>",
                            "<tr><td>4</td><td>NO OS</td><td>1050</td><td>Chromebook C202SA</td></tr>",
                            "<tr><td>4</td><td>NO OS</td><td>1051</td><td>ThinkPad X1</td></tr>",
                            "<tr><td>1</td><td>WINDOWS</td><td>1052</td><td>Noteb Pav</td></tr>",
                            "<tr><td>1</td><td>WINDOWS</td><td>1053</td><td>Inspiron 5578</td></tr>",
                            "<tr><td>1</td><td>WINDOWS</td><td>1054</td><td>ProBook 450</td></tr>",
                            "<tr><td>1</td><td>WINDOWS</td><td>1055</td><td>XPS 13</td></tr>",
                            "<tr><td>1</td><td>WINDOWS</td><td>1056</td><td>ProBook 650</td></tr>",
                            "<tr><td>4</td><td>NO OS</td><td>1057</td><td>250 G5</td></tr>",
                            "<tr><td>1</td><td>WINDOWS</td><td>1058</td><td>Aspire ES1-523</td></tr>",
                            "<tr><td>1</td><td>WINDOWS</td><td>1059</td><td>Inspiron 7378</td></tr>",
                            "<tr><td>1</td><td>WINDOWS</td><td>1060</td><td>GT62VR 6RD</td></tr>",
                            "<tr><td>1</td><td>WINDOWS</td><td>1061</td><td>ProBook 450</td></tr>",
                            "<tr><td>4</td><td>NO OS</td><td>1062</td><td>Rog G752VL-GC088D</td></tr>",
                            "<tr><td>1</td><td>WINDOWS</td><td>1063</td><td>Inspiron 3567</td></tr>",
                            "<tr><td>1</td><td>WINDOWS</td><td>1064</td><td>Inspiron 5567</td></tr>",
                            "<tr><td>1</td><td>WINDOWS</td><td>1065</td><td>GS63VR 6RF</td></tr>",
                            "<tr><td>1</td><td>WINDOWS</td><td>1066</td><td>XPS 13</td></tr>",
                            "<tr><td>1</td><td>WINDOWS</td><td>1067</td><td>ROG G701VO</td></tr>",
                            "<tr><td>1</td><td>WINDOWS</td><td>1068</td><td>Inspiron 5368</td></tr>",
                            "<tr><td>1</td><td>WINDOWS</td><td>1069</td><td>Alienware 15</td></tr>",
                            "<tr><td>3</td><td>IOS</td><td>1070</td><td>MacBook 12&quot;</td></tr>",
                            "<tr><td>1</td><td>WINDOWS</td><td>1071</td><td>Latitude 3570</td></tr>",
                            "<tr><td>1</td><td>WINDOWS</td><td>1072</td><td>ProBook 650</td></tr>",
                            "<tr><td>4</td><td>NO OS</td><td>1073</td><td>EliteBook 820</td></tr>",
                            "<tr><td>1</td><td>WINDOWS</td><td>1074</td><td>ProBook 430</td></tr>",
                            "<tr><td>1</td><td>WINDOWS</td><td>1075</td><td>ThinkPad Yoga</td></tr>",
                            "<tr><td>1</td><td>WINDOWS</td><td>1076</td><td>IdeaPad 300-17ISK</td></tr>",
                            "<tr><td>1</td><td>WINDOWS</td><td>1077</td><td>Ideapad 700-15ISK</td></tr>",
                            "<tr><td>1</td><td>WINDOWS</td><td>1078</td><td>GT72VR Dominator</td></tr>",
                            "<tr><td>1</td><td>WINDOWS</td><td>1079</td><td>V110-15ISK (i5-6200U/4GB/500GB/W10)</td></tr>",
                            "<tr><td>4</td><td>NO OS</td><td>1080</td><td>Probook 650</td></tr>",
                            "<tr><td>1</td><td>WINDOWS</td><td>1081</td><td>Yoga 900S-12ISK</td></tr>",
                            "<tr><td>1</td><td>WINDOWS</td><td>1082</td><td>IdeaPad Y900-17ISK</td></tr>",
                            "<tr><td>1</td><td>WINDOWS</td><td>1083</td><td>Yoga Book</td></tr>",
                            "<tr><td>1</td><td>WINDOWS</td><td>1084</td><td>Spectre x360</td></tr>",
                            "<tr><td>1</td><td>WINDOWS</td><td>1085</td><td>Vostro 3568</td></tr>",
                            "<tr><td>4</td><td>NO OS</td><td>1086</td><td>EliteBook 840</td></tr>",
                            "<tr><td>4</td><td>NO OS</td><td>1087</td><td>ZBook 15u</td></tr>",
                            "<tr><td>4</td><td>NO OS</td><td>1088</td><td>ThinkPad T460</td></tr>",
                            "<tr><td>4</td><td>NO OS</td><td>1089</td><td>Chromebook 13</td></tr>",
                            "<tr><td>1</td><td>WINDOWS</td><td>1090</td><td>Aspire ES1-523</td></tr>",
                            "<tr><td>2</td><td>LINUX</td><td>1091</td><td>Inspiron 3552</td></tr>",
                            "<tr><td>4</td><td>NO OS</td><td>1092</td><td>250 G6</td></tr>",
                            "<tr><td>1</td><td>WINDOWS</td><td>1093</td><td>Rog GL702VM-GC354T</td></tr>",
                            "<tr><td>1</td><td>WINDOWS</td><td>1094</td><td>Inspiron 5370</td></tr>",
                            "<tr><td>4</td><td>NO OS</td><td>1095</td><td>Elitebook 820</td></tr>",
                            "<tr><td>1</td><td>WINDOWS</td><td>1096</td><td>Aspire F5-573G</td></tr>",
                            "<tr><td>1</td><td>WINDOWS</td><td>1097</td><td>Inspiron 5567</td></tr>",
                            "<tr><td>1</td><td>WINDOWS</td><td>1098</td><td>GS70 Stealth</td></tr>",
                            "<tr><td>1</td><td>WINDOWS</td><td>1099</td><td>250 G5</td></tr>",
                            "<tr><td>1</td><td>WINDOWS</td><td>1100</td><td>G752VY-GC162T (i7-6700HQ/16GB/1TB</td></tr>",
                            "<tr><td>4</td><td>NO OS</td><td>1101</td><td>Latitude E5270</td></tr>",
                            "<tr><td>4</td><td>NO OS</td><td>1102</td><td>Latitude E5270</td></tr>",
                            "<tr><td>4</td><td>NO OS</td><td>1103</td><td>Chromebook 15</td></tr>",
                            "<tr><td>4</td><td>NO OS</td><td>1104</td><td>ZBook 17</td></tr>",
                            "<tr><td>1</td><td>WINDOWS</td><td>1105</td><td>Legion Y520-15IKBN</td></tr>",
                            "<tr><td>4</td><td>NO OS</td><td>1106</td><td>Latitude E5270</td></tr>",
                            "<tr><td>1</td><td>WINDOWS</td><td>1107</td><td>GE72 Apache</td></tr>",
                            "<tr><td>1</td><td>WINDOWS</td><td>1108</td><td>Yoga 500-15ISK</td></tr>",
                            "<tr><td>1</td><td>WINDOWS</td><td>1109</td><td>15-bw011nv (A6-9220/4GB/1TB/FHD/W10)</td></tr>",
                            "<tr><td>1</td><td>WINDOWS</td><td>1110</td><td>Rog GL552VW-CN470T</td></tr>",
                            "<tr><td>1</td><td>WINDOWS</td><td>1111</td><td>EliteBook 1030</td></tr>",
                            "<tr><td>4</td><td>NO OS</td><td>1112</td><td>Vostro 3559</td></tr>",
                            "<tr><td>1</td><td>WINDOWS</td><td>1113</td><td>V110-15ISK (i3-6006U/4GB/128GB/W10)</td></tr>",
                            "<tr><td>1</td><td>WINDOWS</td><td>1114</td><td>Spectre Pro</td></tr>",
                            "<tr><td>4</td><td>NO OS</td><td>1115</td><td>Yoga Book</td></tr>",
                            "<tr><td>1</td><td>WINDOWS</td><td>1116</td><td>XPS 13</td></tr>",
                            "<tr><td>1</td><td>WINDOWS</td><td>1117</td><td>IdeaPad Y900-17ISK</td></tr>",
                            "<tr><td>1</td><td>WINDOWS</td><td>1118</td><td>Blade Stealth</td></tr>",
                            "<tr><td>1</td><td>WINDOWS</td><td>1119</td><td>Portege X30-D-10K</td></tr>",
                            "<tr><td>1</td><td>WINDOWS</td><td>1120</td><td>Rog GL752VW-T4308T</td></tr>",
                            "<tr><td>1</td><td>WINDOWS</td><td>1121</td><td>V131 (X5-Z8350/4GB/32GB/FHD/W10)</td></tr>",
                            "<tr><td>1</td><td>WINDOWS</td><td>1122</td><td>Spectre Pro</td></tr>",
                            "<tr><td>4</td><td>NO OS</td><td>1123</td><td>EliteBook 1040</td></tr>",
                            "<tr><td>2</td><td>LINUX</td><td>1124</td><td>Latitude E5570</td></tr>",
                            "<tr><td>1</td><td>WINDOWS</td><td>1125</td><td>VivoBook Max</td></tr>",
                            "<tr><td>1</td><td>WINDOWS</td><td>1126</td><td>ThinkPad Yoga</td></tr>",
                            "<tr><td>1</td><td>WINDOWS</td><td>1127</td><td>Yoga Book</td></tr>",
                            "<tr><td>4</td><td>NO OS</td><td>1128</td><td>EliteBook 820</td></tr>",
                            "<tr><td>4</td><td>NO OS</td><td>1129</td><td>Legion Y520-15IKBN</td></tr>",
                            "<tr><td>1</td><td>WINDOWS</td><td>1130</td><td>Omen -</td></tr>",
                            "<tr><td>1</td><td>WINDOWS</td><td>1131</td><td>15-bs078cl (i7-7500U/8GB/2TB/W10)</td></tr>",
                            "<tr><td>4</td><td>NO OS</td><td>1132</td><td>ThinkPad P40</td></tr>",
                            "<tr><td>1</td><td>WINDOWS</td><td>1133</td><td>L403NA-GA013TS (N3350/4GB/32GB/W10)</td></tr>",
                            "<tr><td>1</td><td>WINDOWS</td><td>1134</td><td>250 G6</td></tr>",
                            "<tr><td>1</td><td>WINDOWS</td><td>1135</td><td>Aspire E5-576G</td></tr>",
                            "<tr><td>1</td><td>WINDOWS</td><td>1136</td><td>IdeaPad 500-15ISK</td></tr>",
                            "<tr><td>4</td><td>NO OS</td><td>1137</td><td>ZBook 17</td></tr>",
                            "<tr><td>1</td><td>WINDOWS</td><td>1138</td><td>Inspiron 5567</td></tr>",
                            "<tr><td>1</td><td>WINDOWS</td><td>1139</td><td>GT72S Dominator</td></tr>",
                            "<tr><td>4</td><td>NO OS</td><td>1140</td><td>EliteBook 850</td></tr>",
                            "<tr><td>1</td><td>WINDOWS</td><td>1141</td><td>ThinkPad X1</td></tr>",
                            "<tr><td>1</td><td>WINDOWS</td><td>1142</td><td>GP62M 7RDX</td></tr>",
                            "<tr><td>1</td><td>WINDOWS</td><td>1143</td><td>Spectre Pro</td></tr>",
                            "<tr><td>4</td><td>NO OS</td><td>1144</td><td>ZBook 15</td></tr>",
                            "<tr><td>1</td><td>WINDOWS</td><td>1145</td><td>Spectre Pro</td></tr>",
                            "<tr><td>4</td><td>NO OS</td><td>1146</td><td>ZBook Studio</td></tr>",
                            "<tr><td>4</td><td>NO OS</td><td>1147</td><td>EliteBook 820</td></tr>",
                            "<tr><td>1</td><td>WINDOWS</td><td>1148</td><td>Vostro 5568</td></tr>",
                            "<tr><td>4</td><td>NO OS</td><td>1149</td><td>EliteBook 850</td></tr>",
                            "<tr><td>1</td><td>WINDOWS</td><td>1150</td><td>ThinkPad X1</td></tr>",
                            "<tr><td>4</td><td>NO OS</td><td>1151</td><td>V110-15ISK (i3-6006U/4GB/1TB/No</td></tr>",
                            "<tr><td>1</td><td>WINDOWS</td><td>1152</td><td>15-BA015wm (E2-7110/4GB/500GB/W10)</td></tr>",
                            "<tr><td>4</td><td>NO OS</td><td>1153</td><td>B51-80 (i5-6200U/8GB/1TB/Radeon</td></tr>",
                            "<tr><td>1</td><td>WINDOWS</td><td>1154</td><td>Inspiron 7567</td></tr>",
                            "<tr><td>1</td><td>WINDOWS</td><td>1155</td><td>XPS 15</td></tr>",
                            "<tr><td>1</td><td>WINDOWS</td><td>1156</td><td>15-bw002nv (A6-9220/4GB/256GB/Radeon</td></tr>",
                            "<tr><td>1</td><td>WINDOWS</td><td>1157</td><td>GP72M 7REX</td></tr>",
                            "<tr><td>4</td><td>NO OS</td><td>1158</td><td>ThinkPad T460s</td></tr>",
                            "<tr><td>1</td><td>WINDOWS</td><td>1159</td><td>B51-80 (i5-6200U/8GB/1008GB/Radeon</td></tr>",
                            "<tr><td>1</td><td>WINDOWS</td><td>1160</td><td>Spectre Pro</td></tr>",
                            "<tr><td>4</td><td>NO OS</td><td>1161</td><td>ThinkPad T460</td></tr>",
                            "<tr><td>1</td><td>WINDOWS</td><td>1162</td><td>GS40 Phantom</td></tr>",
                            "<tr><td>1</td><td>WINDOWS</td><td>1163</td><td>Pavilion 15-cb003nv</td></tr>",
                            "<tr><td>1</td><td>WINDOWS</td><td>1164</td><td>IdeaPad 310-15ISK</td></tr>",
                            "<tr><td>4</td><td>NO OS</td><td>1165</td><td>250 G4</td></tr>",
                            "<tr><td>1</td><td>WINDOWS</td><td>1166</td><td>Inspiron 7567</td></tr>",
                            "<tr><td>1</td><td>WINDOWS</td><td>1167</td><td>ThinkPad T570</td></tr>",
                            "<tr><td>1</td><td>WINDOWS</td><td>1168</td><td>320-15ISK (i3-6006U/4GB/1TB/GeForce</td></tr>",
                            "<tr><td>1</td><td>WINDOWS</td><td>1169</td><td>Stream 14-AX000nv</td></tr>",
                            "<tr><td>1</td><td>WINDOWS</td><td>1170</td><td>PL60 7RD</td></tr>",
                            "<tr><td>1</td><td>WINDOWS</td><td>1171</td><td>250 G5</td></tr>",
                            "<tr><td>1</td><td>WINDOWS</td><td>1172</td><td>ProBook 450</td></tr>",
                            "<tr><td>1</td><td>WINDOWS</td><td>1173</td><td>X553SA-XX021T (N3050/4GB/500GB/W10)</td></tr>",
                            "<tr><td>4</td><td>NO OS</td><td>1174</td><td>V110-15ISK (i5-6200U/4GB/500GB/No</td></tr>",
                            "<tr><td>4</td><td>NO OS</td><td>1175</td><td>IdeaPad 510-15IKB</td></tr>",
                            "<tr><td>1</td><td>WINDOWS</td><td>1176</td><td>UX410UA-GV097T (i3-7100U/4GB/256GB/FHD/W10)</td></tr>",
                            "<tr><td>4</td><td>NO OS</td><td>1177</td><td>B51-80 (i7-6500U/4GB/1008GB/FHD/W7)</td></tr>",
                            "<tr><td>1</td><td>WINDOWS</td><td>1178</td><td>IdeaPad Y700-15ISK</td></tr>",
                            "<tr><td>1</td><td>WINDOWS</td><td>1179</td><td>GS60 Ghost</td></tr>",
                            "<tr><td>1</td><td>WINDOWS</td><td>1180</td><td>ProBook 450</td></tr>",
                            "<tr><td>1</td><td>WINDOWS</td><td>1181</td><td>ThinkPad X1</td></tr>",
                            "<tr><td>1</td><td>WINDOWS</td><td>1182</td><td>IdeaPad 310-15IKB</td></tr>",
                            "<tr><td>2</td><td>LINUX</td><td>1183</td><td>Vostro 5568</td></tr>",
                            "<tr><td>1</td><td>WINDOWS</td><td>1184</td><td>Aspire 3</td></tr>",
                            "<tr><td>1</td><td>WINDOWS</td><td>1185</td><td>Pavilion 15-BC000nv</td></tr>",
                            "<tr><td>1</td><td>WINDOWS</td><td>1186</td><td>Rog GL552VW-DM201T</td></tr>",
                            "<tr><td>1</td><td>WINDOWS</td><td>1187</td><td>Inspiron 5578</td></tr>",
                            "<tr><td>1</td><td>WINDOWS</td><td>1188</td><td>Aspire E5-576G</td></tr>",
                            "<tr><td>2</td><td>LINUX</td><td>1189</td><td>XPS 13</td></tr>",
                            "<tr><td>1</td><td>WINDOWS</td><td>1190</td><td>Predator G9-793</td></tr>",
                            "<tr><td>1</td><td>WINDOWS</td><td>1191</td><td>Legion Y520-15IKBN</td></tr>",
                            "<tr><td>4</td><td>NO OS</td><td>1192</td><td>Chromebook Plus</td></tr>",
                            "<tr><td>1</td><td>WINDOWS</td><td>1193</td><td>250 G6</td></tr>",
                            "<tr><td>3</td><td>IOS</td><td>1194</td><td>MacBook 12&quot;</td></tr>",
                            "<tr><td>1</td><td>WINDOWS</td><td>1195</td><td>Inspiron 7378</td></tr>",
                            "<tr><td>1</td><td>WINDOWS</td><td>1196</td><td>Pavilion Power</td></tr>",
                            "<tr><td>4</td><td>NO OS</td><td>1197</td><td>V110-15ISK (i3-6006U/4GB/1TB/Radeon</td></tr>",
                            "<tr><td>1</td><td>WINDOWS</td><td>1198</td><td>Rog G752VY-GC229T</td></tr>",
                            "<tr><td>2</td><td>LINUX</td><td>1199</td><td>Aspire 3</td></tr>",
                            "<tr><td>1</td><td>WINDOWS</td><td>1200</td><td>GS73VR 7RF</td></tr>",
                            "<tr><td>1</td><td>WINDOWS</td><td>1201</td><td>Inspiron 5567</td></tr>",
                            "<tr><td>4</td><td>NO OS</td><td>1202</td><td>IdeaPad 310-15ISK</td></tr>",
                            "<tr><td>1</td><td>WINDOWS</td><td>1203</td><td>Inspiron 5579</td></tr>",
                            "<tr><td>1</td><td>WINDOWS</td><td>1204</td><td>XPS 13</td></tr>",
                            "<tr><td>1</td><td>WINDOWS</td><td>1205</td><td>FX502VM-DM105T (i7-6700HQ/8GB/1TB/GeForce</td></tr>",
                            "<tr><td>1</td><td>WINDOWS</td><td>1206</td><td>Inspiron 5567</td></tr>",
                            "<tr><td>1</td><td>WINDOWS</td><td>1207</td><td>15-bs025nv (i5-7200U/8GB/256GB/W10)</td></tr>",
                            "<tr><td>1</td><td>WINDOWS</td><td>1208</td><td>IdeaPad 320-15AST</td></tr>",
                            "<tr><td>1</td><td>WINDOWS</td><td>1209</td><td>Aspire E5-774G</td></tr>",
                            "<tr><td>1</td><td>WINDOWS</td><td>1210</td><td>Rog Strix</td></tr>",
                            "<tr><td>3</td><td>IOS</td><td>1211</td><td>MacBook 12&quot;</td></tr>",
                            "<tr><td>1</td><td>WINDOWS</td><td>1212</td><td>FX502VM-AS73 (i7-7700HQ/16GB/1TB</td></tr>",
                            "<tr><td>1</td><td>WINDOWS</td><td>1213</td><td>GS73VR Stealth</td></tr>",
                            "<tr><td>1</td><td>WINDOWS</td><td>1214</td><td>Inspiron 7579</td></tr>",
                            "<tr><td>1</td><td>WINDOWS</td><td>1215</td><td>ROG Strix</td></tr>",
                            "<tr><td>4</td><td>NO OS</td><td>1216</td><td>C740-C9QX (3205U/2GB/32GB/Chrome</td></tr>",
                            "<tr><td>1</td><td>WINDOWS</td><td>1217</td><td>E5 774G</td></tr>",
                            "<tr><td>4</td><td>NO OS</td><td>1218</td><td>IdeaPad 320-17IKB</td></tr>",
                            "<tr><td>1</td><td>WINDOWS</td><td>1219</td><td>IdeaPad Y700-15ISK</td></tr>",
                            "<tr><td>1</td><td>WINDOWS</td><td>1220</td><td>SP714-51 (i7-7Y75/8GB/256GB/FHD/W10)</td></tr>",
                            "<tr><td>1</td><td>WINDOWS</td><td>1221</td><td>Thinkpad T560</td></tr>",
                            "<tr><td>1</td><td>WINDOWS</td><td>1222</td><td>GP62MVR 6RF</td></tr>",
                            "<tr><td>1</td><td>WINDOWS</td><td>1223</td><td>15-bw009nv (A12-9720P/6GB/1TB/Radeon</td></tr>",
                            "<tr><td>4</td><td>NO OS</td><td>1224</td><td>Latitude E7270</td></tr>",
                            "<tr><td>1</td><td>WINDOWS</td><td>1225</td><td>Inspiron 5578</td></tr>",
                            "<tr><td>1</td><td>WINDOWS</td><td>1226</td><td>X540SA-RBPDN09 (N3710/4GB/1TB/W10)</td></tr>",
                            "<tr><td>1</td><td>WINDOWS</td><td>1227</td><td>XPS 13</td></tr>",
                            "<tr><td>2</td><td>LINUX</td><td>1228</td><td>Vostro 3568</td></tr>",
                            "<tr><td>1</td><td>WINDOWS</td><td>1229</td><td>IdeaPad Y700-15ISK</td></tr>",
                            "<tr><td>1</td><td>WINDOWS</td><td>1230</td><td>GL62M 7RDX</td></tr>",
                            "<tr><td>1</td><td>WINDOWS</td><td>1231</td><td>ThinkPad Yoga</td></tr>",
                            "<tr><td>1</td><td>WINDOWS</td><td>1232</td><td>Blade Pro</td></tr>",
                            "<tr><td>1</td><td>WINDOWS</td><td>1233</td><td>Inspiron 3567</td></tr>",
                            "<tr><td>1</td><td>WINDOWS</td><td>1234</td><td>GE72VR Apache</td></tr>",
                            "<tr><td>3</td><td>IOS</td><td>1235</td><td>MacBook Air</td></tr>",
                            "<tr><td>1</td><td>WINDOWS</td><td>1236</td><td>15-bs023nv (i3-6006U/4GB/1TB/FHD/W10)</td></tr>",
                            "<tr><td>4</td><td>NO OS</td><td>1237</td><td>EliteBook 840</td></tr>",
                            "<tr><td>4</td><td>NO OS</td><td>1238</td><td>Vostro 3559</td></tr>",
                            "<tr><td>1</td><td>WINDOWS</td><td>1239</td><td>GL62 6QF</td></tr>",
                            "<tr><td>1</td><td>WINDOWS</td><td>1240</td><td>ThinkPad 13</td></tr>",
                            "<tr><td>1</td><td>WINDOWS</td><td>1241</td><td>IdeaPad 320-15ABR</td></tr>",
                            "<tr><td>1</td><td>WINDOWS</td><td>1242</td><td>ZenBook UX310UA-WB71</td></tr>",
                            "<tr><td>2</td><td>LINUX</td><td>1243</td><td>Aspire ES1-572</td></tr>",
                            "<tr><td>1</td><td>WINDOWS</td><td>1244</td><td>Inspiron 7779</td></tr>",
                            "<tr><td>4</td><td>NO OS</td><td>1245</td><td>EliteBook 840</td></tr>",
                            "<tr><td>1</td><td>WINDOWS</td><td>1246</td><td>Rog GL553VE-FY052T</td></tr>",
                            "<tr><td>1</td><td>WINDOWS</td><td>1247</td><td>Latitude 5480</td></tr>",
                            "<tr><td>1</td><td>WINDOWS</td><td>1248</td><td>Rog GL502VS</td></tr>",
                            "<tr><td>4</td><td>NO OS</td><td>1249</td><td>V510-15IKB (i5-7200U/8GB/256GB/FHD/No</td></tr>",
                            "<tr><td>1</td><td>WINDOWS</td><td>1250</td><td>XPS 13</td></tr>",
                            "<tr><td>2</td><td>LINUX</td><td>1251</td><td>Inspiron 3552</td></tr>",
                            "<tr><td>1</td><td>WINDOWS</td><td>1252</td><td>255 G6</td></tr>",
                            "<tr><td>1</td><td>WINDOWS</td><td>1253</td><td>IdeaPad 310-15ISK</td></tr>",
                            "<tr><td>1</td><td>WINDOWS</td><td>1254</td><td>ThinkPad L460</td></tr>",
                            "<tr><td>1</td><td>WINDOWS</td><td>1255</td><td>Inspiron 3552</td></tr>",
                            "<tr><td>1</td><td>WINDOWS</td><td>1256</td><td>X541NA-GO020T (N3350/4GB/1TB/W10)</td></tr>",
                            "<tr><td>1</td><td>WINDOWS</td><td>1257</td><td>Rog G752VT-GC073T</td></tr>",
                            "<tr><td>1</td><td>WINDOWS</td><td>1258</td><td>Vostro 3568</td></tr>",
                            "<tr><td>4</td><td>NO OS</td><td>1259</td><td>B51-80 (i7-6500U/8GB/1008GB/Radeon</td></tr>",
                            "<tr><td>1</td><td>WINDOWS</td><td>1260</td><td>GE62 Apache</td></tr>",
                            "<tr><td>1</td><td>WINDOWS</td><td>1261</td><td>Yoga 500-14IBD</td></tr>",
                            "<tr><td>1</td><td>WINDOWS</td><td>1262</td><td>ZenBook UX305CA-UBM1</td></tr>",
                            "<tr><td>1</td><td>WINDOWS</td><td>1263</td><td>Inspiron 3567</td></tr>",
                            "<tr><td>2</td><td>LINUX</td><td>1264</td><td>Aspire ES1-531</td></tr>",
                            "<tr><td>1</td><td>WINDOWS</td><td>1265</td><td>Inspiron 3552</td></tr>",
                            "<tr><td>1</td><td>WINDOWS</td><td>1266</td><td>IdeaPad Y700-15ISK</td></tr>",
                            "<tr><td>1</td><td>WINDOWS</td><td>1267</td><td>Pavilion 15-AW003nv</td></tr>",
                            "<tr><td>2</td><td>LINUX</td><td>1268</td><td>Inspiron 3567</td></tr>",
                            "<tr><td>1</td><td>WINDOWS</td><td>1269</td><td>Stream 11-Y000na</td></tr>",
                            "<tr><td>1</td><td>WINDOWS</td><td>1270</td><td>X556UJ-XO044T (i7-6500U/4GB/500GB/GeForce</td></tr>",
                            "<tr><td>1</td><td>WINDOWS</td><td>1271</td><td>Yoga 500-14ISK</td></tr>",
                            "<tr><td>1</td><td>WINDOWS</td><td>1272</td><td>Yoga 900-13ISK</td></tr>",
                            "<tr><td>1</td><td>WINDOWS</td><td>1273</td><td>IdeaPad 100S-14IBR</td></tr>",
                            "<tr><td>1</td><td>WINDOWS</td><td>1274</td><td>15-AC110nv (i7-6500U/6GB/1TB/Radeon</td></tr>",
                            "<tr><td>1</td><td>WINDOWS</td><td>1275</td><td>X553SA-XX031T (N3050/4GB/500GB/W10)</td></tr>",
                            "<tr><td>1</td><td>WINDOWS</td><td>1276</td><td>ZenBook UX305CA-UBM1</td></tr>",
                            "<tr><td>1</td><td>WINDOWS</td><td>1277</td><td>Inspiron 3567</td></tr>",
                            "<tr><td>2</td><td>LINUX</td><td>1278</td><td>Aspire ES1-531</td></tr>",
                            "<tr><td>1</td><td>WINDOWS</td><td>1279</td><td>Inspiron 3552</td></tr>",
                            "<tr><td>1</td><td>WINDOWS</td><td>1280</td><td>IdeaPad Y700-15ISK</td></tr>",
                            "<tr><td>1</td><td>WINDOWS</td><td>1281</td><td>Pavilion 15-AW003nv</td></tr>",
                            "<tr><td>2</td><td>LINUX</td><td>1282</td><td>Inspiron 3567</td></tr>",
                            "<tr><td>1</td><td>WINDOWS</td><td>1283</td><td>Stream 11-Y000na</td></tr>",
                            "<tr><td>1</td><td>WINDOWS</td><td>1284</td><td>X556UJ-XO044T (i7-6500U/4GB/500GB/GeForce</td></tr>",
                            "<tr><td>1</td><td>WINDOWS</td><td>1285</td><td>Yoga 500-14ISK</td></tr>",
                            "<tr><td>1</td><td>WINDOWS</td><td>1286</td><td>Yoga 900-13ISK</td></tr>",
                            "<tr><td>1</td><td>WINDOWS</td><td>1287</td><td>IdeaPad 100S-14IBR</td></tr>",
                            "<tr><td>1</td><td>WINDOWS</td><td>1288</td><td>15-AC110nv (i7-6500U/6GB/1TB/Radeon</td></tr>",
                            "<tr><td>1</td><td>WINDOWS</td><td>1289</td><td>X553SA-XX031T (N3050/4GB/500GB/W10)</td></tr>",
                            "<tr><td>1</td><td>WINDOWS</td><td>1290</td><td>ZenBook UX305CA-UBM1</td></tr>",
                            "<tr><td>1</td><td>WINDOWS</td><td>1291</td><td>Inspiron 3567</td></tr>",
                            "<tr><td>2</td><td>LINUX</td><td>1292</td><td>Aspire ES1-531</td></tr>",
                            "<tr><td>1</td><td>WINDOWS</td><td>1293</td><td>Inspiron 3552</td></tr>",
                            "<tr><td>1</td><td>WINDOWS</td><td>1294</td><td>IdeaPad Y700-15ISK</td></tr>",
                            "<tr><td>1</td><td>WINDOWS</td><td>1295</td><td>Pavilion 15-AW003nv</td></tr>",
                            "<tr><td>2</td><td>LINUX</td><td>1296</td><td>Inspiron 3567</td></tr>",
                            "<tr><td>1</td><td>WINDOWS</td><td>1297</td><td>Stream 11-Y000na</td></tr>",
                            "<tr><td>1</td><td>WINDOWS</td><td>1298</td><td>X556UJ-XO044T (i7-6500U/4GB/500GB/GeForce</td></tr>",
                            "<tr><td>1</td><td>WINDOWS</td><td>1299</td><td>Yoga 500-14ISK</td></tr>",
                            "<tr><td>1</td><td>WINDOWS</td><td>1300</td><td>Yoga 900-13ISK</td></tr>",
                            "<tr><td>1</td><td>WINDOWS</td><td>1301</td><td>IdeaPad 100S-14IBR</td></tr>",
                            "<tr><td>1</td><td>WINDOWS</td><td>1302</td><td>15-AC110nv (i7-6500U/6GB/1TB/Radeon</td></tr>",
                            "<tr><td>1</td><td>WINDOWS</td><td>1303</td><td>X553SA-XX031T (N3050/4GB/500GB/W10)</td></tr>",
                            "</table>"
                        ]
                    }
                }
            ],
            "execution_count": 2
        },
        {
            "cell_type": "code",
            "source": [
                "# To see how many devices have particular Operating system installed\n",
                "SELECT   OperatingSystem.OperatingSystemID, OperatingSystem.OSName,\n",
                "         COUNT(*) AS NumberOfDevices\n",
                "FROM     OperatingSystem\n",
                "JOIN     OSInstalled ON OperatingSystem.OperatingSystemID = OSInstalled.OperatingSystemID\n",
                "GROUP BY OperatingSystem.OperatingSystemID\n",
                "ORDER BY NumberOfDevices DESC;"
            ],
            "metadata": {
                "language": "sql",
                "azdata_cell_guid": "9c9eda44-c701-4bb5-b326-971b1bb95954"
            },
            "outputs": [
                {
                    "output_type": "display_data",
                    "data": {
                        "text/html": "(4 row(s) affected)"
                    },
                    "metadata": {}
                },
                {
                    "output_type": "display_data",
                    "data": {
                        "text/html": "Total execution time: 00:00:00.002"
                    },
                    "metadata": {}
                },
                {
                    "output_type": "execute_result",
                    "metadata": {},
                    "execution_count": 3,
                    "data": {
                        "application/vnd.dataresource+json": {
                            "schema": {
                                "fields": [
                                    {
                                        "name": "OperatingSystemID"
                                    },
                                    {
                                        "name": "OSName"
                                    },
                                    {
                                        "name": "NumberOfDevices"
                                    }
                                ]
                            },
                            "data": [
                                {
                                    "0": "1",
                                    "1": "WINDOWS",
                                    "2": "1072"
                                },
                                {
                                    "0": "4",
                                    "1": "NO OS",
                                    "2": "148"
                                },
                                {
                                    "0": "2",
                                    "1": "LINUX",
                                    "2": "62"
                                },
                                {
                                    "0": "3",
                                    "1": "IOS",
                                    "2": "21"
                                }
                            ]
                        },
                        "text/html": [
                            "<table>",
                            "<tr><th>OperatingSystemID</th><th>OSName</th><th>NumberOfDevices</th></tr>",
                            "<tr><td>1</td><td>WINDOWS</td><td>1072</td></tr>",
                            "<tr><td>4</td><td>NO OS</td><td>148</td></tr>",
                            "<tr><td>2</td><td>LINUX</td><td>62</td></tr>",
                            "<tr><td>3</td><td>IOS</td><td>21</td></tr>",
                            "</table>"
                        ]
                    }
                }
            ],
            "execution_count": 3
        },
        {
            "cell_type": "code",
            "source": [
                "# Check loan status for each customer\n",
                "\n",
                "SELECT Customer.CustomerID,\n",
                "        CONCAT(Customer.FirstName,' ', Customer.LastName) AS FullName,\n",
                "       SUM(LoanStatus LIKE 'PENDING') AS ActiveLoans,\n",
                "       SUM(LoanStatus LIKE 'DONE') AS Returned,\n",
                "       SUM(LoanStatus LIKE 'FINED') AS Fined,\n",
                "       COUNT(*) AS Total\n",
                "FROM Customer\n",
                "JOIN Loans on Customer.CustomerID = Loans.CustomerID\n",
                "GROUP BY CustomerID;"
            ],
            "metadata": {
                "language": "sql",
                "azdata_cell_guid": "cdecb1a5-344b-4cc9-99d4-445ed07491c8"
            },
            "outputs": [
                {
                    "output_type": "display_data",
                    "data": {
                        "text/html": "(3 row(s) affected)"
                    },
                    "metadata": {}
                },
                {
                    "output_type": "display_data",
                    "data": {
                        "text/html": "Total execution time: 00:00:00.002"
                    },
                    "metadata": {}
                },
                {
                    "output_type": "execute_result",
                    "metadata": {},
                    "execution_count": 4,
                    "data": {
                        "application/vnd.dataresource+json": {
                            "schema": {
                                "fields": [
                                    {
                                        "name": "CustomerID"
                                    },
                                    {
                                        "name": "FullName"
                                    },
                                    {
                                        "name": "ActiveLoans"
                                    },
                                    {
                                        "name": "Returned"
                                    },
                                    {
                                        "name": "Fined"
                                    },
                                    {
                                        "name": "Total"
                                    }
                                ]
                            },
                            "data": [
                                {
                                    "0": "1",
                                    "1": "Kaladin Stormblessed",
                                    "2": "1",
                                    "3": "0",
                                    "4": "0",
                                    "5": "1"
                                },
                                {
                                    "0": "2",
                                    "1": "Dalinar Kholin",
                                    "2": "0",
                                    "3": "1",
                                    "4": "0",
                                    "5": "1"
                                },
                                {
                                    "0": "3",
                                    "1": "Odium Shard",
                                    "2": "0",
                                    "3": "0",
                                    "4": "1",
                                    "5": "1"
                                }
                            ]
                        },
                        "text/html": [
                            "<table>",
                            "<tr><th>CustomerID</th><th>FullName</th><th>ActiveLoans</th><th>Returned</th><th>Fined</th><th>Total</th></tr>",
                            "<tr><td>1</td><td>Kaladin Stormblessed</td><td>1</td><td>0</td><td>0</td><td>1</td></tr>",
                            "<tr><td>2</td><td>Dalinar Kholin</td><td>0</td><td>1</td><td>0</td><td>1</td></tr>",
                            "<tr><td>3</td><td>Odium Shard</td><td>0</td><td>0</td><td>1</td><td>1</td></tr>",
                            "</table>"
                        ]
                    }
                }
            ],
            "execution_count": 4
        },
        {
            "cell_type": "code",
            "source": [
                "DROP PROCEDURE IF EXISTS LoanDevice;\n",
                "\n",
                "CREATE PROCEDURE LoanDevice(IN vCustomerID INTEGER, IN vElectronicID INTEGER)\n",
                "BEGIN\n",
                "    INSERT Loans(CustomerID, ElectronicID, StartDate, DueDate, Amount, LoanStatus)\n",
                "        VALUES (vCustomerID, vElectronicID, NOW(), ADDDATE(CURDATE(), INTERVAL 30 DAY), 150.00, 'PENDING');\n",
                "END ;\n",
                "\n",
                "# Testing the procedure:\n",
                "\n",
                "# BEFORE:\n",
                "SELECT E.ElectronicName, L.StartDate, L.DueDate, L.LoanStatus\n",
                "FROM Electronic E\n",
                "NATURAL JOIN Loans L\n",
                "WHERE L.CustomerID = 2;\n",
                "\n",
                "# CALLING THE PROCEDURE:\n",
                "CALL LoanDevice(2, 1);\n",
                "\n",
                "# AFTER:\n",
                "SELECT E.ElectronicName, L.StartDate, L.DueDate, L.LoanStatus\n",
                "FROM Electronic E\n",
                "NATURAL JOIN Loans L\n",
                "WHERE L.CustomerID = 2;\n",
                ""
            ],
            "metadata": {
                "language": "sql",
                "azdata_cell_guid": "bf11c914-7129-4ca3-a974-600bdbe40728"
            },
            "outputs": [
                {
                    "output_type": "display_data",
                    "data": {
                        "text/html": "Commands completed successfully"
                    },
                    "metadata": {}
                },
                {
                    "output_type": "display_data",
                    "data": {
                        "text/html": "Commands completed successfully"
                    },
                    "metadata": {}
                },
                {
                    "output_type": "display_data",
                    "data": {
                        "text/html": "(1 row(s) affected)"
                    },
                    "metadata": {}
                },
                {
                    "output_type": "display_data",
                    "data": {
                        "text/html": "Commands completed successfully"
                    },
                    "metadata": {}
                },
                {
                    "output_type": "display_data",
                    "data": {
                        "text/html": "(2 row(s) affected)"
                    },
                    "metadata": {}
                },
                {
                    "output_type": "display_data",
                    "data": {
                        "text/html": "Total execution time: 00:00:00.380"
                    },
                    "metadata": {}
                },
                {
                    "output_type": "execute_result",
                    "metadata": {},
                    "execution_count": 5,
                    "data": {
                        "application/vnd.dataresource+json": {
                            "schema": {
                                "fields": [
                                    {
                                        "name": "ElectronicName"
                                    },
                                    {
                                        "name": "StartDate"
                                    },
                                    {
                                        "name": "DueDate"
                                    },
                                    {
                                        "name": "LoanStatus"
                                    }
                                ]
                            },
                            "data": [
                                {
                                    "0": "Aspire 3",
                                    "1": "2022-10-08",
                                    "2": "2022-11-07",
                                    "3": "DONE"
                                }
                            ]
                        },
                        "text/html": [
                            "<table>",
                            "<tr><th>ElectronicName</th><th>StartDate</th><th>DueDate</th><th>LoanStatus</th></tr>",
                            "<tr><td>Aspire 3</td><td>2022-10-08</td><td>2022-11-07</td><td>DONE</td></tr>",
                            "</table>"
                        ]
                    }
                },
                {
                    "output_type": "execute_result",
                    "metadata": {},
                    "execution_count": 5,
                    "data": {
                        "application/vnd.dataresource+json": {
                            "schema": {
                                "fields": [
                                    {
                                        "name": "ElectronicName"
                                    },
                                    {
                                        "name": "StartDate"
                                    },
                                    {
                                        "name": "DueDate"
                                    },
                                    {
                                        "name": "LoanStatus"
                                    }
                                ]
                            },
                            "data": [
                                {
                                    "0": "MacBook Pro",
                                    "1": "2022-12-22",
                                    "2": "2023-01-21",
                                    "3": "PENDING"
                                },
                                {
                                    "0": "Aspire 3",
                                    "1": "2022-10-08",
                                    "2": "2022-11-07",
                                    "3": "DONE"
                                }
                            ]
                        },
                        "text/html": [
                            "<table>",
                            "<tr><th>ElectronicName</th><th>StartDate</th><th>DueDate</th><th>LoanStatus</th></tr>",
                            "<tr><td>MacBook Pro</td><td>2022-12-22</td><td>2023-01-21</td><td>PENDING</td></tr>",
                            "<tr><td>Aspire 3</td><td>2022-10-08</td><td>2022-11-07</td><td>DONE</td></tr>",
                            "</table>"
                        ]
                    }
                }
            ],
            "execution_count": 5
        },
        {
            "cell_type": "code",
            "source": [
                "# When this procedure is caled it looks into all the loans and their due dates. If any loan is past due date\n",
                "# it creates a penalty\n",
                "\n",
                "DROP PROCEDURE IF EXISTS CreatePenalty;\n",
                "\n",
                "CREATE PROCEDURE CreatePenalty()\n",
                "BEGIN\n",
                "    START TRANSACTION;\n",
                "        INSERT INTO Penalty (CustomerID, Fee, DueDate, PenaltyStatus)\n",
                "            SELECT CustomerID, 100.00, CURDATE(), 'PENDING' FROM Loans L\n",
                "            WHERE L.LoanStatus = 'PENDING' AND DATEDIFF(L.DueDate, CURDATE()) < 0;\n",
                "\n",
                "        UPDATE Loans L SET LoanStatus = 'FINED'\n",
                "        WHERE L.LoanStatus = 'PENDING' AND DATEDIFF(L.DueDate, CURDATE()) < 0;\n",
                "    COMMIT;\n",
                "END;\n",
                "\n",
                "# Testing the procedure with transaction:\n",
                "\n",
                "# BEFORE:\n",
                "SELECT E.ElectronicName, L.StartDate, L.DueDate, L.LoanStatus\n",
                "FROM Electronic E\n",
                "NATURAL JOIN Loans L\n",
                "WHERE L.CustomerID = 1;\n",
                "\n",
                "SELECT * FROM Penalty P WHERE P.CustomerID = 1;\n",
                "\n",
                "# CREATE TEST CONDITIONS:\n",
                "UPDATE Loans L SET L.StartDate = ADDDATE(CURDATE(), -40)\n",
                "WHERE L.CustomerID = 1 AND L.ElectronicID = 3;\n",
                "\n",
                "UPDATE Loans L SET L.DueDate = ADDDATE(CURDATE(), -10)\n",
                "WHERE L.CustomerID = 1 AND L.ElectronicID = 3;\n",
                "\n",
                "# CALLING THE PROCEDURE:\n",
                "CALL CreatePenalty();\n",
                "\n",
                "# AFTER:\n",
                "SELECT E.ElectronicName, L.StartDate, L.DueDate, L.LoanStatus\n",
                "FROM Electronic E\n",
                "NATURAL JOIN Loans L\n",
                "WHERE L.CustomerID =1;\n",
                "\n",
                "SELECT * FROM Penalty P WHERE P.CustomerID = 1;"
            ],
            "metadata": {
                "language": "sql",
                "azdata_cell_guid": "d9bff922-27c8-40de-9357-8b042d77937d"
            },
            "outputs": [
                {
                    "output_type": "display_data",
                    "data": {
                        "text/html": "Commands completed successfully"
                    },
                    "metadata": {}
                },
                {
                    "output_type": "display_data",
                    "data": {
                        "text/html": "Commands completed successfully"
                    },
                    "metadata": {}
                },
                {
                    "output_type": "display_data",
                    "data": {
                        "text/html": "(1 row(s) affected)"
                    },
                    "metadata": {}
                },
                {
                    "output_type": "display_data",
                    "data": {
                        "text/html": "(0 row(s) affected)"
                    },
                    "metadata": {}
                },
                {
                    "output_type": "display_data",
                    "data": {
                        "text/html": "Commands completed successfully"
                    },
                    "metadata": {}
                },
                {
                    "output_type": "display_data",
                    "data": {
                        "text/html": "Commands completed successfully"
                    },
                    "metadata": {}
                },
                {
                    "output_type": "display_data",
                    "data": {
                        "text/html": "Commands completed successfully"
                    },
                    "metadata": {}
                },
                {
                    "output_type": "display_data",
                    "data": {
                        "text/html": "(1 row(s) affected)"
                    },
                    "metadata": {}
                },
                {
                    "output_type": "display_data",
                    "data": {
                        "text/html": "(1 row(s) affected)"
                    },
                    "metadata": {}
                },
                {
                    "output_type": "display_data",
                    "data": {
                        "text/html": "Total execution time: 00:00:00.521"
                    },
                    "metadata": {}
                },
                {
                    "output_type": "execute_result",
                    "metadata": {},
                    "execution_count": 6,
                    "data": {
                        "application/vnd.dataresource+json": {
                            "schema": {
                                "fields": [
                                    {
                                        "name": "ElectronicName"
                                    },
                                    {
                                        "name": "StartDate"
                                    },
                                    {
                                        "name": "DueDate"
                                    },
                                    {
                                        "name": "LoanStatus"
                                    }
                                ]
                            },
                            "data": [
                                {
                                    "0": "250 G6",
                                    "1": "2022-12-08",
                                    "2": "2023-01-07",
                                    "3": "PENDING"
                                }
                            ]
                        },
                        "text/html": [
                            "<table>",
                            "<tr><th>ElectronicName</th><th>StartDate</th><th>DueDate</th><th>LoanStatus</th></tr>",
                            "<tr><td>250 G6</td><td>2022-12-08</td><td>2023-01-07</td><td>PENDING</td></tr>",
                            "</table>"
                        ]
                    }
                },
                {
                    "output_type": "execute_result",
                    "metadata": {},
                    "execution_count": 6,
                    "data": {
                        "application/vnd.dataresource+json": {
                            "schema": {
                                "fields": [
                                    {
                                        "name": "PenaltyID"
                                    },
                                    {
                                        "name": "Fee"
                                    },
                                    {
                                        "name": "CustomerID"
                                    },
                                    {
                                        "name": "DueDate"
                                    },
                                    {
                                        "name": "PenaltyStatus"
                                    }
                                ]
                            },
                            "data": []
                        },
                        "text/html": [
                            "<table>",
                            "<tr><th>PenaltyID</th><th>Fee</th><th>CustomerID</th><th>DueDate</th><th>PenaltyStatus</th></tr>",
                            "</table>"
                        ]
                    }
                },
                {
                    "output_type": "execute_result",
                    "metadata": {},
                    "execution_count": 6,
                    "data": {
                        "application/vnd.dataresource+json": {
                            "schema": {
                                "fields": [
                                    {
                                        "name": "ElectronicName"
                                    },
                                    {
                                        "name": "StartDate"
                                    },
                                    {
                                        "name": "DueDate"
                                    },
                                    {
                                        "name": "LoanStatus"
                                    }
                                ]
                            },
                            "data": [
                                {
                                    "0": "250 G6",
                                    "1": "2022-11-12",
                                    "2": "2022-12-12",
                                    "3": "FINED"
                                }
                            ]
                        },
                        "text/html": [
                            "<table>",
                            "<tr><th>ElectronicName</th><th>StartDate</th><th>DueDate</th><th>LoanStatus</th></tr>",
                            "<tr><td>250 G6</td><td>2022-11-12</td><td>2022-12-12</td><td>FINED</td></tr>",
                            "</table>"
                        ]
                    }
                },
                {
                    "output_type": "execute_result",
                    "metadata": {},
                    "execution_count": 6,
                    "data": {
                        "application/vnd.dataresource+json": {
                            "schema": {
                                "fields": [
                                    {
                                        "name": "PenaltyID"
                                    },
                                    {
                                        "name": "Fee"
                                    },
                                    {
                                        "name": "CustomerID"
                                    },
                                    {
                                        "name": "DueDate"
                                    },
                                    {
                                        "name": "PenaltyStatus"
                                    }
                                ]
                            },
                            "data": [
                                {
                                    "0": "2",
                                    "1": "100.00",
                                    "2": "1",
                                    "3": "2022-12-22",
                                    "4": "PENDING"
                                }
                            ]
                        },
                        "text/html": [
                            "<table>",
                            "<tr><th>PenaltyID</th><th>Fee</th><th>CustomerID</th><th>DueDate</th><th>PenaltyStatus</th></tr>",
                            "<tr><td>2</td><td>100.00</td><td>1</td><td>2022-12-22</td><td>PENDING</td></tr>",
                            "</table>"
                        ]
                    }
                }
            ],
            "execution_count": 6
        },
        {
            "cell_type": "code",
            "source": [
                "# Cases when customer has pending loans and request for new device for loan or device out of stock\n",
                "\n",
                "DROP TRIGGER IF EXISTS Check_loans_before_granting;\n",
                "\n",
                "CREATE TRIGGER Check_loans_before_granting\n",
                "BEFORE INSERT ON Loans FOR EACH ROW\n",
                "BEGIN\n",
                "\tDECLARE LoanedCount, TotalCount, ActiveLoansOfDevice INTEGER DEFAULT 0;\n",
                "    SELECT COUNT(*) INTO LoanedCount FROM Loans L\n",
                "    WHERE L.ElectronicID = NEW.ElectronicID AND L.LoanStatus != 'DONE' \n",
                "    GROUP BY ElectronicID;\n",
                "\tSELECT E.TotalCount INTO TotalCount FROM Electronic E WHERE E.ElectronicID = NEW.ElectronicID;\n",
                "\tIF (LoanedCount >= TotalCount)\n",
                "\t\tTHEN SIGNAL SQLSTATE '45000'\n",
                "\t\tSET MESSAGE_TEXT = 'Device out of stock';\n",
                "\tEND IF;\n",
                "\tSELECT COUNT(*) INTO ActiveLoansOfDevice FROM Loans L\n",
                "\tWHERE L.ElectronicID = NEW.ElectronicID AND L.CustomerID = NEW.CustomerID AND L.LoanStatus != 'DONE'\n",
                "\tGROUP BY L.ElectronicID;\n",
                "\tIF (ActiveLoansOfDevice != 0)\n",
                "\t\tTHEN SIGNAL SQLSTATE '45000'\n",
                "\t\tSET MESSAGE_TEXT = 'Customer already loaned device';\n",
                "\tEND IF;\n",
                "END;"
            ],
            "metadata": {
                "language": "sql",
                "azdata_cell_guid": "a5463541-478e-4770-b93d-dfdfbb57a032"
            },
            "outputs": [
                {
                    "output_type": "display_data",
                    "data": {
                        "text/html": "Commands completed successfully"
                    },
                    "metadata": {}
                },
                {
                    "output_type": "display_data",
                    "data": {
                        "text/html": "Commands completed successfully"
                    },
                    "metadata": {}
                },
                {
                    "output_type": "display_data",
                    "data": {
                        "text/html": "Total execution time: 00:00:00.205"
                    },
                    "metadata": {}
                }
            ],
            "execution_count": 7
        },
        {
            "cell_type": "code",
            "source": [
                "CALL LoanDevice(2, 1); "
            ],
            "metadata": {
                "language": "sql",
                "azdata_cell_guid": "c339e2c4-b7aa-48b4-beed-032f3dcc0d5b"
            },
            "outputs": [
                {
                    "output_type": "error",
                    "evalue": "(1644, 'Customer already loaned device')",
                    "ename": "",
                    "traceback": []
                },
                {
                    "output_type": "display_data",
                    "data": {
                        "text/html": "Total execution time: 00:00:00.004"
                    },
                    "metadata": {}
                }
            ],
            "execution_count": 8
        },
        {
            "cell_type": "code",
            "source": [
                "UPDATE Electronic E SET E.TotalCount = 0\n",
                "WHERE E.ElectronicID = 5;\n",
                "CALL LoanDevice(1, 5);"
            ],
            "metadata": {
                "language": "sql",
                "azdata_cell_guid": "abbb6039-c20a-462d-98e5-9df38758e13d"
            },
            "outputs": [
                {
                    "output_type": "display_data",
                    "data": {
                        "text/html": "Commands completed successfully"
                    },
                    "metadata": {}
                },
                {
                    "output_type": "display_data",
                    "data": {
                        "text/html": "Total execution time: 00:00:00.077"
                    },
                    "metadata": {}
                }
            ],
            "execution_count": 9
        },
        {
            "cell_type": "code",
            "source": [
                "# Schedule create penalties at end of each DAY\n",
                "\n",
                "SET GLOBAL event_scheduler = 1;\n",
                "DROP EVENT IF EXISTS CreateFinesEvent;\n",
                "\n",
                "CREATE EVENT CreateFinesEvent ON SCHEDULE EVERY 1 DAY \n",
                "DO\n",
                "BEGIN\n",
                "\tCALL CreatePenalty();\n",
                "END;"
            ],
            "metadata": {
                "language": "sql",
                "azdata_cell_guid": "4294fe9c-dca6-4324-9888-f85cff1d19ed"
            },
            "outputs": [
                {
                    "output_type": "display_data",
                    "data": {
                        "text/html": "Commands completed successfully"
                    },
                    "metadata": {}
                },
                {
                    "output_type": "display_data",
                    "data": {
                        "text/html": "Commands completed successfully"
                    },
                    "metadata": {}
                },
                {
                    "output_type": "display_data",
                    "data": {
                        "text/html": "Commands completed successfully"
                    },
                    "metadata": {}
                },
                {
                    "output_type": "display_data",
                    "data": {
                        "text/html": "Total execution time: 00:00:00.158"
                    },
                    "metadata": {}
                }
            ],
            "execution_count": 11
        },
        {
            "cell_type": "code",
            "source": [
                "SET SQL_SAFE_UPDATES = 0;\n",
                "\n",
                "# BEFORE:\n",
                "SELECT * FROM Electronic Limit 5;\n",
                "\n",
                "UPDATE Electronic SET TotalCount = 25\n",
                "WHERE ElectronicID = 4;\n",
                "\n",
                "# AFTER:\n",
                "SELECT * FROM Electronic Limit 5;"
            ],
            "metadata": {
                "language": "sql",
                "azdata_cell_guid": "53c1e6dd-7853-4375-a2d1-e7d5613c132a"
            },
            "outputs": [
{
    "output_type": "display_data",
    "data": {
        "text/html": "Commands completed successfully"
    },
    "metadata": {}
}, {
    "output_type": "display_data",
    "data": {
        "text/html": "(5 row(s) affected)"
    },
    "metadata": {}
}, {
    "output_type": "display_data",
    "data": {
        "text/html": "Commands completed successfully"
    },
    "metadata": {}
}, {
    "output_type": "display_data",
    "data": {
        "text/html": "(5 row(s) affected)"
    },
    "metadata": {}
}, {
    "output_type": "display_data",
    "data": {
        "text/html": "Total execution time: 00:00:00.110"
    },
    "metadata": {}
}, {
    "output_type": "execute_result",
    "metadata": {},
    "execution_count": 12,
    "data": {
        "application/vnd.dataresource+json": {
            "schema": {
                "fields": [
                    {
                        "name": "ElectronicID"
                    },
                    {
                        "name": "ElectronicName"
                    },
                    {
                        "name": "ReleaseYear"
                    },
                    {
                        "name": "Count"
                    },
                    {
                        "name": "TotalCount"
                    },
                    {
                        "name": "Rating"
                    },
                    {
                        "name": "ManufacturerID"
                    },
                    {
                        "name": "TypeID"
                    }
                ]
            },
            "data": [
                {
                    "0": "1",
                    "1": "MacBook Pro",
                    "2": "2020",
                    "3": "15",
                    "4": "15",
                    "5": "AVERAGE",
                    "6": "1",
                    "7": "1"
                },
                {
                    "0": "2",
                    "1": "Macbook Air",
                    "2": "2021",
                    "3": "8",
                    "4": "8",
                    "5": "AVERAGE",
                    "6": "1",
                    "7": "1"
                },
                {
                    "0": "3",
                    "1": "250 G6",
                    "2": "2022",
                    "3": "13",
                    "4": "13",
                    "5": "AVERAGE",
                    "6": "2",
                    "7": "1"
                },
                {
                    "0": "4",
                    "1": "MacBook Pro",
                    "2": "2021",
                    "3": "5",
                    "4": "5",
                    "5": "AVERAGE",
                    "6": "1",
                    "7": "1"
                },
                {
                    "0": "5",
                    "1": "MacBook Pro",
                    "2": "2019",
                    "3": "5",
                    "4": "0",
                    "5": "AVERAGE",
                    "6": "1",
                    "7": "1"
                }
            ]
        },
        "text/html": [
            "<table>",
            "<tr><th>ElectronicID</th><th>ElectronicName</th><th>ReleaseYear</th><th>Count</th><th>TotalCount</th><th>Rating</th><th>ManufacturerID</th><th>TypeID</th></tr>",
            "<tr><td>1</td><td>MacBook Pro</td><td>2020</td><td>15</td><td>15</td><td>AVERAGE</td><td>1</td><td>1</td></tr>",
            "<tr><td>2</td><td>Macbook Air</td><td>2021</td><td>8</td><td>8</td><td>AVERAGE</td><td>1</td><td>1</td></tr>",
            "<tr><td>3</td><td>250 G6</td><td>2022</td><td>13</td><td>13</td><td>AVERAGE</td><td>2</td><td>1</td></tr>",
            "<tr><td>4</td><td>MacBook Pro</td><td>2021</td><td>5</td><td>5</td><td>AVERAGE</td><td>1</td><td>1</td></tr>",
            "<tr><td>5</td><td>MacBook Pro</td><td>2019</td><td>5</td><td>0</td><td>AVERAGE</td><td>1</td><td>1</td></tr>",
            "</table>"
        ]
    }
}, {
    "output_type": "execute_result",
    "metadata": {},
    "execution_count": 12,
    "data": {
        "application/vnd.dataresource+json": {
            "schema": {
                "fields": [
                    {
                        "name": "ElectronicID"
                    },
                    {
                        "name": "ElectronicName"
                    },
                    {
                        "name": "ReleaseYear"
                    },
                    {
                        "name": "Count"
                    },
                    {
                        "name": "TotalCount"
                    },
                    {
                        "name": "Rating"
                    },
                    {
                        "name": "ManufacturerID"
                    },
                    {
                        "name": "TypeID"
                    }
                ]
            },
            "data": [
                {
                    "0": "1",
                    "1": "MacBook Pro",
                    "2": "2020",
                    "3": "15",
                    "4": "15",
                    "5": "AVERAGE",
                    "6": "1",
                    "7": "1"
                },
                {
                    "0": "2",
                    "1": "Macbook Air",
                    "2": "2021",
                    "3": "8",
                    "4": "8",
                    "5": "AVERAGE",
                    "6": "1",
                    "7": "1"
                },
                {
                    "0": "3",
                    "1": "250 G6",
                    "2": "2022",
                    "3": "13",
                    "4": "13",
                    "5": "AVERAGE",
                    "6": "2",
                    "7": "1"
                },
                {
                    "0": "4",
                    "1": "MacBook Pro",
                    "2": "2021",
                    "3": "5",
                    "4": "25",
                    "5": "AVERAGE",
                    "6": "1",
                    "7": "1"
                },
                {
                    "0": "5",
                    "1": "MacBook Pro",
                    "2": "2019",
                    "3": "5",
                    "4": "0",
                    "5": "AVERAGE",
                    "6": "1",
                    "7": "1"
                }
            ]
        },
        "text/html": [
            "<table>",
            "<tr><th>ElectronicID</th><th>ElectronicName</th><th>ReleaseYear</th><th>Count</th><th>TotalCount</th><th>Rating</th><th>ManufacturerID</th><th>TypeID</th></tr>",
            "<tr><td>1</td><td>MacBook Pro</td><td>2020</td><td>15</td><td>15</td><td>AVERAGE</td><td>1</td><td>1</td></tr>",
            "<tr><td>2</td><td>Macbook Air</td><td>2021</td><td>8</td><td>8</td><td>AVERAGE</td><td>1</td><td>1</td></tr>",
            "<tr><td>3</td><td>250 G6</td><td>2022</td><td>13</td><td>13</td><td>AVERAGE</td><td>2</td><td>1</td></tr>",
            "<tr><td>4</td><td>MacBook Pro</td><td>2021</td><td>5</td><td>25</td><td>AVERAGE</td><td>1</td><td>1</td></tr>",
            "<tr><td>5</td><td>MacBook Pro</td><td>2019</td><td>5</td><td>0</td><td>AVERAGE</td><td>1</td><td>1</td></tr>",
            "</table>"
        ]
    }
}
],
            "execution_count": 12
        }
    ]
}