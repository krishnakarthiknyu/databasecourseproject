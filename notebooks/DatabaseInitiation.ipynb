{
    "metadata": {
        "kernelspec": {
            "name": "SQL",
            "display_name": "SQL",
            "language": "sql"
        },
        "language_info": {
            "name": "sql",
            "version": ""
        }
    },
    "nbformat_minor": 2,
    "nbformat": 4,
    "cells": [
        {
            "cell_type": "code",
            "source": [
                "# Creating database\n",
                "\n",
                "DROP DATABASE IF EXISTS Rentaldb;\n",
                "CREATE DATABASE Rentaldb;"
            ],
            "metadata": {
                "azdata_cell_guid": "930780be-7817-4887-a4b5-6d0d775c0b03",
                "language": "sql",
                "tags": []
            },
            "outputs": [],
            "execution_count": 1
        },
        {
            "cell_type": "code",
            "source": [
                "USE Rentaldb;"
            ],
            "metadata": {
                "language": "sql",
                "azdata_cell_guid": "88ef3dc8-eafc-465f-a6dc-b6b36cc2b077"
            },
            "outputs": [],
            "execution_count": null
        },
        {
            "cell_type": "code",
            "source": [
                "# Creating tables for entities\n",
                "\n",
                "CREATE TABLE Customer (\n",
                "    CustomerID          INTEGER NOT NULL UNIQUE AUTO_INCREMENT,\n",
                "    FirstName           VARCHAR(255) NOT NULL,\n",
                "    LastName            VARCHAR(255) NOT NULL,\n",
                "    Contact             VARCHAR(255) NOT NULL,\n",
                "    CustomerStatus      ENUM('GOOD', 'BAD') NOT NULL,\n",
                "\n",
                "    PRIMARY KEY(CustomerID)\n",
                "    \n",
                ");\n",
                "\n",
                "CREATE TABLE Penalty (\n",
                "    PenaltyID           INTEGER NOT NULL UNIQUE AUTO_INCREMENT,\n",
                "    Fee                 DECIMAL(8, 2) NOT NULL,\n",
                "    CustomerID          INTEGER NOT NULL,\n",
                "    DueDate             DATE NOT NULL,\n",
                "    PenaltyStatus       ENUM('PENDING', 'DONE') NOT NULL,\n",
                "\n",
                "    PRIMARY KEY(PenaltyID),\n",
                "    FOREIGN KEY(CustomerID) REFERENCES Customer(CustomerID) ON DELETE CASCADE\n",
                ");\n",
                "\n",
                "CREATE TABLE Manufacturer (\n",
                "    ManufacturerID\t\tINTEGER NOT NULL UNIQUE AUTO_INCREMENT,\n",
                "    ManufacturerName\tVARCHAR(255) NOT NULL,\n",
                "\n",
                "    PRIMARY KEY(ManufacturerID)\n",
                ");\n",
                "\n",
                "CREATE TABLE ElectronicType (\n",
                "    TypeID              INTEGER NOT NULL UNIQUE AUTO_INCREMENT,\n",
                "    Kind                ENUM('LAPTOP', 'PHONE', 'CONSOLE') NOT NULL,\n",
                "\n",
                "    PRIMARY KEY(TypeID)\n",
                ");\n",
                "\n",
                "CREATE TABLE Electronic (\n",
                "    ElectronicID        INTEGER NOT NULL UNIQUE AUTO_INCREMENT,\n",
                "    ElectronicName      VARCHAR(255) NOT NULL,\n",
                "    ReleaseYear         YEAR,\n",
                "    Count               INTEGER,\n",
                "    TotalCount          INTEGER NOT NULL,\n",
                "    Rating              ENUM('GOOD', 'AVERAGE', 'BAD') NOT NULL,\n",
                "    ManufacturerID      INTEGER,\n",
                "    TypeID              INTEGER,\n",
                "\n",
                "    PRIMARY KEY(ElectronicID),\n",
                "    FOREIGN KEY(ManufacturerID) REFERENCES Manufacturer(ManufacturerID) ON DELETE CASCADE,\n",
                "    FOREIGN KEY(TypeID) REFERENCES ElectronicType(TypeID) ON DELETE CASCADE\n",
                ");\n",
                "\n",
                "CREATE TABLE OperatingSystem (\n",
                "    OperatingSystemID       INTEGER NOT NULL UNIQUE AUTO_INCREMENT,\n",
                "    OSName                  ENUM('WINDOWS', 'LINUX', 'IOS', 'NO OS') NOT NULL,\n",
                "\n",
                "    PRIMARY KEY(OperatingSystemID)\n",
                ");"
            ],
            "metadata": {
                "azdata_cell_guid": "23ce8ee9-33bb-4d52-92f9-f5fff96bf757",
                "language": "sql"
            },
            "outputs": [],
            "execution_count": null
        },
        {
            "cell_type": "code",
            "source": [
                "# Creating tables for relations\n",
                "\n",
                "CREATE TABLE Loans (\n",
                "    CustomerID\t\t    INTEGER NOT NULL,\n",
                "    ElectronicID\t\tINTEGER NOT NULL,\n",
                "    StartDate   \t    DATE NOT NULL,\n",
                "    DueDate   \t        DATE NOT NULL,\n",
                "    Amount\t            DECIMAL(8, 2) NOT NULL,\n",
                "    LoanStatus \t        ENUM('PENDING', 'DONE', 'FINED') NOT NULL,\n",
                "\n",
                "    PRIMARY KEY(CustomerID, ElectronicID, StartDate),\n",
                "    FOREIGN KEY(CustomerID) REFERENCES Customer(CustomerID) ON DELETE CASCADE,\n",
                "    FOREIGN KEY(ElectronicID) REFERENCES Electronic(ElectronicID) ON DELETE CASCADE\n",
                ");\n",
                "\n",
                "CREATE TABLE Notifies (\n",
                "    CustomerID\t\t    INTEGER NOT NULL,\n",
                "    ElectronicID\t\tINTEGER NOT NULL,\n",
                "\n",
                "    PRIMARY KEY(CustomerID, ElectronicID),\n",
                "    FOREIGN KEY(CustomerID) REFERENCES Customer(CustomerID) ON DELETE CASCADE,\n",
                "    FOREIGN KEY(ElectronicID) REFERENCES Electronic(ElectronicID) ON DELETE CASCADE\n",
                ");\n",
                "\n",
                "CREATE TABLE OSInstalled (\n",
                "    ElectronicID\t\t    INTEGER NOT NULL,\n",
                "    OperatingSystemID\t    INTEGER NOT NULL,\n",
                "\n",
                "    PRIMARY KEY(ElectronicID, OperatingSystemID),\n",
                "    FOREIGN KEY(ElectronicID) REFERENCES Electronic(ElectronicID) ON DELETE CASCADE,\n",
                "    FOREIGN KEY(OperatingSystemID) REFERENCES OperatingSystem(OperatingSystemID) ON DELETE CASCADE\n",
                ");"
            ],
            "metadata": {
                "language": "sql",
                "azdata_cell_guid": "d89f3a84-d037-4b17-913b-c06503c0b09e"
            },
            "outputs": [],
            "execution_count": null
        },
        {
            "cell_type": "code",
            "source": [
                "# Creating views\n",
                "DROP VIEW IF EXISTS ElectronicOSView;\n",
                "DROP VIEW IF EXISTS TotalPenaltyView;\n",
                "\n",
                "CREATE VIEW ElectronicOSView AS\n",
                "    SELECT E.ElectronicID, E.ElectronicName, GROUP_CONCAT(O.OSName) AS OperatingSystem\n",
                "    FROM Electronic E\n",
                "        NATURAL JOIN OSInstalled I\n",
                "        NATURAL JOIN OperatingSystem O\n",
                "    GROUP BY E.ElectronicID;\n",
                "\n",
                "CREATE VIEW TotalPenaltyView AS\n",
                "    SELECT C.CustomerID, CONCAT(C.FirstName, ' ', C.LastName) AS CustomerName, SUM(P.Fee) AS Total\n",
                "    FROM Customer C\n",
                "        NATURAL JOIN Penalty P\n",
                "    WHERE P.PenaltyStatus = 'PENDING'\n",
                "    GROUP BY C.CustomerID;"
            ],
            "metadata": {
                "language": "sql",
                "azdata_cell_guid": "f366195a-d9c4-4651-affd-8b94d0e0dfb2"
            },
            "outputs": [],
            "execution_count": null
        }
    ]
}