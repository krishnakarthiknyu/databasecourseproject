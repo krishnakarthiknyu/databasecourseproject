{
    "metadata": {
        "kernelspec": {
            "name": "SQL",
            "display_name": "SQL",
            "language": "sql"
        },
        "language_info": {
            "name": "sql",
            "version": ""
        }
    },
    "nbformat_minor": 2,
    "nbformat": 4,
    "cells": [
        {
            "cell_type": "code",
            "source": [
                "USE Rentaldb;"
            ],
            "metadata": {
                "azdata_cell_guid": "ee2d02eb-e33c-41f0-a639-b2256c958fc1",
                "language": "sql",
                "tags": []
            },
            "outputs": [
                {
                    "output_type": "display_data",
                    "data": {
                        "text/html": "Commands completed successfully"
                    },
                    "metadata": {}
                },
                {
                    "output_type": "display_data",
                    "data": {
                        "text/html": "Total execution time: 00:00:00.001"
                    },
                    "metadata": {}
                }
            ],
            "execution_count": 1
        },
        {
            "cell_type": "code",
            "source": [
                "\n",
                "# insert data into db\n",
                "# Customer and other data -> manually insert few into db\n",
                "INSERT Customer (CustomerID, FirstName, LastName, Contact, CustomerStatus) VALUES\n",
                "(1, 'Kaladin', 'Stormblessed', '3471234567', 'GOOD'),\n",
                "(2, 'Dalinar', 'Kholin', '3471234568', 'GOOD'),\n",
                "(3, 'Odium', 'Shard', '3470000000', 'BAD');\n",
                "\n",
                "INSERT ElectronicType (TypeID, Kind) VALUES\n",
                "(1, 'LAPTOP'),\n",
                "(2, 'PHONE'),\n",
                "(3, 'CONSOLE');\n",
                "\n",
                "INSERT OperatingSystem (OperatingSystemID, OSName) VALUES\n",
                "(1, 'WINDOWS'),\n",
                "(2, 'LINUX'),\n",
                "(3, 'IOS'),\n",
                "(4, 'NO OS');"
            ],
            "metadata": {
                "language": "sql",
                "azdata_cell_guid": "e1f9000b-fded-41bd-995d-2aab59f299c3"
            },
            "outputs": [
                {
                    "output_type": "display_data",
                    "data": {
                        "text/html": "Commands completed successfully"
                    },
                    "metadata": {}
                },
                {
                    "output_type": "display_data",
                    "data": {
                        "text/html": "Commands completed successfully"
                    },
                    "metadata": {}
                },
                {
                    "output_type": "display_data",
                    "data": {
                        "text/html": "Commands completed successfully"
                    },
                    "metadata": {}
                },
                {
                    "output_type": "display_data",
                    "data": {
                        "text/html": "Total execution time: 00:00:00.434"
                    },
                    "metadata": {}
                }
            ],
            "execution_count": 2
        },
        {
            "cell_type": "code",
            "source": [
                "SELECT * FROM Customer LIMIT 10;\n",
                "SELECT * FROM ElectronicType LIMIT 10;\n",
                "SELECT * FROM OperatingSystem LIMIT 10;"
            ],
            "metadata": {
                "language": "sql",
                "azdata_cell_guid": "58b5f147-6348-4f04-adc2-fa35aa327f95"
            },
            "outputs": [
                {
                    "output_type": "display_data",
                    "data": {
                        "text/html": "(3 row(s) affected)"
                    },
                    "metadata": {}
                },
                {
                    "output_type": "display_data",
                    "data": {
                        "text/html": "(3 row(s) affected)"
                    },
                    "metadata": {}
                },
                {
                    "output_type": "display_data",
                    "data": {
                        "text/html": "(4 row(s) affected)"
                    },
                    "metadata": {}
                },
                {
                    "output_type": "display_data",
                    "data": {
                        "text/html": "Total execution time: 00:00:00.013"
                    },
                    "metadata": {}
                },
                {
                    "output_type": "execute_result",
                    "metadata": {},
                    "execution_count": 3,
                    "data": {
                        "application/vnd.dataresource+json": {
                            "schema": {
                                "fields": [
                                    {
                                        "name": "CustomerID"
                                    },
                                    {
                                        "name": "FirstName"
                                    },
                                    {
                                        "name": "LastName"
                                    },
                                    {
                                        "name": "Contact"
                                    },
                                    {
                                        "name": "CustomerStatus"
                                    }
                                ]
                            },
                            "data": [
                                {
                                    "0": "1",
                                    "1": "Kaladin",
                                    "2": "Stormblessed",
                                    "3": "3471234567",
                                    "4": "GOOD"
                                },
                                {
                                    "0": "2",
                                    "1": "Dalinar",
                                    "2": "Kholin",
                                    "3": "3471234568",
                                    "4": "GOOD"
                                },
                                {
                                    "0": "3",
                                    "1": "Odium",
                                    "2": "Shard",
                                    "3": "3470000000",
                                    "4": "BAD"
                                }
                            ]
                        },
                        "text/html": [
                            "<table>",
                            "<tr><th>CustomerID</th><th>FirstName</th><th>LastName</th><th>Contact</th><th>CustomerStatus</th></tr>",
                            "<tr><td>1</td><td>Kaladin</td><td>Stormblessed</td><td>3471234567</td><td>GOOD</td></tr>",
                            "<tr><td>2</td><td>Dalinar</td><td>Kholin</td><td>3471234568</td><td>GOOD</td></tr>",
                            "<tr><td>3</td><td>Odium</td><td>Shard</td><td>3470000000</td><td>BAD</td></tr>",
                            "</table>"
                        ]
                    }
                },
                {
                    "output_type": "execute_result",
                    "metadata": {},
                    "execution_count": 3,
                    "data": {
                        "application/vnd.dataresource+json": {
                            "schema": {
                                "fields": [
                                    {
                                        "name": "TypeID"
                                    },
                                    {
                                        "name": "Kind"
                                    }
                                ]
                            },
                            "data": [
                                {
                                    "0": "1",
                                    "1": "LAPTOP"
                                },
                                {
                                    "0": "2",
                                    "1": "PHONE"
                                },
                                {
                                    "0": "3",
                                    "1": "CONSOLE"
                                }
                            ]
                        },
                        "text/html": [
                            "<table>",
                            "<tr><th>TypeID</th><th>Kind</th></tr>",
                            "<tr><td>1</td><td>LAPTOP</td></tr>",
                            "<tr><td>2</td><td>PHONE</td></tr>",
                            "<tr><td>3</td><td>CONSOLE</td></tr>",
                            "</table>"
                        ]
                    }
                },
                {
                    "output_type": "execute_result",
                    "metadata": {},
                    "execution_count": 3,
                    "data": {
                        "application/vnd.dataresource+json": {
                            "schema": {
                                "fields": [
                                    {
                                        "name": "OperatingSystemID"
                                    },
                                    {
                                        "name": "OSName"
                                    }
                                ]
                            },
                            "data": [
                                {
                                    "0": "1",
                                    "1": "WINDOWS"
                                },
                                {
                                    "0": "2",
                                    "1": "LINUX"
                                },
                                {
                                    "0": "3",
                                    "1": "IOS"
                                },
                                {
                                    "0": "4",
                                    "1": "NO OS"
                                }
                            ]
                        },
                        "text/html": [
                            "<table>",
                            "<tr><th>OperatingSystemID</th><th>OSName</th></tr>",
                            "<tr><td>1</td><td>WINDOWS</td></tr>",
                            "<tr><td>2</td><td>LINUX</td></tr>",
                            "<tr><td>3</td><td>IOS</td></tr>",
                            "<tr><td>4</td><td>NO OS</td></tr>",
                            "</table>"
                        ]
                    }
                }
            ],
            "execution_count": 3
        },
        {
            "cell_type": "code",
            "source": [
                "\n",
                "\n",
                "# Electronic dataset -> python script to clean up the data -> sql script to load data into db\n",
                "# dataset for laptops https://www.kaggle.com/code/danielbethell/laptop-prices-prediction/data\n",
                "-- SHOW VARIABLES LIKE \"secure_file_priv\";\n",
                "\n",
                "LOAD DATA INFILE '/var/lib/mysql-files/manufacturers.csv' INTO TABLE Manufacturer\n",
                "FIELDS TERMINATED BY ','\n",
                "ENCLOSED BY '\"'\n",
                "LINES TERMINATED BY '\\r\\n'\n",
                "IGNORE 1 LINES\n",
                "(ManufacturerID, ManufacturerName);\n",
                "\n",
                "LOAD DATA INFILE '/var/lib/mysql-files/electronics.csv' INTO TABLE Electronic\n",
                "FIELDS TERMINATED BY ','\n",
                "ENCLOSED BY '\"'\n",
                "LINES TERMINATED BY '\\r\\n'\n",
                "IGNORE 1 LINES\n",
                "(ElectronicID, ElectronicName, ReleaseYear, Count, TotalCount, Rating, ManufacturerID, TypeID);\n",
                "\n",
                "LOAD DATA INFILE '/var/lib/mysql-files/osinstalled.csv' INTO TABLE OSInstalled\n",
                "FIELDS TERMINATED BY ','\n",
                "ENCLOSED BY '\"'\n",
                "LINES TERMINATED BY '\\r\\n'\n",
                "IGNORE 1 LINES\n",
                "(ElectronicID, OperatingSystemID);"
            ],
            "metadata": {
                "language": "sql",
                "azdata_cell_guid": "bf478ec0-330c-487d-bf91-afd322c6025f"
            },
            "outputs": [
                {
                    "output_type": "display_data",
                    "data": {
                        "text/html": "Commands completed successfully"
                    },
                    "metadata": {}
                },
                {
                    "output_type": "display_data",
                    "data": {
                        "text/html": "Commands completed successfully"
                    },
                    "metadata": {}
                },
                {
                    "output_type": "display_data",
                    "data": {
                        "text/html": "Commands completed successfully"
                    },
                    "metadata": {}
                },
                {
                    "output_type": "display_data",
                    "data": {
                        "text/html": "Total execution time: 00:00:02.396"
                    },
                    "metadata": {}
                }
            ],
            "execution_count": 4
        },
        {
            "cell_type": "code",
            "source": [
                "SELECT * FROM Manufacturer LIMIT 10;\n",
                "SELECT * FROM Electronic LIMIT 10;\n",
                "SELECT * FROM OSInstalled LIMIT 10;"
            ],
            "metadata": {
                "language": "sql",
                "azdata_cell_guid": "9257faed-eac2-448b-a451-f34dabef595f"
            },
            "outputs": [
                {
                    "output_type": "display_data",
                    "data": {
                        "text/html": "(10 row(s) affected)"
                    },
                    "metadata": {}
                },
                {
                    "output_type": "display_data",
                    "data": {
                        "text/html": "(10 row(s) affected)"
                    },
                    "metadata": {}
                },
                {
                    "output_type": "display_data",
                    "data": {
                        "text/html": "(10 row(s) affected)"
                    },
                    "metadata": {}
                },
                {
                    "output_type": "display_data",
                    "data": {
                        "text/html": "Total execution time: 00:00:00.022"
                    },
                    "metadata": {}
                },
                {
                    "output_type": "execute_result",
                    "metadata": {},
                    "execution_count": 5,
                    "data": {
                        "application/vnd.dataresource+json": {
                            "schema": {
                                "fields": [
                                    {
                                        "name": "ManufacturerID"
                                    },
                                    {
                                        "name": "ManufacturerName"
                                    }
                                ]
                            },
                            "data": [
                                {
                                    "0": "1",
                                    "1": "Apple"
                                },
                                {
                                    "0": "2",
                                    "1": "HP"
                                },
                                {
                                    "0": "3",
                                    "1": "Acer"
                                },
                                {
                                    "0": "4",
                                    "1": "Asus"
                                },
                                {
                                    "0": "5",
                                    "1": "Dell"
                                },
                                {
                                    "0": "6",
                                    "1": "Lenovo"
                                },
                                {
                                    "0": "7",
                                    "1": "Chuwi"
                                },
                                {
                                    "0": "8",
                                    "1": "MSI"
                                },
                                {
                                    "0": "9",
                                    "1": "Microsoft"
                                },
                                {
                                    "0": "10",
                                    "1": "Toshiba"
                                }
                            ]
                        },
                        "text/html": [
                            "<table>",
                            "<tr><th>ManufacturerID</th><th>ManufacturerName</th></tr>",
                            "<tr><td>1</td><td>Apple</td></tr>",
                            "<tr><td>2</td><td>HP</td></tr>",
                            "<tr><td>3</td><td>Acer</td></tr>",
                            "<tr><td>4</td><td>Asus</td></tr>",
                            "<tr><td>5</td><td>Dell</td></tr>",
                            "<tr><td>6</td><td>Lenovo</td></tr>",
                            "<tr><td>7</td><td>Chuwi</td></tr>",
                            "<tr><td>8</td><td>MSI</td></tr>",
                            "<tr><td>9</td><td>Microsoft</td></tr>",
                            "<tr><td>10</td><td>Toshiba</td></tr>",
                            "</table>"
                        ]
                    }
                },
                {
                    "output_type": "execute_result",
                    "metadata": {},
                    "execution_count": 5,
                    "data": {
                        "application/vnd.dataresource+json": {
                            "schema": {
                                "fields": [
                                    {
                                        "name": "ElectronicID"
                                    },
                                    {
                                        "name": "ElectronicName"
                                    },
                                    {
                                        "name": "ReleaseYear"
                                    },
                                    {
                                        "name": "Count"
                                    },
                                    {
                                        "name": "TotalCount"
                                    },
                                    {
                                        "name": "Rating"
                                    },
                                    {
                                        "name": "ManufacturerID"
                                    },
                                    {
                                        "name": "TypeID"
                                    }
                                ]
                            },
                            "data": [
                                {
                                    "0": "1",
                                    "1": "MacBook Pro",
                                    "2": "2020",
                                    "3": "15",
                                    "4": "15",
                                    "5": "AVERAGE",
                                    "6": "1",
                                    "7": "1"
                                },
                                {
                                    "0": "2",
                                    "1": "Macbook Air",
                                    "2": "2021",
                                    "3": "8",
                                    "4": "8",
                                    "5": "AVERAGE",
                                    "6": "1",
                                    "7": "1"
                                },
                                {
                                    "0": "3",
                                    "1": "250 G6",
                                    "2": "2022",
                                    "3": "13",
                                    "4": "13",
                                    "5": "AVERAGE",
                                    "6": "2",
                                    "7": "1"
                                },
                                {
                                    "0": "4",
                                    "1": "MacBook Pro",
                                    "2": "2021",
                                    "3": "5",
                                    "4": "5",
                                    "5": "AVERAGE",
                                    "6": "1",
                                    "7": "1"
                                },
                                {
                                    "0": "5",
                                    "1": "MacBook Pro",
                                    "2": "2019",
                                    "3": "5",
                                    "4": "5",
                                    "5": "AVERAGE",
                                    "6": "1",
                                    "7": "1"
                                },
                                {
                                    "0": "6",
                                    "1": "Aspire 3",
                                    "2": "2021",
                                    "3": "6",
                                    "4": "6",
                                    "5": "AVERAGE",
                                    "6": "3",
                                    "7": "1"
                                },
                                {
                                    "0": "7",
                                    "1": "MacBook Pro",
                                    "2": "2020",
                                    "3": "9",
                                    "4": "9",
                                    "5": "AVERAGE",
                                    "6": "1",
                                    "7": "1"
                                },
                                {
                                    "0": "8",
                                    "1": "Macbook Air",
                                    "2": "2019",
                                    "3": "7",
                                    "4": "7",
                                    "5": "AVERAGE",
                                    "6": "1",
                                    "7": "1"
                                },
                                {
                                    "0": "9",
                                    "1": "ZenBook UX430UN",
                                    "2": "2020",
                                    "3": "10",
                                    "4": "10",
                                    "5": "AVERAGE",
                                    "6": "4",
                                    "7": "1"
                                },
                                {
                                    "0": "10",
                                    "1": "Swift 3",
                                    "2": "2019",
                                    "3": "10",
                                    "4": "10",
                                    "5": "AVERAGE",
                                    "6": "3",
                                    "7": "1"
                                }
                            ]
                        },
                        "text/html": [
                            "<table>",
                            "<tr><th>ElectronicID</th><th>ElectronicName</th><th>ReleaseYear</th><th>Count</th><th>TotalCount</th><th>Rating</th><th>ManufacturerID</th><th>TypeID</th></tr>",
                            "<tr><td>1</td><td>MacBook Pro</td><td>2020</td><td>15</td><td>15</td><td>AVERAGE</td><td>1</td><td>1</td></tr>",
                            "<tr><td>2</td><td>Macbook Air</td><td>2021</td><td>8</td><td>8</td><td>AVERAGE</td><td>1</td><td>1</td></tr>",
                            "<tr><td>3</td><td>250 G6</td><td>2022</td><td>13</td><td>13</td><td>AVERAGE</td><td>2</td><td>1</td></tr>",
                            "<tr><td>4</td><td>MacBook Pro</td><td>2021</td><td>5</td><td>5</td><td>AVERAGE</td><td>1</td><td>1</td></tr>",
                            "<tr><td>5</td><td>MacBook Pro</td><td>2019</td><td>5</td><td>5</td><td>AVERAGE</td><td>1</td><td>1</td></tr>",
                            "<tr><td>6</td><td>Aspire 3</td><td>2021</td><td>6</td><td>6</td><td>AVERAGE</td><td>3</td><td>1</td></tr>",
                            "<tr><td>7</td><td>MacBook Pro</td><td>2020</td><td>9</td><td>9</td><td>AVERAGE</td><td>1</td><td>1</td></tr>",
                            "<tr><td>8</td><td>Macbook Air</td><td>2019</td><td>7</td><td>7</td><td>AVERAGE</td><td>1</td><td>1</td></tr>",
                            "<tr><td>9</td><td>ZenBook UX430UN</td><td>2020</td><td>10</td><td>10</td><td>AVERAGE</td><td>4</td><td>1</td></tr>",
                            "<tr><td>10</td><td>Swift 3</td><td>2019</td><td>10</td><td>10</td><td>AVERAGE</td><td>3</td><td>1</td></tr>",
                            "</table>"
                        ]
                    }
                },
                {
                    "output_type": "execute_result",
                    "metadata": {},
                    "execution_count": 5,
                    "data": {
                        "application/vnd.dataresource+json": {
                            "schema": {
                                "fields": [
                                    {
                                        "name": "ElectronicID"
                                    },
                                    {
                                        "name": "OperatingSystemID"
                                    }
                                ]
                            },
                            "data": [
                                {
                                    "0": "6",
                                    "1": "1"
                                },
                                {
                                    "0": "9",
                                    "1": "1"
                                },
                                {
                                    "0": "10",
                                    "1": "1"
                                },
                                {
                                    "0": "14",
                                    "1": "1"
                                },
                                {
                                    "0": "17",
                                    "1": "1"
                                },
                                {
                                    "0": "20",
                                    "1": "1"
                                },
                                {
                                    "0": "21",
                                    "1": "1"
                                },
                                {
                                    "0": "22",
                                    "1": "1"
                                },
                                {
                                    "0": "24",
                                    "1": "1"
                                },
                                {
                                    "0": "25",
                                    "1": "1"
                                }
                            ]
                        },
                        "text/html": [
                            "<table>",
                            "<tr><th>ElectronicID</th><th>OperatingSystemID</th></tr>",
                            "<tr><td>6</td><td>1</td></tr>",
                            "<tr><td>9</td><td>1</td></tr>",
                            "<tr><td>10</td><td>1</td></tr>",
                            "<tr><td>14</td><td>1</td></tr>",
                            "<tr><td>17</td><td>1</td></tr>",
                            "<tr><td>20</td><td>1</td></tr>",
                            "<tr><td>21</td><td>1</td></tr>",
                            "<tr><td>22</td><td>1</td></tr>",
                            "<tr><td>24</td><td>1</td></tr>",
                            "<tr><td>25</td><td>1</td></tr>",
                            "</table>"
                        ]
                    }
                }
            ],
            "execution_count": 5
        },
        {
            "cell_type": "code",
            "source": [
                "INSERT Penalty (PenaltyID, Fee, CustomerID, DueDate, PenaltyStatus) VALUES\n",
                "(1, 30.00, 3, '2022-10-18', 'PENDING');\n",
                "\n",
                "INSERT Loans (CustomerID, ElectronicID, StartDate, DueDate, Amount, LoanStatus) VALUES\n",
                "(2, 6, '2022-10-08', TIMESTAMPADD(DAY, 30, '2022-10-08'), 150.00, 'DONE'),\n",
                "(3, 2, '2022-09-18', TIMESTAMPADD(DAY, 30, '2022-09-18'), 175.00, 'FINED'),\n",
                "(1, 3, '2022-12-08', TIMESTAMPADD(DAY, 30, '2022-12-08'), 200.00, 'PENDING');\n",
                "\n",
                "INSERT Notifies (CustomerID, ElectronicID) VALUES\n",
                "(1, 2);"
            ],
            "metadata": {
                "language": "sql",
                "azdata_cell_guid": "abe87536-57f4-4596-b9a8-705e0cf75fbc",
                "tags": []
            },
            "outputs": [
                {
                    "output_type": "display_data",
                    "data": {
                        "text/html": "Commands completed successfully"
                    },
                    "metadata": {}
                },
                {
                    "output_type": "display_data",
                    "data": {
                        "text/html": "Commands completed successfully"
                    },
                    "metadata": {}
                },
                {
                    "output_type": "display_data",
                    "data": {
                        "text/html": "Commands completed successfully"
                    },
                    "metadata": {}
                },
                {
                    "output_type": "display_data",
                    "data": {
                        "text/html": "Total execution time: 00:00:00.355"
                    },
                    "metadata": {}
                }
            ],
            "execution_count": 6
        },
        {
            "cell_type": "code",
            "source": [
                "SELECT * FROM Penalty LIMIT 10;\n",
                "SELECT * FROM Loans LIMIT 10;\n",
                "SELECT * FROM Notifies LIMIT 10;"
            ],
            "metadata": {
                "language": "sql",
                "azdata_cell_guid": "29060265-b1bb-4107-af88-e24292935c62"
            },
            "outputs": [
                {
                    "output_type": "display_data",
                    "data": {
                        "text/html": "(1 row(s) affected)"
                    },
                    "metadata": {}
                },
                {
                    "output_type": "display_data",
                    "data": {
                        "text/html": "(3 row(s) affected)"
                    },
                    "metadata": {}
                },
                {
                    "output_type": "display_data",
                    "data": {
                        "text/html": "(1 row(s) affected)"
                    },
                    "metadata": {}
                },
                {
                    "output_type": "display_data",
                    "data": {
                        "text/html": "Total execution time: 00:00:00.014"
                    },
                    "metadata": {}
                },
                {
                    "output_type": "execute_result",
                    "metadata": {},
                    "execution_count": 7,
                    "data": {
                        "application/vnd.dataresource+json": {
                            "schema": {
                                "fields": [
                                    {
                                        "name": "PenaltyID"
                                    },
                                    {
                                        "name": "Fee"
                                    },
                                    {
                                        "name": "CustomerID"
                                    },
                                    {
                                        "name": "DueDate"
                                    },
                                    {
                                        "name": "PenaltyStatus"
                                    }
                                ]
                            },
                            "data": [
                                {
                                    "0": "1",
                                    "1": "30.00",
                                    "2": "3",
                                    "3": "2022-10-18",
                                    "4": "PENDING"
                                }
                            ]
                        },
                        "text/html": [
                            "<table>",
                            "<tr><th>PenaltyID</th><th>Fee</th><th>CustomerID</th><th>DueDate</th><th>PenaltyStatus</th></tr>",
                            "<tr><td>1</td><td>30.00</td><td>3</td><td>2022-10-18</td><td>PENDING</td></tr>",
                            "</table>"
                        ]
                    }
                },
                {
                    "output_type": "execute_result",
                    "metadata": {},
                    "execution_count": 7,
                    "data": {
                        "application/vnd.dataresource+json": {
                            "schema": {
                                "fields": [
                                    {
                                        "name": "CustomerID"
                                    },
                                    {
                                        "name": "ElectronicID"
                                    },
                                    {
                                        "name": "StartDate"
                                    },
                                    {
                                        "name": "DueDate"
                                    },
                                    {
                                        "name": "Amount"
                                    },
                                    {
                                        "name": "LoanStatus"
                                    }
                                ]
                            },
                            "data": [
                                {
                                    "0": "1",
                                    "1": "3",
                                    "2": "2022-12-08",
                                    "3": "2023-01-07",
                                    "4": "200.00",
                                    "5": "PENDING"
                                },
                                {
                                    "0": "2",
                                    "1": "6",
                                    "2": "2022-10-08",
                                    "3": "2022-11-07",
                                    "4": "150.00",
                                    "5": "DONE"
                                },
                                {
                                    "0": "3",
                                    "1": "2",
                                    "2": "2022-09-18",
                                    "3": "2022-10-18",
                                    "4": "175.00",
                                    "5": "FINED"
                                }
                            ]
                        },
                        "text/html": [
                            "<table>",
                            "<tr><th>CustomerID</th><th>ElectronicID</th><th>StartDate</th><th>DueDate</th><th>Amount</th><th>LoanStatus</th></tr>",
                            "<tr><td>1</td><td>3</td><td>2022-12-08</td><td>2023-01-07</td><td>200.00</td><td>PENDING</td></tr>",
                            "<tr><td>2</td><td>6</td><td>2022-10-08</td><td>2022-11-07</td><td>150.00</td><td>DONE</td></tr>",
                            "<tr><td>3</td><td>2</td><td>2022-09-18</td><td>2022-10-18</td><td>175.00</td><td>FINED</td></tr>",
                            "</table>"
                        ]
                    }
                },
                {
                    "output_type": "execute_result",
                    "metadata": {},
                    "execution_count": 7,
                    "data": {
                        "application/vnd.dataresource+json": {
                            "schema": {
                                "fields": [
                                    {
                                        "name": "CustomerID"
                                    },
                                    {
                                        "name": "ElectronicID"
                                    }
                                ]
                            },
                            "data": [
                                {
                                    "0": "1",
                                    "1": "2"
                                }
                            ]
                        },
                        "text/html": [
                            "<table>",
                            "<tr><th>CustomerID</th><th>ElectronicID</th></tr>",
                            "<tr><td>1</td><td>2</td></tr>",
                            "</table>"
                        ]
                    }
                }
            ],
            "execution_count": 7
        },
        {
            "cell_type": "code",
            "source": [
                "SELECT * FROM ElectronicOSView LIMIT 10;\n",
                "SELECT * FROM TotalPenaltyView LIMIT 10;"
            ],
            "metadata": {
                "language": "sql",
                "azdata_cell_guid": "69abe05f-7c7b-4569-aae9-39c75a160c1e"
            },
            "outputs": [
{
    "output_type": "display_data",
    "data": {
        "text/html": "(1 row(s) affected)"
    },
    "metadata": {}
}, {
    "output_type": "display_data",
    "data": {
        "text/html": "Total execution time: 00:00:00.003"
    },
    "metadata": {}
}, {
    "output_type": "execute_result",
    "metadata": {},
    "execution_count": 9,
    "data": {
        "application/vnd.dataresource+json": {
            "schema": {
                "fields": [
                    {
                        "name": "CustomerID"
                    },
                    {
                        "name": "CustomerName"
                    },
                    {
                        "name": "Total"
                    }
                ]
            },
            "data": [
                {
                    "0": "3",
                    "1": "Odium Shard",
                    "2": "30.00"
                }
            ]
        },
        "text/html": [
            "<table>",
            "<tr><th>CustomerID</th><th>CustomerName</th><th>Total</th></tr>",
            "<tr><td>3</td><td>Odium Shard</td><td>30.00</td></tr>",
            "</table>"
        ]
    }
}
],
            "execution_count": 9
        }
    ]
}